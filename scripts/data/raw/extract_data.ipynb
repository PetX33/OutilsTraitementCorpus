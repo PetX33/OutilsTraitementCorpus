{
 "cells": [
  {
   "cell_type": "code",
   "execution_count": 1,
   "metadata": {},
   "outputs": [],
   "source": [
    "from selenium import webdriver\n",
    "from selenium.webdriver.common.by import By\n",
    "from selenium.webdriver.support.ui import WebDriverWait\n",
    "from selenium.webdriver.support import expected_conditions as EC\n",
    "from selenium.common.exceptions import TimeoutException\n",
    "import os\n",
    "import urllib.parse"
   ]
  },
  {
   "cell_type": "code",
   "execution_count": 2,
   "metadata": {},
   "outputs": [],
   "source": [
    "def get_random_page_urls(driver, languages: list) -> dict:\n",
    "    \"\"\"\n",
    "    Récupère les URLs de pages aléatoires pour chaque langue donnée\n",
    "\n",
    "    Parameters:\n",
    "    driver (WebDriver): Le driver Selenium\n",
    "    languages (list): La liste des langues pour lesquelles on veut récupérer une URL\n",
    "\n",
    "    Returns:\n",
    "    dict: Un dictionnaire avec les langues en clés et les URLs en valeurs\n",
    "    \"\"\"\n",
    "    urls = {}\n",
    "    for language in languages:\n",
    "        driver.get('https://{}.wikipedia.org/wiki/Special:Random'.format(language))\n",
    "        urls[language] = driver.current_url\n",
    "    return urls"
   ]
  },
  {
   "cell_type": "markdown",
   "metadata": {},
   "source": [
    "Je commence par définir une fonction nommée `get_random_page_urls` qui prend deux paramètres : `driver` et `languages`. Le `driver` est probablement un objet qui me permet d'interagir avec un navigateur web, et `languages` est une liste des codes de langue pour lesquels je veux récupérer des URL aléatoires de pages Wikipédia.\n",
    "\n",
    "À l'intérieur de la fonction, je crée un dictionnaire vide appelé `urls` où je vais stocker les URL que je récupère. Pour chaque langue présente dans la liste `languages`, je fais plusieurs actions :\n",
    "\n",
    "1. Je construis l'URL de la page Wikipédia aléatoire pour cette langue en utilisant la méthode `format`. Cela me donne une URL comme 'https://en.wikipedia.org/wiki/Special:Random' si la langue est 'en' (anglais), par exemple.\n",
    "\n",
    "2. J'utilise le `driver` pour charger cette URL dans le navigateur web avec `driver.get(url_formée)`.\n",
    "\n",
    "3. Une fois que la page a chargé, je récupère l'URL actuelle, qui est une page spécifique choisie aléatoirement par Wikipédia, en utilisant `driver.current_url`.\n",
    "\n",
    "4. Je stocke cette URL dans le dictionnaire `urls` avec la langue correspondante comme clé.\n",
    "\n",
    "Après avoir traité toutes les langues dans la boucle, je retourne le dictionnaire `urls` qui contient les codes de langue comme clés et les URL des pages Wikipédia aléatoires comme valeurs."
   ]
  },
  {
   "cell_type": "code",
   "execution_count": 3,
   "metadata": {},
   "outputs": [],
   "source": [
    "import logging\n",
    "\n",
    "logging.basicConfig(level=logging.INFO, format='%(asctime)s - %(levelname)s - %(message)s')\n",
    "\n",
    "\n",
    "def get_interlanguage_urls(driver, base_url: str) -> dict:\n",
    "    \"\"\"\n",
    "    Obtient les URLs des pages correspondantes dans d'autres langues pour une page donnée\n",
    "\n",
    "    Parameters:\n",
    "    driver (WebDriver): Le driver Selenium\n",
    "    base_url (str): L'URL de la page pour laquelle on veut récupérer les URLs des pages correspondantes dans d'autres langues\n",
    "\n",
    "    Returns:\n",
    "    dict: Un dictionnaire avec les langues en clés et les URLs en valeurs\n",
    "    \"\"\"\n",
    "    driver.get(base_url)\n",
    "    wait = WebDriverWait(driver, 30)\n",
    "    try:\n",
    "        interlanguage_links = wait.until(EC.presence_of_all_elements_located((By.CSS_SELECTOR, 'li.interlanguage-link a')))\n",
    "        return {link.get_attribute('lang'): link.get_attribute('href') for link in interlanguage_links}\n",
    "    except TimeoutException:\n",
    "        logging.error(f\"Timeout when trying to find interlanguage links for {base_url}\\n\")\n",
    "        return {}"
   ]
  },
  {
   "cell_type": "markdown",
   "metadata": {},
   "source": [
    "Je commence par importer le module `logging` qui me permet d'enregistrer des informations sur ce qui se passe dans mon code. Je configure le niveau de logging à `INFO`, ce qui signifie que je vais enregistrer les messages de niveau INFO et supérieur (comme ERROR). Je définis également un format spécifique pour ces messages qui inclut la date et l'heure, le niveau de gravité du message et le message lui-même.\n",
    "\n",
    "Ensuite, je définis une fonction nommée `get_interlanguage_urls` qui prend deux paramètres : `driver` et `base_url`. Le `driver` est l'objet qui interagit avec le navigateur, et `base_url` est l'URL de la page de base à partir de laquelle je veux récupérer des liens interlangues.\n",
    "\n",
    "À l'intérieur de la fonction, je fais plusieurs actions :\n",
    "\n",
    "1. Je charge l'URL de base dans le navigateur en utilisant `driver.get(base_url)`.\n",
    "\n",
    "2. Je crée un objet `wait` de type `WebDriverWait`, lié au `driver` et avec un délai maximal de 30 secondes. Cet objet me permet d'attendre que certaines conditions soient remplies avant de continuer l'exécution de mon code.\n",
    "\n",
    "3. J'essaie ensuite de récupérer tous les éléments de la page qui correspondent à des liens interlangues. Ces liens sont localisés par un sélecteur CSS qui cible les éléments 'a' dans les 'li' avec la classe 'interlanguage-link'. J'attends que ces éléments soient présents sur la page, ce que je vérifie avec la méthode `presence_of_all_elements_located`.\n",
    "\n",
    "4. Si les éléments sont trouvés à temps, je construis un dictionnaire avec les langues comme clés (en récupérant l'attribut 'lang' de chaque lien) et les URL correspondantes comme valeurs (en récupérant l'attribut 'href' de chaque lien).\n",
    "\n",
    "5. Si le délai d'attente de 30 secondes est dépassé sans que les liens soient trouvés, je consigne une erreur de type `TimeoutException` avec un message d'erreur spécifique qui mentionne l'URL de base. Dans ce cas, je retourne un dictionnaire vide.\n",
    "\n",
    "La fonction `get_interlanguage_urls` retourne donc soit un dictionnaire contenant les langues et leurs URL associées si tout se passe bien, soit un dictionnaire vide si une erreur se produit lors de la récupération des liens."
   ]
  },
  {
   "cell_type": "code",
   "execution_count": 4,
   "metadata": {},
   "outputs": [],
   "source": [
    "def extract_paragraphs(driver, url: str) -> tuple:\n",
    "    \"\"\"\n",
    "    Extrait les paragraphes d'un article Wikipédia\n",
    "\n",
    "    Parameters:\n",
    "    driver (WebDriver): Le driver Selenium\n",
    "    url (str): L'URL de l'article Wikipédia\n",
    "\n",
    "    Returns:\n",
    "    str: Les paragraphes de l'article\n",
    "    str: Le titre de l'article\n",
    "    \"\"\"\n",
    "    driver.get(url)\n",
    "    \n",
    "    paragraphs = \"\"\n",
    "\n",
    "    # Extract the first paragraph of the article\n",
    "    try:\n",
    "        title = os.path.basename(urllib.parse.urlparse(url).path)\n",
    "        elements = driver.find_elements(By.XPATH, '//*[@id=\"mw-content-text\"]/div/p')\n",
    "\n",
    "        print(f\"Found {len(elements)} paragraphs for {url} : {[el.text[:30] for el in elements]}\")\n",
    "\n",
    "        for el in elements:\n",
    "            if el.text:\n",
    "                paragraphs += el.text + \"\\n\"\n",
    "            else:\n",
    "                continue\n",
    "\n",
    "    except:\n",
    "        print(f\"Could not find paragraph for {url}\")\n",
    "\n",
    "    return paragraphs, title"
   ]
  },
  {
   "cell_type": "markdown",
   "metadata": {},
   "source": [
    "Je définis ici une fonction appelée `extract_paragraphs` qui prend deux paramètres : `driver` et `url`.\n",
    "\n",
    "Voici ce que je fais dans cette fonction :\n",
    "\n",
    "1. Je commence par charger l'URL donnée dans le navigateur à l'aide de `driver.get(url)`.\n",
    "\n",
    "2. Je déclare une variable `paragraphs` que j'initialise avec une chaîne de caractères vide. Cela servira à stocker tous les paragraphes de texte que je vais extraire.\n",
    "\n",
    "3. Je tente ensuite d'extraire le premier paragraphe de l'article. Pour cela, je procède comme suit :\n",
    "\n",
    "   a. J'extrais le titre de la page à partir de l'URL en utilisant les fonctions `os.path.basename` et `urllib.parse.urlparse` pour obtenir uniquement la partie finale de l'URL, qui correspond généralement au titre de l'article.\n",
    "\n",
    "   b. Je recherche dans le document tous les éléments qui correspondent au chemin XPath spécifié. Ce chemin cible les paragraphes situés dans une division particulière de la page identifiée par l'identifiant `mw-content-text`.\n",
    "\n",
    "   c. J'affiche un message indiquant combien de paragraphes j'ai trouvés pour l'URL donnée. Pour chaque élément trouvé, je montre les 30 premiers caractères du texte de cet élément.\n",
    "\n",
    "   d. Je parcours ensuite chaque élément trouvé. Si l'élément contient du texte, je l'ajoute à la variable `paragraphs` avec un saut de ligne à la fin. Si l'élément ne contient pas de texte, je continue simplement sans l'ajouter.\n",
    "\n",
    "4. Si une exception se produit pendant l'extraction (par exemple, si le chemin XPath est incorrect ou si la page ne se charge pas correctement), j'affiche un message d'erreur indiquant que je n'ai pas pu trouver de paragraphe pour l'URL donnée.\n",
    "\n",
    "5. Enfin, je retourne un tuple contenant les paragraphes extraits et le titre de l'article. Cela permet à celui qui utilise cette fonction de recevoir à la fois le texte extrait et le titre de la page à partir de laquelle le texte a été extrait."
   ]
  },
  {
   "cell_type": "code",
   "execution_count": 5,
   "metadata": {},
   "outputs": [],
   "source": [
    "def write_txt(data_folder: str, lang: str, url: str, paragraph: str, file_counts: dict) -> None:\n",
    "    \"\"\"\n",
    "    Écrit un paragraphe récupéré dans un fichier texte\n",
    "\n",
    "    Parameters:\n",
    "    data_folder (str): Le chemin du dossier où écrire le fichier texte\n",
    "    lang (str): La langue de l'article\n",
    "    url (str): L'URL de l'article\n",
    "    paragraph (str): Le paragraphe à écrire\n",
    "    file_counts (dict): Un dictionnaire avec les langues en clés et le nombre de fichiers écrits en valeurs\n",
    "\n",
    "    Returns:\n",
    "    None\n",
    "    \"\"\"\n",
    "    # Parse the URL to extract the article title, which is the part after the last '/'\n",
    "    parsed_url = urllib.parse.urlparse(url)\n",
    "    article_title = os.path.basename(parsed_url.path)\n",
    "    \n",
    "    # URL decode the article title (e.g., replace '%E1%83%90' with actual characters)\n",
    "    article_title = urllib.parse.unquote(article_title)\n",
    "    \n",
    "    # Replace any remaining invalid file name characters (like '/') in the title with '_'\n",
    "    valid_article_title = ''.join(char if char.isalnum() else '_' for char in article_title)\n",
    "    \n",
    "    # Ensure the data folder exists\n",
    "    os.makedirs(data_folder, exist_ok=True)\n",
    "    \n",
    "    # Generate the filename and write the paragraph to the file\n",
    "    filename = f\"{lang}_{valid_article_title}.txt\"\n",
    "    file_path = os.path.join(data_folder, filename)\n",
    "    \n",
    "    with open(file_path, 'w', encoding='utf-8') as f:\n",
    "        f.write(paragraph)\n",
    "        print(f\"Successfully wrote {file_path}\\n\")\n",
    "    file_counts[lang] += 1\n"
   ]
  },
  {
   "cell_type": "markdown",
   "metadata": {},
   "source": [
    "Je définis une fonction nommée `write_txt` qui prend cinq paramètres : `data_folder`, `lang`, `url`, `paragraph`, et `file_counts`. Ces paramètres me servent respectivement à spécifier où sauvegarder les fichiers, la langue de l'article, l'URL de l'article, le paragraphe à écrire, et un dictionnaire pour suivre combien de fichiers j'ai écrits pour chaque langue.\n",
    "\n",
    "Voici comment je procède dans cette fonction :\n",
    "\n",
    "1. **Extraction du titre de l'article depuis l'URL** : \n",
    "   - Je parse l'URL pour isoler la partie qui me sert de titre, qui est après le dernier '/' dans le chemin de l'URL.\n",
    "   - Je décode le titre pour convertir des séquences d'échappement URL (comme '%E1%83%90') en caractères lisibles.\n",
    "\n",
    "2. **Nettoyage du titre** :\n",
    "   - Je remplace tout caractère du titre qui n'est pas alphanumérique par un underscore ('_') pour m'assurer que le titre peut être utilisé comme nom de fichier sans causer d'erreur.\n",
    "\n",
    "3. **Préparation du dossier de données** :\n",
    "   - Je m'assure que le dossier où je veux sauvegarder les fichiers existe. S'il n'existe pas, je le crée avec `os.makedirs`, et l'option `exist_ok=True` me permet de ne pas générer d'erreur si le dossier existe déjà.\n",
    "\n",
    "4. **Écriture du paragraphe dans un fichier** :\n",
    "   - Je génère le nom du fichier en utilisant la langue et le titre de l'article nettoyé, et j'ajoute l'extension '.txt'.\n",
    "   - Je combine le dossier de données et le nom du fichier pour créer le chemin complet du fichier.\n",
    "   - J'ouvre le fichier en mode écriture (`'w'`) avec encodage UTF-8, et j'écris le paragraphe dedans. Je termine par afficher un message pour confirmer que l'écriture a réussi.\n",
    "\n",
    "5. **Incrémentation du compteur de fichiers** :\n",
    "   - J'augmente de 1 le compteur pour la langue correspondante dans le dictionnaire `file_counts` pour suivre combien de fichiers ont été écrits pour chaque langue.\n",
    "\n",
    "La fonction `write_txt` n'a pas de valeur de retour. Elle effectue son travail d'écriture en sauvegardant les paragraphes dans des fichiers spécifiques tout en organisant et en comptant combien de fois elle le fait pour chaque langue."
   ]
  },
  {
   "cell_type": "code",
   "execution_count": 6,
   "metadata": {},
   "outputs": [],
   "source": [
    "def main():\n",
    "    driver = webdriver.Chrome()\n",
    "    data_folder = \"../../../data/raw/\"\n",
    "    languages = ['ar', 'fr', 'en', 'de', 'es', 'ja', 'ko', 'ru', 'zh']\n",
    "    file_counts = {lang: 0 for lang in languages}\n",
    "\n",
    "    base_urls = get_random_page_urls(driver, languages)\n",
    "    for lang in languages:\n",
    "        while file_counts[lang] < 40:\n",
    "            current_url = base_urls[lang]\n",
    "            paragraphs, article_title = extract_paragraphs(driver, current_url)\n",
    "            if paragraphs:\n",
    "                write_txt(data_folder, lang, article_title, paragraphs, file_counts)\n",
    "            \n",
    "            links = get_interlanguage_urls(driver, current_url)\n",
    "            for link_lang, link_url in links.items():\n",
    "                if link_lang in languages and file_counts[link_lang] < 40:\n",
    "                    link_paragraphs, title = extract_paragraphs(driver, link_url)\n",
    "                    if link_paragraphs:\n",
    "                        write_txt(data_folder, link_lang, title, link_paragraphs, file_counts)\n",
    "\n",
    "            # Refreash the base URL for the current language\n",
    "            new_urls = get_random_page_urls(driver, [lang])\n",
    "            base_urls[lang] = new_urls[lang]\n",
    "            \n",
    "    driver.quit()\n",
    "\n"
   ]
  },
  {
   "cell_type": "markdown",
   "metadata": {},
   "source": [
    "J'ai défini une fonction nommée `main` qui orchestre l'extraction et l'enregistrement de textes à partir de différentes éditions linguistiques de Wikipedia. Voici comment je m'y prends :\n",
    "\n",
    "1. **Initialisation du pilote du navigateur** :\n",
    "   - J'initialise un pilote Chrome en utilisant `webdriver.Chrome()`. Cela me permet d'ouvrir et de manipuler un navigateur Chrome directement depuis mon script.\n",
    "\n",
    "2. **Définition du dossier de données et des langues** :\n",
    "   - Je définis le chemin vers le dossier où je souhaite enregistrer les fichiers extraits. Je spécifie également une liste de codes de langue pour les éditions de Wikipedia que je souhaite explorer.\n",
    "\n",
    "3. **Initialisation des compteurs de fichiers** :\n",
    "   - Je crée un dictionnaire `file_counts` pour suivre le nombre de fichiers que j'ai écrits pour chaque langue, en initialisant tous les compteurs à zéro.\n",
    "\n",
    "4. **Récupération des URL initiales** :\n",
    "   - J'utilise la fonction `get_random_page_urls` pour obtenir une URL de page aléatoire pour chaque langue listée. Cela me donne un point de départ pour chaque langue.\n",
    "\n",
    "5. **Traitement pour chaque langue** :\n",
    "   - Pour chaque langue, je continue à extraire et enregistrer des paragraphes tant que je n'ai pas atteint 20 fichiers pour cette langue. Je récupère l'URL actuelle pour la langue en question et j'extrait des paragraphes et le titre de l'article à partir de cette URL.\n",
    "\n",
    "6. **Écriture des paragraphes** :\n",
    "   - Si des paragraphes sont extraits, je les enregistre en utilisant la fonction `write_txt`.\n",
    "\n",
    "7. **Exploration des liens interlangues** :\n",
    "   - J'utilise `get_interlanguage_urls` pour récupérer des liens vers d'autres éditions linguistiques de la même page Wikipedia. Pour chaque lien valide qui pointe vers une langue que je suis en train de traiter et où je n'ai pas encore atteint la limite de 20 fichiers, j'extrait et j'enregistre les paragraphes.\n",
    "\n",
    "8. **Rafraîchissement des URL** :\n",
    "   - Après avoir traité les liens interlangues, je rafraîchis l'URL de base pour la langue actuelle en récupérant une nouvelle URL aléatoire. Cela me permet de continuer à extraire de nouveaux contenus sans boucler sur les mêmes pages.\n",
    "\n",
    "9. **Nettoyage** :\n",
    "   - Une fois que j'ai fini de traiter toutes les langues, je ferme le pilote du navigateur avec `driver.quit()` pour libérer les ressources.\n",
    "\n",
    "Cette fonction `main` organise donc systématiquement l'extraction de contenus multilingues à partir de Wikipedia, les sauvegarde localement, et assure que le nombre de fichiers pour chaque langue atteint un seuil spécifié. Cela me permet de construire une collection diversifiée de textes pour différents usages, comme l'entraînement de modèles de traitement de langues."
   ]
  },
  {
   "cell_type": "code",
   "execution_count": 7,
   "metadata": {},
   "outputs": [
    {
     "name": "stdout",
     "output_type": "stream",
     "text": [
      "Found 1 paragraphs for https://ar.wikipedia.org/wiki/%D9%85%D8%A7%D8%AA%D9%8A%D9%88_%D9%84%D9%8A%D9%86 : ['ماتيو لين (بالفرنسية: Mathieu ']\n",
      "Successfully wrote ../../../data/raw/ar_ماتيو_لين.txt\n",
      "\n",
      "Found 37 paragraphs for https://en.wikipedia.org/wiki/Mathieu_Laine : ['Mathieu Laine (born April 9, 1', 'He is the founder and head of ', 'He is an affiliate professor a', 'Son and grandson of doctors, M', 'He holds a certificate in the ', 'Mathieu Laine taught business ', 'In 2018, he was appointed Affi', 'Mathieu Laine was a corporate ', 'Mathieu Laine created Altermin', 'Mathieu Laine became an adviso', 'In 2014, Mathieu Laine moved t', 'Since the launch of Altermind,', 'He advises several executives ', 'According to an article in Les', 'Among Altermind’s achievements', 'Another mission relayed in the', \"Altermind's partners include A\", 'In July 2020, Altermind announ', 'Mathieu Laine has been a regul', 'In April 2005, after having be', 'In 2002, Laine published an op', 'Mathieu Laine is in the same c', 'In April 2016, he agreed to ad', 'In April 2017, he publicly sup', 'He is an active advisor of Emm', 'Mathieu Laine places individua', 'Individual freedoms are the ve', 'In his first essay, La Grande ', 'In the Dictionnaire amoureux d', 'In La France Adolescente (Adol', 'In Transforming France - A Tho', 'In Il faut sauver le Monde lib', 'Mathieu Laine has produced sev', 'Mathieu Laine wrote the text o', \"Le Roi qui n'aimait pas la mus\", 'Laine was married to Eleonore ', 'Media related to Mathieu Laine']\n",
      "Successfully wrote ../../../data/raw/en_Mathieu_Laine.txt\n",
      "\n",
      "Found 21 paragraphs for https://fr.wikipedia.org/wiki/Mathieu_Laine : ['Mathieu Laine, né le 9 avril 1', \"Il est le fondateur d'Altermin\", \"Fils d'un couple de médecins (\", 'Il reprend finalement ses étud', 'Mathieu Laine a été avocat d’a', 'En 2007, il crée Altermind, so', 'En 2009, il devient conseiller', 'En 2010, il accepte un contrat', \"Il soutient[Quand ?] qu'il aur\", 'En 2019, il est nommé professe', 'Issu de la même promotion à Sc', \"En avril 2016, il explique qu'\", 'Une fois le président élu, il ', 'Mathieu Laine a écrit régulièr', 'Il développe des analyses sur ', \"Qualifié d'ultra-libéral par M\", 'Dans son premier ouvrage, La G', 'Post Politique, publié en 2009', 'En 2012, il dirige le Dictionn', 'Il a par ailleurs écrit le tex', 'Mathieu Laine a été marié avec']\n",
      "Successfully wrote ../../../data/raw/fr_Mathieu_Laine.txt\n",
      "\n",
      "Found 1 paragraphs for https://ar.wikipedia.org/wiki/%D9%85%D9%86%D8%AA%D8%AE%D8%A8_%D8%A7%D9%84%D9%85%D8%A7%D9%84%D8%AF%D9%8A%D9%81_%D8%AA%D8%AD%D8%AA_17_%D8%B3%D9%86%D8%A9_%D9%84%D9%83%D8%B1%D8%A9_%D8%A7%D9%84%D9%82%D8%AF%D9%85 : ['منتخب جزر المالديف تحت 17 سنة ']\n",
      "Successfully wrote ../../../data/raw/ar_منتخب_المالديف_تحت_17_سنة_لكرة_القدم.txt\n",
      "\n",
      "Found 2 paragraphs for https://en.wikipedia.org/wiki/Maldives_national_under-17_football_team : ['The Maldives national under-17', '']\n",
      "Successfully wrote ../../../data/raw/en_Maldives_national_under_17_football_team.txt\n",
      "\n",
      "Found 1 paragraphs for https://es.wikipedia.org/wiki/Selecci%C3%B3n_de_f%C3%BAtbol_sub-17_de_Maldivas : ['La Selección de fútbol sub-17 ']\n",
      "Successfully wrote ../../../data/raw/es_Selección_de_fútbol_sub_17_de_Maldivas.txt\n",
      "\n",
      "Found 4 paragraphs for https://ar.wikipedia.org/wiki/%D9%86%D9%88%D8%A7%D9%84_%D9%85%D9%87%D9%86%D9%8A : ['نوال مهنى أحمد أبو زيد[1] وتشت', 'حصلت على ليسانس الآداب قسم الف', 'عملت نوال مدرسة للفلسفة وعلم ا', 'تشغل منصب رئيسة الأديبات بفرع ']\n",
      "Successfully wrote ../../../data/raw/ar_نوال_مهني.txt\n",
      "\n"
     ]
    },
    {
     "name": "stderr",
     "output_type": "stream",
     "text": [
      "2024-05-05 10:57:49,091 - ERROR - Timeout when trying to find interlanguage links for https://ar.wikipedia.org/wiki/%D9%86%D9%88%D8%A7%D9%84_%D9%85%D9%87%D9%86%D9%8A\n"
     ]
    },
    {
     "name": "stdout",
     "output_type": "stream",
     "text": [
      "Found 2 paragraphs for https://ar.wikipedia.org/wiki/%D8%AC%D9%88%D9%86_%D8%B3%D8%AA%D8%B1%D9%8A%D9%86%D8%AC : ['جون سترينج هو سياسي كندي، ولد ', 'ولد في إيست كيلبرايد، اسكتلندا']\n",
      "Successfully wrote ../../../data/raw/ar_جون_سترينج.txt\n",
      "\n",
      "Found 4 paragraphs for https://en.wikipedia.org/wiki/John_Strange_(Upper_Canada_politician) : ['John Strange (September 2, 178', 'He was born in East Kilbride, ', 'Strange was a father of five, ', '']\n",
      "Successfully wrote ../../../data/raw/en_John_Strange__Upper_Canada_politician_.txt\n",
      "\n",
      "Found 22 paragraphs for https://ar.wikipedia.org/wiki/%D8%B4%D8%B0%D9%89_%D8%AD%D8%B3%D9%88%D9%86 : ['شذى أمجد الحسون (مواليد 3 مارس', 'ولدت بمدينة الدار البيضاء بالم', 'لديها أخ اصغر منها اسمه \"وائل\"', 'منذ الطفولة كان هدف شذى حسون ه', 'في عام 2006 كانت الصدفة حليفة ', 'حينها تميزت شذى عن باقي الطالب', 'كانت عدة قنوات محلية بضمنها قن', 'كما قال بعض المراقبين أن شذى ق', 'منذ وجودها في الأكاديمية فازت ', 'لتكرر التجربة للمرة الثانية عل', 'لتقوم نفس الشركة بأستغلال شعبي', 'شاركت شذى إلى جانب 7 من زملائه', 'اطلقت حسون خلال سنتين عدة اغان', 'وقد شاركت شذى بدور بطولة في أو', 'شاركت شذى عدد كبير من الفنانين', 'استضيفت في عدة البرامج مثل: بي', 'شاركت عدة فنانين عرب بأداء أوب', 'إضافة إلى أن شذى حسون هي أول م', 'هذا وكان لشذى نجاح إضافي وشهرة', 'شاركت شذى ولاول مرة في مهرجان ', 'هو أول ألبوم غنائي كامل لشذى ح', 'يذكر أن ألبوم «وجه ثاني» تم إط']\n",
      "Successfully wrote ../../../data/raw/ar_شذى_حسون.txt\n",
      "\n",
      "Found 22 paragraphs for https://en.wikipedia.org/wiki/Shatha_Hassoun : ['', 'Shatha Amjad Al-Hassoun (Arabi', 'Hassoun was the first Arab wom', \"Hassoun's father is a well-kno\", 'Her family, which includes her', 'Hassoun has sung in many langu', 'Hassoun participated in the fo', 'In 2007, Hassoun won Star Acad', 'She was also critiqued by othe', 'Soon after winning the competi', 'The second major song she rele', '\"Oushaq\" was written and compo', 'Hassoun also revived several t', 'Apart from vocal performance, ', 'In late July 2009, Shatha achi', 'Hassoun has worked on an album', 'She filmed her music video for', 'She has toured across North Am', 'In 2010, she held a concert in', 'Shatha Hassoun has also appear', '1-During StarAc Arab 4, Shatha', '2-After Shatha Hassoun winning']\n",
      "Successfully wrote ../../../data/raw/en_Shatha_Hassoun.txt\n",
      "\n",
      "Found 6 paragraphs for https://es.wikipedia.org/wiki/Shatha_Hassoun : ['Shatha Amjad Al-Hassoun (en ár', 'Hassoun es hija de un conocido', 'Tiene la capacidad de cantar e', 'Su familia, que incluye a sus ', 'En 2007, ganó la competencia d', 'Ha participado en una serie de']\n",
      "Successfully wrote ../../../data/raw/es_Shatha_Hassoun.txt\n",
      "\n",
      "Found 9 paragraphs for https://fr.wikipedia.org/wiki/Shada_Hassoun : ['Shada Hassoun (en arabe : شذى ', 'Shada Hassoun est née à Casabl', 'Shada a sa première expérience', 'En 2006, Shada auditionne pour', 'Elle reçoit comme cadeau du po', 'Fin 2011, Shada sort son premi', 'Wagh Thany (2011) - Rotana Mus', 'Pour écouter les chansons, vis', '']\n",
      "Successfully wrote ../../../data/raw/fr_Shada_Hassoun.txt\n",
      "\n",
      "Found 1 paragraphs for https://ar.wikipedia.org/wiki/%D8%B3%D8%B1%D8%A3%D8%A8%D8%A7%D8%AF_%D8%A8%D8%A7%D8%B1_%D8%A3%D9%81%D8%AA%D8%A7%D8%A8_(%D8%B2%D9%84%D8%A7%D8%BA%D9%8A_%D8%A7%D9%84%D8%B4%D8%B1%D9%82%D9%8A) : ['سرأباد بار أفتاب (بالفارسية: س']\n",
      "Successfully wrote ../../../data/raw/ar_سرأباد_بار_أفتاب__زلاغي_الشرقي_.txt\n",
      "\n",
      "Found 1 paragraphs for https://en.wikipedia.org/wiki/Sarabad_Bar_Aftab : ['Sarabad Bar Aftab (Persian: سا']\n",
      "Successfully wrote ../../../data/raw/en_Sarabad_Bar_Aftab.txt\n",
      "\n",
      "Found 1 paragraphs for https://ar.wikipedia.org/wiki/%D8%A5%D9%8A%D8%A7%D9%86_%D9%85%D9%83%D8%A3%D9%86%D8%AF%D8%B1%D9%8A%D9%88 : ['إيان مكأندريو (بالإنجليزية: Ia']\n",
      "Successfully wrote ../../../data/raw/ar_إيان_مكأندريو.txt\n",
      "\n",
      "Found 3 paragraphs for https://de.wikipedia.org/wiki/Ian_McAndrew : ['Ian McAndrew (* 23. Februar 19', 'McAndrew spielte bis 2007 für ', '2010 nahm McAndrew mit der aus']\n",
      "Successfully wrote ../../../data/raw/de_Ian_McAndrew.txt\n",
      "\n",
      "Found 4 paragraphs for https://en.wikipedia.org/wiki/Ian_McAndrew : ['', 'Ian McAndrew (born 23 February', 'With Central Coast Mariners FC', 'With Gosford City FC:']\n",
      "Successfully wrote ../../../data/raw/en_Ian_McAndrew.txt\n",
      "\n",
      "Found 5 paragraphs for https://ar.wikipedia.org/wiki/%D8%B7%D9%81%D9%84_%D9%84%D9%84%D8%AC%D9%85%D9%8A%D8%B9_(%D9%81%D9%8A%D9%84%D9%85) : ['طفل الجميع هو فيلم انتج عام 19', 'سيناريو الفيلم مستوحى من رواية', 'تحتوي الموسيقى التصويرية للفيل', 'تم انتقاد الفيلم بسبب اللهجات ', 'يركز الفيلم من المشكل المتزايد']\n",
      "Successfully wrote ../../../data/raw/ar_طفل_للجميع__فيلم_.txt\n",
      "\n",
      "Found 5 paragraphs for https://en.wikipedia.org/wiki/Everyone%27s_Child : [\"Everyone's Child is a 1995 fil\", 'The soundtrack features 12 ori', 'The film was criticised for un', 'Focusing on the growing proble', '']\n",
      "Successfully wrote ../../../data/raw/en_Everyone_s_Child.txt\n",
      "\n",
      "Found 3 paragraphs for https://fr.wikipedia.org/wiki/Everyone%27s_Child : [\"Everyone's Child est un film z\", 'À la mort de leurs parents, It', 'Le film est projeté en septemb']\n",
      "Successfully wrote ../../../data/raw/fr_Everyone_s_Child.txt\n",
      "\n",
      "Found 1 paragraphs for https://ar.wikipedia.org/wiki/%D9%83%D9%88%D9%8A%D9%86%D8%B3%D9%8A_(%D9%88%D9%8A%D8%B3%D9%83%D9%88%D9%86%D8%B3%D9%86) : ['كوينسي (بالإنجليزية: Quincy, W']\n",
      "Successfully wrote ../../../data/raw/ar_كوينسي__ويسكونسن_.txt\n",
      "\n",
      "Found 8 paragraphs for https://en.wikipedia.org/wiki/Quincy,_Wisconsin : ['', 'Quincy is a town in Adams Coun', 'Quincy is located in western A', 'According to the United States', 'As of the census[2] of 2000, t', 'There were 569 households, out', 'In the town, the population wa', 'The median income for a househ']\n",
      "Successfully wrote ../../../data/raw/en_Quincy__Wisconsin.txt\n",
      "\n",
      "Found 4 paragraphs for https://es.wikipedia.org/wiki/Quincy_(Wisconsin) : ['Quincy es un pueblo ubicado en', 'Quincy se encuentra ubicado en', 'Según el censo de 2010,4 había', '']\n",
      "Successfully wrote ../../../data/raw/es_Quincy__Wisconsin_.txt\n",
      "\n",
      "Found 1 paragraphs for https://ar.wikipedia.org/wiki/%D8%B1%D8%B3%D8%AA%D9%85%D9%8A%D8%A9_(%D8%B4%D9%84%D8%A7%D9%87%D9%8A) : ['رستمية (بالفارسية: رستمیه) هي ']\n",
      "Successfully wrote ../../../data/raw/ar_رستمية__شلاهي_.txt\n",
      "\n",
      "Found 1 paragraphs for https://en.wikipedia.org/wiki/Rostamiyeh : ['Rostamiyeh (Persian: رستميه, a']\n",
      "Successfully wrote ../../../data/raw/en_Rostamiyeh.txt\n",
      "\n",
      "Found 2 paragraphs for https://ar.wikipedia.org/wiki/%D8%A7%D9%84%D8%AE%D8%AF%D9%85%D8%A9_%D8%A7%D9%84%D8%AC%D9%88%D9%8A%D8%A9_%D9%84%D9%84%D8%AC%D9%8A%D8%B4_%D8%A7%D9%84%D9%86%D8%B1%D9%88%D9%8A%D8%AC%D9%8A : ['الخدمة الجوية للجيش النرويجي (', 'تأسست مدرسة للطيران تابعة للجي']\n",
      "Successfully wrote ../../../data/raw/ar_الخدمة_الجوية_للجيش_النرويجي.txt\n",
      "\n",
      "Found 2 paragraphs for https://en.wikipedia.org/wiki/Norwegian_Army_Air_Service : ['The Norwegian Army Air Service', '']\n",
      "Successfully wrote ../../../data/raw/en_Norwegian_Army_Air_Service.txt\n",
      "\n",
      "Found 2 paragraphs for https://ko.wikipedia.org/wiki/%EB%85%B8%EB%A5%B4%EC%9B%A8%EC%9D%B4_%EC%9C%A1%EA%B5%B0%ED%95%AD%EA%B3%B5%EB%8C%80 : ['', '노르웨이 육군항공대 ((NoAAS), 영어: Norwe']\n",
      "Successfully wrote ../../../data/raw/ko_노르웨이_육군항공대.txt\n",
      "\n",
      "Found 5 paragraphs for https://ru.wikipedia.org/wiki/%D0%92%D0%BE%D0%B7%D0%B4%D1%83%D1%88%D0%BD%D1%8B%D0%B5_%D0%A1%D0%B8%D0%BB%D1%8B_%D0%B0%D1%80%D0%BC%D0%B8%D0%B8_%D0%9D%D0%BE%D1%80%D0%B2%D0%B5%D0%B3%D0%B8%D0%B8 : ['Воздушные Силы армии Норвегии ', 'Армейские военно-воздушные сил', 'Королевским указом от 28 марта', 'В 1944 году Воздушные силы сух', 'У армейских Воздушных Сил имел']\n",
      "Successfully wrote ../../../data/raw/ru_Воздушные_Силы_армии_Норвегии.txt\n",
      "\n",
      "Found 1 paragraphs for https://ar.wikipedia.org/wiki/%D8%B3%D9%88%D8%B3_(%D8%B2%D9%8A%D9%86_%D8%A3%D8%A8%D8%A7%D8%AF) : ['سوس (بالفارسية: سوس) هي مستوطن']\n",
      "Successfully wrote ../../../data/raw/ar_سوس__زين_أباد_.txt\n",
      "\n",
      "Found 2 paragraphs for https://en.wikipedia.org/wiki/Soos,_Iran : ['Sakhsabad (Persian: سخس آباد, ', '']\n",
      "Successfully wrote ../../../data/raw/en_Soos__Iran.txt\n",
      "\n",
      "Found 1 paragraphs for https://es.wikipedia.org/wiki/Sus_(Ir%C3%A1n) : ['Sus (en persa: سوس, también ro']\n",
      "Successfully wrote ../../../data/raw/es_Sus__Irán_.txt\n",
      "\n",
      "Found 1 paragraphs for https://ar.wikipedia.org/wiki/%D8%A7%D9%84%D8%AA%D8%AC%D9%85%D8%B9_%D9%84%D9%84%D8%AF%D9%8A%D9%85%D9%82%D8%B1%D8%A7%D8%B7%D9%8A%D8%A9_%D8%A7%D9%84%D8%B9%D9%85%D8%A7%D9%84%D9%8A%D8%A9 : ['التجمع للديمقراطية العمالية (ب']\n",
      "Successfully wrote ../../../data/raw/ar_التجمع_للديمقراطية_العمالية.txt\n",
      "\n",
      "Found 2 paragraphs for https://en.wikipedia.org/wiki/Rally_for_Labour_Democracy : ['The Rally for Labour Democracy', '']\n",
      "Successfully wrote ../../../data/raw/en_Rally_for_Labour_Democracy.txt\n",
      "\n",
      "Found 1 paragraphs for https://ar.wikipedia.org/wiki/%D8%AC%D8%A7%D9%85%D8%A8_%D8%A3%D9%88%D9%84%D8%AA%D9%85%D9%8A%D8%AA_%D8%B3%D8%AA%D8%A7%D8%B1%D8%B2 : ['جامب أولتميت ستارز (بالإنجليزي']\n",
      "Successfully wrote ../../../data/raw/ar_جامب_أولتميت_ستارز.txt\n",
      "\n",
      "Found 4 paragraphs for https://de.wikipedia.org/wiki/Jump_Ultimate_Stars : ['', 'Jump Ultimate Stars ist ein Fi', 'Im Spiel kann man verschiedene', 'Das Spiel beinhaltet einen Onl']\n",
      "Successfully wrote ../../../data/raw/de_Jump_Ultimate_Stars.txt\n",
      "\n",
      "Found 8 paragraphs for https://en.wikipedia.org/wiki/Jump_Ultimate_Stars : ['', 'Jump Ultimate Stars is a fight', 'The game keeps many features f', 'The bulk of the gameplay is ba', 'Battles commence in arenas mad', 'Jump Ultimate Stars has been c', 'This is a list of represented ', 'Jump Ultimate Stars garnered \"']\n",
      "Successfully wrote ../../../data/raw/en_Jump_Ultimate_Stars.txt\n",
      "\n",
      "Found 6 paragraphs for https://es.wikipedia.org/wiki/Jump_Ultimate_Stars : ['Jump Ultimate Stars (ジャンプアルティメ', 'Jump Ultimate Stars cuenta con', 'Gran parte de la jugabilidad s', 'Se confirma la novedad que tod', 'Además, se introdujo 6 tipos d', 'En la secuela se puede aprecia']\n",
      "Successfully wrote ../../../data/raw/es_Jump_Ultimate_Stars.txt\n",
      "\n",
      "Found 11 paragraphs for https://fr.wikipedia.org/wiki/Jump_Ultimate_Stars : ['Jump Ultimate Stars est un jeu', 'Le principe reste le même que ', 'Jump Ultimate Stars vous propo', 'Le jeu se base sur un système ', 'Il existe 3 types de koma diff', 'Un deck doit obligatoirement ê', 'La nouveauté de cet épisode es', \"L'autre nouveauté par rapport \", 'Les combats dans Jump Ultimate', \"Si à la fin de n'importe leque\", 'Certains combats du mode avent']\n",
      "Successfully wrote ../../../data/raw/fr_Jump_Ultimate_Stars.txt\n",
      "\n",
      "Found 6 paragraphs for https://ja.wikipedia.org/wiki/%E3%82%B8%E3%83%A3%E3%83%B3%E3%83%97%E3%82%A2%E3%83%AB%E3%83%86%E3%82%A3%E3%83%A1%E3%83%83%E3%83%88%E3%82%B9%E3%82%BF%E3%83%BC%E3%82%BA : ['『ジャンプアルティメットスターズ』（JUMP ULTIMAT', '崖捕まりや三角飛びなどの新アビリティが追加。その他にも全30', '※全てゲーム内表示での表記。', '以下の41作品が登場。古今様々なジャンルから集められた漫画キ', '作品は50音順。★がついている作品は今作から新登場した作品で', 'カッコ内は代表作。一部のステージは前作からの流用。']\n",
      "Successfully wrote ../../../data/raw/ja_ジャンプアルティメットスターズ.txt\n",
      "\n",
      "Found 4 paragraphs for https://ko.wikipedia.org/wiki/%EC%A0%90%ED%94%84_%EC%96%BC%ED%8B%B0%EB%B0%8B_%EC%8A%A4%ED%83%80%EC%A6%88 : ['', '점프 얼티밋 스타즈 (JUMP ULTIMATE STAR', '주간 소년 점프의 역대 연재작 중 41 작품, 300명', '룰은 포인트/데스매치/심볼전이 있다.']\n",
      "Successfully wrote ../../../data/raw/ko_점프_얼티밋_스타즈.txt\n",
      "\n",
      "Found 4 paragraphs for https://ru.wikipedia.org/wiki/Jump_Ultimate_Stars : ['Jump Ultimate Stars— двухмерны', 'Игра является сиквелом файтинг', 'Большинство серий представлены', 'Сайт игры (яп.)']\n",
      "Successfully wrote ../../../data/raw/ru_Jump_Ultimate_Stars.txt\n",
      "\n",
      "Found 4 paragraphs for https://zh.wikipedia.org/wiki/Jump%E6%98%8E%E6%98%9F%E7%B5%82%E6%A5%B5%E5%A4%A7%E4%BA%82%E9%AC%A5 : ['《Jump明星終極大亂鬥》（日语：ジャンプアルティメットスタ', '此電子遊戲集合了日本杂志《週刊少年Jump》刊登的41部漫畫', '遊戲主要以傳統的十字鍵及按鈕、並搭配任天堂DS特色之一的輕觸', '另外，本作使用了角色進化系統，不同於前作採用漫畫格合併的形式']\n",
      "Successfully wrote ../../../data/raw/zh_Jump明星終極大亂鬥.txt\n",
      "\n",
      "Found 3 paragraphs for https://ar.wikipedia.org/wiki/(39281)_2001_BZ35 : ['2001 بي زد 35 (ويعرف أيضًا باس', 'اكتُشف 392812001BZ في 19 يناير', 'يتميز مدار هذا الكويكب بنصف مح']\n",
      "Successfully wrote ../../../data/raw/ar__39281__2001_BZ35.txt\n",
      "\n",
      "Found 6 paragraphs for https://fr.wikipedia.org/wiki/(39281)_2001_BZ35 : ['', '(39281) 2001 BZ35 est un astér', '(39281) 2001 BZ35 a été découv', \"L'orbite de cet astéroïde est \", '(39281) 2001 BZ35 a une magnit', '']\n",
      "Successfully wrote ../../../data/raw/fr__39281__2001_BZ35.txt\n",
      "\n",
      "Found 2 paragraphs for https://ar.wikipedia.org/wiki/%D8%B1%D9%8A%D9%87%D8%A7%D8%B1%D8%AF%D8%B3_%D8%A8%D9%88%D8%AA%D9%83%D9%88%D8%B3 : ['ريهاردس بوتكوس (باللاتفية: Rih', 'قالب:بذرة مدافع كرة قدم لاتيفي']\n",
      "Successfully wrote ../../../data/raw/ar_ريهاردس_بوتكوس.txt\n",
      "\n",
      "Found 1 paragraphs for https://en.wikipedia.org/wiki/Rihards_Butkus : ['Rihards Butkus (born 25 August']\n",
      "Successfully wrote ../../../data/raw/en_Rihards_Butkus.txt\n",
      "\n",
      "Found 2 paragraphs for https://ar.wikipedia.org/wiki/%D9%85%D8%A7%D8%B1%D9%8A%D8%A7_%D9%85%D8%B1%D8%B3%D9%8A%D8%AF%D8%B3_(%D9%85%D8%B3%D9%84%D8%B3%D9%84) : ['ماريا مرسيدس (María Mercedes)،', 'يحكي المسلسل قصة مار يا مرسيدس']\n",
      "Successfully wrote ../../../data/raw/ar_ماريا_مرسيدس__مسلسل_.txt\n",
      "\n",
      "Found 9 paragraphs for https://de.wikipedia.org/wiki/Mar%C3%ADa_Mercedes : ['María Mercedes ist eine mexika', 'María Mercedes ist ein beschei', 'Santiago del Olmo ist ein Mill', 'Jorge Luis will nichts von Fra', 'Als Santiago stirbt, gelingt e', 'Sie lehnt ihn jedoch ab, Don S', 'María Magnolia ist eine High-S', 'Nach einem schrecklichen Urlau', 'Maria Mercedes heiratet Jorge ']\n",
      "Successfully wrote ../../../data/raw/de_María_Mercedes.txt\n",
      "\n",
      "Found 20 paragraphs for https://en.wikipedia.org/wiki/Mar%C3%ADa_Mercedes_(Mexican_TV_series) : ['María Mercedes (Spanish pronun', 'Thalía and Arturo Peniche star', 'Maria Mercedes is a poor young', 'Santiago del Olmo is very sick', 'When Santiago dies, María beco', 'Since the murder of his wife o', 'After María moves into the del', 'She plans that after a few wee', 'María then meets Maria Magnoli', \"Maria Magnolia's true identity\", 'Maria Magnolia teaches María g', \"After María's father passes aw\", 'However, Malvina has other pla', 'With Cordelio as her ally, Mal', 'Meanwhile, Jorge Luis realizes', 'Nine months later María gives ', 'He stands up for himself for t', 'Maria Magnolia finally decides', 'With this, the sisters make pe', 'A Philippine remake aired on A']\n",
      "Successfully wrote ../../../data/raw/en_María_Mercedes__Mexican_TV_series_.txt\n",
      "\n",
      "Found 12 paragraphs for https://es.wikipedia.org/wiki/Mar%C3%ADa_Mercedes_(telenovela) : ['María Mercedes es una telenove', 'Está protagonizada por Thalía ', 'María Mercedes (Thalía) es una', 'Santiago del Olmo (Fernando Ci', 'Jorge Luis no desea saber nada', 'Cuando muere Santiago, Malvina', 'No obstante ella lo rechaza pa', 'María Magnolia (Gabriela Golds', 'Tras unas terribles vacaciones', 'María Magnolia se reconcilia c', 'María Mercedes se casa con Jor', '']\n",
      "Successfully wrote ../../../data/raw/es_María_Mercedes__telenovela_.txt\n",
      "\n",
      "Found 2 paragraphs for https://fr.wikipedia.org/wiki/Mar%C3%ADa_Mercedes : ['', 'María Mercedes est une telenov']\n",
      "Successfully wrote ../../../data/raw/fr_María_Mercedes.txt\n",
      "\n",
      "Found 3 paragraphs for https://ja.wikipedia.org/wiki/%E3%83%9E%E3%83%AA%E3%82%A2%E3%83%BB%E3%83%A1%E3%83%AB%E3%82%BB%E3%83%87%E3%82%B9 : ['『マリア・メルセデス』（原題: María Mercedes', '演：タリア', '演：アルトゥーロ・ペニチェ']\n",
      "Successfully wrote ../../../data/raw/ja_マリア_メルセデス.txt\n",
      "\n",
      "Found 2 paragraphs for https://ko.wikipedia.org/wiki/%EB%A7%88%EB%A6%AC%EC%95%84_%EB%A9%94%EB%A5%B4%EC%84%B8%EB%8D%B0%EC%8A%A4 : ['', '《마리아 메르세데스》(스페인어: María Merced']\n",
      "Successfully wrote ../../../data/raw/ko_마리아_메르세데스.txt\n",
      "\n",
      "Found 7 paragraphs for https://ru.wikipedia.org/wiki/%D0%9C%D0%B0%D1%80%D0%B8%D1%8F_%D0%9C%D0%B5%D1%80%D1%81%D0%B5%D0%B4%D0%B5%D1%81 : ['«Мари́я Мерсе́дес» (исп. María', 'Мария Мерседес Муньос — молода', 'Сантьяго дель Ольмо является м', 'Мария Мерседес влюбилась в Хор', 'Телесериал Мария Мерседес был ', 'На русский язык телесериал был', 'Журнал «Сериал» поставил телес']\n",
      "Successfully wrote ../../../data/raw/ru_Мария_Мерседес.txt\n",
      "\n",
      "Found 5 paragraphs for https://ar.wikipedia.org/wiki/%D8%AF%D9%88%D9%86%D9%84%D9%8A_(%D9%85%D9%8A%D9%86%D9%8A%D8%B3%D9%88%D8%AA%D8%A7) : ['دونلي (بالإنجليزية: Donnelly, ', 'قام مكتب تعداد الولايات المتحد', 'بلغ عدد سكان دونلي 254 نسمة بح', 'بلغ متوسط دخل الأسرة في المدين', 'بلغ عدد سكان دونلي 241 نسمة بح']\n",
      "Successfully wrote ../../../data/raw/ar_دونلي__مينيسوتا_.txt\n",
      "\n",
      "Found 11 paragraphs for https://de.wikipedia.org/wiki/Donnelly_(Minnesota) : ['Donnelly ist eine Kleinstadt (', 'Donnelly liegt im Westen Minne', 'Benachbarte Orte von Donnelly ', 'Die nächstgelegenen größeren S', 'Die Minnesota State Route 9 ve', 'Parallel zur MN 9 verläuft ein', 'Der nächste größere Flughafen ', 'Nach der Volkszählung im Jahr ', 'Ethnisch bestand die Bevölkeru', '17,8 Prozent der Bevölkerung w', 'Das mittlere jährliche Einkomm']\n",
      "Successfully wrote ../../../data/raw/de_Donnelly__Minnesota_.txt\n",
      "\n",
      "Found 14 paragraphs for https://en.wikipedia.org/wiki/Donnelly,_Minnesota : ['', 'Donnelly is a city in Stevens ', 'Donnelly was originally called', 'The annual Donnelly Threshing ', 'According to the United States', 'Minnesota State Highway 9 serv', 'As of the census of 2010, ther', 'There were 113 households, of ', 'The median age in the city was', 'As of the census of 2000, ther', 'There were 114 households, out', 'In the city, the population wa', 'The median income for a househ', 'http://www.morrissuntribune.co']\n",
      "Successfully wrote ../../../data/raw/en_Donnelly__Minnesota.txt\n",
      "\n",
      "Found 4 paragraphs for https://es.wikipedia.org/wiki/Donnelly_(Minnesota) : ['Donnelly es una ciudad ubicada', 'Donnelly se encuentra ubicada ', 'Según el censo de 2010,5 había', '']\n",
      "Successfully wrote ../../../data/raw/es_Donnelly__Minnesota_.txt\n",
      "\n",
      "Found 1 paragraphs for https://fr.wikipedia.org/wiki/Donnelly_(Minnesota) : ['Donnelly est une ville américa']\n",
      "Successfully wrote ../../../data/raw/fr_Donnelly__Minnesota_.txt\n",
      "\n",
      "Found 2 paragraphs for https://ru.wikipedia.org/wiki/%D0%94%D0%BE%D0%BD%D0%BD%D0%B5%D0%BB%D0%BB%D0%B8_(%D0%B3%D0%BE%D1%80%D0%BE%D0%B4,_%D0%9C%D0%B8%D0%BD%D0%BD%D0%B5%D1%81%D0%BE%D1%82%D0%B0) : ['Доннелли (англ. Donnelly) — го', '']\n",
      "Successfully wrote ../../../data/raw/ru_Доннелли__город__Миннесота_.txt\n",
      "\n",
      "Found 3 paragraphs for https://zh.wikipedia.org/wiki/%E5%94%90%E7%B4%8D%E5%88%A9_(%E6%98%8E%E5%B0%BC%E8%98%87%E9%81%94%E5%B7%9E) : ['唐納利（英語：Donnelly）是一個位於美國明尼蘇達州史蒂', '唐納利的郵局自1876年營運至今。[3]唐納利於1872年成', '根據2020年美國人口普查的數據，唐納利的面積為8.05平方']\n",
      "Successfully wrote ../../../data/raw/zh_唐納利__明尼蘇達州_.txt\n",
      "\n",
      "Found 13 paragraphs for https://ar.wikipedia.org/wiki/%D8%A5%D9%8A%D8%AA%D8%A7_%D8%A7%D9%84%D8%AC%D8%A4%D8%AC%D8%A4 : ['إيتا الجؤجؤ أو ايتا كارينا في ', 'تسمى أيضا إراس 5925-10431 .', 'سجلت إيتا الجؤجؤ أول مرة كنجم ', 'يُعتبر إيتا الجؤجؤ نجما من أكب', 'وبسبب الضغط العالي الموجود في ', 'ويكون ذلك المعدل السريع للتفاع', 'وينتمي النجم إيتا الجؤجؤ أو إي', 'يصدر من إيتا الجؤجؤ سحابتين غب', 'تنطلقان السحابتان في اتجاه محو', 'يبين قياس الطيف الكهرومغناطيسي', 'وقد وضع مختلف العلماء عدة تصور', 'علاوة على ذلك ينادي العالم الف', 'كما تفترض فكرة جديدة أن إيتا ا']\n",
      "Successfully wrote ../../../data/raw/ar_إيتا_الجؤجؤ.txt\n",
      "\n",
      "Found 24 paragraphs for https://de.wikipedia.org/wiki/Eta_Carinae : ['Eta Carinae oder η Carinae ist', 'Ein offizieller Eigenname exis', 'Eta Carinae liegt in einer Ent', 'Der Primärstern von Eta Carina', 'Die Kernfusion verbraucht in s', 'Die hohe Fusionsrate führt daz', 'Der Stern Eta Carinae gehört z', 'Bemerkenswert ist Eta Carinae ', 'Von dem großen Ausbruch in der', 'Eta Carinae ist von einem sich', 'Die Kegel sind in Richtung der', 'Senkrecht zur Ausbreitungsrich', 'Bei bipolaren Wolken um andere', 'Das Material von Wolke und Sch', 'Aus Masse und Ausbreitungsgesc', 'Etwas entfernt vom Homunkulusn', 'Die Ursache für derartige Ausb', 'Sie zeigen jedenfalls, dass de', 'Die Beobachtungen der letzten ', 'Im Spektrum von Eta Carinae wu', 'Es gibt mehrere Theorien zur B', 'Darüber hinaus stellte der Ast', 'Einer neueren, wenig verbreite', 'Der Anblick, den Eta Carinae b']\n",
      "Successfully wrote ../../../data/raw/de_Eta_Carinae.txt\n",
      "\n",
      "Found 87 paragraphs for https://en.wikipedia.org/wiki/Eta_Carinae : ['', 'Eta Carinae (η Carinae, abbrev', 'At declination −59° 41′ 04.26″', 'The two main stars of the Eta ', 'Although unrelated to the star', 'Eta Carinae was first recorded', 'There is no reliable evidence ', 'Eta Carinae is too far south t', 'Halley gave an approximate app', 'In 1827, Burchell specifically', 'Eta Carinae was brighter still', 'In their oral traditions, the ', 'A new brightening started in 1', 'Between 1900 and at least 1940', 'In 1996, the variations were f', 'A sudden doubling of brightnes', 'In July 2018, Eta Carinae was ', 'As a fourth-magnitude star, Et', 'Located between Canopus and th', 'Discovered in 1961, the weak E', 'The strength and profile of th', 'HeI[c] lines are much weaker t', 'The earliest analyses of the s', 'Photographic spectra from 1893', 'The emission line spectrum ass', 'Direct spectral observations d', 'In the second half of the 20th', 'The 5.5-year orbital cycle pro', 'The ultraviolet spectrum of th', 'Certain FeII UV lines are unus', 'Infrared observations of Eta C', 'Far infrared observations show', 'Near-infrared observations can', 'Several X-ray and gamma ray so', 'More detailed observations wer', 'All the high-energy emission a', 'Radio emissions have been obse', 'The radio emission from Eta Ca', 'Eta Carinae is found within th', 'Eta Carinae lies within the sc', 'Eta Carinae is enclosed by, an', 'The lobes of the Homunculus ar', 'A unique feature of the Homunc', 'The distance to Eta Carinae ha', 'The distances to star clusters', 'The known expansion rate of th', 'The Eta Carinae star system is', 'The binary nature of Eta Carin', 'The period of the orbit is acc', 'Perhaps the most valuable use ', 'Eta Carinae A is classified as', 'An event similar to Eta Carina', 'Eta Carinae A is not a typical', 'Eta Carinae B is a massive lum', 'The masses of stars are diffic', 'Mass loss is one of the most i', 'Eta Carinae A is losing a lot ', 'Eta Carinae B is presumably al', 'The stars of the Eta Carinae s', 'The most notable feature of Et', 'Following the Great Eruption, ', 'Until late in the 20th century', 'The powerful stellar winds fro', 'The wind-wind collision cone s', 'In all other directions on the', 'Eta Carinae A is likely to hav', 'The Homunculus contains dust a', 'Further out, expanding gases f', 'The size of the two main stars', 'The size of Eta Carinae A is n', 'The stellar sizes should be co', 'Rotation rates of massive star', 'Two eruptions have been observ', 'Theories about the various eru', 'Eta Carinae is a unique object', 'Eta Carinae A would have begun', 'As core hydrogen burning progr', 'It is unclear whether triple-a', 'Models of the evolution and de', 'Eta Carinae is a close binary ', 'The overwhelming probability i', 'As a single star, a star origi', 'The existence of a massive com', 'Several unusual supernovae and', 'A typical core collapse supern', 'At least one paper has project', 'Eta Carinae is not expected to']\n",
      "Successfully wrote ../../../data/raw/en_Eta_Carinae.txt\n",
      "\n",
      "Found 28 paragraphs for https://es.wikipedia.org/wiki/Eta_Carinae : ['Eta Carinae (abreviado: η Cari', 'Eta Carinae es una estrella mu', 'La estrella está rodeada por u', 'Eta Carinae probablemente term', 'Las dos estrellas principales ', 'Aunque no está relacionada con', 'Eta Carinae fue registrada por', 'No existen pruebas fiables de ', 'Eta Carinae está demasiado al ', 'Halley dio una magnitud aparen', 'En 1827, Burchell observó espe', 'Eta Carinae era aún más brilla', 'En sus tradiciones orales, el ', 'Un nuevo brillo comenzó en 188', 'Entre 1900 y al menos 1940, Et', 'En 1996, se identificó por pri', 'En 1998-99 se observó una repe', 'En julio de 2018, se informó d', 'Como estrella de cuarta magnit', 'Situado entre Canopus y la Cru', 'Descubierta en 1961, la débil ', 'Un aspecto llamativo de Eta Ca', 'Eta Carinae presenta ocasional', 'Las estrellas extremadamente g', 'Observaciones recientes parece', 'La distancia a Eta Carinae ha ', 'Las distancias a los cúmulos d', 'La tasa de expansión conocida ']\n",
      "Successfully wrote ../../../data/raw/es_Eta_Carinae.txt\n",
      "\n",
      "Found 28 paragraphs for https://fr.wikipedia.org/wiki/Eta_Carinae : ['', 'Eta Carinae (η Car, Êta de la ', 'Anciennement une étoile de mag', 'Les deux étoiles principales d', 'Le système est fortement obscu', \"Il n'y a aucune indication fia\", 'Eta Carinae est situé trop au ', 'Halley donna une magnitude app', 'En 1827, William Burchell nota', 'Eta Carinae était encore plus ', 'Dans ses traditions orales, le', 'Les équipes de la Nasa ont mod', \"La luminosité d'Eta Carinae co\", 'Entre 1900 et au moins 1940, E', 'En 1996, il fut identifié pour', 'Un doublement soudain de son é', \"En tant qu'étoile de quatrième\", 'Localisée entre Canopus et la ', 'Découverte en 1961, la faible ', 'Elle a subi une énorme explosi', 'Eta Carinae A est une étoile h', 'Bien que son spectre ressemble', 'On pense en raison de sa masse', \"Son explosion, qui relâcha l'é\", 'Elle possède la particularité ', 'La caractéristique la plus not', 'Après la grande éruption, Eta ', \"Aspect remarquable d'Eta Carin\"]\n",
      "Successfully wrote ../../../data/raw/fr_Eta_Carinae.txt\n",
      "\n",
      "Found 17 paragraphs for https://ja.wikipedia.org/wiki/%E3%82%8A%E3%82%85%E3%81%86%E3%81%93%E3%81%A4%E5%BA%A7%E3%82%A4%E3%83%BC%E3%82%BF%E6%98%9F : ['りゅうこつ座η星（りゅうこつざイータせい、Eta Carin', '太陽質量の100倍以上の大質量星同士の連星であり、高光度の青', 'エータ・カリーナという名でも知られている。過去に恒星から放出', '以下の2星から構成される', '2011年現在、りゅうこつ座η星は太陽系近傍において詳細な研', 'りゅうこつ座η星のように質量が太陽質量の数十倍以上の恒星は、', 'りゅうこつ座η星は連星なので、表面温度と絶対光度の関係からだ', '主星の半径推定値には、非常に大きな幅がある。主星は高密度の恒', '前述のとおり、表面の定義が困難なため、どこをもって表面温度と', 'りゅうこつ座η星はこれまでに数度、異常な増光が記録されている', 'この現象は超新星爆発ではなかったものの、りゅうこつ座η星は数', 'この大増光は、元々三重連星であった星η星の内の2つの星が合体', '他の銀河でも、一時は超新星だとされながらそうでなかった例とし', 'なお、現在のりゅうこつ座η星は約5.5年の周期で小規模な増光', '100～120M☉の主星を30～60M☉の伴星が離心率の高い', 'りゅうこつ座η星の付近には恒星自体と混同されやすい天体がいく', 'Foramen, 天社 (Tseen She)とも。']\n",
      "Successfully wrote ../../../data/raw/ja_りゅうこつ座イータ星.txt\n",
      "\n",
      "Found 23 paragraphs for https://ko.wikipedia.org/wiki/%EC%9A%A9%EA%B3%A8%EC%9E%90%EB%A6%AC_%EC%97%90%ED%83%80 : ['', '용골자리 에타(η Carinae, η Car)는 용골자', '용골자리 에타는 가장 연구가 활발하게 이루어지고 있는,', '에타별처럼 태양 질량의 100배가 넘는 천체들은, 태양', '용골자리 에타의 가장 특이한 천체물리학적 특징은, 18', '용골자리 에타는 용골자리(적경 10시 45.1분, 적위', '용골자리 에타 관련 명칭들은 혼란을 줄 소지가 있다. ', '용골자리 에타에서 특기할 사항 하나는 밝기가 변한다는 ', '1677년 에드먼드 핼리가 이 별을 항성 목록에 수록했', '에타별은 가끔 큰 규모의 폭발을 일으킨다. 가장 마지막', '1843년 이후 에타별은 어두워지기 시작했고, 1900', \"'분광 극소' 또는 '엑스선 식(蝕)' 현상이 2003\", '팔세타-곤칼베스 팀은 엑스선 곡선과 쌍성의 성풍-성풍 ', '에타별의 스펙트럼에서 정확히 5.52년 간격으로 일부 ', '천문학자 카시 및 소커는 반성에서 나오는 전리복사가 전', '용골자리 에타는 예기치 않게 1998년에서 1999년 ', '용골자리 에타처럼 질량이 막대한 별들은 극도로 밝기 때', '최근 에타별의 운명에 대한 다른 추측이 나왔다. 200', '초신성 2006jc와 에타별은 비슷하기 때문에, 나사 ', '최근 에타별과 비슷한 또 다른 존재로 2006년 9월 ', '7,500광년이 아주 먼 거리는 아니기 때문에 에타별이', '에타가 폭발하면 낮에도 에타의 섬광을 볼 수 있고, 밤', '최근 이 별에서 방출되는 5.3년 주기 전자기 복사 주']\n",
      "Successfully wrote ../../../data/raw/ko_용골자리_에타.txt\n",
      "\n",
      "Found 72 paragraphs for https://ru.wikipedia.org/wiki/%D0%AD%D1%82%D0%B0_%D0%9A%D0%B8%D0%BB%D1%8F : ['Э́та Ки́ля (η Car, η Carinae),', 'Две звезды в системе Эта Киля ', 'Свет от компонент системы Эта ', 'Звезда входит в рассеянное звё', 'Звезда имеет современное назва', 'До XVII столетия не существует', 'Эта Киля лежит слишком далеко ', 'Галлей упоминал, что звёздная ', 'В 1827 году Бёрчелл отметил ув', 'Эта Киля увеличивала свою ярко', 'С 1857 года яркость уменьшалас', 'Очередное увеличение яркости н', 'Между 1900 и 1940 годом казало', 'В 1996 году было обнаружено, ч', 'Неожиданное удвоение яркости в', 'Как звезда, имеющая в настояще', 'Расположенная между Канопусом ', 'Радиант обнаруженного в 1961 г', 'Ширина и форма спектральных ли', 'Самые ранние анализы спектра з', 'Фотографические спектры 1893 г', 'Эмиссионный линейчатый спектр,', 'Ультрафиолетовый спектр систем', 'Некоторые принадлежащие FeII л', 'Инфракрасные наблюдения за Это', 'Наблюдения в дальнем инфракрас', 'Наблюдения в инфракрасном спек', 'В районе Эты Киля было обнаруж', 'Всё высокоэнергетическое излуч', 'Радиоизлучение от Эты Киля в о', 'Для радиоизлучения Эты Киля ха', 'Эта Киля расположена в глубине', 'Эта Киля расположена внутри ра', 'Эта Киля расположена внутри ту', 'Лопасти Гомункула, как считает', 'Для Гомункула характерна уника', 'Расстояние до Эты Киля было вы', 'Расстояния до звёздных скоплен', 'Известные темпы расширения Гом', 'Звёздная система Эты Киля на д', 'Двойная природа системы устано', 'Текущий период орбиты компаньо', 'Возможно, ценнейшее в знании о', 'Эта Киля A классифицируется ка', 'Событие, схожее с «Великой всп', 'Эта Киля A — нетипичная ЯГП. О', 'Эта Киля B — это массивная и я', 'Массу звёзд в системе сложно у', 'Потеря массы — один из наиболе', 'Эта Киля A теряет так много ма', 'Эта Киля B тоже теряет массу ч', 'Компоненты в двойной системе Э', 'Наиболее достойная внимания ос', 'После «Великой вспышки» Эта Ки', 'До конца 20-го столетия темпер', 'Мощные звёздные ветра сталкива', 'Зона столкновения ветров разде', 'На всех иных направлениях по д', 'Во времена Эдмунда Галлея Эта ', 'Гомункул содержит пыль с темпе', 'Далее, расширяющийся после «Ве', 'Сложно сказать нечто конкретно', 'Размеры Эты Киля A сложно опре', 'Размеры звезды в двойной систе', 'Скорость вращения массивных зв', 'С наибольшей вероятностью след', 'Как правило, коллапс ядра один', 'Существование массивного компа', 'Несколько необычных сверхновых', 'Большинство научных источников', 'Типичная сверхновая, образовав', 'Ожидается, что Эта Киля не про']\n",
      "Successfully wrote ../../../data/raw/ru_Эта_Киля.txt\n",
      "\n",
      "Found 19 paragraphs for https://zh.wikipedia.org/wiki/%E6%B5%B7%E5%B1%B1%E4%BA%8C : ['海山二（英語：Eta Carinae，簡寫為η Car）是位', '在中國，它屬於近南極星區的星官海山，除了海山二之外，屬於這個', '海山二是質量巨大的恆星中距離地球相當近的一顆，所以天文學家可', '海山二這類恆星的質量相當大，超過太陽的100倍，亮度則是太陽', '海山二在天文物理學上的重要性是大爆發與1843年左右觀察到的', '海山二一引人注目的特徵是亮度的變化，目前被分類成高光度藍變星', '海山二被愛德蒙·哈雷於1677年第一次紀錄下來，當時它是顆4', '海山二有時會有巨大的爆發，最近一次在1841年幾乎達到它的頂', '海山二在1843年之後再度變暗，在1900年至1940年間，', '海山二在2003年夏季發生一次「X光蝕」或「分光極小」現象。', '貢薩爾維斯（Falceta-Gonçalves）與他的同事發', '海山二的光譜觀測顯示一些發散譜線過去每5.52年會週期性的變', '天文學家Kashi與索克（Noam Soker）研究海山二的', '海山二的亮度在1998年至1999年之間突然加倍，而在200', '像海山二這樣巨大的恆星因為必須發出高度的亮光，所以它們會非常', '除了海山二之外，SN 2006jc是這種類型的恆星中已知最靠', '因為海山二與SN 2006jc相當類似，所以NASA高達德發', '另一個最近觀測到的超新星爆炸是SN 2006gy，它位於距離', '海山二距離地球只有7500光年，所以當它發生超新星爆炸或極超']\n",
      "Successfully wrote ../../../data/raw/zh_海山二.txt\n",
      "\n",
      "Found 2 paragraphs for https://ar.wikipedia.org/wiki/%D8%AF%D9%85%D8%AA_%D8%A3%D9%88%D8%B2%D8%AF%D9%85%D9%8A%D8%B1 : ['ديميت أوزدمير (بالتركية: Demet', 'ولدت في السادس والعشرين من فبر']\n",
      "Successfully wrote ../../../data/raw/ar_دمت_أوزدمير.txt\n",
      "\n",
      "Found 7 paragraphs for https://de.wikipedia.org/wiki/Demet_%C3%96zdemir : ['Demet Özdemir (* 26. Februar 1', 'Özdemir wurde am 26. Februar 1', 'Sie war im Jahr 2009 als Tänze', 'Ihr Debüt gab Özdemir 2013 in ', 'Ihre nächste Hauptrolle bekam ', 'Filme', 'Serien']\n",
      "Successfully wrote ../../../data/raw/de_Demet_Özdemir.txt\n",
      "\n",
      "Found 19 paragraphs for https://en.wikipedia.org/wiki/Demet_%C3%96zdemir : ['', 'Demet Özdemir (born 26 Februar', 'Demet Özdemir is a famous Turk', 'Her grandmother was the one of', 'On 28 August 2022, she married', 'Initially, Özdemir started dan', 'Her appearances in TV series, ', 'Even though Özdemir is known f', 'Although the actress is origin', 'Özdemir took theater and actin', 'She portrayed the character of', 'She got a role as \"Demet\" in t', 'In 2016, Özdemir played the le', 'From 2018 to 2019, she played ', 'In November 2019, she became a', 'Between 2019 and 2021, Özdemir', 'She then had a leading role in', 'Becoming an ambassador for the', 'She plays the female lead \"Far']\n",
      "Successfully wrote ../../../data/raw/en_Demet_Özdemir.txt\n",
      "\n",
      "Found 13 paragraphs for https://es.wikipedia.org/wiki/Demet_%C3%96zdemir : ['Demet Özdemir (İzmit, 26 de fe', 'Demet Özdemir nació el 26 de f', 'Demet Özdemir hace de la danza', 'En 2013 y 2014 se unió al elen', 'En 2016 y 2017, interpretó el ', 'Desde mayo de 2018 hasta agost', 'En el 2018 apareció en el prog', 'De noviembre de 2019 a 2021, s', 'En diciembre de 2021, volvió a', 'El 11 de febrero de 202249 se ', 'En 2023 interpretó el papel de', 'Demet Özdemir estuvo hasta 201', 'En febrero del 2021 oficializó']\n",
      "Successfully wrote ../../../data/raw/es_Demet_Özdemir.txt\n",
      "\n",
      "Found 15 paragraphs for https://fr.wikipedia.org/wiki/Demet_%C3%96zdemir : ['Demet Özdemir (prononcé [dɛ.mɛ', \"Elle déménage à Istanbul à l'â\", 'Elle se fait connaître du gran', 'En 2016, Demet décroche un nou', \"Fin 2019, après l'arrêt de Erk\", 'En parallèle de ses projets té', 'En 2018, Demet commence une re', 'En 2019, grâce à son interprét', \"Au cours de l'automne 2019, De\", 'En novembre 2019, elle est ann', 'Demet a été beaucoup associée ', 'Depuis la fin de la série Erke', 'Début 2021, elle confirme la r', \"Après une courte séparation d'\", '']\n",
      "Successfully wrote ../../../data/raw/fr_Demet_Özdemir.txt\n",
      "\n",
      "Found 3 paragraphs for https://ko.wikipedia.org/wiki/%EB%8D%B0%EB%A9%94%ED%8A%B8_%EC%99%B8%EC%A6%88%EB%8D%B0%EB%AF%B8%EB%A5%B4 : ['', '데메트 외즈데미르(튀르키예어: Demet Özdemir', '']\n",
      "Successfully wrote ../../../data/raw/ko_데메트_외즈데미르.txt\n",
      "\n",
      "Found 14 paragraphs for https://ru.wikipedia.org/wiki/%D0%9E%D0%B7%D0%B4%D0%B5%D0%BC%D0%B8%D1%80,_%D0%94%D0%B5%D0%BC%D0%B5%D1%82 : ['Демет Оздемир (тур. Demet Özde', 'Демет родилась 26 февраля 1992', 'В ранние годы биографии кумиро', 'Вскоре Дерья вышла замуж, и Де', 'Оздемир удалось достичь успеха', 'Зрители были в восторге от выс', 'Впервые на телевидение вышла в', '2 сентября 2023 года Демет Озд', 'С 2015 года встречалась с актё', 'В июне 2018 года актриса предс', 'В 2020 начала встречаться с пе', '28 августа 2022 года Демет Озд', '13 апреля 2023 года Демет Озде', '']\n",
      "Successfully wrote ../../../data/raw/ru_Оздемир__Демет.txt\n",
      "\n",
      "Found 1 paragraphs for https://ar.wikipedia.org/wiki/%D9%85%D9%8A%D8%AE%D8%A7%D8%A6%D9%8A%D9%84_%D9%88%D8%A7%D8%AA%D8%B3%D9%88%D9%86 : ['ميخائيل واتسون (بالإنجليزية: M']\n",
      "Successfully wrote ../../../data/raw/ar_ميخائيل_واتسون.txt\n",
      "\n",
      "Found 7 paragraphs for https://en.wikipedia.org/wiki/Michael_Watson_(lacrosse) : ['Michael Watson (born October 2', 'Michael Watson attended prep s', 'Watson and Virginia teammate D', 'Watson played professional out', 'Following a year off from the ', 'Watson is the model for the Ma', 'Watson was inducted into the N']\n",
      "Successfully wrote ../../../data/raw/en_Michael_Watson__lacrosse_.txt\n",
      "\n",
      "Found 1 paragraphs for https://ar.wikipedia.org/wiki/%D8%A3%D8%B3%D8%A8%D8%BA%D9%88%D8%B1%D9%86_%D8%B1%D9%88%D8%AF : ['أسبغورن رود (بالنرويجية البوكم']\n",
      "Successfully wrote ../../../data/raw/ar_أسبغورن_رود.txt\n",
      "\n",
      "Found 2 paragraphs for https://de.wikipedia.org/wiki/Asbj%C3%B8rn_Ruud : ['Asbjørn Ruud (* 6. Oktober 191', 'Er war Sohn von Sigurd Theodor']\n",
      "Successfully wrote ../../../data/raw/de_Asbjørn_Ruud.txt\n",
      "\n",
      "Found 2 paragraphs for https://en.wikipedia.org/wiki/Asbj%C3%B8rn_Ruud : ['', 'Asbjørn Ruud (6 October 1919 –']\n",
      "Successfully wrote ../../../data/raw/en_Asbjørn_Ruud.txt\n",
      "\n",
      "Found 4 paragraphs for https://fr.wikipedia.org/wiki/Asbj%C3%B8rn_Ruud : ['', 'Asbjørn Ruud, né le 6 octobre ', \"Il fait partie d'une famille d\", 'Il remporte le concours des Ch']\n",
      "Successfully wrote ../../../data/raw/fr_Asbjørn_Ruud.txt\n",
      "\n",
      "Found 5 paragraphs for https://ja.wikipedia.org/wiki/%E3%82%A2%E3%82%B9%E3%83%93%E3%83%A7%E3%83%AB%E3%83%B3%E3%83%BB%E3%83%AB%E3%83%BC%E3%83%88 : ['', 'アスビョルン・ルート（Asbjørn Ruud、1919年1', 'ノルウェー南部のコングスベルグ生まれ。長兄シグムント、次兄ビ', '1938年、フィンランド・ラハティでの世界選手権で金メダルを', '1948年のサンモリッツオリンピックでは7位に入賞。長年のジ']\n",
      "Successfully wrote ../../../data/raw/ja_アスビョルン_ルート.txt\n",
      "\n",
      "Found 5 paragraphs for https://ru.wikipedia.org/wiki/%D0%A0%D1%83%D1%83%D0%B4,_%D0%90%D1%81%D0%B1%D1%8C%D1%91%D1%80%D0%BD : ['Асбьёрн Рууд (норв. Asbjørn Ru', 'Асбьёрн Рууд родился в 1919 го', 'В 1938 году на чемпионате мира', 'В 1946 году Асбьёрн стал первы', 'Скончался в 1989 году первым и']\n",
      "Successfully wrote ../../../data/raw/ru_Рууд__Асбьёрн.txt\n",
      "\n",
      "Found 2 paragraphs for https://ar.wikipedia.org/wiki/%D8%A5%D8%AD%D8%B5%D8%A7%D8%A1_%D8%B3%D9%83%D8%A7%D9%86_%D8%B1%D9%88%D9%85%D8%A7%D9%86%D9%8A%D8%A7_2011 : ['إحصاء سكان رومانيا 2011 في روم', 'الإحصاء سيكون الثالث بعد سقوط ']\n",
      "Successfully wrote ../../../data/raw/ar_إحصاء_سكان_رومانيا_2011.txt\n",
      "\n",
      "Found 3 paragraphs for https://en.wikipedia.org/wiki/2011_Romanian_census : ['', 'The 2011 Romanian census was a', 'Preliminary results were relea']\n",
      "Successfully wrote ../../../data/raw/en_2011_Romanian_census.txt\n",
      "\n",
      "Found 3 paragraphs for https://fr.wikipedia.org/wiki/Recensement_de_la_Roumanie_de_2011 : ['Le recensement de la populatio', \"Il s'agit du troisième recense\", 'Selon le recensement, la compo']\n",
      "Successfully wrote ../../../data/raw/fr_Recensement_de_la_Roumanie_de_2011.txt\n",
      "\n",
      "Found 2 paragraphs for https://ru.wikipedia.org/wiki/%D0%9F%D0%B5%D1%80%D0%B5%D0%BF%D0%B8%D1%81%D1%8C_%D0%BD%D0%B0%D1%81%D0%B5%D0%BB%D0%B5%D0%BD%D0%B8%D1%8F_%D0%A0%D1%83%D0%BC%D1%8B%D0%BD%D0%B8%D0%B8_(2011) : ['Перепись населения Румынии 201', 'Окончательные результаты таков']\n",
      "Successfully wrote ../../../data/raw/ru_Перепись_населения_Румынии__2011_.txt\n",
      "\n",
      "Found 1 paragraphs for https://ar.wikipedia.org/wiki/%D8%A3%D9%82%D8%B1%D9%82%D8%A7%D8%B1 : ['أقرقار هي قرية تقع في الريف ال']\n",
      "Successfully wrote ../../../data/raw/ar_أقرقار.txt\n",
      "\n",
      "Found 3 paragraphs for https://en.wikipedia.org/wiki/Agharghar : ['Agharghar is a village and rur', '', '']\n",
      "Successfully wrote ../../../data/raw/en_Agharghar.txt\n",
      "\n",
      "Found 2 paragraphs for https://es.wikipedia.org/wiki/Egharghar : ['Egharghar es una comuna o muni', 'Se encuentra ubicada al sur de']\n",
      "Successfully wrote ../../../data/raw/es_Egharghar.txt\n",
      "\n",
      "Found 2 paragraphs for https://fr.wikipedia.org/wiki/Egharghar : ['', 'Egharghar est une commune de M']\n",
      "Successfully wrote ../../../data/raw/fr_Egharghar.txt\n",
      "\n",
      "Found 1 paragraphs for https://ar.wikipedia.org/wiki/%D8%A5%D8%AF%D9%8A%D8%AB_%D8%A5%D9%8A%D9%88%D9%8A%D9%86%D8%BA_%D8%A8%D9%88%D9%81%D9%8A%D8%B1_%D8%A8%D9%8A%D9%84%D9%8A : ['إديث إيوينغ بوفير بيلي (بالإنج']\n",
      "Successfully wrote ../../../data/raw/ar_إديث_إيوينغ_بوفير_بيلي.txt\n",
      "\n",
      "Found 11 paragraphs for https://en.wikipedia.org/wiki/Edith_Ewing_Bouvier_Beale : ['Edith Ewing Bouvier Beale (née', \"Beale's parents were Maude Fra\", 'Beale was engaged to Horace R.', 'Beale pursued an amateur singi', 'In 1923, Phelan Beale purchase', 'In October 1971, police raided', \"Beale's niece, Lee Radziwill, \", 'The Maysles brothers were fasc', 'Beale died of pneumonia at Sou', 'As Beale neared her death, \"Li', 'The notoriety of the 1975 Grey']\n",
      "Successfully wrote ../../../data/raw/en_Edith_Ewing_Bouvier_Beale.txt\n",
      "\n",
      "Found 9 paragraphs for https://es.wikipedia.org/wiki/Edith_Ewing_Bouvier_Beale : ['Edith Ewing Bouvier Beale (Nut', 'Los padres de Beale fueron Mau', 'Beale siguió una carrera como ', 'En 1923, Phelan Beale compró l', 'En octubre de 1971, la policía', 'La sobrina de Beale, Lee Radzi', 'Los hermanos Maysles estaban f', 'Beale murió de neumonía en el ', 'La notoriedad del documental G']\n",
      "Successfully wrote ../../../data/raw/es_Edith_Ewing_Bouvier_Beale.txt\n",
      "\n",
      "Found 10 paragraphs for https://fr.wikipedia.org/wiki/Edith_Ewing_Bouvier_Beale : ['Edith Ewing Bouvier Beale, sur', \"Les parents d'Edith Bouvier Be\", 'Edith Beale poursuivit une car', 'En 1923, Phelan Beale acheta l', 'En octobre 1971, la police, al', \"En 1972, la nièce d'Edith Beal\", 'Cependant, les frères Maysles ', 'Edith Beale succomba à une pne', 'Comme sa vie touchait à sa fin', '']\n",
      "Successfully wrote ../../../data/raw/fr_Edith_Ewing_Bouvier_Beale.txt\n",
      "\n",
      "Found 7 paragraphs for https://ja.wikipedia.org/wiki/%E3%82%A4%E3%83%BC%E3%83%87%E3%82%A3%E3%82%B9%E3%83%BB%E3%83%A6%E3%83%BC%E3%82%A4%E3%83%B3%E3%82%B0%E3%83%BB%E3%83%96%E3%83%BC%E3%83%B4%E3%82%A3%E3%82%A8%E3%83%BB%E3%83%93%E3%83%BC%E3%83%AB : ['イーディス・ユーイング・ブーヴィエ・ビール（Edith Ew', '弁護士・投資家のジョン・ヴェルヌー・ブーヴィエ・ジュニア（英', '1923年、フィーラン・ビールは大西洋潟岸の最高級住宅地の1', '1971年10月、地元警察がグレイ・ガーデンズに踏み込み、邸', 'イーディスの姪のリー・ラジヴィルは1972年ドキュメンタリー', 'メイスルズ兄弟はビール母娘の風変りな日常に魅了された。出資金', 'イーディスは1977年2月5日、ニューヨーク州サウサンプトン']\n",
      "Successfully wrote ../../../data/raw/ja_イーディス_ユーイング_ブーヴィエ_ビール.txt\n",
      "\n",
      "Found 1 paragraphs for https://ar.wikipedia.org/wiki/%D9%8A%D9%86%D8%B3_%D9%8A%D9%88%D9%87%D8%A7%D9%86%D8%B3%D9%88%D9%86 : ['ينس يوهانسون (بالسويدية: Jens ']\n",
      "Successfully wrote ../../../data/raw/ar_ينس_يوهانسون.txt\n",
      "\n",
      "Found 6 paragraphs for https://de.wikipedia.org/wiki/Jens_Johansson : ['Jens Johansson (* 2. November ', 'Johansson ist der Sohn des Jaz', 'Im Jahr 1993 gründeten Anders ', 'Er trat 1995 der Power-Metal-B', 'Johansson hat sehr viele Synth', 'Timeline']\n",
      "Successfully wrote ../../../data/raw/de_Jens_Johansson.txt\n",
      "\n",
      "Found 10 paragraphs for https://en.wikipedia.org/wiki/Jens_Johansson : ['Jens Ola Johansson[1] (born 2 ', \"He's currently working with th\", 'Johansson is son of Swedish ja', 'In 1993, Johansson co-founded ', 'Johansson has released several', 'He co-founded Heptagon Records', 'Johansson is a self-confessed ', 'Johansson has used many types ', 'Recently, he has been using PC', 'Timeline']\n",
      "Successfully wrote ../../../data/raw/en_Jens_Johansson.txt\n",
      "\n",
      "Found 13 paragraphs for https://es.wikipedia.org/wiki/Jens_Johansson : ['Jens Ola Johansson1 (Estocolmo', 'Jens Johansson es hijo del con', 'En 1982 se une a la banda Silv', 'Es Yngwie J. Malmsteen quien l', 'Jens abandona la banda de Malm', 'Es a partir de esta época dond', 'En los 90 funda Heptagon Recor', 'Parece ser que Jens realizó un', 'Se une en 1998 como músico inv', 'En 1995 pasa a formar parte in', 'Ink Compatible (2003)', 'Barilari (2003)', 'The Black Halo (2005)']\n",
      "Successfully wrote ../../../data/raw/es_Jens_Johansson.txt\n",
      "\n",
      "Found 5 paragraphs for https://fr.wikipedia.org/wiki/Jens_Johansson : ['Jens Johansson, né le 2 novemb', 'Jens Johansson est le fils du ', 'Entre 1989 et 1990, il est mem', 'Il est cofondateur avec son fr', 'Il apparaît aussi aux côtés du']\n",
      "Successfully wrote ../../../data/raw/fr_Jens_Johansson.txt\n",
      "\n",
      "Found 2 paragraphs for https://ja.wikipedia.org/wiki/%E3%82%A4%E3%82%A7%E3%83%B3%E3%82%B9%E3%83%BB%E3%83%A8%E3%83%8F%E3%83%B3%E3%82%BD%E3%83%B3 : ['イェンス・ヨハンソン（Jens Johansson、1963', '父はスウェーデンのジャズピアニストのヤン・ヨハンソン（英語版']\n",
      "Successfully wrote ../../../data/raw/ja_イェンス_ヨハンソン.txt\n",
      "\n",
      "Found 3 paragraphs for https://ko.wikipedia.org/wiki/%EC%98%8C%EC%8A%A4_%EC%9A%94%ED%95%9C%EC%86%90 : ['', '옌스 요한손(Jens Johansson, 1963년 1', '']\n",
      "Successfully wrote ../../../data/raw/ko_옌스_요한손.txt\n",
      "\n",
      "Found 6 paragraphs for https://ru.wikipedia.org/wiki/%D0%AE%D1%85%D0%B0%D0%BD%D1%81%D1%81%D0%BE%D0%BD,_%D0%99%D0%B5%D0%BD%D1%81 : ['Йенс Ула Юханссон[2] (швед. Je', 'Йенс Юханссон — сын знаменитог', 'В 1982 году классически обучен', 'В 1995 году Йенс стал участник', 'В середине 2015 года Ричи Блэк', 'В своей карьере Йенс использов']\n",
      "Successfully wrote ../../../data/raw/ru_Юханссон__Йенс.txt\n",
      "\n",
      "Found 1 paragraphs for https://ar.wikipedia.org/wiki/%D8%B9%D9%84%D9%85_%D9%85%D9%86%D8%B8%D9%85%D8%A9_%D8%A7%D9%84%D9%85%D8%A4%D8%AA%D9%85%D8%B1_%D8%A7%D9%84%D8%A5%D8%B3%D9%84%D8%A7%D9%85%D9%8A : ['علم منظمة المؤتمر الإسلامي الس']\n",
      "Successfully wrote ../../../data/raw/ar_علم_منظمة_المؤتمر_الإسلامي.txt\n",
      "\n",
      "Found 2 paragraphs for https://de.wikipedia.org/wiki/Flagge_der_Organisation_f%C3%BCr_Islamische_Zusammenarbeit : ['Die Flagge der Organisation fü', 'Diese Flagge ersetzte 2011 die']\n",
      "Successfully wrote ../../../data/raw/de_Flagge_der_Organisation_für_Islamische_Zusammenarbeit.txt\n",
      "\n",
      "Found 3 paragraphs for https://en.wikipedia.org/wiki/Flag_of_the_Organisation_of_Islamic_Cooperation : ['The flag of the Organisation o', 'It is white with the organizat', 'The former flag was adopted in']\n",
      "Successfully wrote ../../../data/raw/en_Flag_of_the_Organisation_of_Islamic_Cooperation.txt\n",
      "\n",
      "Found 2 paragraphs for https://es.wikipedia.org/wiki/Bandera_de_la_Organizaci%C3%B3n_para_la_Cooperaci%C3%B3n_Isl%C3%A1mica : ['La bandera de la Organización ', 'Entre 19812 y 2011, la organiz']\n",
      "Successfully wrote ../../../data/raw/es_Bandera_de_la_Organización_para_la_Cooperación_Islámica.txt\n",
      "\n",
      "Found 3 paragraphs for https://ru.wikipedia.org/wiki/%D0%A4%D0%BB%D0%B0%D0%B3_%D0%9E%D1%80%D0%B3%D0%B0%D0%BD%D0%B8%D0%B7%D0%B0%D1%86%D0%B8%D0%B8_%D0%B8%D1%81%D0%BB%D0%B0%D0%BC%D1%81%D0%BA%D0%BE%D0%B3%D0%BE_%D1%81%D0%BE%D1%82%D1%80%D1%83%D0%B4%D0%BD%D0%B8%D1%87%D0%B5%D1%81%D1%82%D0%B2%D0%B0 : ['Флаг Организации исламского со', 'Флаг принят в 2011 году вместе', 'Первый флаг Организации Исламс']\n",
      "Successfully wrote ../../../data/raw/ru_Флаг_Организации_исламского_сотрудничества.txt\n",
      "\n",
      "Found 1 paragraphs for https://ar.wikipedia.org/wiki/NGC_2218 : ['NGC 2218 في الفهرس العام الجدي']\n",
      "Successfully wrote ../../../data/raw/ar_NGC_2218.txt\n",
      "\n",
      "Found 1 paragraphs for https://de.wikipedia.org/wiki/NGC_2218 : ['NGC 2218 bezeichnet im NGC-Kat']\n",
      "Successfully wrote ../../../data/raw/de_NGC_2218.txt\n",
      "\n",
      "Found 2 paragraphs for https://fr.wikipedia.org/wiki/NGC_2218 : ['', 'NGC 2218 est un groupe de cinq']\n",
      "Successfully wrote ../../../data/raw/fr_NGC_2218.txt\n",
      "\n",
      "Found 3 paragraphs for https://ru.wikipedia.org/wiki/NGC_2218 : ['NGC 2218 — группа звёзд в созв', 'Этот объект входит в число пер', 'Состоит из пяти никак не связа']\n",
      "Successfully wrote ../../../data/raw/ru_NGC_2218.txt\n",
      "\n",
      "Found 4 paragraphs for https://ar.wikipedia.org/wiki/%D8%B9%D9%85%D9%84%D9%8A%D8%A7%D8%AA_%D8%A7%D9%84%D9%82%D8%B5%D9%81_%D9%81%D9%8A_%D8%AD%D9%84%D8%A8_(%D8%A3%D8%A8%D8%B1%D9%8A%D9%84%E2%80%93%D9%8A%D9%88%D9%84%D9%8A%D9%88_2016) : ['عمليات القصف في حلب كانت عمليا', 'في وقت مبكر يوم 28 أبريل 2016،', 'في 29 أبريل، أصيب مسجد ملا خان', 'في 3 مايو أطلقت المعارضة صواري']\n",
      "Successfully wrote ../../../data/raw/ar_عمليات_القصف_في_حلب__أبريل_يوليو_2016_.txt\n",
      "\n",
      "Found 6 paragraphs for https://en.wikipedia.org/wiki/Aleppo_bombings_(April%E2%80%93July_2016) : ['The Aleppo bombings (April–Jul', 'On 27 April 2016, four consecu', 'NPR reported that Russia and t', 'On 29 April, the Malla Khan mo', 'On 3 May, the Syrian rebels fi', 'On 2 August, Russia claimed th']\n",
      "Successfully wrote ../../../data/raw/en_Aleppo_bombings__April_July_2016_.txt\n",
      "\n",
      "Found 1 paragraphs for https://ar.wikipedia.org/wiki/%D8%A7%D9%84%D8%AC%D8%AD%D8%A7%D9%88%D8%B1_(%D8%A7%D9%84%D9%82%D9%81%D8%B1) : ['الجحاور محلة تابعة لقرية صيحان']\n",
      "Successfully wrote ../../../data/raw/ar_الجحاور__القفر_.txt\n",
      "\n"
     ]
    },
    {
     "name": "stderr",
     "output_type": "stream",
     "text": [
      "2024-05-05 11:00:15,473 - ERROR - Timeout when trying to find interlanguage links for https://ar.wikipedia.org/wiki/%D8%A7%D9%84%D8%AC%D8%AD%D8%A7%D9%88%D8%B1_(%D8%A7%D9%84%D9%82%D9%81%D8%B1)\n"
     ]
    },
    {
     "name": "stdout",
     "output_type": "stream",
     "text": [
      "Found 1 paragraphs for https://ar.wikipedia.org/wiki/%D8%AF%D9%8A%D9%81_%D8%AF%D9%88%D9%86%D8%A7%D9%84%D8%AF%D8%B3%D9%88%D9%86_(%D9%84%D8%A7%D8%B9%D8%A8_%D9%83%D8%B1%D8%A9_%D9%82%D8%AF%D9%85) : ['ديف دونالدسون (بالإنجليزية: Da']\n",
      "Successfully wrote ../../../data/raw/ar_ديف_دونالدسون__لاعب_كرة_قدم_.txt\n",
      "\n",
      "Found 3 paragraphs for https://en.wikipedia.org/wiki/Dave_Donaldson_(footballer,_born_1941) : ['', 'David Donaldson (born 28 Decem', '']\n",
      "Successfully wrote ../../../data/raw/en_Dave_Donaldson__footballer__born_1941_.txt\n",
      "\n",
      "Found 2 paragraphs for https://ar.wikipedia.org/wiki/%D8%A7%D9%84%D8%BA%D8%B1%D9%81_(%D8%AD%D8%B6%D8%B1%D9%85%D9%88%D8%AA) : ['الغرف هي إحدى قرى الجمهورية ال', '']\n",
      "Successfully wrote ../../../data/raw/ar_الغرف__حضرموت_.txt\n",
      "\n"
     ]
    },
    {
     "name": "stderr",
     "output_type": "stream",
     "text": [
      "2024-05-05 11:00:51,313 - ERROR - Timeout when trying to find interlanguage links for https://ar.wikipedia.org/wiki/%D8%A7%D9%84%D8%BA%D8%B1%D9%81_(%D8%AD%D8%B6%D8%B1%D9%85%D9%88%D8%AA)\n"
     ]
    },
    {
     "name": "stdout",
     "output_type": "stream",
     "text": [
      "Found 2 paragraphs for https://ar.wikipedia.org/wiki/%D9%87%D8%AA%D9%84%D9%8A_(%D9%83%D8%A7%D9%85%D8%A8%D8%B1%D9%8A%D8%AF%D8%AC%D8%B4%D9%8A%D8%B1) : ['هتلي (بالإنجليزية: Hatley, Cam', '']\n",
      "Successfully wrote ../../../data/raw/ar_هتلي__كامبريدجشير_.txt\n",
      "\n",
      "Found 18 paragraphs for https://en.wikipedia.org/wiki/Hatley,_Cambridgeshire : ['', 'Hatley is a civil parish in So', 'The Hatley name was in use as ', 'In 1831, the population of the', 'The parish was established in ', 'Hatley is 12 miles south-west ', 'Around half of the land in Hat', 'There are two main settlements', 'East Hatley is a row of houses', 'Historically, East Hatley hous', 'Hatley village hall was built ', 'Around one-third of the parish', 'At the time of the 2001 census', 'Hatley has a high rate of in-m', 'In addition to the two churche', 'Hatley St George has a church,', 'There are remnants of ancient ', 'Media related to Hatley, Cambr']\n",
      "Successfully wrote ../../../data/raw/en_Hatley__Cambridgeshire.txt\n",
      "\n",
      "Found 2 paragraphs for https://fr.wikipedia.org/wiki/Hatley_(Cambridgeshire) : ['Hatley est une paroisse civile', '']\n",
      "Successfully wrote ../../../data/raw/fr_Hatley__Cambridgeshire_.txt\n",
      "\n",
      "Found 1 paragraphs for https://ar.wikipedia.org/wiki/%D9%83%D9%8A%D8%A7%D8%B1%D8%A7_%D8%BA%D8%A7%D9%84%D9%8A%D8%A7%D8%AA%D8%B3%D9%88 : ['تشيارا (بالإيطالية: Chiara) هي']\n",
      "Successfully wrote ../../../data/raw/ar_كيارا_غالياتسو.txt\n",
      "\n",
      "Found 7 paragraphs for https://de.wikipedia.org/wiki/Chiara_Galiazzo : ['Chiara Galiazzo (* 12. August ', 'Chiara Galiazzo stammt aus Pad', '2012 versuchte Galiazzo es noc', 'Im Sommer 2013 nahm Galiazzo m', 'Erst 2020 meldete sich die Sän', 'Alben', 'Lieder']\n",
      "Successfully wrote ../../../data/raw/de_Chiara_Galiazzo.txt\n",
      "\n",
      "Found 14 paragraphs for https://en.wikipedia.org/wiki/Chiara_Galiazzo : ['', 'Chiara Galiazzo (Italian pronu', 'She performed three times at t', 'The elder of two sisters,[1] C', 'Despite being interested in mu', 'In May 2012, Galiazzo successf', 'She advanced to the final of t', 'Her winner\\'s single, \"Due resp', 'On 13 December 2012, Fabio Faz', '\"Il futuro che sarà\" was relea', 'Starting from April 2013, Chia', 'Since early 2014, Chiara start', 'In December 2016, it was annou', 'On 26 April 2019, after a year']\n",
      "Successfully wrote ../../../data/raw/en_Chiara_Galiazzo.txt\n",
      "\n",
      "Found 2 paragraphs for https://es.wikipedia.org/wiki/Chiara_Galiazzo : ['Chiara Galiazzo (Padua, 12 de ', 'Pasó su infancia en Saonara y ']\n",
      "Successfully wrote ../../../data/raw/es_Chiara_Galiazzo.txt\n",
      "\n",
      "Found 4 paragraphs for https://fr.wikipedia.org/wiki/Chiara_Galiazzo : ['Chiara Galiazzo, plus connue p', 'Elle passe son enfance à Saona', 'Son premier album publié en 20', '(it) Site officiel']\n",
      "Successfully wrote ../../../data/raw/fr_Chiara_Galiazzo.txt\n",
      "\n",
      "Found 2 paragraphs for https://ar.wikipedia.org/wiki/%D8%A7%D9%84%D9%83%D9%88%D9%8A%D9%83%D8%A8_64030 : ['الكويكب 64030، التعين المؤقت ل', 'كباقي كويكبات معسكر طروادة يقع']\n",
      "Successfully wrote ../../../data/raw/ar_الكويكب_64030.txt\n",
      "\n",
      "Found 1 paragraphs for https://ar.wikipedia.org/wiki/%D8%A7%D9%84%D8%AD%D9%85%D8%B1%D8%A9_(%D8%AD%D8%B2%D9%85_%D8%A7%D9%84%D8%B9%D8%AF%D9%8A%D9%86) : ['الحمرة محلة تابعة لقرية الاعمو']\n",
      "Successfully wrote ../../../data/raw/ar_الحمرة__حزم_العدين_.txt\n",
      "\n"
     ]
    },
    {
     "name": "stderr",
     "output_type": "stream",
     "text": [
      "2024-05-05 11:01:34,879 - ERROR - Timeout when trying to find interlanguage links for https://ar.wikipedia.org/wiki/%D8%A7%D9%84%D8%AD%D9%85%D8%B1%D8%A9_(%D8%AD%D8%B2%D9%85_%D8%A7%D9%84%D8%B9%D8%AF%D9%8A%D9%86)\n"
     ]
    },
    {
     "name": "stdout",
     "output_type": "stream",
     "text": [
      "Found 1 paragraphs for https://ar.wikipedia.org/wiki/%D8%AA%D8%A7%D9%86%D8%AF%D9%8A%D8%AA_31_(%D8%AA%D8%A7%D9%86%D8%AF%D9%8A%D8%AA_%D8%A7%D9%84%D8%B4%D9%85%D8%A7%D9%84%D9%8A%D8%A9) : ['تانديت 31 هو دُوَّار يقع بجماع']\n",
      "Successfully wrote ../../../data/raw/ar_تانديت_31__تانديت_الشمالية_.txt\n",
      "\n",
      "Found 25 paragraphs for https://ar.wikipedia.org/wiki/%D9%85%D8%B1%D8%AD%D9%84%D8%A9_%D8%AE%D8%B1%D9%88%D8%AC_%D8%A7%D9%84%D9%85%D8%BA%D9%84%D9%88%D8%A8_%D9%81%D9%8A_%D8%AF%D9%88%D8%B1%D9%8A_%D8%A3%D8%A8%D8%B7%D8%A7%D9%84_%D8%A3%D9%88%D8%B1%D9%88%D8%A8%D8%A7_2012%E2%80%9313 : ['مرحلة خروج المغلوب في دوري أبط', 'الأوقات لغاية 30 مارس 2013 (دو', 'عقدت جميع القرعات في مقر اليوي', 'تنطوي مرحلة خروج المغلوب على ا', 'تلعب كل مواجهة في مرحلة خروج ا', 'آلية قرعات كل دور كما يلي:', 'لعبت مباريات الذهاب في 12 و13 ', 'تم الوقوف دقيقة صمت قبل المبار', 'فاز ريال مدريد 3–2 بالإجمالي.', 'فاز بوروسيا دورتموند 5–2 بالإج', 'فاز باريس سان جيرمان 3–2 بالإج', 'فاز يوفنتوس 5–0 بالإجمالي.', 'فاز غلطة سراي 4–3 بالإجمالي.', 'فاز برشلونة 4–2 بالإجمالي.', 'فاز مالقا 2–1 بالإجمالي.', '3–3 بالإجمالي. فاز بايرن ميونخ', 'لعبت مباريات الذهاب في 2 و3 أب', 'فاز بوروسيا دورتموند 3–2 بالإج', 'فاز ريال مدريد 5–3 بالإجمالي.', '3–3 بالإجمالي. فاز برشلونة بال', 'فاز بايرن ميونخ 4–0 بالإجمالي.', 'لعبت مباراتي الذهاب في 23 و24 ', 'فاز بوروسيا دورتموند 4–3 بالإج', 'فاز بايرن ميونخ 7–0 بالإجمالي.', 'لعب النهائي في 25 مايو 2013 عل']\n",
      "Successfully wrote ../../../data/raw/ar_مرحلة_خروج_المغلوب_في_دوري_أبطال_أوروبا_2012_13.txt\n",
      "\n",
      "Found 25 paragraphs for https://en.wikipedia.org/wiki/2012%E2%80%9313_UEFA_Champions_League_knockout_phase : ['The knockout phase of the 2012', 'Times are CET/CEST,[note 1] as', 'All draws were held at UEFA he', 'The knockout phase involved th', 'Each tie in the knockout phase', 'The mechanism of the draws for', 'The first legs were played on ', 'Galatasaray won 4–3 on aggrega', 'Juventus won 5–0 on aggregate.', '3–3 on aggregate. Bayern Munic', \"A minute's silence was held be\", 'Borussia Dortmund won 5–2 on a', 'Barcelona won 4–2 on aggregate', 'Real Madrid won 3–2 on aggrega', 'Paris Saint-Germain won 3–2 on', 'Málaga won 2–1 on aggregate.', 'The first legs were played on ', 'Borussia Dortmund won 3–2 on a', 'Real Madrid won 5–3 on aggrega', '3–3 on aggregate. Barcelona wo', 'Bayern Munich won 4–0 on aggre', 'The first legs were played on ', 'Bayern Munich won 7–0 on aggre', 'Borussia Dortmund won 4–3 on a', 'The final was played on 25 May']\n",
      "Successfully wrote ../../../data/raw/en_2012_13_UEFA_Champions_League_knockout_phase.txt\n",
      "\n",
      "Found 53 paragraphs for https://ja.wikipedia.org/wiki/UEFA%E3%83%81%E3%83%A3%E3%83%B3%E3%83%94%E3%82%AA%E3%83%B3%E3%82%BA%E3%83%AA%E3%83%BC%E3%82%B0_2012-13_%E6%B1%BA%E5%8B%9D%E3%83%88%E3%83%BC%E3%83%8A%E3%83%A1%E3%83%B3%E3%83%88 : ['UEFAチャンピオンズリーグ 2012-13 決勝トーナメン', '決勝戦以外はホーム・アンド・アウェー方式で行われる。2試合の', 'すべての抽選はUEFA本部のあるスイス・ニヨンで行われる。[', 'ラウンド16の組み合わせ抽選会は2012年12月20日に行わ', '抽選方法', '抽選手順', '第一戦は2013年2月12-13, 19-20日、第二戦は3', '', '', '', '', '', '', '', '', '', '二試合合計スコア 3-2でレアル・マドリードが準々決勝進出', '', '二試合合計スコア 5-2でドルトムントが準々決勝進出', '', '二試合合計スコア 3-2でパリ・サンジェルマンが準々決勝進出', '', '二試合合計スコア 5-0でユヴェントスが準々決勝進出', '', '二試合合計スコア 4-3でガラタサライが準々決勝進出', '', '二試合合計スコア 4-2でバルセロナが準々決勝進出', '', '二試合合計スコア 2-1でマラガが準々決勝進出', '', '二試合合計スコア 3-3、アウェーゴールの差でバイエルン・ミ', '準々決勝、準決勝、決勝の組み合わせ抽選会は2013年3月15', '', '', '', '', '', '二試合合計スコア 3-2でドルトムントが準決勝進出', '', '二試合合計スコア 5-3でレアル・マドリードが準決勝進出', '', '二試合合計スコア 3-3アウェーゴールの差でバルセロナが準決', '', '二試合合計スコア 4-0でバイエルンが準決勝進出', '第1戦は2013年4月23-24日、第2戦は2013年4月3', '', '', '', '2試合合計スコア4 - 3でドルトムントが決勝進出', '', '2試合合計スコア7 - 0でバイエルンが決勝進出', '決勝戦は2013年5月25日にロンドンのウェンブリー・スタジ', '']\n",
      "Successfully wrote ../../../data/raw/ja_UEFAチャンピオンズリーグ_2012_13_決勝トーナメント.txt\n",
      "\n",
      "Found 8 paragraphs for https://ru.wikipedia.org/wiki/%D0%9B%D0%B8%D0%B3%D0%B0_%D1%87%D0%B5%D0%BC%D0%BF%D0%B8%D0%BE%D0%BD%D0%BE%D0%B2_%D0%A3%D0%95%D0%A4%D0%90_2012/2013._%D0%9F%D0%BB%D0%B5%D0%B9-%D0%BE%D1%84%D1%84 : ['Эта статья содержит информацию', 'В плей-офф приняли участие 16 ', 'В плей-офф команды играли друг', 'При жеребьевке 1/8 финала восе', 'Первые матчи прошли 12−13 и 19', 'Первые матчи состоялись 2 и 3 ', 'Первые матчи прошли 23-24 апре', 'Финал состоялся 25 мая 2013 го']\n",
      "Successfully wrote ../../../data/raw/ru_2013__Плей_офф.txt\n",
      "\n",
      "Found 23 paragraphs for https://zh.wikipedia.org/wiki/2012%E2%80%9313%E5%B9%B4%E6%AD%90%E6%B4%B2%E5%86%A0%E8%BB%8D%E8%81%AF%E8%B3%BD%E6%B7%98%E6%B1%B0%E8%B3%BD : ['2012–13年歐洲冠軍聯賽淘汰賽階段由2013年2月12日', '所有淘汰賽抽籤於欧洲足球协会联盟總部瑞士尼翁進行[1]。', '除總決賽外，淘汰賽各階段均會進行兩輪賽事，兩支隊伍均會有一次', '在十六強抽籤時，將會抽出來自分組賽小組之首名與分組賽小組之次', '', '十六強抽籤於2012年12月20日進行。首回合賽事將於201', '皇家馬德里以總比數 3–2 晉級', '多蒙特以總比數 5–2 晉級', '巴黎聖日耳曼總比數 3–2 晉級', '祖雲達斯總比數 5–0 晉級', '巴塞罗那總比數 4–2 晉級', '加拉塔沙雷總比數 4–3 晉級', '馬拉加總比數 2–1 晉級', '總比數 3–3 ，拜仁慕尼黑憑作客入球優惠晉級', '半準決賽抽籤於2013年3月15日進行。半準決賽首回合賽事於', '多蒙特以總比數 3–2 晉級', '皇家馬德里以總比數 5–3 晉級', '總比數 3–3 ，巴塞罗那憑作客入球優惠晉級', '拜仁慕尼黑以總比數 4–0 晉級', '準決賽抽籤於2013年4月12日進行。準決賽首回合賽事於20', '多特蒙德以總比數 4–3 晉級', '拜仁慕尼黑以總比數 7–0 晉級', '決賽於2013年5月25日，於倫敦溫布萊球場進行。']\n",
      "Successfully wrote ../../../data/raw/zh_2012_13年歐洲冠軍聯賽淘汰賽.txt\n",
      "\n",
      "Found 2 paragraphs for https://ar.wikipedia.org/wiki/%D9%88%D8%B9%D9%84%D8%A7%D9%86_%D9%81%D9%84%D9%81%D9%8A%D8%AA%D8%B4%D9%8A : ['وعلان فلفيتشي (الاسم العلمي:Co', '']\n",
      "Successfully wrote ../../../data/raw/ar_وعلان_فلفيتشي.txt\n",
      "\n",
      "Found 2 paragraphs for https://en.wikipedia.org/wiki/Commelina_welwitschii : ['', 'Commelina welwitschii is an he']\n",
      "Successfully wrote ../../../data/raw/en_Commelina_welwitschii.txt\n",
      "\n",
      "Found 4 paragraphs for https://ru.wikipedia.org/wiki/Commelina_welwitschii : ['Commelina welwitschii  (лат.) ', 'Синоним — Commelina filifolia ', 'Эндемик Анголы[6].', 'Травянистое растение с голым и']\n",
      "Successfully wrote ../../../data/raw/ru_Commelina_welwitschii.txt\n",
      "\n",
      "Found 17 paragraphs for https://ar.wikipedia.org/wiki/%D9%83%D8%AA%D8%A7%D8%A8_%D8%A5%D9%8A%D9%84%D8%A7%D9%8A : ['كتاب إيلاي هو فيلم أمريكي من خ', 'أصدر الفيلم إلى الصالات في ينا', 'تبدأ الأحداث بعد ثلاثين عامًا ', 'يدخل إيلاي حانة في البلدة ويوا', 'يتسلل إيلاي من غرفته ويحاول كا', 'في الطريق، يفسر لها إيلاي طبيع', 'يصل إيلاي وسولارا إلى منزل غري', 'تتمكن سولارا من الهرب وتعود لم', 'في هذه الأثناء، يعود كارنيجي إ', 'في مايو 2007، وقعت كولومبيا بي', 'قام جيف إيمادا بتصميم مشاهد ال', 'عرض الفيلم في أمريكا الشمالية ', 'جمع موقع الطماطم الفاسدة، المخ', 'توقع الكاتب تود ماكارثي من مجل', 'أعطى سكوت توبياس من موقع أيه ف', 'عرض الفيلم أول مره على (دي في ', 'كتاب إيلاي على موقع IMDb (الإن']\n",
      "Successfully wrote ../../../data/raw/ar_كتاب_إيلاي.txt\n",
      "\n",
      "Found 15 paragraphs for https://de.wikipedia.org/wiki/The_Book_of_Eli : ['The Book of Eli (Verweistitel:', 'Dreißig Jahre nach dem „Großen', 'Eli erreicht auf seiner Reise ', 'Am nächsten Morgen betet Solar', 'Solara ist Eli heimlich gefolg', 'Auf dem Rückweg befreit sich S', 'Solara findet den taumelnden E', 'Auf Alcatraz stellt sich derwe', 'Die deutschsprachige Synchroni', 'Im Mai 2007 wurde der Vertrag ', 'Saturn Awards 2010[8]', 'Teen Choice Award 2010', 'World Soundtrack Award 2010', 'Black Reel Awards 2011', 'NAACP Image Award 2011']\n",
      "Successfully wrote ../../../data/raw/de_The_Book_of_Eli.txt\n",
      "\n",
      "Found 21 paragraphs for https://en.wikipedia.org/wiki/The_Book_of_Eli : ['', '', 'The Book of Eli is a 2010 Amer', 'The Book of Eli was released t', 'Thirty years after a nuclear h', 'Eli barters with a store owner', 'Eli sneaks away, but Carnegie ', 'At an isolated house, Eli and ', 'Solara finds Eli, and they dri', 'In the town, Carnegie discover', 'In May 2007, Columbia Pictures', 'Jeff Imada choreographed the c', 'The Book of Eli was released i', 'The film was released on home ', 'The film was released in North', 'Review aggregator Rotten Tomat', 'Todd McCarthy of Variety predi', 'Reviewing the film for The A.V', 'Owen Gleiberman of Entertainme', 'The film was released on DVD a', 'In January 2024, it was announ']\n",
      "Successfully wrote ../../../data/raw/en_The_Book_of_Eli.txt\n",
      "\n",
      "Found 19 paragraphs for https://es.wikipedia.org/wiki/The_Book_of_Eli : ['The Book of Eli (titulada El l', 'Treinta años después de una gu', 'Un día atestigua escondido cóm', 'En el bar local, la pandilla d', 'Eli comparte su cena con Solar', 'Eli ya había escapado de su ha', 'Carnegie trata su herida mient', 'Solara escapa y continúa viaja', 'Finalmente, Eli y Solara descu', 'Solara recoge a Eli, quien a p', 'Después de conducir hasta los ', 'Mientras tanto, de vuelta en l', 'De vuelta en Alcatraz, Eli com', 'Carnegie ordena a Claudia, qui', 'En el santuario, Eli ha muerto', 'La imprenta en Alcatraz comien', 'En mayo de 2007, los hermanos ', 'Las grabaciones comenzaron en ', 'El 47% de los críticos en la p']\n",
      "Successfully wrote ../../../data/raw/es_The_Book_of_Eli.txt\n",
      "\n",
      "Found 14 paragraphs for https://fr.wikipedia.org/wiki/Le_Livre_d%27Eli : [\"Le Livre d'Eli ou Le Livre d'É\", 'Trente ans après une apocalyps', \"En ville, pendant qu'il fait r\", 'Après que Claudia, la maîtress', 'Eli se faufile hors de sa cham', 'Eli et Solara se retrouvent de', 'Pendant ce temps, de retour en', ' Sauf indication contraire ou ', 'Le tournage commence en janvie', 'Rotten Tomatoes, agrégateur de', 'La rédaction du Figaroscope dé', 'Charlie Hebdo est plus mitigé,', \"Lors de sa première journée d'\", '']\n",
      "Successfully wrote ../../../data/raw/fr_Le_Livre_d_Eli.txt\n",
      "\n",
      "Found 10 paragraphs for https://ja.wikipedia.org/wiki/%E3%82%B6%E3%83%BB%E3%82%A6%E3%82%A9%E3%83%BC%E3%82%AB%E3%83%BC : ['『ザ・ウォーカー』（原題: The Book of Eli）', '邦題は、作中において街で文明的な生活を送っていると自慢するカ', '最終戦争によって国家も文明も滅びた世界。イーライは「本を西へ', 'ある日、イーライが辿り着いたのはカーネギーという男が牛耳る街', '翌朝、カーネギーのもとに戻ったソラーラは母クローディアに朝食', '街を出たイーライは、追ってきたソラーラから「水のある場所を教', '2人は道中、孤立した老夫婦の家で歓待されるが、車で追ってきた', 'ソラーラの運転でさらに西へ進んだ2人は海岸に行き当たり、ボー', '負傷していたイーライは、暗記していた本の中身を休むことなく語', '※括弧内は日本語吹き替え']\n",
      "Successfully wrote ../../../data/raw/ja_ザ_ウォーカー.txt\n",
      "\n",
      "Found 2 paragraphs for https://ko.wikipedia.org/wiki/%EC%9D%BC%EB%9D%BC%EC%9D%B4_(2010%EB%85%84_%EC%98%81%ED%99%94) : ['', '《일라이》(The Book of Eli)는 2010년에']\n",
      "Successfully wrote ../../../data/raw/ko_일라이__2010년_영화_.txt\n",
      "\n",
      "Found 13 paragraphs for https://ru.wikipedia.org/wiki/%D0%9A%D0%BD%D0%B8%D0%B3%D0%B0_%D0%98%D0%BB%D0%B0%D1%8F : ['«Книга Илая» (англ. The Book o', 'Илай — человек, выживший после', 'Карнеги заинтересовывается лич', 'Карнеги подсылает к Илаю дочь ', 'Илай убегает, но Карнеги и его', 'В уединенном доме Илай и Солар', 'Они доезжают до разрушенного С', 'Карнеги в это время открывает ', 'Со слов Илая продолжается запи', 'В финале Солара стоит у надгро', 'Фильм заканчивается словами «з', 'В мае 2007 года Warner Brother', 'Warner Brothers распространяет']\n",
      "Successfully wrote ../../../data/raw/ru_Книга_Илая.txt\n",
      "\n",
      "Found 3 paragraphs for https://zh.wikipedia.org/wiki/%E5%A5%AA%E5%A4%A9%E6%9B%B8 : ['《艾利之书》（英語：The Book of Eli，香港译《', '大爆炸後，世界如同一片荒漠，人們與土地幾乎沒有生產力時，有些', '男主角伊萊，某日突然聆聽到一個似乎來自內心深處、又清楚像有人']\n",
      "Successfully wrote ../../../data/raw/zh_奪天書.txt\n",
      "\n",
      "Found 2 paragraphs for https://fr.wikipedia.org/wiki/Don%27t_Wanna_Cry : [\"Don't Wanna Cry est une chanso\", 'Toutes les paroles sont écrite']\n",
      "Successfully wrote ../../../data/raw/fr_Don_t_Wanna_Cry.txt\n",
      "\n",
      "Found 4 paragraphs for https://en.wikipedia.org/wiki/Don%27t_Wanna_Cry_(Namie_Amuro_song) : ['\"Don\\'t Wanna Cry\" is a song by', '\"Don\\'t Wanna Cry\" was used in ', 'Oricon sales chart (Japan)', 'Oricon sales chart (Japan)']\n",
      "Successfully wrote ../../../data/raw/en_Don_t_Wanna_Cry__Namie_Amuro_song_.txt\n",
      "\n",
      "Found 1 paragraphs for https://ja.wikipedia.org/wiki/Don%27t_wanna_cry : [\"「Don't wanna cry」（ドント・ワナ・クライ）は\"]\n",
      "Successfully wrote ../../../data/raw/ja_Don_t_wanna_cry.txt\n",
      "\n",
      "Found 4 paragraphs for https://ko.wikipedia.org/wiki/Don%27t_wanna_cry : ['', \"〈Don't wanna cry〉는 일본의 가수 아무로 \", '아무로는 이 곡으로 제38회 일본레코드대상에서 대상을 ', '이 싱글의 누적 출하량은 155만 장으로 알려져있다.']\n",
      "Successfully wrote ../../../data/raw/ko_Don_t_wanna_cry.txt\n",
      "\n",
      "Found 2 paragraphs for https://zh.wikipedia.org/wiki/Don%27t_wanna_cry : [\"《Don't wanna cry》，是日本女歌手安室奈美惠單\", 'Mixed by CHRIS LORD-ALGE']\n",
      "Successfully wrote ../../../data/raw/zh_Don_t_wanna_cry.txt\n",
      "\n",
      "Found 2 paragraphs for https://fr.wikipedia.org/wiki/George_King_(basket-ball) : ['', 'George Smith King Jr., né le 1']\n",
      "Successfully wrote ../../../data/raw/fr_George_King__basket_ball_.txt\n",
      "\n",
      "Found 14 paragraphs for https://en.wikipedia.org/wiki/George_King_(basketball,_born_1928) : ['George Smith King, Jr. (August', 'George King attended Morris Ha', 'George King was picked in the ', 'In 1955, King led the Syracuse', 'In 1956, King toured eleven Mi', 'After his tenure with the Nati', 'George King began his coaching', 'Before King began his coaching', 'King moved on to coaching at P', 'For the next 21 years as Purdu', 'King received an honorary doct', 'King retired from Purdue in 19', 'King died at the age of 78 at ', 'Source[4]']\n",
      "Successfully wrote ../../../data/raw/en_George_King__basketball__born_1928_.txt\n",
      "\n",
      "Found 6 paragraphs for https://es.wikipedia.org/wiki/George_King_(baloncestista_de_1928) : ['George Smith King jr. (Charles', 'Jugó durante tres temporadas c', 'Fue elegido en el puesto 87 de', 'En 1956 abandonó temporalmente', 'Su carrera como entrenador pro', 'En 1965 se hizo cargo del equi']\n",
      "Successfully wrote ../../../data/raw/es_George_King__baloncestista_de_1928_.txt\n",
      "\n",
      "Found 7 paragraphs for https://ja.wikipedia.org/wiki/%E3%82%B8%E3%83%A7%E3%83%BC%E3%82%B8%E3%83%BB%E3%82%AD%E3%83%B3%E3%82%B0 : ['ジョージ・スミス・キング・ジュニア（George Smith', 'ウェストバージニア州ファイエット出身。チャールストン大学在学', 'ナショナルズではドルフ・シェイズ、ポール・シーモアらとともに', 'キングはナショナルズで5シーズンプレーし、1956年に一旦現', 'キングは1960年ウェストバージニア大学のヘッドコーチに就任', 'キングは1983年に母校チャールストン大学から名誉博士号を授', '2006年、78歳で死去。']\n",
      "Successfully wrote ../../../data/raw/ja_ジョージ_キング.txt\n",
      "\n",
      "Found 1 paragraphs for https://zh.wikipedia.org/wiki/%E4%B9%94%E6%B2%BB%C2%B7%E9%87%91 : ['小乔治·史密斯·金（英語：George Smith King']\n",
      "Successfully wrote ../../../data/raw/zh_乔治_金.txt\n",
      "\n",
      "Found 20 paragraphs for https://fr.wikipedia.org/wiki/Kay_Laurell : ['Kay Laurell, née Ruth Leslie l', 'Laurell commence sa carrière e', 'Kay Laurell est née en 18901,2', 'En 1914, Florenz Ziegfeld voit', 'Laurell fait ses débuts sur sc', 'En mai 1916, Laurell épouse Wi', \"Après s'être séparée de Sheeha\", \"Comme beaucoup d'autres Ziegfe\", 'Laurell se concentre principal', 'Elle va ensuite en Europe où e', 'Elle a été photographiée par A', 'William James Glackens a peint', 'Elle entretient une relation a', 'En mai 1916, Laurell épouse Wi', 'Séparée de Sheehan, Laurell co', 'Le 31 janvier 1927, Laurell me', 'Avant sa mort, Laurell avait r', \"Soucieux du bien-être de l'enf\", 'H. L. Mencken a déclaré que « ', '']\n",
      "Successfully wrote ../../../data/raw/fr_Kay_Laurell.txt\n",
      "\n",
      "Found 16 paragraphs for https://en.wikipedia.org/wiki/Kay_Laurell : ['Kay Laurell (born Ruth Leslie;', 'Laurell began her career as an', 'Laurell was born in 1890[2][3]', 'In 1914, Florenz Ziegfeld, Jr.', 'Laurell made her stage debut i', 'In May 1916, Laurell married W', 'After separating from Sheehan,', 'Like many other Ziegfeld girls', 'Laurell focused mainly on stag', 'She later moved to Europe wher', 'In May 1916, Laurell married W', 'While separated from Sheehan, ', 'On January 31, 1927, Laurell d', 'Before her death, Laurell drew', \"Concerned for the child's welf\", 'H.L. Mencken said Laurell poss']\n",
      "Successfully wrote ../../../data/raw/en_Kay_Laurell.txt\n",
      "\n",
      "Found 16 paragraphs for https://es.wikipedia.org/wiki/Kay_Laurell : ['Kay Laurell (nacida como Ruth ', 'Laurell comenzó su carrera com', 'Laurell nació en 1890 (algunas', 'En 1914, Florenz Ziegfeld, Jr.', 'Laurell debutó sobre el escena', 'En mayo de 1916, Laurell se ca', 'Después de la separación de Sh', 'Como muchas otras chicas Ziegf', 'Laurell se centró principalmen', 'Más tarde se mudó a Europa don', 'En mayo de 1916, Laurell se ca', 'Después de separarse de Sheeha', 'El 31 de enero de 1927, Laurel', 'Antes de su muerte, Laurell re', 'Preocupado por el bienestar de', 'H.L. Mencken dijo que Laurell ']\n",
      "Successfully wrote ../../../data/raw/es_Kay_Laurell.txt\n",
      "\n",
      "Found 7 paragraphs for https://ru.wikipedia.org/wiki/%D0%9A%D0%B5%D0%B9_%D0%9B%D0%BE%D1%80%D0%B5%D0%BB%D0%BB : ['Кей Лорелл (англ. Kay Laurell;', 'Родилась под именем Рут Лесли ', 'В 1919 году дебютировала в кин', 'Позже, когда карьера пошла на ', 'В 1916 году вышла замуж за Уин', 'Позже начала отношения с сыном', 'Скончалась в феврале 1927 года']\n",
      "Successfully wrote ../../../data/raw/ru_Кей_Лорелл.txt\n",
      "\n",
      "Found 3 paragraphs for https://fr.wikipedia.org/wiki/Louise_Smyth : ['Louise Michelle Smyth, née le ', 'Louise Smyth remporte la trave', '']\n",
      "Successfully wrote ../../../data/raw/fr_Louise_Smyth.txt\n",
      "\n"
     ]
    },
    {
     "name": "stderr",
     "output_type": "stream",
     "text": [
      "2024-05-05 11:02:39,243 - ERROR - Timeout when trying to find interlanguage links for https://fr.wikipedia.org/wiki/Louise_Smyth\n"
     ]
    },
    {
     "name": "stdout",
     "output_type": "stream",
     "text": [
      "Found 8 paragraphs for https://fr.wikipedia.org/wiki/Histoires_courtes_de_Boule_et_Bill : ['Les histoires courtes de Boule', '', 'Poisson vole est une histoire ', 'Billégiature est une histoire ', 'Père et mer est une histoire d', '10 ans après est une histoire ', 'Bill chante le printemps est u', 'Boule et Bill en vacances est ']\n",
      "Successfully wrote ../../../data/raw/fr_Histoires_courtes_de_Boule_et_Bill.txt\n",
      "\n"
     ]
    },
    {
     "name": "stderr",
     "output_type": "stream",
     "text": [
      "2024-05-05 11:03:10,542 - ERROR - Timeout when trying to find interlanguage links for https://fr.wikipedia.org/wiki/Histoires_courtes_de_Boule_et_Bill\n"
     ]
    },
    {
     "name": "stdout",
     "output_type": "stream",
     "text": [
      "Found 3 paragraphs for https://fr.wikipedia.org/wiki/Trichuridae : ['Les Trichuridae forment une fa', 'Dans sa monographie de 2001 su', \"D'après le Biology Catalog pro\"]\n",
      "Successfully wrote ../../../data/raw/fr_Trichuridae.txt\n",
      "\n",
      "Found 5 paragraphs for https://de.wikipedia.org/wiki/Trichuridae : ['Trichuridae sind eine Familie ', 'Wie alle Familien aus der Über', 'Trichuridae befallen vor allem', 'Der Familie der Trichuridae ge', 'Gattungen und ausgewählte Arte']\n",
      "Successfully wrote ../../../data/raw/de_Trichuridae.txt\n",
      "\n",
      "Found 5 paragraphs for https://en.wikipedia.org/wiki/Trichuridae : ['', 'The roundworm family Trichurid', 'The genus Trichuris is particu', 'The genera of Trichuridae are:', '']\n",
      "Successfully wrote ../../../data/raw/en_Trichuridae.txt\n",
      "\n",
      "Found 2 paragraphs for https://es.wikipedia.org/wiki/Trichuridae : ['Los tricúridos (Trichuridae) s', 'El género Trichuris incluye va']\n",
      "Successfully wrote ../../../data/raw/es_Trichuridae.txt\n",
      "\n",
      "Found 3 paragraphs for https://zh.wikipedia.org/wiki/%E6%AF%9B%E9%A6%96%E7%A7%91 : ['', '毛首科（学名：Trichuridae）为毛首目的一个科。', '本科包括以下属：[1]']\n",
      "Successfully wrote ../../../data/raw/zh_毛首科.txt\n",
      "\n",
      "Found 8 paragraphs for https://fr.wikipedia.org/wiki/Le_Bassin_aux_nymph%C3%A9as : ['', 'Le Bassin aux nymphéas est une', 'Claude Monet est un des fondat', 'Il compose cette œuvre sur le ', 'Cette œuvre est une ultime déc', 'À la fin de la vie de Claude M', 'Cette œuvre est acquise en 197', '']\n",
      "Successfully wrote ../../../data/raw/fr_Le_Bassin_aux_nymphéas.txt\n",
      "\n",
      "Found 3 paragraphs for https://de.wikipedia.org/wiki/Le_Bassin_aux_Nymph%C3%A9as : ['Le Bassin aux Nymphéas (dt. Se', 'Im Garten seines Hauses, in de', 'Am 24. Juni 2008 wurde das Wer']\n",
      "Successfully wrote ../../../data/raw/de_Le_Bassin_aux_Nymphéas.txt\n",
      "\n",
      "Found 2 paragraphs for https://en.wikipedia.org/wiki/Le_Bassin_Aux_Nymph%C3%A9as : ['Le Bassin Aux Nymphéas (Water ', 'It was sold on 24 June 2008 at']\n",
      "Successfully wrote ../../../data/raw/en_Le_Bassin_Aux_Nymphéas.txt\n",
      "\n",
      "Found 1 paragraphs for https://zh.wikipedia.org/wiki/%E7%9D%A1%E8%8E%B2%E7%9B%86%E6%99%AF : ['《睡莲盆景》（睡莲池；1919）是法国印象派画家克洛德·莫奈']\n",
      "Successfully wrote ../../../data/raw/zh_睡莲盆景.txt\n",
      "\n",
      "Found 4 paragraphs for https://fr.wikipedia.org/wiki/Liste_des_salles_de_l%27Arena_Football_League : ['Cet article énumère et décrit ', \"Un terrain d'Arena Football es\", '', '']\n",
      "Successfully wrote ../../../data/raw/fr_Liste_des_salles_de_l_Arena_Football_League.txt\n",
      "\n"
     ]
    },
    {
     "name": "stderr",
     "output_type": "stream",
     "text": [
      "2024-05-05 11:03:46,557 - ERROR - Timeout when trying to find interlanguage links for https://fr.wikipedia.org/wiki/Liste_des_salles_de_l%27Arena_Football_League\n"
     ]
    },
    {
     "name": "stdout",
     "output_type": "stream",
     "text": [
      "Found 10 paragraphs for https://fr.wikipedia.org/wiki/Pilawa_(gmina) : ['', 'Pilawa est une gmina (commune)', 'Son siège administratif est la', 'La gmina couvre une superficie', 'De 1975 à 1998, la gmina est a', 'À part la ville de Pilawa, la ', 'La gmina de Pilawa est voisine', \"D'après les données de 2002, l\", 'La commune représente 6,01 % d', 'Données du 30 juin 2004 :']\n",
      "Successfully wrote ../../../data/raw/fr_Pilawa__gmina_.txt\n",
      "\n",
      "Found 9 paragraphs for https://de.wikipedia.org/wiki/Gmina_Pilawa : ['Die Gmina Pilawa ist eine Stad', 'Die Gemeinde liegt fünf Kilome', 'Die Landgemeinde Pilawa wurde ', 'Zur Stadt-und-Land-Gemeinde ge', 'Kleinere Orte der Gemeinde sin', 'Neben Industriebetrieben in Pi', 'Östlich des Hauptortes kreuzt ', 'Der Bahnhof Pilawa ist Knotenp', 'Der nächste internationale Flu']\n",
      "Successfully wrote ../../../data/raw/de_Gmina_Pilawa.txt\n",
      "\n",
      "Found 5 paragraphs for https://en.wikipedia.org/wiki/Gmina_Pilawa : ['Gmina Pilawa is an urban-rural', 'The gmina covers an area of 77', 'The gmina contains part of the', 'Apart from the town of Pilawa,', 'Gmina Pilawa is bordered by th']\n",
      "Successfully wrote ../../../data/raw/en_Gmina_Pilawa.txt\n",
      "\n",
      "Found 2 paragraphs for https://ru.wikipedia.org/wiki/%D0%9F%D0%B8%D0%BB%D1%8F%D0%B2%D0%B0_(%D0%B3%D0%BC%D0%B8%D0%BD%D0%B0) : ['Пилява (польск. Pilawa) — гмин', 'Данные по переписи 2004 года:']\n",
      "Successfully wrote ../../../data/raw/ru_Пилява__гмина_.txt\n",
      "\n",
      "Found 6 paragraphs for https://fr.wikipedia.org/wiki/John_Burgee : ['John Burgee, né le 28 août 193', \"John Burgee est diplômé de l'É\", 'John Burgee et Philip Johnson ', 'Leurs collaborations inclus:', 'Notes', 'Bibliographie']\n",
      "Successfully wrote ../../../data/raw/fr_John_Burgee.txt\n",
      "\n",
      "Found 6 paragraphs for https://en.wikipedia.org/wiki/John_Burgee : ['John Burgee (born August 28, 1', 'Burgee graduated from the Scho', 'John Burgee and Philip Johnson', 'Their collaborations include:', 'Notes', 'Bibliography']\n",
      "Successfully wrote ../../../data/raw/en_John_Burgee.txt\n",
      "\n",
      "Found 4 paragraphs for https://es.wikipedia.org/wiki/John_Burgee : ['John Burgee es un arquitecto e', 'Burgee se graduó en la Escuela', 'John Burgee y Philip Johnson f', 'Sus colaboraciones incluyeron:']\n",
      "Successfully wrote ../../../data/raw/es_John_Burgee.txt\n",
      "\n",
      "Found 4 paragraphs for https://zh.wikipedia.org/wiki/%E7%BA%A6%E7%BF%B0%C2%B7%E4%BC%AF%E5%A5%87 : ['約翰·伯奇（英語：John Burgee，1933年8月28', '伯奇於1956年，在聖母大學建築學院畢業，當伯奇在1982年', '約翰·伯奇與菲力普·強生在1968年時，於曼哈頓創立強生/伯', '以下列表為強生/伯奇建築設計事務所的著名作品']\n",
      "Successfully wrote ../../../data/raw/zh_约翰_伯奇.txt\n",
      "\n",
      "Found 14 paragraphs for https://fr.wikipedia.org/wiki/Royaume_de_Libye : ['Le royaume de Libye (arabe : ا', \"À l'issue de la Seconde Guerre\", 'Selon la constitution adoptée ', \"La Libye est en 1951 l'un des \", 'La vie politique du royaume so', 'Le 5 octobre 1954, un cousin d', 'En 1956, la découverte de gise', 'La découverte du pétrole enric', 'Le 25 avril 1963, une nouvelle', 'Le mécontentement populaire de', 'Les effets pratiques des mesur', 'Le roi semble néanmoins avoir ', 'Le mécontentement persistant s', 'Dans la nuit du 31 août au 1er']\n",
      "Successfully wrote ../../../data/raw/fr_Royaume_de_Libye.txt\n",
      "\n",
      "Found 32 paragraphs for https://de.wikipedia.org/wiki/K%C3%B6nigreich_Libyen : ['Das Königreich Libyen (arabisc', 'Nach der Niederlage Italiens i', 'Nach der Verfassung vom 7. Okt', 'Nach den ersten Parlamentswahl', 'Für die Provinzen waren ihre e', 'Um die Frage der Thronfolge zu', 'In der Außenpolitik nahm Libye', 'Im selben Jahr schloss Libyen ', 'Libyen suchte enge Beziehungen', 'Als Teil eines Unterstützungsp', 'Diese Situation änderte sich i', 'Durch die Entdeckung und Ausbe', 'Da die Förderung der Erdölvork', 'Im April 1963 sicherte sich Mi', 'Mit seinen Nachbarstaaten hatt', 'Dennoch gewann der arabische N', 'Der Sechstagekrieg von 1967 zw', 'Obwohl Libyen einer der größte', 'Nach der Bildung des libyschen', 'Entfremdet vom bevölkerungsrei', 'König Idris hatte bereits am 4', 'Nach der Abschaffung der Verfa', 'Idris I. blieb mit Hasan Rida,', 'Obwohl der König und der Kronp', 'Das Vereinigte Königreich von ', 'Nach der Verfassung war der Kö', 'Der König ernannte und entließ', 'Das Parlament bestand aus dem ', 'Der Senat setzte sich aus 24 M', 'Mitglieder des Abgeordnetenhau', 'Nach der Unabhängigkeit bestan', 'Nach der Verfassungsänderung v']\n",
      "Successfully wrote ../../../data/raw/de_Königreich_Libyen.txt\n",
      "\n",
      "Found 37 paragraphs for https://en.wikipedia.org/wiki/Kingdom_of_Libya : ['', 'The Kingdom of Libya (Arabic: ', 'Under the constitution of Octo', 'The Constitution was drafted u', 'Several factors, rooted in Lib', 'When a group of young officers', 'In its foreign policy, the Kin', 'The government was in close al', 'In 1953, Libya concluded a twe', 'As part of a broad assistance ', 'This situation changed suddenl', 'As development of petroleum re', 'In regional affairs, Libya enj', 'Nevertheless, the brand of Ara', 'In response to anti-Western ag', 'The June 1967 War between Isra', 'Although Libya was clearly on ', 'The monarchy came to an end on', 'The coup pre-empted King Idris', 'In 2013 the African Union comm', 'Although the king and the crow', 'The United Kingdom of Libya wa', 'The King was defined by the co', 'The King was responsible for a', \"The Kingdom's parliament consi\", 'The Senate was made up of twen', 'Members of the House of Repres', 'Following independence until 1', 'Following a change in the cons', \"Since Muammar Gaddafi's four-d\", 'Growing support on the ground ', 'Interviewed by Al-Hayat in Apr', 'In July 2015, support to resto', 'In August 2015 a Cyrenaican fe', 'Notably, on 4 June 2015 Daniel', 'In general, growing interest i', 'Prince Mohammed el-Senussi has']\n",
      "Successfully wrote ../../../data/raw/en_Kingdom_of_Libya.txt\n",
      "\n",
      "Found 17 paragraphs for https://es.wikipedia.org/wiki/Reino_de_Libia : ['El Reino Unido de Libia, (en I', 'Después de la derrota de Itali', 'Idris as-Senussi, el emir de T', 'Tras la independencia, Libia s', 'En abril de 1955, comenzó la e', 'El 25 de abril de 1963, el sis', 'Como fue el caso de otros país', 'La monarquía llegó a su fin el', 'El golpe de Estado supuso la a', 'El Reino Unido de Libia era un', 'El rey estaba definido por la ', 'El Parlamento del reino estaba', 'El Senado estaba formado por v', 'Los miembros de la Cámara de R', 'El rey era el responsable de n', 'Después de la independencia de', 'A raíz del cambio en la Consti']\n",
      "Successfully wrote ../../../data/raw/es_Reino_de_Libia.txt\n",
      "\n",
      "Found 7 paragraphs for https://ja.wikipedia.org/wiki/%E3%83%AA%E3%83%93%E3%82%A2%E7%8E%8B%E5%9B%BD : ['リビア王国（リビアおうこく、アラビア語: المملكة ا', 'キレナイカで19世紀以降広く信仰されて勢力を強め、オスマン帝', 'リビアは16世紀以降、オスマン帝国の支配下にあったが、191', '1949年6月、後に国王となるイドリース・アッ＝サヌーシーは', '国王イドリース1世は親欧米路線を採り、基地を提供して経済援助', '1963年、リビアは連邦制を廃止し、国名もリビア王国へ変更す', '1969年9月1日、首都トリポリでムアンマル・アル＝カッザー']\n",
      "Successfully wrote ../../../data/raw/ja_リビア王国.txt\n",
      "\n",
      "Found 4 paragraphs for https://ko.wikipedia.org/wiki/%EB%A6%AC%EB%B9%84%EC%95%84_%EC%99%95%EA%B5%AD : ['', '리비아 왕국(아랍어: المملكة الليبية) 또', '', '국가원수는 사누시 왕조의 수장인 이드리스 1세(1889']\n",
      "Successfully wrote ../../../data/raw/ko_리비아_왕국.txt\n",
      "\n",
      "Found 53 paragraphs for https://ru.wikipedia.org/wiki/%D0%9A%D0%BE%D1%80%D0%BE%D0%BB%D0%B5%D0%B2%D1%81%D1%82%D0%B2%D0%BE_%D0%9B%D0%B8%D0%B2%D0%B8%D1%8F : ['Короле́вство Ли́вия, также изв', 'Королевство было конституционн', 'Конституция была разработана п', '21 ноября 1949 года Генеральна', 'Несколько факторов, уходящих к', 'В своей внешней политике Корол', 'Правительство находилось в тес', 'В 1953 году Ливия заключила дв', 'В рамках широкого пакета помощ', 'Как уже отмечалось, у короля И', '20 октября 1954 года королевск', '15 августа 1966 года специальн', 'Причиной назначения Идрисом св', 'Со своей стороны, американцы с', 'Плохая экономическая ситуация ', 'По мере развития нефтяных ресу', 'Параллельно, король принял мер', 'В региональных делах Ливия пол', 'Тем не менее, бренд панарабизм', 'В ответ на антизападную агитац', 'В западной прессе появлялись п', 'Французская газета «Монд» 27 и', 'Сторонники монархии рассчитыва', 'Шестидневная война в июне 1967', 'Хотя Ливия явно официально под', 'К апрелю 1969 года, за спиной ', 'Больной Идрис, понимая, что он', 'Организация «Свободные офицеры', 'После переворота, советские во', 'Хотя король и наследный принц ', 'Королевство Ливии было констит', 'Король был определён конституц', 'Король отвечал за назначение и', 'Парламент королевства состоял ', 'Сенат состоял из 24 членов, на', 'После внесения изменений в кон', 'Роль и место национальной арми', 'После поражения арабов в войне', 'С целью пополнения своего обра', 'Возрастающее брожение в армии,', 'В начале 1969 г. Каддафи решил', 'В ночь с 31 августа на 1 сентя', 'После обретения независимости ', 'После внесения изменений в кон', 'С тех пор как в 2011 году зако', 'Растущая поддержка на местах в', 'В 2013 году Африканский союз п', 'В интервью Аль-Хайят в апреле ', 'В июле 2015 года поддержка вос', 'В августе 2015 года Киренаикан', 'Примечательно, что 4 июня 2015', 'В целом, растущий интерес к жи', 'Принц Мухаммед признал растущи']\n",
      "Successfully wrote ../../../data/raw/ru_Королевство_Ливия.txt\n",
      "\n",
      "Found 13 paragraphs for https://zh.wikipedia.org/wiki/%E5%88%A9%E6%AF%94%E4%BA%9E%E7%8E%8B%E5%9C%8B : ['利比亞王國（阿拉伯语：المملكة الليبية）是一个', '此地在自1911年起為義大利王國的殖民地，直到二戰時的194', '於是的黎波里塔尼亞與昔蘭尼加兩區的領袖伊德里斯一世以利比亞代', '獨立後的利比亞面臨到許多挑戰。全國沒有任何一所大學且只有16', '1955年4月國內首度發現石油，進而於1959年開發出油田。', '1963年修改憲法，取消聯邦制，改為君主立憲的單一制國家，廢', '1969年8月4日，伊德里斯健康轉差，便下詔退位，自9月2日', '其政府體制為君主立憲，國會擁有立法權。而國王則有簽署批准法案', '國王為法定之國家元首及三軍統帥。所有經由國會通過的法案均需經', '國會擁有制定、修改法律之權。由全體公民選舉產生，1963年起', '全國主要是由的黎波里塔尼亞、昔蘭尼加以及费赞三個地區所組成。', '1963年取消聯邦制以後，將全國改為十個穆哈法薩（阿拉伯文：', '在王室內部，伊德里斯國王統治的方式被稱為「政權的宮廷制度」，']\n",
      "Successfully wrote ../../../data/raw/zh_利比亞王國.txt\n",
      "\n",
      "Found 4 paragraphs for https://fr.wikipedia.org/wiki/Lac_de_Cairn_Curran : ['', 'Le lac de Cairn Curran (en ang', \"C'est principalement un réserv\", 'Une centrale hydroélectrique d']\n",
      "Successfully wrote ../../../data/raw/fr_Lac_de_Cairn_Curran.txt\n",
      "\n",
      "Found 7 paragraphs for https://fr.wikipedia.org/wiki/Future_house : ['La future house (également con', 'La future house est lancée au ', 'La future house est un genre d', 'La future house est lancée au ', 'En 2013, le disc jockey néerla', 'En 2015, le musicien Diplo se ', 'Les artistes impliqués dans la']\n",
      "Successfully wrote ../../../data/raw/fr_Future_house.txt\n",
      "\n",
      "Found 6 paragraphs for https://de.wikipedia.org/wiki/Future_House : ['Future House (auch bekannt als', 'Laut dem französischen Produze', 'Die Songs Koala und Gecko von ', 'Auch im deutschen Raum gibt es', 'Future House wird mit etwa 125', 'Nennenswerte Künstler, die an ']\n",
      "Successfully wrote ../../../data/raw/de_Future_House.txt\n",
      "\n",
      "Found 9 paragraphs for https://es.wikipedia.org/wiki/Future_house : ['El future house es un subgéner', 'Además de Tchami, Oliver Helde', 'El future house se ha masifica', 'A mediados del 2013 Tchami, un', 'A fines del 2013 el DJ/product', 'Otro DJ considerado pionero de', 'En 2015 el future house alcanz', 'A diferencia del deep house, e', 'Dentro del contexto del future']\n",
      "Successfully wrote ../../../data/raw/es_Future_house.txt\n",
      "\n",
      "Found 6 paragraphs for https://ko.wikipedia.org/wiki/%ED%93%A8%EC%B2%98_%ED%95%98%EC%9A%B0%EC%8A%A4 : ['', '\"퓨처 하우스\" (Future House) 또는 \"UK', '  \"퓨처 하우스\"라는 용어는 프랑스 DJ Tchami', '  퓨처 하우스는 하우스(House) 음악의 하위 장르', '퓨처 하우스의 형태가 대중적인 형태로 변해감에 따라 퓨', 'Tony Igy - Astronomia (RetroVi']\n",
      "Successfully wrote ../../../data/raw/ko_퓨처_하우스.txt\n",
      "\n",
      "Found 9 paragraphs for https://ru.wikipedia.org/wiki/%D0%A4%D1%8C%D1%8E%D1%87%D0%B5-%D1%85%D0%B0%D1%83%D1%81 : ['Фьюче-хаус или фьючер-хаус (ан', 'Термин «future house» ввёл фра', 'По словам нидерландского продю', 'В композициях жанра за основу ', 'Высокие позиции в международны', 'Термин «Future House» сыграл б', 'Влияние фьюче-хауса на мейнстр', 'Фьюче-баунс (англ. future boun', '']\n",
      "Successfully wrote ../../../data/raw/ru_Фьюче_хаус.txt\n",
      "\n",
      "Found 4 paragraphs for https://zh.wikipedia.org/wiki/Future_house : ['未来浩室（英語：Future house）是21世纪10年代', '“未来浩室”一词的创造者是一位法国DJ，Tchami[7] ', '未来浩室是浩室音乐的子流派。这一流派的歌曲通常拥有柔和的旋律', '2014年，荷登斯（英语：Oliver Heldens）的《']\n",
      "Successfully wrote ../../../data/raw/zh_Future_house.txt\n",
      "\n",
      "Found 4 paragraphs for https://fr.wikipedia.org/wiki/Wolferschwenda : ['', 'Wolferschwenda est une commune', 'Wolferschwenda se situe au nor', 'Wolferschwenda est mentionné p']\n",
      "Successfully wrote ../../../data/raw/fr_Wolferschwenda.txt\n",
      "\n",
      "Found 8 paragraphs for https://de.wikipedia.org/wiki/Wolferschwenda : ['Wolferschwenda ist ein Ortstei', 'Wolferschwenda liegt am Rande ', 'Wolferschwenda wurde erstmals ', 'Vor der Ankunft der US-Truppen', 'Anfang Juli 1945 wurde Wolfers', 'Am 1. Januar 2021 schlossen si', 'Entwicklung der Einwohnerzahl ', 'Der Gemeinderat umfasste 6 Mit']\n",
      "Successfully wrote ../../../data/raw/de_Wolferschwenda.txt\n",
      "\n",
      "Found 2 paragraphs for https://es.wikipedia.org/wiki/Wolferschwenda : ['Wolferschwenda es un municipio', 'Se encuentra ubicado a poca di']\n",
      "Successfully wrote ../../../data/raw/es_Wolferschwenda.txt\n",
      "\n",
      "Found 2 paragraphs for https://ru.wikipedia.org/wiki/%D0%92%D0%BE%D0%BB%D1%8C%D1%84%D0%B5%D1%80%D1%88%D0%B2%D0%B5%D0%BD%D0%B4%D0%B0 : ['Вольфершвенда (нем. Wolferschw', 'Входит в состав района Кифхойз']\n",
      "Successfully wrote ../../../data/raw/ru_Вольфершвенда.txt\n",
      "\n",
      "Found 1 paragraphs for https://zh.wikipedia.org/wiki/%E6%B2%83%E5%B0%94%E5%BC%97%E6%96%BD%E6%96%87%E8%BE%BE : ['沃尔弗施文达（德語：Wolferschwenda）是德国图林']\n",
      "Successfully wrote ../../../data/raw/zh_沃尔弗施文达.txt\n",
      "\n",
      "Found 4 paragraphs for https://fr.wikipedia.org/wiki/Martin_Bergvold : ['', 'Martin Bergvold est un footbal', 'FC Copenhague', '']\n",
      "Successfully wrote ../../../data/raw/fr_Martin_Bergvold.txt\n",
      "\n",
      "Found 6 paragraphs for https://de.wikipedia.org/wiki/Martin_Bergvold : ['Martin Bergvold (* 20. Februar', 'Bergvold begann seine Karriere', 'Im Januar 2007 wechselte er zu', 'Am 9. Januar 2015 wechselte Be', 'Er spielte – meist als Kapitän', 'Nach seiner Profikarriere wurd']\n",
      "Successfully wrote ../../../data/raw/de_Martin_Bergvold.txt\n",
      "\n",
      "Found 4 paragraphs for https://ja.wikipedia.org/wiki/%E3%83%9E%E3%83%AB%E3%83%86%E3%82%A3%E3%83%B3%E3%83%BB%E3%83%99%E3%83%AB%E3%82%B0%E3%83%95%E3%82%A9%E3%83%AB%E3%83%88 : ['マルティン・ベルグフォルト（Martin Bergvold ', '2002年12月、FCコペンハーゲンでプロデビュー。', '2007年1月、セリエAのASリヴォルノ・カルチョに移籍。同', '各年代でデンマーク代表に選出されている。']\n",
      "Successfully wrote ../../../data/raw/ja_マルティン_ベルグフォルト.txt\n",
      "\n",
      "Found 4 paragraphs for https://ru.wikipedia.org/wiki/%D0%91%D0%B5%D1%80%D0%B3%D0%B2%D0%BE%D0%BB%D0%BB%D1%8C,_%D0%9C%D0%B0%D1%80%D1%82%D0%B8%D0%BD : ['Ма́ртин Бе́ргволль (дат. Marti', 'Мартин Бергволль начал карьеру', 'В сезоне 2005/2006 Бергволль б', 'В январе 2007 года Бергволль п']\n",
      "Successfully wrote ../../../data/raw/ru_Бергволль__Мартин.txt\n",
      "\n",
      "Found 18 paragraphs for https://fr.wikipedia.org/wiki/Robert_Ch%C3%A9ramy : ['Robert Chéramy, né le 31 janvi', 'Il dirige le Syndicat national', \"Robert Chéramy est fils d'Andr\", \"Issu d'un milieu très populair\", 'À partir de 1943, il enseigne ', \"C'est de cette période que dat\", \"Lauréat de l'agrégation d'hist\", \"Partisan du passage à l'autono\", 'En 1952, cependant, les milita', 'En 1954, cependant, les milita', 'Comme pour beaucoup de trotski', 'En 1962, il devient secrétaire', 'Il est alors tenu pour respons', 'En 1968, il est chargé de repr', 'En 1971, il adhère au nouveau ', \"Celui-ci l'appelle dans son éq\", 'Ses obsèques ont lieu le 24 ao', '']\n",
      "Successfully wrote ../../../data/raw/fr_Robert_Chéramy.txt\n",
      "\n"
     ]
    },
    {
     "name": "stderr",
     "output_type": "stream",
     "text": [
      "2024-05-05 11:04:43,982 - ERROR - Timeout when trying to find interlanguage links for https://fr.wikipedia.org/wiki/Robert_Ch%C3%A9ramy\n"
     ]
    },
    {
     "name": "stdout",
     "output_type": "stream",
     "text": [
      "Found 11 paragraphs for https://fr.wikipedia.org/wiki/Albert_Chavaz : ['Albert Chavaz, né le 6 décembr', \"Albert Chavaz, fils d'Alphonse\", 'Dans les années 1930, il devie', 'Grâce à une bourse, dès 1933, ', 'Il réalise, dans toute la Suis', 'En 1957, une grande rétrospect', 'Il perd son épouse en 1977. Un', 'Albert Chavaz appartient, avec', 'Pour célébrer le 100e annivers', 'En 2018, la famille et les ami', \"Une sélection d'œuvres d'Alber\"]\n",
      "Successfully wrote ../../../data/raw/fr_Albert_Chavaz.txt\n",
      "\n"
     ]
    },
    {
     "name": "stderr",
     "output_type": "stream",
     "text": [
      "2024-05-05 11:05:15,187 - ERROR - Timeout when trying to find interlanguage links for https://fr.wikipedia.org/wiki/Albert_Chavaz\n"
     ]
    },
    {
     "name": "stdout",
     "output_type": "stream",
     "text": [
      "Found 10 paragraphs for https://fr.wikipedia.org/wiki/Andr%C3%A9_de_La_Franquerie : ['André Lesage (de son nom de pl', \"Fils d'Henri Lesage, docteur e\", \"Il prend l'habitude d'adjoindr\", 'En 1926, il est nommé rédacteu', \"Durant l'année 1939, il se voi\", 'Dès son premier ouvrage, il ex', 'Il attribue également beaucoup', 'Il lance également des accusat', 'Croyant au canular de Taxil, i', '']\n",
      "Successfully wrote ../../../data/raw/fr_André_de_La_Franquerie.txt\n",
      "\n",
      "Found 2 paragraphs for https://es.wikipedia.org/wiki/Marqu%C3%A9s_de_la_Franquerie : ['El marqués André Le Sage de La', 'En 1926, fue nombrado redactor']\n",
      "Successfully wrote ../../../data/raw/es_Marqués_de_la_Franquerie.txt\n",
      "\n",
      "Found 13 paragraphs for https://fr.wikipedia.org/wiki/Tunnel_Wilbur-Wright : ['Le tunnel Wilbur-Wright ou le ', 'Il est situé au cœur de la vie', 'Le tunnel a été construit au x', 'Ce tunnel est ouvert aux voitu', 'Il comprend une chaussée à deu', 'Les flancs sont parcourus par ', 'Il porte le nom de Wilbur Wrig', \"L'idée première est de creuser\", 'Le 14 novembre 1865, les élus ', \"Alors qu'il fallait autrefois \", 'En deux ans, le directeur de r', 'Les travaux sont interrompus p', '']\n",
      "Successfully wrote ../../../data/raw/fr_Tunnel_Wilbur_Wright.txt\n",
      "\n"
     ]
    },
    {
     "name": "stderr",
     "output_type": "stream",
     "text": [
      "2024-05-05 11:05:47,399 - ERROR - Timeout when trying to find interlanguage links for https://fr.wikipedia.org/wiki/Tunnel_Wilbur-Wright\n"
     ]
    },
    {
     "name": "stdout",
     "output_type": "stream",
     "text": [
      "Found 3 paragraphs for https://fr.wikipedia.org/wiki/La_Chambre_rouge,_%C3%89tretat : ['La Chambre rouge, Étretat est ', \"L'œuvre a été peinte à partir \", '']\n",
      "Successfully wrote ../../../data/raw/fr_La_Chambre_rouge__Étretat.txt\n",
      "\n"
     ]
    },
    {
     "name": "stderr",
     "output_type": "stream",
     "text": [
      "2024-05-05 11:06:18,360 - ERROR - Timeout when trying to find interlanguage links for https://fr.wikipedia.org/wiki/La_Chambre_rouge,_%C3%89tretat\n"
     ]
    },
    {
     "name": "stdout",
     "output_type": "stream",
     "text": [
      "Found 11 paragraphs for https://fr.wikipedia.org/wiki/Famille_de_Sars : ['La famille de Sars est une fam', 'Grâce aux travaux et publicati', 'La généalogie évoquée précédem', 'Les hautes charges que plusieu', 'La famille de Sars est devenue', 'Aujourd’hui 4 branches subsist', 'Armes: \"d\\'or à la bande de gue', 'La forme primitive \"d\\'or à la ', 'Couronne : depuis le xviiie si', 'Supports: deux lions d’or, lam', 'Devise: Honor et libertas.']\n",
      "Successfully wrote ../../../data/raw/fr_Famille_de_Sars.txt\n",
      "\n"
     ]
    },
    {
     "name": "stderr",
     "output_type": "stream",
     "text": [
      "2024-05-05 11:06:49,073 - ERROR - Timeout when trying to find interlanguage links for https://fr.wikipedia.org/wiki/Famille_de_Sars\n"
     ]
    },
    {
     "name": "stdout",
     "output_type": "stream",
     "text": [
      "Found 8 paragraphs for https://fr.wikipedia.org/wiki/Ch%C3%A2teau_des_Charmilles : ['', 'Le château des Charmilles est ', 'Le château est situé dans la R', 'Le château a été construit au ', 'En 1933, la famille Costa de B', 'En 2005, le lycée des Charmill', 'En 2016, dans le cadre d’une é', 'Le château, qui date du xixe s']\n",
      "Successfully wrote ../../../data/raw/fr_Château_des_Charmilles.txt\n",
      "\n"
     ]
    },
    {
     "name": "stderr",
     "output_type": "stream",
     "text": [
      "2024-05-05 11:07:19,967 - ERROR - Timeout when trying to find interlanguage links for https://fr.wikipedia.org/wiki/Ch%C3%A2teau_des_Charmilles\n"
     ]
    },
    {
     "name": "stdout",
     "output_type": "stream",
     "text": [
      "Found 15 paragraphs for https://de.wikipedia.org/wiki/Die_Hand_an_der_Wiege : ['Die Hand an der Wiege (Origina', 'Die junge Claire Bartel, verhe', 'Sechs Monate später (Claire ha', 'Zunächst stillt Kindermädchen ', 'Die Bartels haben Solomon, ein', 'Eines Tages soll Claire einen ', 'Michael verzeiht Claire ihre v', 'Fortan verbringt Michael viel ', 'Bei einem Spaziergang mit Joe ', 'Unterdessen erfährt Immobilien', 'Als Claire nach Hause kommt, f', 'Zu Hause angekommen, schlägt C', 'Das Lexikon des internationale', 'Cinema empfand den Film als „t', 'Prisma bezeichnete den Film al']\n",
      "Successfully wrote ../../../data/raw/de_Die_Hand_an_der_Wiege.txt\n",
      "\n",
      "Found 24 paragraphs for https://es.wikipedia.org/wiki/La_mano_que_mece_la_cuna : ['La mano que mece la cuna (Títu', 'La película cuenta la historia', 'Estrenada en salas de cine el ', 'La mano que mece la cuna se la', 'Claire Bartel es una mujer asm', 'Seis meses más tarde, tras dar', 'Peyton se gana la confianza de', 'Un día, Salomón descubre que P', 'Marlene Craven es una empleada', 'Más tarde, a Marlene le encarg', 'Marlene llega a la casa y es r', 'Mientras Claire está en el hos', 'Cuando Claire sale del hospita', 'Al llegar a casa, Claire reacc', 'Claire está muy agradecida con', 'La mano que mece la cuna se or', 'En agosto de 1990, se informó ', 'Los lugares de rodaje fueron I', 'La mano que mece la cuna se es', 'El sitio web del agregador de ', 'Gene Siskel declaró que tuvo p', 'Vincent Canby del The New York', 'Rita Kempley del The Washingto', 'El argumento general de la pel']\n",
      "Successfully wrote ../../../data/raw/es_La_mano_que_mece_la_cuna.txt\n",
      "\n",
      "Found 4 paragraphs for https://ja.wikipedia.org/wiki/%E3%82%86%E3%82%8A%E3%81%8B%E3%81%94%E3%82%92%E6%8F%BA%E3%82%89%E3%81%99%E6%89%8B : ['『ゆりかごを揺らす手』（ゆりかごをゆらすて、原題：The H', '2人目の子供を妊娠したクレアは産婦人科医のモットの診察を受け', 'クレアはその事を知った夫マイケルに薦められてモットを告訴。す', '6か月後、モットの妻はペイトンというベビーシッターとしてクレ']\n",
      "Successfully wrote ../../../data/raw/ja_ゆりかごを揺らす手.txt\n",
      "\n",
      "Found 2 paragraphs for https://ko.wikipedia.org/wiki/%EC%9A%94%EB%9E%8C%EC%9D%84_%ED%9D%94%EB%93%9C%EB%8A%94_%EC%86%90_(1992%EB%85%84_%EC%98%81%ED%99%94) : ['', '《요람을 흔드는 손》(The Hand That Rock']\n",
      "Successfully wrote ../../../data/raw/ko_요람을_흔드는_손__1992년_영화_.txt\n",
      "\n",
      "Found 3 paragraphs for https://ru.wikipedia.org/wiki/%D0%A0%D1%83%D0%BA%D0%B0,_%D0%BA%D0%B0%D1%87%D0%B0%D1%8E%D1%89%D0%B0%D1%8F_%D0%BA%D0%BE%D0%BB%D1%8B%D0%B1%D0%B5%D0%BB%D1%8C : ['«Рука, качающая колыбель» (анг', 'Название фильма взято из англи', 'Клер Бартел — деловая женщина,']\n",
      "Successfully wrote ../../../data/raw/ru_Рука__качающая_колыбель.txt\n",
      "\n",
      "Found 5 paragraphs for https://de.wikipedia.org/wiki/Akunnaaq_(Ilulissat) : ['', 'Akunnaaq [aˌkuˈnːɑːq] (nach al', 'Akunnaaq liegt am Nordufer des', 'Die erste Erwähnung des Wohnpl', '1915 hatte der zur Gemeinde Qe']\n",
      "Successfully wrote ../../../data/raw/de_Akunnaaq__Ilulissat_.txt\n",
      "\n"
     ]
    },
    {
     "name": "stderr",
     "output_type": "stream",
     "text": [
      "2024-05-05 11:07:54,919 - ERROR - Timeout when trying to find interlanguage links for https://de.wikipedia.org/wiki/Akunnaaq_(Ilulissat)\n"
     ]
    },
    {
     "name": "stdout",
     "output_type": "stream",
     "text": [
      "Found 2 paragraphs for https://de.wikipedia.org/wiki/Yoshimi_(Saitama) : ['Yoshimi (jap. 吉見町, -machi) ist', 'Yoshimi liegt westlich von Kon']\n",
      "Successfully wrote ../../../data/raw/de_Yoshimi__Saitama_.txt\n",
      "\n",
      "Found 4 paragraphs for https://es.wikipedia.org/wiki/Yoshimi_(Saitama) : ['Yoshimi (吉見町 Yoshimi-machi?) e', 'Yoshimi está localizado en el ', 'Las villas de Higashi-Yoshimi,', 'Según los datos del censo japo']\n",
      "Successfully wrote ../../../data/raw/es_Yoshimi__Saitama_.txt\n",
      "\n",
      "Found 15 paragraphs for https://ja.wikipedia.org/wiki/%E5%90%89%E8%A6%8B%E7%94%BA : ['吉見町（よしみまち）は、埼玉県の中部に位置し、比企郡に属する', '人口は約2万人。', '町域の大部分は荒川流域の荒川低地に属し田園地帯となっている。', 'いずれの合併に関しても成立には至らず、当面は単独での町政運営', '2024年、民間の有識者らで作る人口戦略会議は、各市町村にお', '', '幼稚園・保育園', '市外局番は町内全域が「0493」。同一市外局番の地域との通話', '郵便番号は町内全域が「355-01xx」である。', '町内に鉄道路線は通っていない。最寄りは、JR東日本高崎線鴻巣', '吉見町巡回バスは、2019年3月末までに順次廃止され、デマン', '町内に事業者1社、吉見タクシーがある。営業区域は県南西部交通', '町内に国道は通っていない。', '横穴古墳群「吉見百穴（よしみ・ひゃっけつ/ひゃくあな）」があ', '高速大容量通信回線網が遅れ、東京から約50 km圏内、住宅地']\n",
      "Successfully wrote ../../../data/raw/ja_吉見町.txt\n",
      "\n",
      "Found 3 paragraphs for https://ko.wikipedia.org/wiki/%EC%9A%94%EC%8B%9C%EB%AF%B8%EC%A0%95 : ['', '요시미정 (요시미마치)(일본어: 吉見町)은 사이타마현 ', '정역의 대부분은 아라카와 강 유역의 아라카와 저지에 속']\n",
      "Successfully wrote ../../../data/raw/ko_요시미정.txt\n",
      "\n",
      "Found 4 paragraphs for https://ru.wikipedia.org/wiki/%D0%99%D0%BE%D1%81%D0%B8%D0%BC%D0%B8 : ['Йосими (яп. 吉見町 Ёсими-мати) — ', 'Посёлок расположен на острове ', 'Население посёлка составляет 1', 'Деревом посёлка считается Zelk']\n",
      "Successfully wrote ../../../data/raw/ru_Йосими.txt\n",
      "\n",
      "Found 1 paragraphs for https://zh.wikipedia.org/wiki/%E5%90%89%E8%A6%8B%E7%94%BA : ['吉見町（日语：吉見町／よしみまち Yoshimi machi']\n",
      "Successfully wrote ../../../data/raw/zh_吉見町.txt\n",
      "\n",
      "Found 3 paragraphs for https://de.wikipedia.org/wiki/Hlam : ['Der Hlam ist mit 461 m. i. J. ', 'Der flach ausgeprägte Gipfel l', 'Auf den Hlam führen Wanderwege']\n",
      "Successfully wrote ../../../data/raw/de_Hlam.txt\n",
      "\n",
      "Found 4 paragraphs for https://de.wikipedia.org/wiki/F%C3%A9d%C3%A9ration_B%C3%A9ninoise_de_Basket-ball : ['Fédération Béninoise de Basket', 'Der Verband mit Sitz in Cotono', 'Die FBBB wird im Herrensport i', 'Zum Ende der Spielzeit 2003/20']\n",
      "Successfully wrote ../../../data/raw/de_Fédération_Béninoise_de_Basket_ball.txt\n",
      "\n",
      "Found 8 paragraphs for https://de.wikipedia.org/wiki/Hermann_Ludwig_Dryander : ['Hermann Ludwig Dryander (* 22.', 'Dryander entstammte einer alte', 'Hermann Ludwig war der älteste', 'Dryander besuchte das Pädagogi', 'Dryander wurde zunächst als Le', 'Im Oktober 1858 erkrankte er s', 'Hermann Ludwig Dryander starb ', 'Hermann Ludwig Dryander heirat']\n",
      "Successfully wrote ../../../data/raw/de_Hermann_Ludwig_Dryander.txt\n",
      "\n"
     ]
    },
    {
     "name": "stderr",
     "output_type": "stream",
     "text": [
      "2024-05-05 11:08:36,519 - ERROR - Timeout when trying to find interlanguage links for https://de.wikipedia.org/wiki/Hermann_Ludwig_Dryander\n"
     ]
    },
    {
     "name": "stdout",
     "output_type": "stream",
     "text": [
      "Found 4 paragraphs for https://de.wikipedia.org/wiki/Sesvennah%C3%BCtte : ['', 'Die Sesvennahütte ist eine Sch', 'Die Sesvennahütte wurde 1980 v', 'Die Sesvennahütte wird von vie']\n",
      "Successfully wrote ../../../data/raw/de_Sesvennahütte.txt\n",
      "\n"
     ]
    },
    {
     "name": "stderr",
     "output_type": "stream",
     "text": [
      "2024-05-05 11:09:08,175 - ERROR - Timeout when trying to find interlanguage links for https://de.wikipedia.org/wiki/Sesvennah%C3%BCtte\n"
     ]
    },
    {
     "name": "stdout",
     "output_type": "stream",
     "text": [
      "Found 17 paragraphs for https://de.wikipedia.org/wiki/Naatje_van_de_Dam : ['Naatje van de Dam (offiziell D', 'Im Zuge der Belgischen Revolut', 'Ab 1846, 15 Jahre nach diesem ', 'Schon vor der Errichtung des D', 'Ein Grund für die Teilung der ', 'Zunächst war geplant, ein groß', 'Die Figur wurde von dem flämis', 'Offiziell hieß das Monument De', 'Schon im ersten Winter wurde d', '1913 beschloss der Stadtrat vo', 'Auch gab es ein populäres Lied', 'Die Überreste der Figur wurden', 'Während der Besetzung der Nied', 'Anlässlich des 500. Geburtstag', 'Zum 700. Geburtstag der Stadt ', 'Ab 1947 befand sich an der Ste', 'Koordinaten: 52° 22′ 22,07″ N,']\n",
      "Successfully wrote ../../../data/raw/de_Naatje_van_de_Dam.txt\n",
      "\n",
      "Found 6 paragraphs for https://de.wikipedia.org/wiki/Terry_Sue-Patt : ['Terry Sue-Patt (* 29. Septembe', 'Terry Sue-Patt begann in der S', 'Nach seinem Ausscheiden aus Gr', 'Bei einem Verkehrsunfall, bei ', 'Terry Sue-Patt war ein talenti', 'Terry Sue-Patt wurde am 22. Ma']\n",
      "Successfully wrote ../../../data/raw/de_Terry_Sue_Patt.txt\n",
      "\n",
      "Found 6 paragraphs for https://de.wikipedia.org/wiki/Schwartz-Menge : ['Bei Wahlen ist die Schwartz-Me', 'Eine Schwartz-Menge bietet ein', 'Die Schwartz-Menge ist immer e', 'A schlägt B, B schlägt C und A', 'Die Schwartz-Menge kann mit de', 'Ein Wahlmodus erfüllt das Schw']\n",
      "Successfully wrote ../../../data/raw/de_Schwartz_Menge.txt\n",
      "\n",
      "Found 1 paragraphs for https://de.wikipedia.org/wiki/Nobelpreis_f%C3%BCr_Literatur_1901 : ['Für den Nobelpreis für Literat']\n",
      "Successfully wrote ../../../data/raw/de_Nobelpreis_für_Literatur_1901.txt\n",
      "\n",
      "Found 10 paragraphs for https://de.wikipedia.org/wiki/Aremonie : ['Die Aremonie (Aremonia agrimon', 'Die Aremonie wächst als sommer', 'Die Laubblätter befinden sich ', 'Die Blütezeit erstreckt sich v', 'Dier Frucht enthält ein, selte', 'Die Chromosomenzahl ist 2n = 4', 'Bei Aremonia agrimonoides hand', 'Die Aremonie ist eine ostsubme', 'Sie besiedelt in Mitteleuropa ', 'Sie ist in der Roten Liste der']\n",
      "Successfully wrote ../../../data/raw/de_Aremonie.txt\n",
      "\n",
      "Found 5 paragraphs for https://de.wikipedia.org/wiki/Kommunanz_Capriasca/Lugaggia : ['Die Comunanza Capriasca/Lugagg', 'Das ca. 0,75 Quadratkilometer ', 'Das meist unbewohnte subalpine', 'Die Kommunanz Capriasca/Lugagg', 'Mit der Fusion der Gemeinden B']\n",
      "Successfully wrote ../../../data/raw/de_Lugaggia.txt\n",
      "\n",
      "Found 7 paragraphs for https://de.wikipedia.org/wiki/Mitsubishi-Jartazi : ['Mitsubishi-Jartazi war ein est', 'Jartazi wurde 2004 gegründet. ', 'Die Mannschaft wurde zum Ende ', 'Anmerkung: Jurgen Beeckman\\nAnm', 'UCI-Weltrangliste', 'UCI Africa Tour', 'UCI Europe Tour']\n",
      "Successfully wrote ../../../data/raw/de_Mitsubishi_Jartazi.txt\n",
      "\n",
      "Found 1 paragraphs for https://de.wikipedia.org/wiki/Liste_der_Auslandsvertretungen_Pakistans : ['Dies ist eine Liste der diplom']\n",
      "Successfully wrote ../../../data/raw/de_Liste_der_Auslandsvertretungen_Pakistans.txt\n",
      "\n",
      "Found 2 paragraphs for https://es.wikipedia.org/wiki/Anexo:Misiones_diplom%C3%A1ticas_de_Pakist%C3%A1n : ['Abajo se encuentra las embajad', '']\n",
      "Successfully wrote ../../../data/raw/es_Misiones_diplomáticas_de_Pakistán.txt\n",
      "\n",
      "Found 2 paragraphs for https://ko.wikipedia.org/wiki/%ED%8C%8C%ED%82%A4%EC%8A%A4%ED%83%84%EC%9D%98_%EC%9E%AC%EC%99%B8%EA%B3%B5%EA%B4%80_%EB%AA%A9%EB%A1%9D : ['', '파키스탄의 재외공관 목록은 파키스탄 주재 대사관과 고등']\n",
      "Successfully wrote ../../../data/raw/ko_파키스탄의_재외공관_목록.txt\n",
      "\n",
      "Found 1 paragraphs for https://ru.wikipedia.org/wiki/%D0%A1%D0%BF%D0%B8%D1%81%D0%BE%D0%BA_%D0%B4%D0%B8%D0%BF%D0%BB%D0%BE%D0%BC%D0%B0%D1%82%D0%B8%D1%87%D0%B5%D1%81%D0%BA%D0%B8%D1%85_%D0%BC%D0%B8%D1%81%D1%81%D0%B8%D0%B9_%D0%9F%D0%B0%D0%BA%D0%B8%D1%81%D1%82%D0%B0%D0%BD%D0%B0 : ['Список дипломатических миссий ']\n",
      "Successfully wrote ../../../data/raw/ru_Список_дипломатических_миссий_Пакистана.txt\n",
      "\n",
      "Found 3 paragraphs for https://de.wikipedia.org/wiki/Burg_Blumegg : ['Die Burg Blumegg ist die Ruine', 'Die Burg liegt auf einer isoli', 'Die Burg wurde wahrscheinlich ']\n",
      "Successfully wrote ../../../data/raw/de_Burg_Blumegg.txt\n",
      "\n",
      "Found 9 paragraphs for https://de.wikipedia.org/wiki/Space_Invader : ['Space Invader ist das am 16. A', 'Frehley hatte 2002 zum zweiten', '2013 schloss Frehley einen Pla', 'Am 3. Juni 2014 wurde die Sing', 'Space Invader avancierte in de', 'Das deutsche Magazin Rocks sch', 'Classic Rock meinte, das Album', 'Das US-amerikanische Magazin R', 'Die Münchener Abendzeitung mac']\n",
      "Successfully wrote ../../../data/raw/de_Space_Invader.txt\n",
      "\n",
      "Found 6 paragraphs for https://es.wikipedia.org/wiki/Space_Invader : ['Space Invader es el quinto álb', 'La portada del disco la creó K', 'Cara 1', 'Cara 2', 'Cara 3', 'Cara 4 (Bonus Tracks)']\n",
      "Successfully wrote ../../../data/raw/es_Space_Invader.txt\n",
      "\n",
      "Found 3 paragraphs for https://ko.wikipedia.org/wiki/Space_Invader_(%EC%9D%8C%EB%B0%98) : ['', '《Space Invader》는 2014년에 발매된 에이', '전체 작사·작곡: Ace Frehley, except ']\n",
      "Successfully wrote ../../../data/raw/ko_Space_Invader__음반_.txt\n",
      "\n",
      "Found 15 paragraphs for https://de.wikipedia.org/wiki/Illusion_oder_Wirklichkeit%3F : ['Illusion oder Wirklichkeit (Or', 'Die Enterprise entdeckt bei ei', 'Plötzlich enttarnt sich ein ro', 'Plötzlich erscheint in der Lee', 'Einige Elemente aus dieser Fol', 'Der Originaltitel Where Silenc', 'Winrich Kolbe war hier erstmal', 'Ernst Boen übernahm kurzfristi', 'Diese Folge wurde ausschließli', 'Die Musik während der Kampfübu', 'Bei dem Musikstück, das Picard', 'The A.V. Club verglich die Epi', 'Keith DeCandido bewertete Illu', 'Derek Draven führte Illusion o', '1995 wurden etwa 35 Minuten vo']\n",
      "Successfully wrote ../../../data/raw/de_Illusion_oder_Wirklichkeit_.txt\n",
      "\n",
      "Found 2 paragraphs for https://de.wikipedia.org/wiki/Fritz_Strohmeyer : ['Fritz Georg Walther Strohmeyer', 'Fritz Strohmeyer wurde 1892 in']\n",
      "Successfully wrote ../../../data/raw/de_Fritz_Strohmeyer.txt\n",
      "\n"
     ]
    },
    {
     "name": "stderr",
     "output_type": "stream",
     "text": [
      "2024-05-05 11:09:55,610 - ERROR - Timeout when trying to find interlanguage links for https://de.wikipedia.org/wiki/Fritz_Strohmeyer\n"
     ]
    },
    {
     "name": "stdout",
     "output_type": "stream",
     "text": [
      "Found 1 paragraphs for https://de.wikipedia.org/wiki/Gisele : ['Gisele oder Gisèle ist ein wei']\n",
      "Successfully wrote ../../../data/raw/de_Gisele.txt\n",
      "\n",
      "Found 3 paragraphs for https://de.wikipedia.org/wiki/Alexander_Malta : ['Alexander Malta (* 28. Septemb', 'Nach der Matura an der Kantons', 'Er war der jüngere Bruder von ']\n",
      "Successfully wrote ../../../data/raw/de_Alexander_Malta.txt\n",
      "\n",
      "Found 4 paragraphs for https://es.wikipedia.org/wiki/Municipio_de_Washington_(condado_de_Lycoming,_Pensilvania) : ['El municipio de Washington (en', 'El municipio de Washington se ', 'Según la Oficina del Censo en ', '']\n",
      "Successfully wrote ../../../data/raw/es_Municipio_de_Washington__condado_de_Lycoming__Pensilvania_.txt\n",
      "\n",
      "Found 5 paragraphs for https://es.wikipedia.org/wiki/Manuel_Rocha_D%C3%ADaz : ['Manuel Rocha Díaz (Ciudad de M', 'En 1960 hizo una residencia de', 'En 1980 se casó por segunda ve', 'En 1988 se convirtió en un aca', 'Uno de sus hijos es Mauricio R']\n",
      "Successfully wrote ../../../data/raw/es_Manuel_Rocha_Díaz.txt\n",
      "\n",
      "Found 1 paragraphs for https://es.wikipedia.org/wiki/Laberg_(Salangen) : ['Laberg o Laberget es un pueblo']\n",
      "Successfully wrote ../../../data/raw/es_Laberg__Salangen_.txt\n",
      "\n",
      "Found 6 paragraphs for https://es.wikipedia.org/wiki/Nicetas_Orifas : ['Nicetas Orifas (en griego: Νικ', 'Nada se sabe de su juventud. H', 'Más tarde, fue nombrado para u', 'Aunque había alcanzado altos c', 'En 869, Orifas mandó la flota ', 'En torno al 873, Nicetas derro']\n",
      "Successfully wrote ../../../data/raw/es_Nicetas_Orifas.txt\n",
      "\n",
      "Found 8 paragraphs for https://ru.wikipedia.org/wiki/%D0%9D%D0%B8%D0%BA%D0%B8%D1%82%D0%B0_%D0%9E%D0%BE%D1%80%D0%B8%D1%84%D0%B0 : ['Никита Оорифа (Никитас Оорифас', 'Нет информации о молодости Ник', 'Никита Оорифа впервые упоминае', 'В этой должности возглавляя фл', 'Несмотря на то, что Никита Оор', 'В 869 году Никита Оорифа отпра', 'В 873 году Никита Оорифа разби', 'Впоследствии Никита Оорифа про']\n",
      "Successfully wrote ../../../data/raw/ru_Никита_Оорифа.txt\n",
      "\n",
      "Found 7 paragraphs for https://es.wikipedia.org/wiki/Forces_of_Nature : ['Forces of Nature (título en es', 'A unos pocos días de su boda e', 'Ben no se lo piensa dos veces ', 'De forma inexorable, las fuerz', 'Se rodó entre el 23 de junio y', 'Según la página de Internet Ro', 'Estrenada en 2.058 cines estad']\n",
      "Successfully wrote ../../../data/raw/es_Forces_of_Nature.txt\n",
      "\n",
      "Found 3 paragraphs for https://ja.wikipedia.org/wiki/%E6%81%8B%E3%81%AF%E5%B5%90%E3%81%AE%E3%82%88%E3%81%86%E3%81%AB : ['『恋は嵐のように』（原題：Forces of Nature）', '結婚を目前に、マリッジブルーに悩むライターのベン。彼はサバン', '飛行機事故をきっかけに知り合ったサラも連れてサバンナへ向かう']\n",
      "Successfully wrote ../../../data/raw/ja_恋は嵐のように.txt\n",
      "\n",
      "Found 3 paragraphs for https://ko.wikipedia.org/wiki/%ED%8F%AC%EC%8A%A4_%EC%98%A4%EB%B8%8C_%EB%84%A4%EC%9D%B4%EC%B2%98_(1999%EB%85%84_%EC%98%81%ED%99%94) : ['', '포스 오브 네이처(Forces of Nature)는 1', '이틀 뒤 사바나에서 결혼식을 올릴 예비 신랑 벤(벤 애']\n",
      "Successfully wrote ../../../data/raw/ko_포스_오브_네이처__1999년_영화_.txt\n",
      "\n",
      "Found 3 paragraphs for https://ru.wikipedia.org/wiki/%D0%A1%D0%B8%D0%BB%D1%8B_%D0%BF%D1%80%D0%B8%D1%80%D0%BE%D0%B4%D1%8B_(%D1%84%D0%B8%D0%BB%D1%8C%D0%BC) : ['«Силы природы» (англ. Forces o', 'Бен летит к своей подруге, что', 'Съёмки проходили в течение тре']\n",
      "Successfully wrote ../../../data/raw/ru_Силы_природы__фильм_.txt\n",
      "\n",
      "Found 2 paragraphs for https://zh.wikipedia.org/wiki/%E8%A7%B8%E9%9B%BB%E4%B9%8B%E6%97%85 : ['《觸電之旅》（英語：Forces of Nature）是一部', '劇情講述一位即將結婚的男人，他參加了朋友為他結婚前舉辦的男士']\n",
      "Successfully wrote ../../../data/raw/zh_觸電之旅.txt\n",
      "\n",
      "Found 4 paragraphs for https://es.wikipedia.org/wiki/Dave_Hickson : ['David \"Dave\" Hickson (30 de oc', 'Hickson comenzó su carrera con', 'Se le describe como el único h', 'El 8 de julio de 2013, Hickson']\n",
      "Successfully wrote ../../../data/raw/es_Dave_Hickson.txt\n",
      "\n",
      "Found 2 paragraphs for https://es.wikipedia.org/wiki/Anexo:M%C3%A1ximos_goleadores_de_la_Primera_Divisi%C3%B3n_de_B%C3%A9lgica : ['La siguiente es la lista de má', 'Jules Van Craen y Arthur Ceule']\n",
      "Successfully wrote ../../../data/raw/es_Máximos_goleadores_de_la_Primera_División_de_Bélgica.txt\n",
      "\n",
      "Found 2 paragraphs for https://ru.wikipedia.org/wiki/%D0%9B%D1%83%D1%87%D1%88%D0%B8%D0%B5_%D0%B1%D0%BE%D0%BC%D0%B1%D0%B0%D1%80%D0%B4%D0%B8%D1%80%D1%8B_%D1%87%D0%B5%D0%BC%D0%BF%D0%B8%D0%BE%D0%BD%D0%B0%D1%82%D0%B0_%D0%91%D0%B5%D0%BB%D1%8C%D0%B3%D0%B8%D0%B8_%D0%BF%D0%BE_%D1%84%D1%83%D1%82%D0%B1%D0%BE%D0%BB%D1%83 : ['Лу́чшие бомбарди́ры чемпиона́т', 'Самым успешным футболистом явл']\n",
      "Successfully wrote ../../../data/raw/ru_Лучшие_бомбардиры_чемпионата_Бельгии_по_футболу.txt\n",
      "\n",
      "Found 3 paragraphs for https://es.wikipedia.org/wiki/Anexo:Asteroides_(341001)%E2%80%93(342000) : ['En las siguientes tablas se en', '', '']\n",
      "Successfully wrote ../../../data/raw/es_Asteroides__341001___342000_.txt\n",
      "\n",
      "Found 0 paragraphs for https://zh.wikipedia.org/wiki/%E5%B0%8F%E8%A1%8C%E6%98%9F%E5%88%97%E8%A1%A8/341001-342000 : []\n",
      "Found 4 paragraphs for https://es.wikipedia.org/wiki/Sol_cenital : ['Se denomina sol cenital a la p', 'Para saber los días de sol cen', 'Debido al hecho de que en la z', '']\n",
      "Successfully wrote ../../../data/raw/es_Sol_cenital.txt\n",
      "\n",
      "Found 8 paragraphs for https://es.wikipedia.org/wiki/Fleetwings_BQ-2 : ['El Fleetwings BQ-2 fue uno de ', 'El desarrollo del BQ-2 comenzó', 'El BQ-2 podía ser pilotado opc', 'Los motores XO-435 fueron elim', 'Después de realizarse pruebas ', 'Referencia datos: Parsch 20052', '', '']\n",
      "Successfully wrote ../../../data/raw/es_Fleetwings_BQ_2.txt\n",
      "\n",
      "Found 5 paragraphs for https://zh.wikipedia.org/wiki/BQ-2%E9%A3%9B%E8%A1%8C%E7%82%B8%E5%BD%88 : ['Fleetwings BQ-2是一款由Fleetwings研', 'BQ-2的開發始於1942年7月10日，該計畫是在當年3月啟', 'BQ-2採用兩具兩具萊康明XO-435水平對置活塞發動機，並', '在完工之前，XBQ-2的發動機改成萊康明R-680星形發動機', '在使用PQ-12靶機進行基於電視指令誘導的試驗後，XBQ-2']\n",
      "Successfully wrote ../../../data/raw/zh_BQ_2飛行炸彈.txt\n",
      "\n",
      "Found 3 paragraphs for https://es.wikipedia.org/wiki/Campeonato_Europeo_de_Judo_de_2020 : ['El LXVIII Campeonato Europeo d', 'Las competiciones se realizaro', '']\n",
      "Successfully wrote ../../../data/raw/es_Campeonato_Europeo_de_Judo_de_2020.txt\n",
      "\n",
      "Found 3 paragraphs for https://ru.wikipedia.org/wiki/%D0%A7%D0%B5%D0%BC%D0%BF%D0%B8%D0%BE%D0%BD%D0%B0%D1%82_%D0%95%D0%B2%D1%80%D0%BE%D0%BF%D1%8B_%D0%BF%D0%BE_%D0%B4%D0%B7%D1%8E%D0%B4%D0%BE_2020 : ['Чемпионат Европы по дзюдо 2020', 'Первоначально предполагалось п', '  *   Принимающая страна (Чехи']\n",
      "Successfully wrote ../../../data/raw/ru_Чемпионат_Европы_по_дзюдо_2020.txt\n",
      "\n",
      "Found 12 paragraphs for https://es.wikipedia.org/wiki/Campo_de_Santana : ['El Campo de Santana es un parq', 'Durante la Colonia, antes de l', 'El nombre del Campo de Santana', 'En sus inmediaciones se constr', 'La región fue escenario de mom', 'En 1942, la construcción de la', 'En el lado opuesto, quedan los', 'En 1873 se inició una reforma ', 'Hasta principios del siglo xx,', 'Actualmente, la plaza encuentr', 'En 1968, el Instituto Provinci', 'Existen cerca de trece estatua']\n",
      "Successfully wrote ../../../data/raw/es_Campo_de_Santana.txt\n",
      "\n",
      "Found 1 paragraphs for https://es.wikipedia.org/wiki/Adl%C3%A1n_Bisult%C3%A1nov : ['Adlán Delimbékovich Bisultánov']\n",
      "Successfully wrote ../../../data/raw/es_Adlán_Bisultánov.txt\n",
      "\n",
      "Found 2 paragraphs for https://ru.wikipedia.org/wiki/%D0%91%D0%B8%D1%81%D1%83%D0%BB%D1%82%D0%B0%D0%BD%D0%BE%D0%B2,_%D0%90%D0%B4%D0%BB%D0%B0%D0%BD_%D0%94%D0%B5%D0%BB%D0%B8%D0%BC%D0%B1%D0%B5%D0%BA%D0%BE%D0%B2%D0%B8%D1%87 : ['Адла́н Делимбе́кович Бисулта́н', 'Занимается борьбой с 12 лет. Я']\n",
      "Successfully wrote ../../../data/raw/ru_Бисултанов__Адлан_Делимбекович.txt\n",
      "\n",
      "Found 3 paragraphs for https://ja.wikipedia.org/wiki/The_KIX-S_90%27s_II_%E3%80%9CThe_BEST%E3%80%9C : [\"『The KIX-S 90's II 〜The BEST〜』\", '作詞：浜口司\\u3000作曲：安宅美春（特記以外）安宅美春・歌川和彦（', '編曲：高橋圭一・KIX-S（1,4,13,15,16）葉山た']\n",
      "Successfully wrote ../../../data/raw/ja_The_KIX_S_90_s_II__The_BEST_.txt\n",
      "\n"
     ]
    },
    {
     "name": "stderr",
     "output_type": "stream",
     "text": [
      "2024-05-05 11:10:53,941 - ERROR - Timeout when trying to find interlanguage links for https://ja.wikipedia.org/wiki/The_KIX-S_90%27s_II_%E3%80%9CThe_BEST%E3%80%9C\n"
     ]
    },
    {
     "name": "stdout",
     "output_type": "stream",
     "text": [
      "Found 25 paragraphs for https://ja.wikipedia.org/wiki/%E6%99%82%E4%BA%8B%E6%96%B0%E5%A0%B1 : ['時事新報（じじしんぽう）は、かつて存在した日本の日刊新聞であ', '現在も会社組織（株式会社時事新報社）としては存続している（後', '当初の福澤諭吉の計画では、政府の伊藤博文や井上馨の要請を受け', '結局、慶應義塾の出版局（現・慶應義塾大学出版会）は、その時、', '『時事新報』の論調は、国際情勢に関するものが多かった。福澤諭', '条約改正問題や、大阪事件、朝鮮問題が起こると、『時事新報』は', '1885年（明治18年）1月18日、「上野公園全国有志大運動', '時事新報は創刊時より「国権皇張」・「不偏不党」を掲げ、平明で', '日清戦争後の1896年（明治29年）、時事新報はロイター通信', '明治末期には、新聞業界の代表2人を選ぶ時、時事新報から1人が', 'また、1905年（明治38年）には、大阪へ進出している（以下', 'しかしその後、大正関東地震（関東大震災）による被災で、時事新', '紙勢の退調を補うために1932年（昭和7年）に鐘淵紡績社長で', 'やがてそれは「帝人事件」（昭和初期の大疑獄事件）まで引き起こ', '打開策として慶應義塾卒業生で当時大阪毎日新聞社（大毎）政治部', '合同前日には、福澤諭吉の墓前に奉告が行われている[12]。 ', '1945年（昭和20年）、GHQ占領下で日本新聞連盟などの用', '1946年（昭和21年）1月1日、戦前の時事新報で主筆を務め', '復刊当初、新興紙ブームの時流で名門復活と謳われた「時事新報」', '前田は追放解除後の1950年（昭和25年）、産業経済新聞の全', 'その後、「産経時事」は大阪本社版と題字を合わせて現在の『産経', '時事新報は、1905年（明治38年）3月15日から大阪で「大', 'その後三都合同新聞社は1940年（昭和15年）7月30日に解', '戦後1946年（昭和21年）2月1日、前田の手により復刊した', '日本経済新聞社は、戦時統制で1942年（昭和17年）に日本産']\n",
      "Successfully wrote ../../../data/raw/ja_時事新報.txt\n",
      "\n",
      "Found 17 paragraphs for https://ko.wikipedia.org/wiki/%EC%A7%80%EC%A7%80%EC%8B%A0%EB%B3%B4 : ['', '지지신보(時事新報)는 후쿠자와 유키치가 1882년 3월', '후쿠자와는 당초 정부에 몸담고 있는 이토 히로부미나 이', '지지신보의 논조는 국제 정세에 관한 것이 많았다. 후쿠', '1885년 1원 18일 오이 겐타로 일파가 이끄는 우에', '지지신보는 창간 당시부터 국권황장(国権皇張), 불편부당', '1896년 로이터 통신과 독점 계약을 체결하여 1921', '1905년 오사카에 진출했으며 메이지 말기에는 신문업계', '다이쇼 후기에서 쇼와 전기에 걸쳐 도쿄의 신문 점유율은', '1934년 1월 17일부터 무토 산지 사장이 기획한 새', '이후 게이오기주쿠 출신으로 도쿄니치니치신문의 다카이시 ', '또한 도쿄니치니치신문은 1943년 1월 1일 오사카마이', '1945년 패전으로 GHQ의 점령 하에 놓이면서 일본신', '1946년 1월 1일 전전의 지지신보에서 주필로 근무하', '복간했을 당시 신흥지 붐의 영향으로 명문 부활이라고 칭', '1950년 산케이 신문의 전국지화를 목표로 도쿄에 입성', '이후 지지신보는 오사카 본사와 제호를 맞춰 현재의 산케']\n",
      "Successfully wrote ../../../data/raw/ko_지지신보.txt\n",
      "\n",
      "Found 2 paragraphs for https://ja.wikipedia.org/wiki/%E4%B8%80%E6%A9%8B%E6%96%8E%E8%89%B6%E9%95%B7 : ['一橋斎 艶長（いっきょうさい つやなが、生没年不詳）とは、江', '歌川芳艶の門人。『浮世絵師便覧』（飯島半十郎著）によれば芳艶']\n",
      "Successfully wrote ../../../data/raw/ja_一橋斎艶長.txt\n",
      "\n"
     ]
    },
    {
     "name": "stderr",
     "output_type": "stream",
     "text": [
      "2024-05-05 11:11:27,502 - ERROR - Timeout when trying to find interlanguage links for https://ja.wikipedia.org/wiki/%E4%B8%80%E6%A9%8B%E6%96%8E%E8%89%B6%E9%95%B7\n"
     ]
    },
    {
     "name": "stdout",
     "output_type": "stream",
     "text": [
      "Found 5 paragraphs for https://ja.wikipedia.org/wiki/%E9%AB%98%E6%A9%8B%E5%A4%A7%E8%BC%94_(%E5%A3%B0%E5%84%AA) : ['高橋 大輔（たかはし だいすけ、1986年[4]2月20日[', '日本ナレーション演技研究所[4]、テアトル・エコー研究所[4', '以前はアーツビジョン、プロダクション・タンク[4]に所属して', '声種はハイバリトン。外国語は英語（イギリス・ネイティヴ通翻訳', '特技はカードマジック、カクテル作り。趣味・スポーツはゴルフ、']\n",
      "Successfully wrote ../../../data/raw/ja_高橋大輔__声優_.txt\n",
      "\n"
     ]
    },
    {
     "name": "stderr",
     "output_type": "stream",
     "text": [
      "2024-05-05 11:11:58,781 - ERROR - Timeout when trying to find interlanguage links for https://ja.wikipedia.org/wiki/%E9%AB%98%E6%A9%8B%E5%A4%A7%E8%BC%94_(%E5%A3%B0%E5%84%AA)\n"
     ]
    },
    {
     "name": "stdout",
     "output_type": "stream",
     "text": [
      "Found 6 paragraphs for https://ja.wikipedia.org/wiki/%E6%A8%AA%E5%B1%B1%E3%81%82%E3%81%95%E3%81%BF : ['横山 あさみ（よこやま あさみ、1997年6月7日 - ）は', '音楽好きの一家のもとに生まれた[3]。立教大学観光学部観光学', '2020年、鹿児島読売テレビに入社[4]。同期のアナウンサー', '趣味は、ギター・焼き鳥を食べること（特にせせり）[2]。特技', '大学時代は日テレイベントコンパニオンを務めていた。', '女優の上白石萌音、上白石萌歌は幼馴染で、クラシックバレエを習']\n",
      "Successfully wrote ../../../data/raw/ja_横山あさみ.txt\n",
      "\n"
     ]
    },
    {
     "name": "stderr",
     "output_type": "stream",
     "text": [
      "2024-05-05 11:12:30,215 - ERROR - Timeout when trying to find interlanguage links for https://ja.wikipedia.org/wiki/%E6%A8%AA%E5%B1%B1%E3%81%82%E3%81%95%E3%81%BF\n"
     ]
    },
    {
     "name": "stdout",
     "output_type": "stream",
     "text": [
      "Found 2 paragraphs for https://ja.wikipedia.org/wiki/%E9%B9%BF%E6%B1%9F%E6%AF%94%E8%B3%A3%E7%A5%9E%E7%A4%BE : ['鹿江比賣神社（鹿江比売神社）（かえひめじんじゃ）は『延喜式神', '『延喜式神名帳』阿波国板野郡に小社（国幣小社）として掲載され']\n",
      "Successfully wrote ../../../data/raw/ja_鹿江比賣神社.txt\n",
      "\n"
     ]
    },
    {
     "name": "stderr",
     "output_type": "stream",
     "text": [
      "2024-05-05 11:13:01,335 - ERROR - Timeout when trying to find interlanguage links for https://ja.wikipedia.org/wiki/%E9%B9%BF%E6%B1%9F%E6%AF%94%E8%B3%A3%E7%A5%9E%E7%A4%BE\n"
     ]
    },
    {
     "name": "stdout",
     "output_type": "stream",
     "text": [
      "Found 4 paragraphs for https://ja.wikipedia.org/wiki/%E3%81%95%E3%82%88%E3%81%AA%E3%82%89%E3%81%AE%E7%A5%88%E3%82%8A/%E6%B5%B7%E3%81%AB%E6%B2%88%E3%82%81%E3%81%A6 : ['「さよならの祈り/海に沈めて」（さよならのいのり/うみにしず', 'キャニオンレコード（当時）の邦楽第1号シングル。', '共に1970年代に最初にデビューしたジャニーズ事務所の歌手 ', '両A面シングルである。']\n",
      "Successfully wrote ../../../data/raw/ja_海に沈めて.txt\n",
      "\n"
     ]
    },
    {
     "name": "stderr",
     "output_type": "stream",
     "text": [
      "2024-05-05 11:13:32,212 - ERROR - Timeout when trying to find interlanguage links for https://ja.wikipedia.org/wiki/%E3%81%95%E3%82%88%E3%81%AA%E3%82%89%E3%81%AE%E7%A5%88%E3%82%8A/%E6%B5%B7%E3%81%AB%E6%B2%88%E3%82%81%E3%81%A6\n"
     ]
    },
    {
     "name": "stdout",
     "output_type": "stream",
     "text": [
      "Found 21 paragraphs for https://ja.wikipedia.org/wiki/%E6%97%A9%E5%B7%9D%E5%BE%B3%E6%AC%A1_(%E6%9D%B1%E4%BA%AC%E5%9C%B0%E4%B8%8B%E9%89%84%E9%81%93) : ['早川 徳次（はやかわ のりつぐ、1881年〈明治14年〉10', '山梨県東八代郡御代咲村（現在の笛吹市一宮町東新居）に生まれる', '旧制甲府中学（現在の山梨県立甲府第一高等学校）を経て第六高等', '1908年（明治41年）に早稲田大学を卒業すると、後藤が総裁', '早川が鉄道と本格的に関わるようになるのは郷里の先輩である根津', '早川は1914年（大正3年）に国際事情視察の為、欧州を訪問し', '初めは公共交通として鉄道省や自治体に建設を働きかけたものの、', '早川は東京市橋梁課の地層図を取得し、東京の軟弱な地盤は地表か', '1919年（大正8年）11月17日にはついに鉄道院から地下鉄', '1924年（大正13年）には野村龍太郎が二代社長となり、早川', 'ようやく開通した浅草駅 - 上野駅間につづき、順次路線延長を', '一方で、小林一三率いる阪神急行電鉄を手本に駅の出入口にビルを', 'さらに郊外へ伸びる他の鉄道線への乗り入れも視野に入れたりする', '早川は職員教育・福利厚生にも力を入れ、1938年（昭和13年', '東京地下鉄道は1932年から根津嘉一郎が3代社長に就任し、1', 'しかし、1940年（昭和15年）12月に東急の総帥・五島慶太', '当時の鉄道省の思惑（地下鉄の国営化を目論んでいた）も絡み、東', 'その後、故郷の山梨へ帰郷する。早川は郷里における人材育成のた', '銀座駅の日比谷線中2階の中央部に早川の胸像がある。同じ胸像が', '早川徳次は自分の娘に「いつかきっと、東京中がクモの巣のように', '荒俣宏の小説『帝都物語』には早川徳次が登場、「地下鉄の建設中']\n",
      "Successfully wrote ../../../data/raw/ja_早川徳次__東京地下鉄道_.txt\n",
      "\n",
      "Found 6 paragraphs for https://ko.wikipedia.org/wiki/%ED%95%98%EC%95%BC%EC%B9%B4%EC%99%80_%EB%85%B8%EB%A6%AC%EC%93%B0%EA%B5%AC : ['', '하야카와 노리쓰구(일본어: 早川徳次 1881년 10월 ', '야마나시현 후에후키 시에서 태어났다. 와세다 대학졸업후', '1914년 국제사정사찰의 일원으로 유럽을 방문하던중 영', '귀국한 그는 철도성및 각 지자체, 그리고 출자를 해줄 ', '하야카와의 지하철 사업성공이후 지하철 사업이 우후죽순으']\n",
      "Successfully wrote ../../../data/raw/ko_하야카와_노리쓰구.txt\n",
      "\n",
      "Found 1 paragraphs for https://ja.wikipedia.org/wiki/%E3%83%96%E3%83%A9%E3%83%83%E3%83%89%E3%83%BB%E3%82%A2%E3%83%BC%E3%83%A0%E3%82%B9%E3%83%88%E3%83%AD%E3%83%B3%E3%82%B0_(%E3%83%9D%E3%83%AB%E3%83%8E%E4%BF%B3%E5%84%AA) : ['ブラッド・アームストロング（Brad Armstrong, ']\n",
      "Successfully wrote ../../../data/raw/ja_ブラッド_アームストロング__ポルノ俳優_.txt\n",
      "\n",
      "Found 5 paragraphs for https://ru.wikipedia.org/wiki/%D0%91%D1%80%D1%8D%D0%B4_%D0%90%D1%80%D0%BC%D1%81%D1%82%D1%80%D0%BE%D0%BD%D0%B3 : ['Брэд Армстронг (англ. Brad Arm', 'Родился в Канаде. Армстронг по', 'В течение 10 лет Армстронг раб', 'В качестве актёра снялся в бол', 'Армстронг был женат три раза и']\n",
      "Successfully wrote ../../../data/raw/ru_Брэд_Армстронг.txt\n",
      "\n",
      "Found 1 paragraphs for https://zh.wikipedia.org/wiki/%E5%B8%83%E8%90%8A%E5%BE%B7%C2%B7%E9%98%BF%E5%A7%86%E6%96%AF%E5%A3%AF : ['布萊德·阿姆斯壯Rodney Hopkins（Brad Ar']\n",
      "Successfully wrote ../../../data/raw/zh_布萊德_阿姆斯壯.txt\n",
      "\n",
      "Found 5 paragraphs for https://ja.wikipedia.org/wiki/1995%E5%B9%B4%E3%81%AE%E7%A6%8F%E5%B2%A1%E3%83%80%E3%82%A4%E3%82%A8%E3%83%BC%E3%83%9B%E3%83%BC%E3%82%AF%E3%82%B9 : ['1995年の福岡ダイエーホークスでは、1995年シーズンにつ', 'この年の福岡ダイエーホークスは、王貞治監督の1年目のシーズン', '開幕前の下馬評では、前年Bクラスだったものの南海時代の197', '[1]', '[3]']\n",
      "Successfully wrote ../../../data/raw/ja_1995年の福岡ダイエーホークス.txt\n",
      "\n"
     ]
    },
    {
     "name": "stderr",
     "output_type": "stream",
     "text": [
      "2024-05-05 11:14:08,284 - ERROR - Timeout when trying to find interlanguage links for https://ja.wikipedia.org/wiki/1995%E5%B9%B4%E3%81%AE%E7%A6%8F%E5%B2%A1%E3%83%80%E3%82%A4%E3%82%A8%E3%83%BC%E3%83%9B%E3%83%BC%E3%82%AF%E3%82%B9\n"
     ]
    },
    {
     "name": "stdout",
     "output_type": "stream",
     "text": [
      "Found 8 paragraphs for https://ja.wikipedia.org/wiki/%E8%B2%AF%E8%94%B5%E5%93%81 : ['貯蔵品（ちょぞうひん、stores/supplies）は、簿', '販売目的ではなく、社内で使用するための切手（通信費）、印紙（', '建設目的で購入した資材だが、他の用途に使うかもしれないものや', '（法人税基本通達2-2-15） 消耗品費等', '(注)\\u3000この取扱いにより損金の額に算入する金額が製品の製造等', '（購入時）', '（期末時）未使用分4,000円を戻入れ', '（翌期首）振戻し']\n",
      "Successfully wrote ../../../data/raw/ja_貯蔵品.txt\n",
      "\n"
     ]
    },
    {
     "name": "stderr",
     "output_type": "stream",
     "text": [
      "2024-05-05 11:14:39,332 - ERROR - Timeout when trying to find interlanguage links for https://ja.wikipedia.org/wiki/%E8%B2%AF%E8%94%B5%E5%93%81\n"
     ]
    },
    {
     "name": "stdout",
     "output_type": "stream",
     "text": [
      "Found 36 paragraphs for https://ja.wikipedia.org/wiki/%E5%8B%98%E5%AE%9A%E7%B3%BB%E3%82%B7%E3%82%B9%E3%83%86%E3%83%A0 : ['勘定系システム（かんじょうけいシステム、英語: core b', '銀行における勘定系システムとは、狭義には預金勘定元帳を処理し', '勘定系システムは、その歴史的経緯と業務の重要性、規模の巨大さ', '勘定系システムのような、巨大な処理能力と高い信頼性が要求され', '勘定系システム開発においては、現実にはシステムベンダーがコン', '銀行におけるコンピュータの利用は極めて早く、日本では1958', '勘定系システム開発史では、しばしば実現した機能や、構築時期に', 'また、銀行以外の証券会社や、手形交換所、全銀システム、日銀ネ', '黎明期におけるシステム開発で、主に銀行本店における勘定処理の', '本店から支店に対してオンラインが展開される時期で、勘定処理の', '全銀ネットなどの外部ネットワークとの接続の必要性や、勘定処理', '運用面では、手狭な本店に設置されていたコンピュータが、郊外の', '名寄せや、世帯把握のために、顧客情報ファイル (CIF : ', '第三次オンラインシステムでは、それまでシステム化の進行が遅か', '10年ごとにシステムを全面的に刷新してきた銀行業界だが、第三', '第三次オンラインシステムの設計想定寿命が10年前後であったに', '一方で、合併対応のためにシステム更新が間に合わなかったさくら', '1996年の三菱銀行・東京銀行の合併（東京三菱銀行→現 : ', '合併期においては、優劣の開いたシステム間で統合が図られること', 'しかし、どちらの手法を取ったとしても、今までに類をみない巨大', 'また、合併対応後のシステム開発においては、もはや第三次オンラ', '地方銀行では都市銀行のように強力なシステム部門を持たないため', 'これらの動きは、地方銀行が個別にシステム部門を抱えてエンジニ', '日本の主な銀行（ここでは都市銀行、地方銀行、信託銀行、ネット', 'メガバンク（都市銀行）は、1980年代に構築したメインフレー', '都市銀行よりも規模の小さい地方銀行や店舗を持たないネット銀行', '都市銀行の勘定系システムの主要ベンダーは、1980年代の13', '都市銀行や大中規模の地方銀行などでは、システム子会社が独自に', 'システムベンダが主体となって開発された勘定系パッケージには、', 'これに対して日本IBMは、三菱UFJ銀行の地銀共同化システム', 'また複数の銀行で、システム全体または部分の共同開発、センター', 'このほか、自前で運用したシステムの保守管理を圧縮する目的で、', '加えて、ソフトウェアパッケージでの提供もあり、NTTデータの', 'なお勘定系システムに限らないが、一般的にシステムを変更する場', '勘定系パッケージやシステム共同化を、主に非基幹（中小）銀行等', '銀行を中心とした金融機関の主な勘定系パッケージやシステム共同']\n",
      "Successfully wrote ../../../data/raw/ja_勘定系システム.txt\n",
      "\n",
      "Found 13 paragraphs for https://ru.wikipedia.org/wiki/%D0%90%D0%B2%D1%82%D0%BE%D0%BC%D0%B0%D1%82%D0%B8%D0%B7%D0%B8%D1%80%D0%BE%D0%B2%D0%B0%D0%BD%D0%BD%D0%B0%D1%8F_%D0%B1%D0%B0%D0%BD%D0%BA%D0%BE%D0%B2%D1%81%D0%BA%D0%B0%D1%8F_%D1%81%D0%B8%D1%81%D1%82%D0%B5%D0%BC%D0%B0 : ['Автоматизированная банковская ', 'Gartner определяет основную ба', 'В соответствии со статьёй 4 Фе', 'Кроме того, постоянные изменен', 'Предшествовало этому длительна', 'Первыми АБС были разработанные', 'В 1991—1992 на рынок вышел Диа', 'Первые версии таких продуктов ', 'Переломным моментом в развитии', 'По состоянию на 2006 год в пят', 'Одной из целей функционировани', 'В случае принятия в кредитной ', 'Распространённой проблемой при']\n",
      "Successfully wrote ../../../data/raw/ru_Автоматизированная_банковская_система.txt\n",
      "\n",
      "Found 1 paragraphs for https://ja.wikipedia.org/wiki/%E5%BE%B3%E5%B3%B6%E7%9C%8C%E6%95%99%E8%82%B2%E4%BC%9A%E9%A4%A8 : ['徳島県教育会館（とくしまけんきょういくかいかん）は、徳島県徳']\n",
      "Successfully wrote ../../../data/raw/ja_徳島県教育会館.txt\n",
      "\n"
     ]
    },
    {
     "name": "stderr",
     "output_type": "stream",
     "text": [
      "2024-05-05 11:15:14,495 - ERROR - Timeout when trying to find interlanguage links for https://ja.wikipedia.org/wiki/%E5%BE%B3%E5%B3%B6%E7%9C%8C%E6%95%99%E8%82%B2%E4%BC%9A%E9%A4%A8\n"
     ]
    },
    {
     "name": "stdout",
     "output_type": "stream",
     "text": [
      "Found 4 paragraphs for https://ja.wikipedia.org/wiki/%E7%94%B0%E4%B8%AD%E7%9C%9F%E4%B8%80 : ['田中 真一（たなか しんいち、1994年6月8日 - ）は、', '2013年、國學院久我山高校卒業後、明治大学に入る。なお國學', '2017年、明治大学卒業後、キヤノンイーグルス(現・横浜キヤ', '2022年、リコーブラックラムズ東京に加入[8]。']\n",
      "Successfully wrote ../../../data/raw/ja_田中真一.txt\n",
      "\n"
     ]
    },
    {
     "name": "stderr",
     "output_type": "stream",
     "text": [
      "2024-05-05 11:15:45,819 - ERROR - Timeout when trying to find interlanguage links for https://ja.wikipedia.org/wiki/%E7%94%B0%E4%B8%AD%E7%9C%9F%E4%B8%80\n"
     ]
    },
    {
     "name": "stdout",
     "output_type": "stream",
     "text": [
      "Found 5 paragraphs for https://ja.wikipedia.org/wiki/%E3%83%A9%E3%82%AF%E3%82%B7%E3%83%A5%E3%83%9F%E3%83%BC%E3%83%8A%E3%83%A9%E3%82%B7%E3%83%B3%E3%83%8F%E3%83%BB%E3%83%9E%E3%83%83%E3%83%A9 : ['ラクシュミーナラシンハ・マッラ（Lakshminarasim', 'パタンを統治していた王太子ハリハラシンハ・マッラの長男として', '1619年、弟シッディナラシンハ・マッラがパタンでパタン・マ', 'ラクシュミーナラシンハは優柔不断であったため、バクタプルと組', '有能な長子プラターパ・マッラと彼を支持する勢力に王位を追われ']\n",
      "Successfully wrote ../../../data/raw/ja_ラクシュミーナラシンハ_マッラ.txt\n",
      "\n"
     ]
    },
    {
     "name": "stderr",
     "output_type": "stream",
     "text": [
      "2024-05-05 11:16:16,954 - ERROR - Timeout when trying to find interlanguage links for https://ja.wikipedia.org/wiki/%E3%83%A9%E3%82%AF%E3%82%B7%E3%83%A5%E3%83%9F%E3%83%BC%E3%83%8A%E3%83%A9%E3%82%B7%E3%83%B3%E3%83%8F%E3%83%BB%E3%83%9E%E3%83%83%E3%83%A9\n"
     ]
    },
    {
     "name": "stdout",
     "output_type": "stream",
     "text": [
      "Found 2 paragraphs for https://ja.wikipedia.org/wiki/GI%E3%82%AB%E3%82%AF%E3%83%86%E3%83%AB : ['GIカクテル(GI cocktail)は、液体制酸薬、粘性リ', '今日用いられているGIカクテルの配合には、様々なものがある。']\n",
      "Successfully wrote ../../../data/raw/ja_GIカクテル.txt\n",
      "\n",
      "Found 2 paragraphs for https://ja.wikipedia.org/wiki/%E6%81%B5%E8%B0%B7%E6%AD%A3%E9%9B%84 : ['恵谷 正雄（えや まさお）は、日本の柔道家。現役時代は86k', '近代福山高校から大東文化大学に進むと、1972年の世界学生軽']\n",
      "Successfully wrote ../../../data/raw/ja_恵谷正雄.txt\n",
      "\n",
      "Found 2 paragraphs for https://ja.wikipedia.org/wiki/%E3%82%A2%E3%83%BC%E3%83%AD%E3%83%B3%E3%83%BB%E3%82%B7%E3%83%B3%E3%82%B0%E3%83%A9%E3%83%BC : ['アーロン・シングラー（Aaron Shingler、1987', 'ラネリーRFCを経て、2008年、スカーレッツに加入[3]。']\n",
      "Successfully wrote ../../../data/raw/ja_アーロン_シングラー.txt\n",
      "\n",
      "Found 1 paragraphs for https://zh.wikipedia.org/wiki/%E9%98%BF%E9%9A%86%C2%B7%E8%BE%9B%E6%A0%BC%E5%8B%92 : ['阿隆·辛格勒（英語：Aaron Shingler；1987年']\n",
      "Successfully wrote ../../../data/raw/zh_阿隆_辛格勒.txt\n",
      "\n",
      "Found 2 paragraphs for https://ja.wikipedia.org/wiki/%E5%A4%8F%E3%81%AE%E7%8E%8B%E6%A7%98_%E3%80%9CMY_BLUE_HEAVEN%E3%80%9C : ['『夏の王様 〜MY BLUE HEAVEN〜』（なつのおうさ', '1年振りのアルバム。先行シングル「夏いまさら一目惚れ」含む全']\n",
      "Successfully wrote ../../../data/raw/ja_夏の王様__MY_BLUE_HEAVEN_.txt\n",
      "\n"
     ]
    },
    {
     "name": "stderr",
     "output_type": "stream",
     "text": [
      "2024-05-05 11:16:51,267 - ERROR - Timeout when trying to find interlanguage links for https://ja.wikipedia.org/wiki/%E5%A4%8F%E3%81%AE%E7%8E%8B%E6%A7%98_%E3%80%9CMY_BLUE_HEAVEN%E3%80%9C\n"
     ]
    },
    {
     "name": "stdout",
     "output_type": "stream",
     "text": [
      "Found 4 paragraphs for https://ja.wikipedia.org/wiki/-%E3%82%AF%E3%83%AD%E3%83%8E%E3%82%B9-_%E6%BC%86%E9%BB%92%E3%81%AE%E7%A5%9E%E8%A9%B1 : ['『-クロノス- 漆黒の神話』（-クロノス- しっこくのしんわ', '『ミステリーボニータ』（秋田書店）にて2010年2月号より不', '闇の牢獄に幽閉されたクロノス[1]と、彼に見初められたエリカ', '或る日、父の会社の取引先へ届け物を頼まれたエリカは、自分が会']\n",
      "Successfully wrote ../../../data/raw/ja__クロノス__漆黒の神話.txt\n",
      "\n"
     ]
    },
    {
     "name": "stderr",
     "output_type": "stream",
     "text": [
      "2024-05-05 11:17:22,595 - ERROR - Timeout when trying to find interlanguage links for https://ja.wikipedia.org/wiki/-%E3%82%AF%E3%83%AD%E3%83%8E%E3%82%B9-_%E6%BC%86%E9%BB%92%E3%81%AE%E7%A5%9E%E8%A9%B1\n"
     ]
    },
    {
     "name": "stdout",
     "output_type": "stream",
     "text": [
      "Found 6 paragraphs for https://ja.wikipedia.org/wiki/%E5%B9%B3%E5%AE%89%E9%80%9A%E5%AE%9D : ['平安通宝（へいあんつうほう）は、その鋳造地、時期共に確定して', '銭容は大きく分けて正様、濶縁、大様と3系統がある。', '安南銭説（中華人民共和国の上海市銭幣学会が唱えた1985年の', '遺跡からの発掘例が9例有り、内6例が東北地方に集中している。', '理化学的研究によると鉛同位体比は全て中国華南の範囲に有り、し', '江戸時代の書物『銭範』[3] によると「平安通宝安く子を生ず']\n",
      "Successfully wrote ../../../data/raw/ja_平安通宝.txt\n",
      "\n"
     ]
    },
    {
     "name": "stderr",
     "output_type": "stream",
     "text": [
      "2024-05-05 11:17:53,822 - ERROR - Timeout when trying to find interlanguage links for https://ja.wikipedia.org/wiki/%E5%B9%B3%E5%AE%89%E9%80%9A%E5%AE%9D\n"
     ]
    },
    {
     "name": "stdout",
     "output_type": "stream",
     "text": [
      "Found 11 paragraphs for https://ja.wikipedia.org/wiki/%E9%88%B4%E6%9C%A8%E5%85%89%E6%9E%9D : ['鈴木 光枝（すずき みつえ、1918年〈大正7年〉7月29日', '', '劇団文化座代表を務め、創設メンバーの一人である。', '昭和・平成期を代表する新劇女優で、晩年は新劇界の重鎮であった', '北林谷栄、初井言榮と並んで老け役としても著名。', '東京府東京市神田区（現:東京都千代田区）出身。東京市立第一高', '井上正夫に師事して井上正夫演劇道場入り[1]、1932年に『', '1942年、後に夫となる佐佐木隆、山村聡、山形勲らと劇団文化', '実年齢以上の中年女性役・老女役を多く演じ、北林谷栄、初井言榮', '2007年5月22日、老衰による心不全のため千葉県柏市の病院', '娘は佐々木愛で[1]、評伝に大笹吉雄著『女優二代 鈴木光枝と']\n",
      "Successfully wrote ../../../data/raw/ja_鈴木光枝.txt\n",
      "\n",
      "Found 3 paragraphs for https://ja.wikipedia.org/wiki/%E3%83%97%E3%83%A9%E3%83%B3%E3%83%8B%E3%83%B3%E3%82%B0%E3%83%BB%E3%83%86%E3%83%AC%E3%83%93%E3%82%B8%E3%83%A7%E3%83%B3 : ['株式会社プランニングテレビジョン（英: PlanningTe', '代表取締役社長は前田恵三。', '〒150-0042 東京都渋谷区円山町10番18号 マイキャ']\n",
      "Successfully wrote ../../../data/raw/ja_プランニング_テレビジョン.txt\n",
      "\n"
     ]
    },
    {
     "name": "stderr",
     "output_type": "stream",
     "text": [
      "2024-05-05 11:18:26,131 - ERROR - Timeout when trying to find interlanguage links for https://ja.wikipedia.org/wiki/%E3%83%97%E3%83%A9%E3%83%B3%E3%83%8B%E3%83%B3%E3%82%B0%E3%83%BB%E3%83%86%E3%83%AC%E3%83%93%E3%82%B8%E3%83%A7%E3%83%B3\n"
     ]
    },
    {
     "name": "stdout",
     "output_type": "stream",
     "text": [
      "Found 2 paragraphs for https://ja.wikipedia.org/wiki/%E5%9F%8E%E3%81%AE%E9%9F%B3 : ['城の音(しろのね)は、東京都世田谷区成城を中心に活動する合唱', '結成から60年以上経った今でも老人ホームへの慰問など、様々な']\n",
      "Successfully wrote ../../../data/raw/ja_城の音.txt\n",
      "\n"
     ]
    },
    {
     "name": "stderr",
     "output_type": "stream",
     "text": [
      "2024-05-05 11:18:57,068 - ERROR - Timeout when trying to find interlanguage links for https://ja.wikipedia.org/wiki/%E5%9F%8E%E3%81%AE%E9%9F%B3\n"
     ]
    },
    {
     "name": "stdout",
     "output_type": "stream",
     "text": [
      "Found 10 paragraphs for https://ja.wikipedia.org/wiki/%E3%83%97%E3%83%AD%E9%87%8E%E7%90%83%E3%83%AF%E3%83%BC%E3%83%AB%E3%83%89%E3%82%B9%E3%82%BF%E3%82%B8%E3%82%A2%E3%83%A0%2791 : [\"『プロ野球ワールドスタジアム'91』（プロやきゅうワールドス\", '前作『プロ野球ワールドスタジアム』（1988年）から約3年の', '前作からのブランクが長かったにもかかわらずシステム面の変更は', '本作の大きな特徴としては、PCエンジンで主流の野球ゲームとな', '球場は前作に引き続きピッカリドーム1種類のみであるが、屋根が', 'グラフィック面では、野茂英雄のトルネード投法・村田兆治のマサ', '前作まで存在したレイルウェイズ・フーズフーズの連合チームがフ', '以下は1P戦でワースタリーグ所属の13球団に勝利すると登場す', 'ゲーム誌『ファミコン通信』の「クロスレビュー」では合計で27', '']\n",
      "Successfully wrote ../../../data/raw/ja_プロ野球ワールドスタジアム_91.txt\n",
      "\n"
     ]
    },
    {
     "name": "stderr",
     "output_type": "stream",
     "text": [
      "2024-05-05 11:19:28,350 - ERROR - Timeout when trying to find interlanguage links for https://ja.wikipedia.org/wiki/%E3%83%97%E3%83%AD%E9%87%8E%E7%90%83%E3%83%AF%E3%83%BC%E3%83%AB%E3%83%89%E3%82%B9%E3%82%BF%E3%82%B8%E3%82%A2%E3%83%A0%2791\n"
     ]
    },
    {
     "name": "stdout",
     "output_type": "stream",
     "text": [
      "Found 3 paragraphs for https://ko.wikipedia.org/wiki/%EB%AA%BD%ED%8C%8C%EB%A5%B4%EB%82%98%EC%8A%A4_%EB%AC%98%EC%A7%80 : ['', '몽파르나스 묘지(Montparnasse Cemetery', '']\n",
      "Successfully wrote ../../../data/raw/ko_몽파르나스_묘지.txt\n",
      "\n",
      "Found 5 paragraphs for https://ru.wikipedia.org/wiki/%D0%9A%D0%BB%D0%B0%D0%B4%D0%B1%D0%B8%D1%89%D0%B5_%D0%9C%D0%BE%D0%BD%D0%BF%D0%B0%D1%80%D0%BD%D0%B0%D1%81 : ['Кла́дбище Монпарна́с, или Монп', 'Основано 25 июля 1824 года на ', 'Кладбище состоит из 35 тысяч у', 'Одним из самых дорогостоящих я', 'На кладбище можно найти ряд гр']\n",
      "Successfully wrote ../../../data/raw/ru_Кладбище_Монпарнас.txt\n",
      "\n",
      "Found 6 paragraphs for https://zh.wikipedia.org/wiki/%E8%92%99%E5%B8%95%E7%BA%B3%E6%96%AF%E5%85%AC%E5%A2%93 : ['蒙帕纳斯公墓（法語：Cimetière du Montpar', '蒙帕纳斯最初的公墓是Le Cimetière du Sud。', '蒙帕纳斯公墓是许多法国文艺知识界精英的安葬之处。现实主义作家', '墨西哥总统波费里奥·迪亚斯的墓也在此地。', '这里长眠的名人们为公墓引来了如织的游人。今天的蒙帕纳斯公墓已', '坐标：48°50′17″N 2°19′37″E']\n",
      "Successfully wrote ../../../data/raw/zh_蒙帕纳斯公墓.txt\n",
      "\n",
      "Found 3 paragraphs for https://ko.wikipedia.org/wiki/%EC%95%99%EA%B2%94%EB%A1%9C%EC%8A%A4_%ED%8E%98%EC%B9%98%EC%8A%A4 : ['앙겔로스 페치스(그리스어: Άγγελος Φέτσης,', '페치스는 800m 종목에 참가했으며 예선전에서 4위나 ', '그는 1500m에도 참가했다. 완주를 했으며 순위는 중']\n",
      "Successfully wrote ../../../data/raw/ko_앙겔로스_페치스.txt\n",
      "\n",
      "Found 5 paragraphs for https://ko.wikipedia.org/wiki/%EC%B5%9C%EA%B6%8C%EC%88%98_(%EC%A0%95%EC%B9%98%EC%9D%B8) : ['', '최권수(? - )는 조선민주주의인민공화국의 정치인이다.', '2010년 9월 조선로동당 중앙검사위원회 위원에 선임되', '2009년 4월 최고인민회의 제12기 대의원에 선출되었', '2011년 김정일 사망 당시에 국가장의위원회 위원을 맡']\n",
      "Successfully wrote ../../../data/raw/ko_최권수__정치인_.txt\n",
      "\n"
     ]
    },
    {
     "name": "stderr",
     "output_type": "stream",
     "text": [
      "2024-05-05 11:20:03,232 - ERROR - Timeout when trying to find interlanguage links for https://ko.wikipedia.org/wiki/%EC%B5%9C%EA%B6%8C%EC%88%98_(%EC%A0%95%EC%B9%98%EC%9D%B8)\n"
     ]
    },
    {
     "name": "stdout",
     "output_type": "stream",
     "text": [
      "Found 2 paragraphs for https://ko.wikipedia.org/wiki/%EC%A1%B4_%EB%A7%88%ED%8B%B4_%ED%95%A0%EB%A1%9C%EC%9A%B0 : ['', '존 마틴 할로우(John Martyn Harlow, 1']\n",
      "Successfully wrote ../../../data/raw/ko_존_마틴_할로우.txt\n",
      "\n",
      "Found 3 paragraphs for https://ko.wikipedia.org/wiki/%EB%AA%A9%ED%8F%AC_%EC%84%9D%ED%98%84%EB%8F%99_%EC%A7%80%EC%84%9D%EB%AC%98%EA%B5%B0_%E2%85%A1 : ['', '목포 석현지석묘군 Ⅱ는 전라남도 목포시 석현동에 있다.', '지석묘는 석현마을과 신지마을의 경계에 해당하는 고개마루']\n",
      "Successfully wrote ../../../data/raw/ko_목포_석현동_지석묘군_Ⅱ.txt\n",
      "\n"
     ]
    },
    {
     "name": "stderr",
     "output_type": "stream",
     "text": [
      "2024-05-05 11:20:35,843 - ERROR - Timeout when trying to find interlanguage links for https://ko.wikipedia.org/wiki/%EB%AA%A9%ED%8F%AC_%EC%84%9D%ED%98%84%EB%8F%99_%EC%A7%80%EC%84%9D%EB%AC%98%EA%B5%B0_%E2%85%A1\n"
     ]
    },
    {
     "name": "stdout",
     "output_type": "stream",
     "text": [
      "Found 37 paragraphs for https://ko.wikipedia.org/wiki/%EB%89%B4%EC%9A%95_%EB%8C%80%ED%95%99%EA%B5%90_%EC%95%84%EB%B6%80%EB%8B%A4%EB%B9%84 : ['', '뉴욕 대학교 아부다비 (New York Universi', '2007년 10월에 뉴욕대학교는 아랍에미리츠 정부의 재', '2008년에 아부다비 도심에 임시 캠퍼스 건물을 세워 ', '2014년에 사디얏 아일랜드 마리나 구역으로 새 캠퍼스', '미국의 42대 대통령인 빌 클린턴이 2014년 5월 2', '영구적인 뉴욕대 아부다비의 캠퍼스는 루브르 박물관과 구', '도서관은 캠퍼스 중앙의 캠퍼스 센터 꼭대기 층에 위치해', '또한, 캠퍼스 센터내에 위치한 실내 체육관에는 50미터', '그리니치 빌리지F워싱턴 스퀘어 노스 19번지 (19 W', '자유인문 대학이자 연구 대학으로서 뉴욕대 아부다비는 인', '미래에는, 뉴욕대 아부다비에서 대학원과 경영학과 프로그', '뉴욕대학교 아부다비 캠퍼스에서는 총 22개의 전공이 있', '134명의 2016학년도 뉴욕대 아부다비 졸업생은 4년', '인턴십을 진행한 대표적인 기업들로는 아부다비예술재단, ', '<인사이드 하이어 에드>지에 따르면 뉴욕대 아부다비는 ', '총 학생수는 2015년 기준 880명이고 모두 113개', '아부다비의 재정지원을 통해 미국의 최상위권 대학과 비교', '보다 자세한 입학 정보는 학교 홈페이지를 통해 알 수 ', '뉴욕대 아부다비에는 50개 이상의 동아리가 있으며 캠퍼', '학생들은 총 3개의 기숙사 가운데서 선택 할 수 있으며', '총 3개의 학생식당 Campus East Restaur', '뉴욕대 아부다비의 교수진들과 연구원들은 다양한 연구실과', 'Nature Asia라는 잡지에서는[32] 뉴욕대 아부', '뉴욕대 아부다비의 아랍 문학 도서관(LAL)[33] 은', '아카사 사진 센터는 지난 세기의 중동 지역 사회 변화를', '아부다비는 이탈리아의 그랑사소 연구소에서 진행되는 암흑', '세계 수면 변화 센터 (Center for Global', '뉴욕대학교 아부다비의 대표적인 교수진들은 다음과 같다 ', '2016년 현재 졸업생을 3번 배출하였으며, 졸업생의 ', '현재 다수의 로즈 장학금 수상자를 배출하였고, 매년 풀', '졸업생들이 진학하는 대학원으로는 콜롬비아대학교, 다트머', '취업을 한 졸업생들 중 61%가 출신 국가 이외의 장소', '대표적으로 취업한 직장으로는 보스턴 컨설팅그룹, 딜로이', '뉴욕대 아부다비의 스포츠 팀은 데저트 팔콘이며 아부다비', '실내 체육관에는 50미터 수영장과 실내 트랙, 피트니스', '학생들은 무료로 피트니스 시설을 이용하고 필요에 의해 ']\n",
      "Successfully wrote ../../../data/raw/ko_뉴욕_대학교_아부다비.txt\n",
      "\n",
      "Found 8 paragraphs for https://zh.wikipedia.org/wiki/%E7%BA%BD%E7%BA%A6%E5%A4%A7%E5%AD%A6%E9%98%BF%E5%B8%83%E6%89%8E%E6%AF%94 : ['坐标：24.523980°N 54.434063°E', '紐約大學阿布扎比（英語：New York Universit', '紐約大學阿布扎比校區與紐約大學紐約主校區、上海紐約大學一齊組', '自2010年成立以来，该校區已经培养了22名罗德学者[3]。', '2007年10月，纽约大学宣布打算在阿布扎比开设一个完整的分', '該校區於2008年在阿布扎比市中心成立，并举办了学术会议、研', '2014年，纽约大学将阿布扎比校区搬迁至萨迪亚特岛滨海区。新', '2014年5月25日，美国第42任总统比尔·克林顿在纽约大学']\n",
      "Successfully wrote ../../../data/raw/zh_纽约大学阿布扎比.txt\n",
      "\n",
      "Found 4 paragraphs for https://ko.wikipedia.org/wiki/%EB%A7%88%EC%9D%B4%ED%81%B4_%ED%81%AC%EB%9D%BC%EC%9D%B4%ED%8A%BC : ['', '마이클 크라이튼(본명: 존 마이클 크라이튼, John ', '가장 잘 알려진 작품으로는 스티븐 스필버그가 영화화한 ', '미국 시카고 대학교 초빙교수를 역임하였으며 소설 이외의']\n",
      "Successfully wrote ../../../data/raw/ko_마이클_크라이튼.txt\n",
      "\n",
      "Found 22 paragraphs for https://ru.wikipedia.org/wiki/%D0%9A%D1%80%D0%B0%D0%B9%D1%82%D0%BE%D0%BD,_%D0%9C%D0%B0%D0%B9%D0%BA%D0%BB : ['Джон Майкл Крайтон (англ. John', 'Его литературные произведения ', 'Среди прочего, является авторо', 'Родился 23 октября 1942 года в', 'Учился в средней школе Рослина', 'В 1964 году, после окончания у', 'По словам самого автора, в это', 'Своё первое произведение — пут', 'В начале 1970-х годов он перек', 'Но всемирную известность Крайт', 'Кроме того, по сценарию Майкла', 'Жил в Санта-Монике (штат Калиф', 'Выступал экспертом в области к', 'Коллекционировал произведения ', 'Крайтон экспериментировал в эк', 'В 2000 году его именем назван ', 'Майкл Крайтон умер в Лос-Андже', '', '', '', '', '']\n",
      "Successfully wrote ../../../data/raw/ru_Крайтон__Майкл.txt\n",
      "\n",
      "Found 31 paragraphs for https://zh.wikipedia.org/wiki/%E8%BF%88%E5%85%8B%E5%B0%94%C2%B7%E5%85%8B%E8%8E%B1%E9%A1%BF : ['約翰·麥可·克萊頓（John Michael Crichto', '麥可·克萊頓出生於伊利諾州芝加哥，在紐約州長島長大。父親是一', '就讀醫學院期間，以筆名John Lange及Jeffery ', '1969年他用本名出版的暢銷書《天外病菌》（又译《安德洛墨达', '克萊頓早年在非文学领域的研究为他积累了人类学、医学、生物学和', '克萊頓的兴趣十分广泛，他的才华不仅体现在文学上，所导演的影片', '迈克尔·克莱顿同时在美国作家协会、美国导演协会、电影艺术和科', '克萊頓在2008年11月4日因癌症逝世於洛杉磯，享年66歲。', '麥可·克萊頓作品的一个首要主题是科学成就的取得有时是不负责任', '麥可·克萊頓的小說有一些共同點：首先，他特別擅長以一個尚存爭', '用作品表達個人意見，也逐漸成為克萊頓的特色，在他用筆名發表的', '克萊頓的部份小說也使用假造文書的文學技法。例如，《終極奇兵》', '而在其它小說，如《天外病菌》（又譯《安德洛墨達品系》）跟《侏', '讀麥可·克萊頓的小說，撲面而來的是美國文化兼收並蓄的包容性。', '除小說外，克萊頓尚有幾部以科學為題材的著作，其中《麥可·克萊', '克萊頓與新達達主義藝術家賈斯培·瓊斯（Jasper John', '克萊頓出版過一本書，是介紹BASIC電腦程式語言的《Elec', '當然他在說這句話時，電腦不過是現成電子零件的組合，只要學習幾', '《鑽石宮》（又譯《西部世界》）是首部以二維電腦生成圖像技術（', '克萊頓執導過改編自羅賓·庫克（Robin Cook）小說的電', '1994年12月，他一舉達成特殊的卓越成就，擁有第一名的電影', '《亞馬遜》（Amazon）是一款麥可·克萊頓創造的圖像文字冒', '到了1999年，克萊頓與大衛·史密斯（David A. Sm', '2003年，克萊頓在加州理工學院進行了一次富有爭議的演講「異', '克萊頓說：「德瑞克公式無法被檢驗，因此搜尋地外文明計劃不是科', '克萊頓在加州聯邦俱樂部（Commonwealth Club ', '他明白的說，現代環保人士政治團體，無視於相對的科學證據，頑固', '2002年在國際領導論壇（International Lea', '他用「默里·蓋爾曼健忘症後群」來形容一種大眾趨勢：明明以自己', '演講中也多次提及克萊頓的環保懷疑論，他主張未來人類該怎麼對待', '2005年9月，克萊頓應參議員詹姆斯‧英霍夫（James I']\n",
      "Successfully wrote ../../../data/raw/zh_迈克尔_克莱顿.txt\n",
      "\n",
      "Found 3 paragraphs for https://ko.wikipedia.org/wiki/%EC%8B%9C%EC%95%88%EB%8B%A4%EC%B9%AD%EC%A0%84%EC%82%AC : ['', \"시안다칭전사(중국어: 西安大清真寺, 병음: Xī'ān \", '시안 무슬림 지구 내에 있으며, 이 모스크는 인기 있는']\n",
      "Successfully wrote ../../../data/raw/ko_시안다칭전사.txt\n",
      "\n",
      "Found 6 paragraphs for https://ru.wikipedia.org/wiki/%D0%A1%D0%B8%D0%B0%D0%BD%D1%8C%D1%81%D0%BA%D0%B0%D1%8F_%D1%81%D0%BE%D0%B1%D0%BE%D1%80%D0%BD%D0%B0%D1%8F_%D0%BC%D0%B5%D1%87%D0%B5%D1%82%D1%8C : ['Больша́я сиа́ньская мече́ть (к', 'Согласно одной из версий, ныне', 'Сианьская соборная мечеть соче', 'В 1988 году мечеть была включе', 'В храмовый комплекс Сианьской ', '']\n",
      "Successfully wrote ../../../data/raw/ru_Сианьская_соборная_мечеть.txt\n",
      "\n",
      "Found 8 paragraphs for https://zh.wikipedia.org/wiki/%E8%A5%BF%E5%AE%89%E6%B8%85%E7%9C%9F%E5%A4%A7%E5%AF%BA : ['西安清真大寺，位于中国陕西省西安市西安鼓楼西北的化觉巷内，又', '它与西安大学习巷清真寺并称为中国西安最古老的两座清真大寺，因', '清真大寺具体始建年代不详，一说为742年（唐天宝元年）所建。', '如今现存的主要建筑物建于明朝洪武年间，建筑风格亦为明朝建筑风', '文化大革命期间，清真大寺曾作为钢铁厂而使用。[5]', '西安清真大寺于1956年被公布为陕西省文物保护单位，于198', '清真大寺的一大特色在于将中国传统建筑风格与伊斯兰建筑风格完美', '现存清真大寺属于明清建筑风格，主体建筑有前后大殿、省心楼、凤']\n",
      "Successfully wrote ../../../data/raw/zh_西安清真大寺.txt\n",
      "\n",
      "Found 2 paragraphs for https://ko.wikipedia.org/wiki/%EA%B4%91%EB%AA%85%EB%A1%9C_(%EC%8B%9C%ED%9D%A5_%EA%B4%91%EB%AA%85) : ['', '광명로(Gwangmyeong-ro)는 경기도 시흥시 목']\n",
      "Successfully wrote ../../../data/raw/ko_광명로__시흥_광명_.txt\n",
      "\n"
     ]
    },
    {
     "name": "stderr",
     "output_type": "stream",
     "text": [
      "2024-05-05 11:21:16,995 - ERROR - Timeout when trying to find interlanguage links for https://ko.wikipedia.org/wiki/%EA%B4%91%EB%AA%85%EB%A1%9C_(%EC%8B%9C%ED%9D%A5_%EA%B4%91%EB%AA%85)\n"
     ]
    },
    {
     "name": "stdout",
     "output_type": "stream",
     "text": [
      "Found 1 paragraphs for https://ko.wikipedia.org/wiki/%EC%8A%B4%EA%B0%80 : ['슴가는 인터넷의 신조어(은어)로 그 유래는 딴지일보이며']\n",
      "Successfully wrote ../../../data/raw/ko_슴가.txt\n",
      "\n"
     ]
    },
    {
     "name": "stderr",
     "output_type": "stream",
     "text": [
      "2024-05-05 11:21:48,082 - ERROR - Timeout when trying to find interlanguage links for https://ko.wikipedia.org/wiki/%EC%8A%B4%EA%B0%80\n"
     ]
    },
    {
     "name": "stdout",
     "output_type": "stream",
     "text": [
      "Found 15 paragraphs for https://ko.wikipedia.org/wiki/%EC%A5%90%EB%B2%A0%EB%82%A0_%ED%95%98%EB%B8%8C%EC%9E%90%EB%A6%AC%EB%A7%88%EB%82%98 : ['', '쥐베날 하브자리마나(르완다어: Juvénal Habya', '그는 1994년 4월 6일, 부룬디의 대통령인 시프리앵', '1973년 7월 5일 국방장관으로 재임 중 쿠데타를 일', '1990년대 초, 대부분이 우간다군 출신의 투치계 르완', '프랑스와 자이르군이 하브자리마나 정부군을 도와 내란에 ', '1994년 4월 6일, 하브자리마나 대통령의 전용기인 ', '추락 당시 상황은 불분명한 채로 남아있다. 사건이 발생', '추락한 여객기에 프랑스 승무원이 탑승했기 때문에 프랑스', '하브자리마나의 죽음은 다수인종인 후투족의 극단주의자들을', '4.6 사태 이후 하브자리마나의 시신은 자이르 대통령이', '1997년 5월 12일, 로랑데지레 카빌라의 ADFL ', '모부투가 자이르에서 도피하기 하루 전인 5월 16일(이', '하브자리마나의 사망 직후 프랑스군은 그의 아내였던 아가', '르완다 법무부 장관인 타르시스 카루가라마(Tharcis']\n",
      "Successfully wrote ../../../data/raw/ko_쥐베날_하브자리마나.txt\n",
      "\n",
      "Found 5 paragraphs for https://ru.wikipedia.org/wiki/%D0%A5%D0%B0%D0%B1%D1%8C%D1%8F%D1%80%D0%B8%D0%BC%D0%B0%D0%BD%D0%B0,_%D0%96%D1%8E%D0%B2%D0%B5%D0%BD%D0%B0%D0%BB%D1%8C : ['Жювена́ль Хабьярима́на (руанда', 'Хуту по происхождению. Учился ', 'В июле 1973 года совершил госу', '6 апреля 1994 года был убит вм', 'В президентском дворце Жювенал']\n",
      "Successfully wrote ../../../data/raw/ru_Хабьяримана__Жювеналь.txt\n",
      "\n",
      "Found 3 paragraphs for https://zh.wikipedia.org/wiki/%E6%9C%B1%E9%9F%A6%E7%BA%B3%E5%B0%94%C2%B7%E5%93%88%E6%AF%94%E4%BA%9A%E5%88%A9%E9%A9%AC%E7%BA%B3 : ['朱韦纳尔·哈比亚利马纳（法語：Juvénal Habyari', '哈比亞利馬納是胡圖族人，曾在首任盧安達總統格雷戈瓦·卡伊班达', '1990年，圖西族領導的盧安達愛國陣線發起反對其政府的盧安達']\n",
      "Successfully wrote ../../../data/raw/zh_朱韦纳尔_哈比亚利马纳.txt\n",
      "\n",
      "Found 3 paragraphs for https://ko.wikipedia.org/wiki/%EB%8B%88%EC%93%B0%EB%A3%A8%EC%B4%8C : ['', '니쓰루촌(新鶴村)은 후쿠시마현 오누마군에 있던 촌이다.', '2005년 10월 1일, 아이즈혼고정, 아이즈타카다정과']\n",
      "Successfully wrote ../../../data/raw/ko_니쓰루촌.txt\n",
      "\n",
      "Found 2 paragraphs for https://ko.wikipedia.org/wiki/%EB%82%98%EA%B0%80%EC%82%AC%ED%82%A4%ED%98%84%EB%A6%BD_%EC%9D%B4%ED%82%A4_%EA%B3%A0%EB%93%B1%ED%95%99%EA%B5%90 : ['', '나가사키현립 이키 고등학교(일본어: 長崎県立壱岐高等学校']\n",
      "Successfully wrote ../../../data/raw/ko_나가사키현립_이키_고등학교.txt\n",
      "\n",
      "Found 13 paragraphs for https://ko.wikipedia.org/wiki/%EB%B0%94%EB%B9%84_%ED%82%B4 : ['', '바비 킴(Bobby Kim, 본명: 김도균, 1973년', '바비 킴은 1973년 대한민국 서울에서 태어났고 2살 ', '바비 킴은 1998년, 자신의 첫 앨범 《Holy Bu', '2004년 8월에 발표한 새 앨범은 그의 랩 비중을 대', '2011년 4월 4일 바비 킴은 서울특별시 강남구에서 ', '2015년 1월 7일 인천국제공항에서 출발하는 대한항공', '2월 13일 한국으로 돌아와 팬들에게 고개를 숙였다. ', '라는 짧은 말을 남겼다.[11]', '이후 4월 28일, 인천지검 형사2부는 바비킴을 항공보', 'MBC', 'TV조선', 'SBS']\n",
      "Successfully wrote ../../../data/raw/ko_바비_킴.txt\n",
      "\n",
      "Found 8 paragraphs for https://ko.wikipedia.org/wiki/%EA%B2%BD%EC%88%98%EC%B0%BD : ['경수창(耿壽昌, ? ~ ?) 또는 경창(耿昌)[1]은 ', '원강 원년(기원전 65년), 두현(杜縣) 동쪽의 벌판에', '선제가 즉위한 후 여러 해에 걸쳐 풍년이 들었고, 곡식', '여기에 더하여 해조(海租)[3]를 세 배로 올리자고 하', '선제는 소망지의 말을 듣지 않고 일을 시행하였고, 과연', '경수창은 다시 변방의 군들로 하여금 곳간을 짓게 하여 ', '감로 2년(기원전 52년), 해와 달의 이동에 대해 논', '장창과 함께 산술로 명성을 떨쳤고, 진나라 때의 자료를']\n",
      "Successfully wrote ../../../data/raw/ko_경수창.txt\n",
      "\n",
      "Found 2 paragraphs for https://zh.wikipedia.org/wiki/%E8%80%BF%E5%AF%BF%E6%98%8C : ['耿寿昌（?—?），字昌，西汉理财家，历算家。', '善於计算，宣帝時，任大司農中丞[1]，五凤元年，设置“常平仓']\n",
      "Successfully wrote ../../../data/raw/zh_耿寿昌.txt\n",
      "\n",
      "Found 6 paragraphs for https://ko.wikipedia.org/wiki/%EC%B0%B0%EC%8A%A4_%EB%91%98%EB%A6%AC%ED%8B%80_%EC%9B%94%EC%BB%B7 : ['', '찰스 두리틀 월컷(Charles Doolittle Wa', '월컷은 1850년 뉴욕주 북부의 오나이다에서 태어났다.', '21살 때, 일 때문에 인디애나 폴리스를 떠났고, 그곳', '찰스 두리틀 월컷 상 (Charles Doolittle', '']\n",
      "Successfully wrote ../../../data/raw/ko_찰스_둘리틀_월컷.txt\n",
      "\n",
      "Found 5 paragraphs for https://ru.wikipedia.org/wiki/%D0%A3%D0%BE%D0%BB%D0%BA%D0%BE%D1%82%D1%82,_%D0%A7%D0%B0%D1%80%D0%BB%D0%B7_%D0%94%D1%83%D0%BB%D0%B8%D1%82%D1%82%D0%BB : ['Чарлз Дулиттл Уо́лкотт (англ. ', 'Член (1896) и президент (1917—', 'Чарлз Дулиттл Уолкотт родился ', 'Специализировался в области жи', 'Его именем была названа Междун']\n",
      "Successfully wrote ../../../data/raw/ru_Уолкотт__Чарлз_Дулиттл.txt\n",
      "\n",
      "Found 2 paragraphs for https://zh.wikipedia.org/wiki/%E6%9F%A5%E5%B0%94%E6%96%AF%C2%B7%E9%83%BD%E5%88%A9%E7%89%B9%C2%B7%E6%B2%83%E5%B0%94%E7%A7%91%E7%89%B9 : ['查尔斯·都利特·沃尔科特（英語：Charles Doolit', '1914年，沃尔科特在华盛顿特区召开了一次会议，目的是激发人']\n",
      "Successfully wrote ../../../data/raw/zh_查尔斯_都利特_沃尔科特.txt\n",
      "\n",
      "Found 2 paragraphs for https://ko.wikipedia.org/wiki/%EC%97%90%EB%93%9C%EA%B1%B0_%EC%82%AC%EC%9D%B4%EC%96%B4%EC%8A%A4 : ['', '에드거 모리스 우드 사이어스(영어: Edger Morr']\n",
      "Successfully wrote ../../../data/raw/ko_에드거_사이어스.txt\n",
      "\n",
      "Found 3 paragraphs for https://ru.wikipedia.org/wiki/%D0%A1%D0%B0%D0%B9%D0%B5%D1%80%D1%81,_%D0%AD%D0%B4%D0%B3%D0%B0%D1%80 : ['Эдгар Сайерс (англ. Edgar Morr', 'В 1899 году Эдгар Сайерс женил', '(с Флоренц Мадлен Сайерс)']\n",
      "Successfully wrote ../../../data/raw/ru_Сайерс__Эдгар.txt\n",
      "\n",
      "Found 1 paragraphs for https://ko.wikipedia.org/wiki/%EB%A0%88%EC%9D%B4%EB%A8%BC_%ED%82%B4 : ['레이먼 킴(본명: 김덕윤, 1975년 5월 5일~)은 ']\n",
      "Successfully wrote ../../../data/raw/ko_레이먼_킴.txt\n",
      "\n",
      "Found 2 paragraphs for https://ko.wikipedia.org/wiki/%EB%B7%B0%ED%8B%B0%ED%95%B8%EC%84%AC : ['', '뷰티핸섬(Beautyhandsome)은 대한민국의 인디']\n",
      "Successfully wrote ../../../data/raw/ko_뷰티핸섬.txt\n",
      "\n"
     ]
    },
    {
     "name": "stderr",
     "output_type": "stream",
     "text": [
      "2024-05-05 11:22:32,598 - ERROR - Timeout when trying to find interlanguage links for https://ko.wikipedia.org/wiki/%EB%B7%B0%ED%8B%B0%ED%95%B8%EC%84%AC\n"
     ]
    },
    {
     "name": "stdout",
     "output_type": "stream",
     "text": [
      "Found 16 paragraphs for https://ko.wikipedia.org/wiki/%EC%97%B0%EB%A3%8C : ['', '연료(燃料, 영어: fuel)는 보통 태워서 에너지를 ', '연료는 다른 물질과 반응하여 에너지를 열에너지로 방출하', '연료의 반응에 의해 방출되는 열에너지는 열기관을 통해 ', '연료는 전기 에너지(예: 배터리 및 축전기) 또는 기계', '최초로 알려진 연료 사용은 거의 200만 년 전 호모 ', '원유는 페르시아 화학자들에 의해 증류되었으며, 무함마드', '바그다드의 거리는 그 지역의 자연 지대에서 접근할 수 ', '연소를 통해 방출될 수 있는 화학에너지 형태의 에너지이', '화석연료는 수력과 같은 전통적인 에너지원보다 더 집중적', '현재 추세는 알코올과 같은 바이오 연료와 같은 재생 가', '화학 연료는 주변 물질과 반응하여, 특히 연소 과정을 ', '화학연료는 두 가지 방식으로 나뉜다. 첫째, 고체, 액', '핵연료는 원자력 에너지를 얻기 위해 소비되는 모든 물질', '핵연료는 모든 실제 연료원 중 에너지 밀도가 가장 높다', '모든 로켓의 추진제(propellant)는 연료(fue']\n",
      "Successfully wrote ../../../data/raw/ko_연료.txt\n",
      "\n",
      "Found 20 paragraphs for https://ru.wikipedia.org/wiki/%D0%A2%D0%BE%D0%BF%D0%BB%D0%B8%D0%B2%D0%BE : ['То́пливо в широком смысле слов', 'Понятие топлива возникло из сп', 'Поскольку во многих устройства', 'Для преобразования тепловой эн', 'Основной показатель топлива — ', 'Печное бытовое топливо предназ', 'Стандарт на котельное топливо ', 'Печное топливо тёмное вырабаты', 'По фракционному составу печное', 'При изготовлении печного топли', 'Для улучшения низкотемпературн', 'Характеристики:', 'Просты в транспортировке, но п', 'Более транспортабельны по срав', 'Несмотря на огромное разнообра', 'Мировое потребление ископаемог', 'Доля возобновляемых источников', 'По приблизительным оценкам эне', 'За последние 20 лет мировое эн', 'После приведения цифр стоит ук']\n",
      "Successfully wrote ../../../data/raw/ru_Топливо.txt\n",
      "\n",
      "Found 9 paragraphs for https://zh.wikipedia.org/wiki/%E7%87%83%E6%96%99 : ['燃料（英語：fuel），是一種透過化學反應或核反應釋放本身的', '燃料可分成天然燃料與人工燃料。天然燃料从大自然获得并可以直接', '燃料的质量由它所产生热量的能力热值来决定。利用废气中所含水蒸', '随经济情况的发展燃料的世界市场价格升降剧烈。以下为一些燃料在', '重要燃料的价格对于国民经济有非常大的影响。燃料价格的提高比如', '燃料的应用很多：', '氣體燃料的热值[MJ/m³]', '液体燃料及氢气的热值[MJ/kg]', '固體燃料的热值[MJ/kg]']\n",
      "Successfully wrote ../../../data/raw/zh_燃料.txt\n",
      "\n",
      "Found 2 paragraphs for https://ko.wikipedia.org/wiki/%EB%8C%80%EB%B0%A9%EA%B4%91%EC%9B%90%EA%B0%81%EC%88%98%EB%8B%A4%EB%9D%BC%EC%9A%94%EC%9D%98%EA%B2%BD : ['《대방광원각수다라요의경》(大方廣圓覺修多羅了義經, K.0', '《대방광원각경》, 《원각수다라요의경》, 《원각요의경》이']\n",
      "Successfully wrote ../../../data/raw/ko_대방광원각수다라요의경.txt\n",
      "\n",
      "Found 7 paragraphs for https://zh.wikipedia.org/wiki/%E5%9C%86%E8%A7%89%E7%BB%8F : ['《大方廣圓覺修多羅了義經》，簡稱圓覺經，大乘佛教经典，相傳在', '但因為其譯出過程不詳，又無梵文本傳世，現代佛教研究學者懷疑此', '根據中文名稱，字面回譯成梵文，可能為 Mahāvaipuly', '圓覺一詞最早出現於《仁王護國經》的「圓覺忍」，不空的譯本以「', '全经一般分作序、正、流通三分。共有十二章，主要内容是釋迦牟尼', '在智昇《續古今譯經圖記》中，首次記錄此書為佛陀多羅所譯，但譯', '此经是唐、宋以来天台宗、贤首宗、禅宗等盛行讲习的经典。最早提']\n",
      "Successfully wrote ../../../data/raw/zh_圆觉经.txt\n",
      "\n",
      "Found 3 paragraphs for https://ko.wikipedia.org/wiki/%EC%8B%A4%EB%B9%84%EC%95%84_%EB%B0%94%EB%A5%B4%EA%B3%A0%EB%B0%94 : ['', '실비아 바르고바(Silvia Vargová, 헝가리식 ', '']\n",
      "Successfully wrote ../../../data/raw/ko_실비아_바르고바.txt\n",
      "\n",
      "Found 3 paragraphs for https://ko.wikipedia.org/wiki/%ED%86%B0_%EC%95%A4%EB%8D%94%EC%8A%A8 : ['', '톰 앤더슨(Tom Anderson, 1970년 11월 ', '']\n",
      "Successfully wrote ../../../data/raw/ko_톰_앤더슨.txt\n",
      "\n",
      "Found 9 paragraphs for https://ru.wikipedia.org/wiki/%D0%94%D0%B8%D1%81%D0%BA%D1%80%D0%B5%D1%82%D0%BD%D0%BE-%D1%81%D0%BE%D0%B1%D1%8B%D1%82%D0%B8%D0%B9%D0%BD%D0%BE%D0%B5_%D0%BC%D0%BE%D0%B4%D0%B5%D0%BB%D0%B8%D1%80%D0%BE%D0%B2%D0%B0%D0%BD%D0%B8%D0%B5 : ['Дискретно-событийное моделиров', 'Кроме переменных, определяющих', 'Основной компонент системы, си', 'Система моделирования поддержи', 'Дискретно-событийное моделиров', 'Дискретно-событийные модели де', 'Основные данные, которые собир', 'Условием завершения могут выст', 'Системы дискретно-событийного ']\n",
      "Successfully wrote ../../../data/raw/ru_Дискретно_событийное_моделирование.txt\n",
      "\n",
      "Found 1 paragraphs for https://zh.wikipedia.org/wiki/%E7%A6%BB%E6%95%A3%E4%BA%8B%E4%BB%B6%E4%BB%BF%E7%9C%9F : ['离散事件模拟将系统随时间的变化抽象成一系列的离散时间点上的事']\n",
      "Successfully wrote ../../../data/raw/zh_离散事件仿真.txt\n",
      "\n",
      "Found 10 paragraphs for https://ru.wikipedia.org/wiki/%D0%9F%D0%B0%D1%82%D0%B5,_%D0%A8%D0%B0%D1%80%D0%BB%D1%8C : ['Шарль Пате (фр. Charles Pathé,', 'Шарль Пате родился в городке Ш', 'В 1896 году Шарль вместе с бра', 'В начале карьеры Пате выпускал', 'В 1908 году фирма начала выпус', 'Его необыкновенная предприимчи', '', '', 'В 1930 году Шарль Пате ушел в ', '25 декабря 1957 года в Монте-К']\n",
      "Successfully wrote ../../../data/raw/ru_Пате__Шарль.txt\n",
      "\n",
      "Found 2 paragraphs for https://ru.wikipedia.org/wiki/%D0%9F%D0%B0%D1%80%D0%BA%D0%B8%D0%BD%D1%81%D0%BE%D0%BD,_%D0%91%D0%B5%D0%BD : ['Бен Паркинсон (англ. Ben Parki', 'Уроженец Дарема, Паркинсон выс']\n",
      "Successfully wrote ../../../data/raw/ru_Паркинсон__Бен.txt\n",
      "\n",
      "Found 7 paragraphs for https://zh.wikipedia.org/wiki/D%27Topnotes : [\"D'Topnotes（中文：特樂樂隊）是香港一隊六十年代的樂\", \"D'Topnotes主要由Samson家族組成，洛詩婷是上海\", \"D'Topnotes演唱過多種語言的作品，包括廣東話、英文、\", \"D'Topnotes曾經在1970年代中因為工作理念不同而解\", \"D'Topnotes在1987年正式解散。洛詩婷跟她兩個妹妹\", '洛詩婷1998年開始全職教學生，她的學生大部分都是現今歌手，', '洛詩婷於2002年與Uncle Ray合作推出首張個人專輯《']\n",
      "Successfully wrote ../../../data/raw/zh_D_Topnotes.txt\n",
      "\n"
     ]
    },
    {
     "name": "stderr",
     "output_type": "stream",
     "text": [
      "2024-05-05 11:23:14,247 - ERROR - Timeout when trying to find interlanguage links for https://zh.wikipedia.org/wiki/D%27Topnotes\n"
     ]
    },
    {
     "name": "stdout",
     "output_type": "stream",
     "text": [
      "Found 2 paragraphs for https://zh.wikipedia.org/wiki/%E6%B3%B0%E5%9C%8B%E6%9D%91%E6%8E%A7%E8%82%A1 : ['泰國村控股有限公司，簡稱泰國村控股（英語：Thai Vill', '總部位於Blk 1002 Tai Seng Ave #01-']\n",
      "Successfully wrote ../../../data/raw/zh_泰國村控股.txt\n",
      "\n"
     ]
    },
    {
     "name": "stderr",
     "output_type": "stream",
     "text": [
      "2024-05-05 11:23:45,789 - ERROR - Timeout when trying to find interlanguage links for https://zh.wikipedia.org/wiki/%E6%B3%B0%E5%9C%8B%E6%9D%91%E6%8E%A7%E8%82%A1\n"
     ]
    },
    {
     "name": "stdout",
     "output_type": "stream",
     "text": [
      "Found 4 paragraphs for https://zh.wikipedia.org/wiki/%E9%87%91%E5%8D%AB%E4%B8%9C%E7%AB%99 : ['金山卫东站又名金卫东站，位于中国上海市金山区沪杭公路石化汽车', '2002年时，该站尚有往来上海南站的专1、专4、专5、专8、', '2002年10月21日，原上海南站到发的4对市郊列车转到属临', '至2003年6月18日，4对来往于梅陇站和金卫东站的市郊列车']\n",
      "Successfully wrote ../../../data/raw/zh_金卫东站.txt\n",
      "\n"
     ]
    },
    {
     "name": "stderr",
     "output_type": "stream",
     "text": [
      "2024-05-05 11:24:17,855 - ERROR - Timeout when trying to find interlanguage links for https://zh.wikipedia.org/wiki/%E9%87%91%E5%8D%AB%E4%B8%9C%E7%AB%99\n"
     ]
    },
    {
     "name": "stdout",
     "output_type": "stream",
     "text": [
      "Found 3 paragraphs for https://zh.wikipedia.org/wiki/%E6%B8%B8%E6%BC%A0%E8%9E%B3%E5%B1%9E : ['', '游漠螳属（学名：Eremoplana）为谷螳科的一个属。', '本属包括以下物种：[1]']\n",
      "Successfully wrote ../../../data/raw/zh_游漠螳属.txt\n",
      "\n",
      "Found 8 paragraphs for https://zh.wikipedia.org/wiki/%E5%B0%BC%E5%8F%A4%E6%8B%89%C2%B7%E6%99%AE%E5%B0%94%E7%83%AD%E7%93%A6%E5%B0%94%E6%96%AF%E5%9F%BA : ['尼古拉·米哈伊洛维奇·普尔热瓦尔斯基（俄語：Никола́й', '普尔热瓦尔斯基出身於白俄羅斯一個貴族家庭，曾在波蘭華沙軍事學', '虽然他在探險生涯中从未实现前往西藏首府拉薩這一目标，但是他在', '据戴维·希梅尔彭尼克·范德奥伊评价，普尔热瓦尔斯基的中亚著作', '普尔热瓦尔斯基以及其他当代探险家，包括斯文·赫定、弗朗西斯·', '普尔热瓦尔斯基的偏见也延伸到了除华人以外的其他亚洲人身上，他', '普尔热瓦尔斯基不仅蔑视中国主体民族，他还认为西藏、突厥斯坦和', '普尔热瓦尔斯基建议俄罗斯煽动中国这些地区的佛教徒和穆斯林反抗']\n",
      "Successfully wrote ../../../data/raw/zh_尼古拉_普尔热瓦尔斯基.txt\n",
      "\n",
      "Found 7 paragraphs for https://zh.wikipedia.org/wiki/%E8%89%BE%E6%88%88%E5%A5%88 : ['艾戈奈（法語：Aigonnay，法语发音：[ɛɡɔnɛ]）是', '艾戈奈（46°19\\'47\"N, 0°15\\'30\"W）面积14', '与艾戈奈接壤的市镇（或旧市镇、城区）包括：穆贡、普拉耶、罗芒', '艾戈奈的时区为UTC+01:00、UTC+02:00（夏令时', '艾戈奈的邮政编码为79370，INSEE市镇编码为79004', '艾戈奈所属的省级选区为贝勒河畔塞勒县。', '艾戈奈于2018年1月1日时的人口数量为634人。']\n",
      "Successfully wrote ../../../data/raw/zh_艾戈奈.txt\n",
      "\n",
      "Found 17 paragraphs for https://zh.wikipedia.org/wiki/%E9%87%91%E9%A9%AC%E5%88%BA%E6%88%98%E5%BD%B9 : ['金马刺战役（荷蘭語：Guldensporenslag，法語：', '佛兰德伯国在法兰西王国内享有特色地位，在名义上服从法国。但从', '此战源于法国试图吞并佛兰德伯国。后者曾是法兰西王国的领土，并', '在被法国军队逐出家园之后，1302年3月18日，布鲁日的市民', '法国国王对此绝不会坐视不管。他派出伯爵阿图瓦的罗贝尔二世（R', '弗拉芒人的武装主要是由工匠和农民组成的民兵，他们装备着日安棒', '相比之下，法军则是标准的封建军队，由2500名贵族骑兵（包括', '弗拉芒人在于7月9日到10日对科特赖克的进攻失败后，于7月1', '这块田野上布满了无数小溪和沟壑，不便于法国骑兵冲锋攻击弗拉芒', '在战斗开始前，弗拉芒军不是被命令对法军不留活口，就是不顾利用', '大批法国骑士的金马刺被弗拉芒人缴获，这场战役由此而得名；[1', '著名的伤亡者如下：', '这场战役是14世纪中从1297年斯特靈橋之役开始的一系列战役', '这场战役也是弗拉芒政治独立进程中的里程碑。该战役的发生日如今', '弗拉芒作家亨德里克·孔西延斯（Hendrik Conscie', '芭芭拉·塔奇曼（Barbara Tuchman）在A Dis', '这场战役的结果——被视为无敌的一大支骑兵部队被较“平庸”但却']\n",
      "Successfully wrote ../../../data/raw/zh_金马刺战役.txt\n",
      "\n",
      "Found 4 paragraphs for https://zh.wikipedia.org/wiki/%E4%BA%9E%E6%B4%B2%E8%A7%92%E9%BE%8D%E5%B1%AC : ['', '亞洲角龍屬（屬名：Asiaceratops，意為「亞洲的有角', '亞洲角龍屬於角龍亚目，角龍亚目恐龍是群植食性恐龍，擁有類似鸚', '如同所有角龍類恐龍，亞洲角龍是植食性恐龍。在白堊紀期間，開花']\n",
      "Successfully wrote ../../../data/raw/zh_亞洲角龍屬.txt\n",
      "\n",
      "Found 11 paragraphs for https://zh.wikipedia.org/wiki/%E4%BD%9B%E5%86%88%E5%8E%BF : ['佛冈县是中华人民共和国广东省清远市下辖的县。位于广东中部，珠', '佛冈在两汉时分别属南海郡中宿县、桂阳郡浈阳县；南北朝时，佛冈', '佛冈春季平均温度16℃；夏季平均温度24℃；秋季平均温度26', '佛冈县下辖6个镇：[2]', '石角镇、水头镇、汤塘镇、龙山镇、高岗镇和迳头镇。', '根據第七次全国人口普查結果，截至2020年11月1日零時全縣', '佛冈县通行的地方语言是粤语及客家话。', '佛冈县石角镇振兴路是最繁华的商业中心，由政府投资8千万旧城改', '每年农历正月十三，佛冈县高岗镇社岗下村都要过豆腐节。', '每年的农历正月十五、十六两天，佛冈县汤塘镇围镇村的妇女都有舞', '竹山粉葛：中国地理标志产品。']\n",
      "Successfully wrote ../../../data/raw/zh_佛冈县.txt\n",
      "\n",
      "Found 4 paragraphs for https://zh.wikipedia.org/wiki/%E9%BB%9E_(%E9%99%84%E5%8A%A0%E7%AC%A6%E8%99%9F) : ['點（dot；◌̇◌̣）當使用變音符號時，點會和一些字母以“上', '例如，Ċ/ċ及Ġ/ġ用在馬爾他語和愛爾蘭語(舊拼字法)內，Ė', '越南语中则用此作为重音符。', '以下语言的文字或拉丁化拼法将上句點用作变音符号：']\n",
      "Successfully wrote ../../../data/raw/zh_點__附加符號_.txt\n",
      "\n",
      "Found 4 paragraphs for https://zh.wikipedia.org/wiki/%E9%A9%B1%E9%80%90%E5%87%BA%E5%A2%83%E5%8D%9A%E7%89%A9%E9%A6%86 : ['驱逐出境和抵抗运动博物馆（Museo e Centro di', '1944 年 9 月 6 日，在菲格林有 29 名游击队员被', '另一历史事件是，1944 年 3 月，在被占领的意大利北部和', '2002 年 4 月 10 日，博物馆和文献中心举行庄严的开']\n",
      "Successfully wrote ../../../data/raw/zh_驱逐出境博物馆.txt\n",
      "\n",
      "Found 5 paragraphs for https://zh.wikipedia.org/wiki/NEWS%E9%87%91%E6%8E%A2%E8%99%9F : ['《NEWS金探號》，是非凡電視台一個以輕鬆方式專門介紹旅遊、', '旅遊玩樂看世界，探索省錢新門道。', '按部就班精打細算，快速掌握第一手資訊。', '知識娛樂通通兼顧，帶您發現旅遊的樂趣。', '隨著世界村的到來，出國旅遊變得愈來愈方便，有別於傳統出國觀光']\n",
      "Successfully wrote ../../../data/raw/zh_NEWS金探號.txt\n",
      "\n"
     ]
    }
   ],
   "source": [
    "main()"
   ]
  }
 ],
 "metadata": {
  "kernelspec": {
   "display_name": "otc_venv",
   "language": "python",
   "name": "python3"
  },
  "language_info": {
   "codemirror_mode": {
    "name": "ipython",
    "version": 3
   },
   "file_extension": ".py",
   "mimetype": "text/x-python",
   "name": "python",
   "nbconvert_exporter": "python",
   "pygments_lexer": "ipython3",
   "version": "3.12.3"
  }
 },
 "nbformat": 4,
 "nbformat_minor": 2
}
