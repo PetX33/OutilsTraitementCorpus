{
 "cells": [
  {
   "cell_type": "code",
   "execution_count": 1,
   "metadata": {},
   "outputs": [],
   "source": [
    "import os\n",
    "import urllib.parse\n",
    "import logging\n",
    "import jupyter_black\n",
    "from selenium import webdriver\n",
    "from selenium.webdriver.common.by import By\n",
    "from selenium.webdriver.support.ui import WebDriverWait\n",
    "from selenium.webdriver.support import expected_conditions as EC\n",
    "from selenium.common.exceptions import TimeoutException"
   ]
  },
  {
   "cell_type": "code",
   "execution_count": 5,
   "metadata": {},
   "outputs": [],
   "source": [
    "jupyter_black.load()\n",
    "logging.basicConfig(\n",
    "    level=logging.INFO, format=\"%(asctime)s - %(levelname)s - %(message)s\"\n",
    ")"
   ]
  },
  {
   "cell_type": "code",
   "execution_count": 6,
   "metadata": {},
   "outputs": [],
   "source": [
    "def get_random_page_urls(driver: webdriver.Chrome, languages: list) -> dict:\n",
    "    \"\"\"\n",
    "    Récupère les URLs de pages Wikipédia aléatoires pour une liste de langues données.\n",
    "\n",
    "    Parameters:\n",
    "        driver (webdriver.Chrome): Instance du navigateur Chrome.\n",
    "        languages (list): Liste de codes de langues Wikipédia.\n",
    "\n",
    "    Returns:\n",
    "        dict: Dictionnaire contenant les URLs des pages aléatoires pour chaque langue.\n",
    "    \"\"\"\n",
    "    urls = {}\n",
    "    for language in languages:\n",
    "        driver.get(f\"https://{language}.wikipedia.org/wiki/Special:Random\")\n",
    "        urls[language] = driver.current_url\n",
    "    return urls"
   ]
  },
  {
   "cell_type": "markdown",
   "metadata": {},
   "source": [
    "Je commence par définir une fonction nommée `get_random_page_urls` qui prend deux paramètres : `driver` et `languages`. Le `driver` est probablement un objet qui me permet d'interagir avec un navigateur web, et `languages` est une liste des codes de langue pour lesquels je veux récupérer des URL aléatoires de pages Wikipédia.\n",
    "\n",
    "À l'intérieur de la fonction, je crée un dictionnaire vide appelé `urls` où je vais stocker les URL que je récupère. Pour chaque langue présente dans la liste `languages`, je fais plusieurs actions :\n",
    "\n",
    "1. Je construis l'URL de la page Wikipédia aléatoire pour cette langue en utilisant la méthode `f`. Cela me donne une URL comme 'https://en.wikipedia.org/wiki/Special:Random' si la langue est 'en' (anglais), par exemple.\n",
    "\n",
    "2. J'utilise le `driver` pour charger cette URL dans le navigateur web avec `driver.get(url_formée)`.\n",
    "\n",
    "3. Une fois que la page a chargé, je récupère l'URL actuelle, qui est une page spécifique choisie aléatoirement par Wikipédia, en utilisant `driver.current_url`.\n",
    "\n",
    "4. Je stocke cette URL dans le dictionnaire `urls` avec la langue correspondante comme clé.\n",
    "\n",
    "Après avoir traité toutes les langues dans la boucle, je retourne le dictionnaire `urls` qui contient les codes de langue comme clés et les URL des pages Wikipédia aléatoires comme valeurs."
   ]
  },
  {
   "cell_type": "code",
   "execution_count": 7,
   "metadata": {},
   "outputs": [],
   "source": [
    "def get_interlanguage_urls(driver, base_url: str) -> dict:\n",
    "    \"\"\"\n",
    "    Obtient les URLs des pages correspondantes dans d'autres langues pour une page donnée\n",
    "\n",
    "    Parameters:\n",
    "    driver (WebDriver): Le driver Selenium\n",
    "    base_url (str): L'URL de la page pour laquelle on veut récupérer les URLs des pages correspondantes dans d'autres langues\n",
    "\n",
    "    Returns:\n",
    "    dict: Un dictionnaire avec les langues en clés et les URLs en valeurs\n",
    "    \"\"\"\n",
    "    driver.get(base_url)\n",
    "    try:\n",
    "        interlanguage_links = WebDriverWait(driver, 20).until(\n",
    "            EC.presence_of_all_elements_located(\n",
    "                (By.CSS_SELECTOR, \"li.interlanguage-link a\")\n",
    "            )\n",
    "        )\n",
    "\n",
    "        return {\n",
    "            link.get_attribute(\"lang\"): link.get_attribute(\"href\")\n",
    "            for link in interlanguage_links\n",
    "        }\n",
    "\n",
    "    except TimeoutException:\n",
    "        logging.error(\n",
    "            f\"Timeout when trying to find interlanguage links for {base_url}\\n\"\n",
    "        )\n",
    "        return {}"
   ]
  },
  {
   "cell_type": "markdown",
   "metadata": {},
   "source": [
    "Je commence par importer le module `logging` qui me permet d'enregistrer des informations sur ce qui se passe dans mon code. Je configure le niveau de logging à `INFO`, ce qui signifie que je vais enregistrer les messages de niveau INFO et supérieur (comme ERROR). Je définis également un format spécifique pour ces messages qui inclut la date et l'heure, le niveau de gravité du message et le message lui-même.\n",
    "\n",
    "Ensuite, je définis une fonction nommée `get_interlanguage_urls` qui prend deux paramètres : `driver` et `base_url`. Le `driver` est l'objet qui interagit avec le navigateur, et `base_url` est l'URL de la page de base à partir de laquelle je veux récupérer des liens interlangues.\n",
    "\n",
    "À l'intérieur de la fonction, je fais plusieurs actions :\n",
    "\n",
    "1. Je charge l'URL de base dans le navigateur en utilisant `driver.get(base_url)`.\n",
    "\n",
    "2. Je crée un objet `wait` de type `WebDriverWait`, lié au `driver` et avec un délai maximal de 30 secondes. Cet objet me permet d'attendre que certaines conditions soient remplies avant de continuer l'exécution de mon code.\n",
    "\n",
    "3. J'essaie ensuite de récupérer tous les éléments de la page qui correspondent à des liens interlangues. Ces liens sont localisés par un sélecteur CSS qui cible les éléments 'a' dans les 'li' avec la classe 'interlanguage-link'. J'attends que ces éléments soient présents sur la page, ce que je vérifie avec la méthode `presence_of_all_elements_located`.\n",
    "\n",
    "4. Si les éléments sont trouvés à temps, je construis un dictionnaire avec les langues comme clés (en récupérant l'attribut 'lang' de chaque lien) et les URL correspondantes comme valeurs (en récupérant l'attribut 'href' de chaque lien).\n",
    "\n",
    "5. Si le délai d'attente de 30 secondes est dépassé sans que les liens soient trouvés, je consigne une erreur de type `TimeoutException` avec un message d'erreur spécifique qui mentionne l'URL de base. Dans ce cas, je retourne un dictionnaire vide.\n",
    "\n",
    "La fonction `get_interlanguage_urls` retourne donc soit un dictionnaire contenant les langues et leurs URL associées si tout se passe bien, soit un dictionnaire vide si une erreur se produit lors de la récupération des liens."
   ]
  },
  {
   "cell_type": "code",
   "execution_count": 8,
   "metadata": {},
   "outputs": [],
   "source": [
    "def extract_paragraphs(driver: webdriver.Chrome, url: str) -> tuple:\n",
    "    \"\"\"\n",
    "    Extrait les paragraphes d'un article Wikipédia\n",
    "\n",
    "    Parameters:\n",
    "    driver (WebDriver): Le driver Selenium\n",
    "    url (str): L'URL de l'article Wikipédia\n",
    "\n",
    "    Returns:\n",
    "    str: Les paragraphes de l'article\n",
    "    str: Le titre de l'article\n",
    "    \"\"\"\n",
    "    driver.get(url)\n",
    "\n",
    "    paragraphs = \"\"\n",
    "\n",
    "    try:\n",
    "        title = os.path.basename(urllib.parse.urlparse(url).path)\n",
    "        elements = driver.find_elements(By.XPATH, '//*[@id=\"mw-content-text\"]/div/p')\n",
    "\n",
    "        print(\n",
    "            f\"Found {len(elements)} paragraphs for {url} : {[el.text[:30] for el in elements]}\"\n",
    "        )\n",
    "\n",
    "        for el in elements:\n",
    "            if el.text:\n",
    "                paragraphs += el.text + \"\\n\"\n",
    "            else:\n",
    "                continue\n",
    "\n",
    "    except:\n",
    "        print(f\"Could not find paragraph for {url}\")\n",
    "\n",
    "    return paragraphs, title"
   ]
  },
  {
   "cell_type": "markdown",
   "metadata": {},
   "source": [
    "Je définis ici une fonction appelée `extract_paragraphs` qui prend deux paramètres : `driver` et `url`.\n",
    "\n",
    "Voici ce que je fais dans cette fonction :\n",
    "\n",
    "1. Je commence par charger l'URL donnée dans le navigateur à l'aide de `driver.get(url)`.\n",
    "\n",
    "2. Je déclare une variable `paragraphs` que j'initialise avec une chaîne de caractères vide. Cela servira à stocker tous les paragraphes de texte que je vais extraire.\n",
    "\n",
    "3. Je tente ensuite d'extraire le premier paragraphe de l'article. Pour cela, je procède comme suit :\n",
    "\n",
    "   a. J'extrais le titre de la page à partir de l'URL en utilisant les fonctions `os.path.basename` et `urllib.parse.urlparse` pour obtenir uniquement la partie finale de l'URL, qui correspond généralement au titre de l'article.\n",
    "\n",
    "   b. Je recherche dans le document tous les éléments qui correspondent au chemin XPath spécifié. Ce chemin cible les paragraphes situés dans une division particulière de la page identifiée par l'identifiant `mw-content-text`.\n",
    "\n",
    "   c. J'affiche un message indiquant combien de paragraphes j'ai trouvés pour l'URL donnée. Pour chaque élément trouvé, je montre les 30 premiers caractères du texte de cet élément.\n",
    "\n",
    "   d. Je parcours ensuite chaque élément trouvé. Si l'élément contient du texte, je l'ajoute à la variable `paragraphs` avec un saut de ligne à la fin. Si l'élément ne contient pas de texte, je continue simplement sans l'ajouter.\n",
    "\n",
    "4. Si une exception se produit pendant l'extraction (par exemple, si le chemin XPath est incorrect ou si la page ne se charge pas correctement), j'affiche un message d'erreur indiquant que je n'ai pas pu trouver de paragraphe pour l'URL donnée.\n",
    "\n",
    "5. Enfin, je retourne un tuple contenant les paragraphes extraits et le titre de l'article. Cela permet à celui qui utilise cette fonction de recevoir à la fois le texte extrait et le titre de la page à partir de laquelle le texte a été extrait."
   ]
  },
  {
   "cell_type": "code",
   "execution_count": 9,
   "metadata": {},
   "outputs": [],
   "source": [
    "def write_txt(\n",
    "    data_folder: str, language: str, url: str, paragraph: str, file_counts: dict\n",
    ") -> None:\n",
    "    \"\"\"\n",
    "    Ecrit un paragraphe dans un fichier texte\n",
    "\n",
    "    Parameters:\n",
    "    data_folder (str): Dossier de destination des fichiers.\n",
    "    language (str): Code de la langue de l'article.\n",
    "    url (str): URL de l'article.\n",
    "    paragraph (str): Texte de l'article.\n",
    "    file_counts (dict): Dictionnaire contenant le nombre de fichiers écrits pour chaque langue.\n",
    "\n",
    "    Returns:\n",
    "    None\n",
    "    \"\"\"\n",
    "    parsed_url = urllib.parse.urlparse(url)\n",
    "    article_title = os.path.basename(parsed_url.path)\n",
    "    article_title = urllib.parse.unquote(article_title)\n",
    "    sanitized_title = \"\".join(char if char.isalnum() else \"_\" for char in article_title)\n",
    "\n",
    "    os.makedirs(data_folder, exist_ok=True)\n",
    "    filename = f\"{language}_{sanitized_title}.txt\"\n",
    "    file_path = os.path.join(data_folder, filename)\n",
    "\n",
    "    try:\n",
    "        with open(file_path, \"w\", encoding=\"utf-8\") as file:\n",
    "            file.write(paragraph)\n",
    "        file_counts[language] += 1\n",
    "        logging.info(f\"Successfully wrote {file_path}\")\n",
    "    except OSError as e:\n",
    "        logging.error(f\"Failed to write {file_path}: {e}\")"
   ]
  },
  {
   "cell_type": "markdown",
   "metadata": {},
   "source": [
    "Je définis une fonction nommée `write_txt` qui prend cinq paramètres : `data_folder`, `lang`, `url`, `paragraph`, et `file_counts`. Ces paramètres me servent respectivement à spécifier où sauvegarder les fichiers, la langue de l'article, l'URL de l'article, le paragraphe à écrire, et un dictionnaire pour suivre combien de fichiers j'ai écrits pour chaque langue.\n",
    "\n",
    "Voici comment je procède dans cette fonction :\n",
    "\n",
    "1. **Extraction du titre de l'article depuis l'URL** : \n",
    "   - Je parse l'URL pour isoler la partie qui me sert de titre, qui est après le dernier '/' dans le chemin de l'URL.\n",
    "   - Je décode le titre pour convertir des séquences d'échappement URL (comme '%E1%83%90') en caractères lisibles.\n",
    "\n",
    "2. **Nettoyage du titre** :\n",
    "   - Je remplace tout caractère du titre qui n'est pas alphanumérique par un underscore ('_') pour m'assurer que le titre peut être utilisé comme nom de fichier sans causer d'erreur.\n",
    "\n",
    "3. **Préparation du dossier de données** :\n",
    "   - Je m'assure que le dossier où je veux sauvegarder les fichiers existe. S'il n'existe pas, je le crée avec `os.makedirs`, et l'option `exist_ok=True` me permet de ne pas générer d'erreur si le dossier existe déjà.\n",
    "\n",
    "4. **Écriture du paragraphe dans un fichier** :\n",
    "   - Je génère le nom du fichier en utilisant la langue et le titre de l'article nettoyé, et j'ajoute l'extension '.txt'.\n",
    "   - Je combine le dossier de données et le nom du fichier pour créer le chemin complet du fichier.\n",
    "   - J'ouvre le fichier en mode écriture (`'w'`) avec encodage UTF-8, et j'écris le paragraphe dedans. Je termine par afficher un message pour confirmer que l'écriture a réussi.\n",
    "\n",
    "5. **Incrémentation du compteur de fichiers** :\n",
    "   - J'augmente de 1 le compteur pour la langue correspondante dans le dictionnaire `file_counts` pour suivre combien de fichiers ont été écrits pour chaque langue.\n",
    "\n",
    "La fonction `write_txt` n'a pas de valeur de retour. Elle effectue son travail d'écriture en sauvegardant les paragraphes dans des fichiers spécifiques tout en organisant et en comptant combien de fois elle le fait pour chaque langue."
   ]
  },
  {
   "cell_type": "code",
   "execution_count": 10,
   "metadata": {},
   "outputs": [],
   "source": [
    "def main():\n",
    "    driver = webdriver.Chrome()\n",
    "    data_folder = \"../../../data/raw/\"\n",
    "    languages = [\"ar\", \"fr\", \"en\", \"de\", \"es\", \"ja\", \"ko\", \"ru\", \"zh\"]\n",
    "    file_counts = {lang: 0 for lang in languages}\n",
    "\n",
    "    base_urls = get_random_page_urls(driver, languages)\n",
    "    for lang in languages:\n",
    "        while file_counts[lang] < 100:\n",
    "            current_url = base_urls[lang]\n",
    "            paragraphs, article_title = extract_paragraphs(driver, current_url)\n",
    "            if paragraphs:\n",
    "                write_txt(data_folder, lang, article_title, paragraphs, file_counts)\n",
    "\n",
    "            links = get_interlanguage_urls(driver, current_url)\n",
    "            for link_lang, link_url in links.items():\n",
    "                if link_lang in languages and file_counts[link_lang] < 100:\n",
    "                    link_paragraphs, title = extract_paragraphs(driver, link_url)\n",
    "                    if link_paragraphs:\n",
    "                        write_txt(\n",
    "                            data_folder, link_lang, title, link_paragraphs, file_counts\n",
    "                        )\n",
    "\n",
    "            new_urls = get_random_page_urls(driver, [lang])\n",
    "            base_urls[lang] = new_urls[lang]\n",
    "\n",
    "    driver.quit()"
   ]
  },
  {
   "cell_type": "markdown",
   "metadata": {},
   "source": [
    "J'ai défini une fonction nommée `main` qui orchestre l'extraction et l'enregistrement de textes à partir de différentes éditions linguistiques de Wikipedia. Voici comment je m'y prends :\n",
    "\n",
    "1. **Initialisation du pilote du navigateur** :\n",
    "   - J'initialise un pilote Chrome en utilisant `webdriver.Chrome()`. Cela me permet d'ouvrir et de manipuler un navigateur Chrome directement depuis mon script.\n",
    "\n",
    "2. **Définition du dossier de données et des langues** :\n",
    "   - Je définis le chemin vers le dossier où je souhaite enregistrer les fichiers extraits. Je spécifie également une liste de codes de langue pour les éditions de Wikipedia que je souhaite explorer.\n",
    "\n",
    "3. **Initialisation des compteurs de fichiers** :\n",
    "   - Je crée un dictionnaire `file_counts` pour suivre le nombre de fichiers que j'ai écrits pour chaque langue, en initialisant tous les compteurs à zéro.\n",
    "\n",
    "4. **Récupération des URL initiales** :\n",
    "   - J'utilise la fonction `get_random_page_urls` pour obtenir une URL de page aléatoire pour chaque langue listée. Cela me donne un point de départ pour chaque langue.\n",
    "\n",
    "5. **Traitement pour chaque langue** :\n",
    "   - Pour chaque langue, je continue à extraire et enregistrer des paragraphes tant que je n'ai pas atteint 20 fichiers pour cette langue. Je récupère l'URL actuelle pour la langue en question et j'extrait des paragraphes et le titre de l'article à partir de cette URL.\n",
    "\n",
    "6. **Écriture des paragraphes** :\n",
    "   - Si des paragraphes sont extraits, je les enregistre en utilisant la fonction `write_txt`.\n",
    "\n",
    "7. **Exploration des liens interlangues** :\n",
    "   - J'utilise `get_interlanguage_urls` pour récupérer des liens vers d'autres éditions linguistiques de la même page Wikipedia. Pour chaque lien valide qui pointe vers une langue que je suis en train de traiter et où je n'ai pas encore atteint la limite de 20 fichiers, j'extrait et j'enregistre les paragraphes.\n",
    "\n",
    "8. **Rafraîchissement des URL** :\n",
    "   - Après avoir traité les liens interlangues, je rafraîchis l'URL de base pour la langue actuelle en récupérant une nouvelle URL aléatoire. Cela me permet de continuer à extraire de nouveaux contenus sans boucler sur les mêmes pages.\n",
    "\n",
    "9. **Nettoyage** :\n",
    "   - Une fois que j'ai fini de traiter toutes les langues, je ferme le pilote du navigateur avec `driver.quit()` pour libérer les ressources.\n",
    "\n",
    "Cette fonction `main` organise donc systématiquement l'extraction de contenus multilingues à partir de Wikipedia, les sauvegarde localement, et assure que le nombre de fichiers pour chaque langue atteint un seuil spécifié. Cela me permet de construire une collection diversifiée de textes pour différents usages, comme l'entraînement de modèles de traitement de langues."
   ]
  },
  {
   "cell_type": "code",
   "execution_count": 11,
   "metadata": {},
   "outputs": [
    {
     "name": "stdout",
     "output_type": "stream",
     "text": [
      "Found 1 paragraphs for https://ar.wikipedia.org/wiki/%D8%A3%D9%84%D9%81%D8%B1%D8%AF_%D9%88%D9%88%D9%83%D8%B1_(%D9%85%D8%A8%D8%A7%D8%B1%D8%B2_%D8%A8%D8%A7%D9%84%D8%B3%D9%8A%D9%81) : ['ألفرد ووكر (بالإنجليزية: Alfre']\n",
      "Found 2 paragraphs for https://ar.wikipedia.org/wiki/%D9%84%D9%8A%D8%AA%D8%B4%D8%A7%D8%AA%D9%8A%D9%84%D9%8A%D8%B1%D9%8A%D8%AA : ['الليتشاتيليريت هو شكل زجاجي من', 'يصنف الليتشاتيليريت على أنه شب']\n",
      "Found 8 paragraphs for https://ar.wikipedia.org/wiki/%D8%B3%D9%82%D9%88%D8%B7_%D8%A7%D9%84%D9%85%D8%B1%D8%B3%D9%89_%D8%A7%D9%84%D9%83%D8%A8%D9%8A%D8%B1_(1505) : ['الاستيلاء على مرسى الكبير بالأ', 'بعد غزو غرناطة في أسبانيا وقمع', 'تم تجهير أسطول مكون من مائة وس', 'غادرت القوات البحرية ميناء مال', 'وفي الجزائر علموا بالحملة الأس', 'تم الهجوم في 11 سبتمبر عندما أ', 'في اليوم التالي في 12 سبتمبر ه', 'بقي المرسى حوالي 300 عام تحت ا']\n",
      "Found 6 paragraphs for https://ar.wikipedia.org/wiki/%D9%87%D9%8A%D9%84%D8%AF%D9%8A%D8%BA%D8%A7%D8%B1%D8%AF_%D9%84%D9%8A%D8%B4%D8%B1%D8%AA : ['هيلدغارد مارثا ليشرت (19 مارس ', 'في أكتوبر 1942، في سن ال 22، ت', 'في يوليو 1945، عادت لاشيرت، ال', 'في نوفمبر 1947، ظهر العضو السا', 'في أغسطس 1973، ألقي القبض على ', 'كانت الشهادات التي تم الاستماع']\n",
      "Found 1 paragraphs for https://ar.wikipedia.org/wiki/%D8%AA%D8%BA%D9%84%D9%89_%D8%B3%D8%A7%D8%AF%D8%A7%D8%AA_(%D8%A7%D9%84%D8%B1%D9%8A%D9%81_%D8%A7%D9%84%D8%BA%D8%B1%D8%A8%D9%8A) : ['تغلى سادات (بالفارسية: طغلی سا']\n",
      "Found 1 paragraphs for https://ar.wikipedia.org/wiki/449 : ['سنة 449 م (بالأرقام الرومانية:']\n",
      "Found 10 paragraphs for https://ar.wikipedia.org/wiki/%D8%A7%D9%84%D8%A8%D9%88%D8%B0%D9%8A%D8%A9_%D8%A7%D9%84%D9%85%D8%B4%D8%A7%D8%B1%D9%83%D8%A9 : ['تشيرُ البوذيّة المشارِكة إلى ا', 'انتشرت البوذية بشكل واسعٍ بين ', 'صاغ هذا المصطلح المعلّم الفييت', 'ومنذ ذلك الحين، تمّ إعادة تعبي', 'حدّد الكاتب الأندونيسي والبولا', 'في الغرب، وكما هو الحال بالنّس', 'وقد أنشأ المسيحيّون عدّة مجموع', 'إن مّنظمات مثل منظمة سوكا غاكا', 'ومن الشخصيّات البارزة في الحرك', 'كانت اللغة الصينية الفصحى (بال']\n",
      "Found 1 paragraphs for https://ar.wikipedia.org/wiki/%D8%B1%D9%88%D8%A8_%D8%AA%D9%88%D9%85%D8%B3%D9%88%D9%86_(%D9%85%D8%A4%D9%84%D9%81) : ['روب تومسون (بالإنجليزية: Robb ']\n",
      "Found 1 paragraphs for https://ar.wikipedia.org/wiki/%D9%86%D9%88%D8%B1%D9%85%D8%A7%D9%86_%D8%AF%D9%8A%D9%88%D9%8A%D8%B3 : ['نورمان ديويس (بالإنجليزية: Nor']\n",
      "Found 1 paragraphs for https://ar.wikipedia.org/wiki/%D8%A3%D8%A8%D9%8A%D9%88%D9%86%D9%8A%D8%AF%D8%A7%D8%B2%D9%88%D9%84 : ['الأبيونيدازول (اسم دولي غير مس']\n",
      "Found 12 paragraphs for https://ar.wikipedia.org/wiki/%D8%A8%D9%88%D8%B1%D8%AA%D8%B1%D9%8A%D9%87_%D8%B1%D8%A7%D9%85%D8%A8%D8%B1%D8%A7%D9%86%D8%AA : ['كانت العشرات من الصور الذاتية ', 'بالمقارنة، أنتج روبنز غزير الإ', 'في وقت من الأوقات، أحصيت حوالي', 'غالبًا ما كانت الرسوم المنقوشة', 'في حين أن التفسير الشائع هو أن', 'والنقوش على حد سواء،[13] وبينم', 'رُسمت صور رامبرانت الذاتية بِن', 'أشير إلى المرايا الكبيرة في نق', 'قسَّم إرنست فان دي ويترينغ 31 ', 'كنقش «أوراق دراسة». ثم هناك 10', 'في حين أن النقوش المبكرة نادرة', 'عدد الرسومات المقبولة الآن أقل']\n",
      "Found 1 paragraphs for https://ar.wikipedia.org/wiki/%D8%A5%D8%AF%D9%85%D9%88%D9%86%D8%AF_%D9%84%D8%A7%D9%86%D8%AF%D9%88 : ['إدموند لانداو (بالألمانية: Edm']\n",
      "Found 1 paragraphs for https://ar.wikipedia.org/wiki/%D8%A3%D8%AA%D8%B3%D9%88%D8%B4%D9%8A_%D9%83%D8%A7%D8%AA%D8%A7%D9%83%D9%8A%D8%B1%D9%8A : ['أتسوشي كاتاكيري (باليابانية: 片']\n",
      "Found 1 paragraphs for https://ar.wikipedia.org/wiki/%D8%AA%D9%8A%D9%85_%D8%AF%D8%A7%D9%84%D9%8A_(%D9%85%D9%86%D8%A7%D9%81%D8%B3_%D8%A3%D9%84%D8%B9%D8%A7%D8%A8_%D9%82%D9%88%D9%89) : ['تيم دالي (بالإنجليزية: Tim Dal']\n",
      "Found 1 paragraphs for https://ar.wikipedia.org/wiki/%D8%B3%D9%84%D9%8A%D9%85_%D9%82%D8%B1%D8%A9 : ['سليم قرة هو شخصية أعمال كندي، ']\n",
      "Found 3 paragraphs for https://ar.wikipedia.org/wiki/%D8%A3%D8%B4%D8%A8%D8%A7%D9%87_%D8%A7%D9%84%D8%A8%D8%B4%D8%B1 : ['أشباه البشر[2] أو قردة بشرية ا', 'مخطط النسل الأشباه البشر مبين ', '']\n",
      "Found 1 paragraphs for https://ar.wikipedia.org/wiki/%D8%AC%D9%8A%D8%B1%D9%8A_%D9%81%D9%84%D9%8A%D9%86%D8%AA : ['جيري فلينت (بالإنجليزية: Jerry']\n",
      "Found 3 paragraphs for https://ar.wikipedia.org/wiki/%D8%A5%D8%AF%D9%88%D8%A7%D8%B1%D8%AF_%D8%A8%D9%8A%D9%84%D9%86%D8%AC : ['كان إدوارد بيلنج (عمد عام 1640', 'ولد بيلينج في ويلتشير، وتلقى ت', ' This article incorporates tex']\n",
      "Found 2 paragraphs for https://ar.wikipedia.org/wiki/%D9%85%D8%A7%D9%85%D8%A7%D8%AF%D9%88_%D8%A8%D8%A7%D9%84%D8%AF%D9%8A : ['مامادو بالدي (12 ديسمبر 1985 (', 'بدأ بالدي مسيرته الرياضية في ن']\n",
      "Found 9 paragraphs for https://ar.wikipedia.org/wiki/%D8%AF%D9%8A%D9%83%D8%A7%D9%84%D8%A8 : ['ديكالب (بالإنجليزية: DeKalb, I', 'حدّد مكتب تعداد الولايات المتح', 'بلغ عدد سكان ديكالب 39,018 نسم', 'بلغ عدد الأسر 13,081 أسرة كانت', 'بلغ العمر الوسطي للسكان 23.1 ع', 'بلغ متوسط دخل الأسرة في المدين', 'بلغ عدد سكان ديكالب 43,862 نسم', 'بلغ عدد الأسر 15,386 أسرة كانت', 'بلغ العمر الوسطي للسكان 23.6 ع']\n",
      "Found 1 paragraphs for https://ar.wikipedia.org/wiki/%D8%A2%D9%8A%D8%AA_%D8%AD%D9%86%D8%AF_%D8%A3%D9%88_%D8%A7%D8%AD%D8%B3%D9%8A%D9%86_(%D8%A2%D9%8A%D8%AA_%D9%86%D8%B9%D9%85%D8%A7%D9%86_%D8%A7%D9%84%D8%AC%D9%86%D9%88%D8%A8%D9%8A%D8%A9) : ['آيت حند أو احسين هو دُوَّار يق']\n",
      "Found 3 paragraphs for https://ar.wikipedia.org/wiki/%D8%A7%D9%84%D8%B9%D9%84%D8%A7%D9%82%D8%A7%D8%AA_%D8%A7%D9%84%D8%AA%D9%88%D8%BA%D9%88%D9%8A%D8%A9_%D8%A7%D9%84%D9%81%D9%8A%D8%AA%D9%86%D8%A7%D9%85%D9%8A%D8%A9 : ['العلاقات التوغولية الفيتنامية ', 'هذه مقارنة عامة ومرجعية للدولت', 'يشترك البلدان في عضوية مجموعة ']\n"
     ]
    },
    {
     "name": "stderr",
     "output_type": "stream",
     "text": [
      "ERROR:root:Timeout when trying to find interlanguage links for https://ar.wikipedia.org/wiki/%D8%A7%D9%84%D8%B9%D9%84%D8%A7%D9%82%D8%A7%D8%AA_%D8%A7%D9%84%D8%AA%D9%88%D8%BA%D9%88%D9%8A%D8%A9_%D8%A7%D9%84%D9%81%D9%8A%D8%AA%D9%86%D8%A7%D9%85%D9%8A%D8%A9\n",
      "\n"
     ]
    },
    {
     "name": "stdout",
     "output_type": "stream",
     "text": [
      "Found 4 paragraphs for https://ar.wikipedia.org/wiki/%D8%A3%D9%84%D9%88%D9%8A%D8%B3_%D8%A8%D8%B1%D9%88%D9%86%D8%B1 : ['أليوس بورنير (بالألمانية: Aloi', 'عاش أليوس بورنير في فترة الحكم', 'كان برونير خرج من ألمانيا خوفا', 'توفي في العاصمة السورية دمشق ل']\n",
      "Found 4 paragraphs for https://ar.wikipedia.org/wiki/%D9%83%D8%A7%D8%A6%D9%86_%D8%A3%D8%B3%D8%B7%D9%88%D8%B1%D9%8A : ['المخلوق الأسطوري أو الكائن الخ', 'ومن ناحية أخرى كانت العديد من ', 'تظهر مجموعة من الحيوانات في ال', 'بعض مخلوقات العصر الكلاسيكي، م']\n",
      "Found 1 paragraphs for https://ar.wikipedia.org/wiki/%D9%83%D9%8A%D9%8A%D9%84_%D8%B3%D9%81%D9%8A%D9%86%D8%B3%D9%88%D9%86 : ['كييل سفينسون (بالسويدية: Kjell']\n",
      "Found 1 paragraphs for https://ar.wikipedia.org/wiki/%D8%AC%D8%B1%D8%A7%D8%A8_%D8%A7%D9%84%D8%A3%D8%B9%D9%84%D9%89_(%D8%A7%D9%84%D9%85%D8%B3%D9%8A%D9%85%D9%8A%D8%B1) : ['جراب الأعلى هي إحدى قرى عزلة ا']\n"
     ]
    },
    {
     "name": "stderr",
     "output_type": "stream",
     "text": [
      "ERROR:root:Timeout when trying to find interlanguage links for https://ar.wikipedia.org/wiki/%D8%AC%D8%B1%D8%A7%D8%A8_%D8%A7%D9%84%D8%A3%D8%B9%D9%84%D9%89_(%D8%A7%D9%84%D9%85%D8%B3%D9%8A%D9%85%D9%8A%D8%B1)\n",
      "\n"
     ]
    },
    {
     "name": "stdout",
     "output_type": "stream",
     "text": [
      "Found 1 paragraphs for https://ar.wikipedia.org/wiki/%D9%83%D8%A7%D8%B1%D9%88%D9%84_%D8%B3%D9%88%D8%AA%D9%88%D9%86_(%D8%B1%D8%B3%D8%A7%D9%85%D8%A9) : ['كارول سوتون (بالإنجليزية: Caro']\n",
      "Found 2 paragraphs for https://ar.wikipedia.org/wiki/%D8%AF%D9%8A_%D8%A3%D9%83%D8%B3%D8%AC%D9%8A%D9%86 : ['دي أكسجين (بالإنجليزية: Doxyge', 'Doxygen هو برنامج مجاني، تم إص']\n",
      "Found 1 paragraphs for https://ar.wikipedia.org/wiki/%D8%B2%D8%A7%D9%86%D8%AB%D9%88%D8%B3%D9%8A%D9%86_%D8%AB%D9%84%D8%A7%D8%AB%D9%8A_%D8%A7%D9%84%D9%81%D8%B3%D9%81%D8%A7%D8%AA : ['الزانثوسين ثلاثي الفسفات (بالإ']\n",
      "Found 1 paragraphs for https://ar.wikipedia.org/wiki/%D9%81%D9%8A%D9%84%D9%8A%D8%A8_%D8%A8%D9%88%D9%86%D8%AF : ['فيليب بوند (بالإنجليزية: Phili']\n",
      "Found 1 paragraphs for https://ar.wikipedia.org/wiki/%D8%A3%D9%88%D8%B3%D9%83%D8%A7%D8%B1_%D9%81%D9%88%D8%B3%D8%AA%D8%B1 : ['أوسكار فوستر (2 ديسمبر 1874 في']\n",
      "Found 1 paragraphs for https://ar.wikipedia.org/wiki/%D8%A8%D8%A7%D8%AA%D8%B1%D9%8A%D9%83_%D8%A3%D9%83%D9%86%D9%8A%D9%84 : ['باتريك أُكنيل لاعب كرة قدم ومد']\n",
      "Found 1 paragraphs for https://ar.wikipedia.org/wiki/%D8%A7%D8%B2%D8%B1%D9%88%D8%B1%D9%88_(%D8%A8%D8%B1%D8%AA%D8%A7%D8%AA) : ['ازرورو هو دُوَّار يقع بجماعة أ']\n",
      "Found 1 paragraphs for https://ar.wikipedia.org/wiki/%D9%85%D9%88%D8%B1%D9%8A%D8%AA%D8%B2_%D9%83%D9%88%D8%B1%D9%86%D8%B1 : ['موريتز كورنر هو سياسي ألماني، ']\n",
      "Found 9 paragraphs for https://ar.wikipedia.org/wiki/%D8%AA%D9%8A%D8%B3%D8%A7_%D8%AC%D8%A7%D9%86%D8%B3%D9%8A%D8%BA%D9%8A%D8%BA : ['تيسا جانسيغيغ (من مواليد 16 ما', 'ولد جانسيغيغ في 16 مايو 1977 ف', 'جانسيغيغ تنتمي إلى التحالف 90 ', 'في انتخابات 2013 ، تم انتخاب ج', 'في كانون الأول (ديسمبر) 2018 ،', 'في الانتخابات الفيدرالية الألم', 'في حين أن تغيير جنسها لم يتم ا', 'جانسيغيغ متزوجة من إيناس إيشمو', ' ']\n",
      "Found 6 paragraphs for https://ar.wikipedia.org/wiki/%D9%85%D8%B5%D8%B7%D9%81%D9%89_%D8%A8%D9%84%D9%88%D8%B5%D9%8A%D9%81 : ['مصطفى بلوصيف جنرال جزائري، وهو', 'ولد اللواء مصطفى بن لوصيف بتار', 'حُوكم في المحكمة العسكرية بتهم', 'أفرج عنه الرئيس الأسبق اليامين', 'كانت ظروف محاكمته في فترة صعبة', 'توفي يوم 15 يناير 2010 عن عمر ']\n",
      "Found 1 paragraphs for https://ar.wikipedia.org/wiki/UBE1DC1 : ['UBE1DC1 (Ubiquitin like modifi']\n",
      "Found 7 paragraphs for https://ar.wikipedia.org/wiki/%D9%84%D9%8A%D8%A8%D9%8A%D8%AF_1 : ['Lybid (بالأوكرانية: Либідь) هو', 'من المُحتَمل أن يتم إطلاق القم', 'تم تأجيل إطلاق القمر الصناعي م', 'يهدف هذا القمر الصناعي إلى توف', 'سوف يتم تزويد القمر الصناعي بـ', 'المقاول الرئيسي ومطور الحمولة ', 'المقاول من الباطن هو JSC Infor']\n",
      "Found 4 paragraphs for https://ar.wikipedia.org/wiki/%D8%B3%D9%82%D8%A7%D9%8A%D8%A9_%D8%B3%D9%84%D9%85%D8%A7%D9%86_%D8%A7%D9%84%D9%82%D8%A7%D8%AF%D8%B1%D9%8A : ['سقاية سلمان القادري', 'من سقايات الماء التي وضعت لانت', 'ولا تزال هذه السقاية قائمة وعل', 'سقايات بغداد العامة في العهد ا']\n"
     ]
    },
    {
     "name": "stderr",
     "output_type": "stream",
     "text": [
      "ERROR:root:Timeout when trying to find interlanguage links for https://ar.wikipedia.org/wiki/%D8%B3%D9%82%D8%A7%D9%8A%D8%A9_%D8%B3%D9%84%D9%85%D8%A7%D9%86_%D8%A7%D9%84%D9%82%D8%A7%D8%AF%D8%B1%D9%8A\n",
      "\n"
     ]
    },
    {
     "name": "stdout",
     "output_type": "stream",
     "text": [
      "Found 1 paragraphs for https://ar.wikipedia.org/wiki/%D8%A7%D8%B2%D9%83%D8%B2%D8%A7_(%D8%A7%D9%83%D9%8A%D9%86%D8%A7%D9%86) : ['ازكزا هو دُوَّار يقع بجماعة أڭ']\n",
      "Found 1 paragraphs for https://ar.wikipedia.org/wiki/%D8%AA%D8%B4%D8%A7%D8%B1%D9%84%D8%B2_%D9%85%D8%A7%D9%83%D8%B1%D8%A7%D9%8A : ['تشارلز ماكراي (بالإنجليزية: Ch']\n",
      "Found 1 paragraphs for https://ar.wikipedia.org/wiki/%D8%AA%D9%8A%D8%B1%D9%8A_%D9%83%D8%A7%D9%86%D8%A7%D9%84%D9%8A%D8%B3 : ['تيري كاناليس (بالإنجليزية: Ter']\n",
      "Found 8 paragraphs for https://ar.wikipedia.org/wiki/%D8%B2%D8%B1%D9%86%D9%88%D9%82%D8%A9 : ['زرنوقة، قرية فلسطينية مهجرة، ل', 'أنشئت زرنوقة في السهل الساحلي ', 'تشبه القرية في شكلها العام شبه', 'احتل جنود إسرائيليون من لواء غ', '«أخبرني الجندي كيف فتح أحد الج', 'في تلك الآونة، نقلت صحيفة «نيو', 'في آب/أغسطس، تقيد كيبوتس شِلّر', 'غلبت منازل المستعمرات الإسرائي']\n",
      "Found 1 paragraphs for https://ar.wikipedia.org/wiki/%D9%84%D8%A7%D9%81%D8%A7%D8%B3%D9%88%D9%81%D8%AA : ['لافاسوفت (بالإنجليزية: Lavasof']\n",
      "Found 2 paragraphs for https://ar.wikipedia.org/wiki/%D9%81%D8%B1%D9%82%D8%A9_%D9%81%D8%A7%D9%81%D9%86_%D8%BA%D8%B1%D9%8A%D9%86%D8%A7%D8%AF%D9%8A%D8%B1_%D8%A7%D9%84%D8%AA%D8%A7%D8%B3%D8%B9%D8%A9_%D8%B9%D8%B4%D8%B1_%D8%A7%D9%84%D8%AA%D8%A7%D8%A8%D8%B9%D8%A9_%D9%84%D9%82%D9%88%D8%A7%D8%AA_%D8%A7%D9%84%D8%A3%D9%85%D9%86_%D8%A7%D9%84%D8%AE%D8%A7%D8%B5%D8%A9_(%D8%A7%D9%84%D9%84%D8%A7%D8%AA%D9%81%D9%8A%D8%A9_%D8%A7%D9%84%D8%AB%D8%A7%D9%86%D9%8A%D8%A9) : ['فرقة فافن غرينادير التاسعة عشر', 'تم تشكيل الفرقة في يناير 1944،']\n",
      "Found 4 paragraphs for https://ar.wikipedia.org/wiki/%D8%A7%D9%84%D8%AD%D8%AF%D8%A7%D8%AF_(%D9%82%D8%B1%D9%8A%D8%A9) : ['الحداد إحدى قرى مركز بسيون الت', 'قرية الحداد من القرى القديمة، ', 'بلغ عدد سكان الحداد 4,600 نسمة', '']\n",
      "Found 1 paragraphs for https://ar.wikipedia.org/wiki/%D8%B1%D9%88%D8%AF%D9%8A_%D9%85%D8%A7%D9%83%D9%84%D9%8A%D9%86%D8%A7%D9%86 : ['رودي ماكلينان (بالإنجليزية: Ro']\n",
      "Found 1 paragraphs for https://ar.wikipedia.org/wiki/%D8%BA%D8%A7%D8%A8%D8%B1%D9%8A%D9%8A%D9%84_%D8%B1%D9%88%D8%A8%D8%B1%D8%AA : ['غابرييل (غابي) روبرت (بالفرنسي']\n",
      "Found 1 paragraphs for https://ar.wikipedia.org/wiki/%D8%A8%D9%86%D9%83_%D9%86%D8%A7%D9%85%D9%8A%D8%A8%D9%8A%D8%A7 : ['بنك ناميبيا هو البنك المركزي ل']\n",
      "Found 1 paragraphs for https://ar.wikipedia.org/wiki/%D9%85%D8%A7%D8%B1%D8%AA%D9%86_%D8%A8%D9%88%D8%B4%D9%8A%D9%84 : ['مارتن بوشيل (بالألمانية: Marti']\n",
      "Found 2 paragraphs for https://ar.wikipedia.org/wiki/%D8%B3%D9%81%D8%A7%D8%B1%D8%AA%D8%A7%D9%84%D9%81%D9%87%D8%A7%D9%8A%D9%85 : ['سفارتالفهايم (بالإنجليزية: Sva', 'وفقا لمدونة إسكندنافية في وقت ']\n",
      "Found 5 paragraphs for https://ar.wikipedia.org/wiki/%D8%B1%D9%8A%D8%AA%D8%B4%D8%A7%D8%B1%D8%AF_%D8%AF%D8%A7%D9%86 : ['ريتشارد باتريك دن (بالإنجليزية', 'بدأ مسيرته الكروية مع نادي إيف', 'لعب ريتشارد دان خلال مسيرته ال', 'خاض ريتشارد دان مسيرته مع نادي', '']\n",
      "Found 64 paragraphs for https://ar.wikipedia.org/wiki/%D9%86%D8%B8%D8%B1%D9%8A%D8%A9_%D8%A7%D9%84%D8%AA%D9%88%D8%A7%D8%B2%D9%86_%D8%A7%D9%84%D8%B9%D8%A7%D9%85 : ['نظرية التوازن العام (بالإنجليز', 'تَدرسُ نَظرية التَوازن العام ك', 'يُفترض غالباً أن الوكلاء محتجز', 'بشكلٍ عام، غالباً ما يُحاول ال', 'إن الفُروق بَينَ الأَساليب غَي', 'فيِ نِظامِ السُوق، عادةً ما تك', 'كانت المُحاولة الأُولى في الاق', 'كانَ نَموذج ويليرس نوذجاً طويل', 'كان ويليرس أولَ من وَضَعَ بَرن', 'كما أن ويليرس اقترحَ عمليةَ دي', 'تُمثل طريقة التجربة والخطأ نمو', 'عندَ تحليل التوازن الجزئي، يَت', 'في حال كانت الصناعة تستخدم الق', 'أَحرزَ خُبراء الاقتصاد في القا', 'يتم تقديم المَفهوم الحديث لِلت', 'حيثُ تَم الاستشهاد بِثلاثِ تفس', 'التفسير الثاني، يَقوم على افتر', 'التفسير الثالث، يَفترض أَنَ ال', 'تعتبر هذه التفسيرات متكاملة (ج', 'إنَ بعضَ الأعمالِ الأخيرة التي', 'إنَ الأسئِلة الأساسية في تحليل', 'تؤكد النظرية الأساسية الأولى ل', 'تُعتبر هذه النظرية مُفيدة لأنه', 'حتى وَلو كانَ كُل توازن عبارة ', 'حتى ولو كان كُل توازن فعال، وم', 'إن البراهين التي تثبت وجود الت', 'هُناك العديد من الطرق الأُخرى ', 'قام ستار بتطبيقِ نظرية شابلي-ف', '\"إن بَعضَ النتائِج الرئيسية، و', 'قام جوسنري بالحاق الحاشية التا', 'بشكلٍ خاص، قد تم ادراج نتائج ش', 'غالباً ما يُفترض وجود التحدب، ', 'تُعرف النتيجة لما سبق باسم نظر', 'نظراً إلى أن التوازن قد لا يكو', 'قام مايكيل ماندلر بتحدٍ لِهذا ', '«لا يعتبر اللاتحديد مصدر إزعاج', 'عندما تم عمل نموذج تكنولجي (من', '«ينشأ اللاتحديد بشكل منتظم عبر', 'و قد تسأل البعض عن أسلوب يتم ا', 'يُمكن اعتبار الأَسعار السائِدة', 'لقد كَشفت الأَبحاث المَبنية عل', 'تَم تنظيم هذا النَمُوذج بنائاً', 'إِنَ البينات التي تُحدد التواز', 'إن الاقتصادِ الحقيقي يتمثل بِـ', 'يتطلب نموذج ارو-ديبرو الذي تحد', 'على الرغم من أن نموذج ارو-ديبر', 'يؤكد بعض المنتقدين لنماذج التو', 'تُظهر نماذج التوازن الحديثة أن', 'قام فرانك هان بالمدافعة عن نما', 'بقي تحليل التوازن العام غير نظ', 'أُنشأت نماذج التوازن العام الت', 'أُحلت نماذج التوان العام المحس', 'تعتبر نظرية التوازن نقطية مركز', 'الاقتصاديات الكنزية وما بعد ال', 'مِنَ الجَدير بِنا الحَذر من هذ', 'يُمكن اعتبار المدى الطويل دليل', 'كما أَنه من السخيفِ أَن نفترضَ', 'يقول روبيرت كلوير وآخرين، حيثُ', 'لِنَكُن أكثَرَ منهجيّة، فإِنَ ', 'سواء كانَ الاقتصاد النمساوي يد', 'يُمكن اعتبار نظرية التوازن الع', 'يضمن الاقتصاد الاشتراكي نقداً ', 'تُعتبر هذهِ المدرسة نُقطة انطل', 'أما بالنسبةِ لِقضيةِ التوازن ف']\n",
      "Found 1 paragraphs for https://ar.wikipedia.org/wiki/%D9%87%D8%A7%D9%86%D9%88_%D9%85%D9%8A%D9%83%D9%88%D9%84%D8%A7 : ['هانو ميكولا (بالفنلندية: Hannu']\n",
      "Found 1 paragraphs for https://ar.wikipedia.org/wiki/%D8%A3%D9%88%D8%B2_%D9%83%D9%84%D8%A7%D8%B1%D9%83 : ['أوز كلارك (بالإنجليزية: Oz Cla']\n",
      "Found 1 paragraphs for https://ar.wikipedia.org/wiki/%D8%AA%D8%AC%D9%85%D8%B9_%D8%A7%D9%84%D8%A8%D9%83%D8%B1%D9%8A : ['تجمع البكرى قرية تابعة لمركز ا']\n",
      "Found 6 paragraphs for https://ar.wikipedia.org/wiki/%D8%B9%D9%84%D8%A7%D9%82%D8%A7%D8%AA_%D8%BA%D9%8A%D9%86%D9%8A%D8%A7_%D8%A7%D9%84%D8%AE%D8%A7%D8%B1%D8%AC%D9%8A%D8%A9 : ['تحسنت العلاقات الخارجية لغينيا', 'أعادت غينيا العلاقات مع فرنسا ', 'في 5 مايو 2009، أعلن الرئيس مو', 'أثر القرار على السفراء في الول', 'ولم يذكر سبب الاستدعاء. [5] تق', 'في أواخر مارس 2009، واجه السفي']\n",
      "Found 1 paragraphs for https://ar.wikipedia.org/wiki/%D8%AE%D9%88%D8%B3%D9%8A%D9%87_%D9%83%D8%A7%D8%B1%D9%84%D9%88%D8%B3 : ['خوسيه كارلوس (بالبرتغالية: Jos']\n",
      "Found 2 paragraphs for https://ar.wikipedia.org/wiki/%D8%AF%D8%BA%D9%8A%D9%85_(%D8%A7%D8%B3%D9%85) : ['دغيم هو اسم علم مذكر من أصل عر', '']\n"
     ]
    },
    {
     "name": "stderr",
     "output_type": "stream",
     "text": [
      "ERROR:root:Timeout when trying to find interlanguage links for https://ar.wikipedia.org/wiki/%D8%AF%D8%BA%D9%8A%D9%85_(%D8%A7%D8%B3%D9%85)\n",
      "\n"
     ]
    },
    {
     "name": "stdout",
     "output_type": "stream",
     "text": [
      "Found 1 paragraphs for https://ar.wikipedia.org/wiki/%D8%A7%D9%84%D9%88%D9%84%D9%8A_(%D8%A7%D9%84%D8%B3%D8%AF%D8%A9) : ['الولي محلة تابعة لقرية حفزان، ']\n",
      "Found 1 paragraphs for https://ar.wikipedia.org/wiki/%D9%84%D9%8A%D9%88%D9%86%D8%A7%D8%B1%D8%AF_%D8%A2%D8%B1%D8%AB%D8%B1_%D9%83%D8%B1%D9%8A%D8%B3%D8%AA%D9%8A%D8%A7%D9%86 : ['ليونارد آرثر كريستيان هو طيار ']\n",
      "Found 2 paragraphs for https://ar.wikipedia.org/wiki/%D8%A3%D8%B3%D8%B7%D9%88%D9%85%D8%A9_%D8%A7%D9%84%D9%84%D8%AD%D8%A7%D8%A1 : ['أسطومة اللحاء (الاسم العلمي Ne', '']\n",
      "Found 1 paragraphs for https://ar.wikipedia.org/wiki/%D9%86%D8%A7%D9%86%D8%B3%D9%8A_%D8%BA%D8%A7%D8%B1%D8%AF%D9%86 : ['نانسي غاردن (بالإنجليزية: Nanc']\n",
      "Found 1 paragraphs for https://ar.wikipedia.org/wiki/%D8%A5%D8%B1%D8%AF%D9%83 : ['إردك هي بلدة وقضاء في بالق أسي']\n",
      "Found 23 paragraphs for https://ar.wikipedia.org/wiki/%D8%AA%D9%83%D9%86%D9%88%D9%84%D9%88%D8%AC%D9%8A%D8%A7_%D8%AB%D9%82%D8%A7%D9%81%D9%8A%D8%A9 : ['التكنولوجيا الثقافية، هي نظام ', 'صرح لي من خلال خطاب ألقاه في ك', 'يشرح الدليل الذي يُطلب من جميع', 'كان نظام التكنولوجيا الثقافية ', 'في حين أن غالبية نجوم الكي بوب', 'يتدرب النجوم على نطاق واسع قبل', 'قبل الظهور لأول مرة، يحاول الن', 'إنتاج الموسيقى جزء لا يتجزأ من', 'في مرحلة التسويق والإدارة تسعى', 'أيضًا هذا هو المكان الذي تجد ف', 'في فبراير 2016، استضافت إس إم ', 'تكنولوجيا الثقافة الجديدة هي 5', 'أعلنت إس إم عن نيتها في إنشاء ', 'تكنولوجيا الثقافة الجديدة (إن ', 'قدمت تكنولوجيا الثقافة الجديدة', 'تم إصدار سكريم ريكوردز بواسطة ', 'أطلقت سكريم ريكوردز لأول مرة أ', 'وفقًا للي، هناك ثلاث مراحل ضرو', 'على الرغم من ادعاء لي أنه صاغ ', 'الكي بوب', 'آيدول البوب الكوري', 'الموجة الكورية', 'إنشاء محتوى']\n",
      "Found 2 paragraphs for https://ar.wikipedia.org/wiki/%D8%AD%D8%A7%D8%B1%D8%A9_%D9%82%D8%B1%D9%85%D8%A7%D9%86_(%D8%B5%D9%86%D8%B9%D8%A7%D8%A1) : ['حارة قرمان هي إحدى حارات حي ال', '']\n"
     ]
    },
    {
     "name": "stderr",
     "output_type": "stream",
     "text": [
      "ERROR:root:Timeout when trying to find interlanguage links for https://ar.wikipedia.org/wiki/%D8%AD%D8%A7%D8%B1%D8%A9_%D9%82%D8%B1%D9%85%D8%A7%D9%86_(%D8%B5%D9%86%D8%B9%D8%A7%D8%A1)\n",
      "\n"
     ]
    },
    {
     "name": "stdout",
     "output_type": "stream",
     "text": [
      "Found 1 paragraphs for https://ar.wikipedia.org/wiki/%D9%85%D8%A7%D8%B1%D9%83%D9%88_%D9%85%D8%A7%D8%B1%D8%AA%D9%86_(%D9%84%D8%A7%D8%B9%D8%A8_%D9%83%D8%B1%D8%A9_%D9%82%D8%AF%D9%85) : ['ماركو مارتن (بالإيطالية: Marco']\n",
      "Found 1 paragraphs for https://ar.wikipedia.org/wiki/%D8%AA%D8%B1%D8%A7%D9%81%D9%8A%D8%B3_%D8%AA%D9%88%D8%B1%D9%86%D8%A8%D9%88%D9%84 : ['ترافيس تورنبول (بالإنجليزية: T']\n",
      "Found 3 paragraphs for https://ar.wikipedia.org/wiki/%D8%A7%D9%84%D8%A5%D8%B3%D9%84%D8%A7%D9%85_%D9%81%D9%8A_%D8%B3%D8%A7%D9%85%D9%88%D8%A7 : ['الإسلام في ساموا هو أقلية ديني', 'يعود تاريخ الإسلام في ساموا إل', 'حسب إحصاء سنة 2001، بلغ عدد مس']\n",
      "Found 4 paragraphs for https://ar.wikipedia.org/wiki/%D9%84%D9%88_%D8%B3%D8%A7%D9%85%D9%8A%D9%86_2018 : ['لو سامين 2018 (بالفرنسية: Le S', 'فاز فيه بالمركز الأول نيكي تير', '', '']\n",
      "Found 4 paragraphs for https://ar.wikipedia.org/wiki/(50387)_2000_CM91 : ['2000 سي أم 91 (ويعرف أيضًا باس', 'اكتُشف 503872000CM في 6 فبراير', 'يتميز مدار هذا الكويكب بنصف مح', 'يُقدر القدر المطلق (H) لـ50387']\n",
      "Found 2 paragraphs for https://ar.wikipedia.org/wiki/3-%D8%A3%D9%88%D9%83%D8%AA%D8%A7%D9%8A%D9%86 : ['3-أوكتاين هو مركب عضوي هيدروكر', 'يوجد 3-أوكتاين في الشروط القيا']\n",
      "Found 1 paragraphs for https://ar.wikipedia.org/wiki/%D8%B3%D9%8A%D8%A8%D9%8A%D9%81%D9%8A%D9%84 : ['سيبيفيل (بالفرنسية: Sibiville)']\n",
      "Found 1 paragraphs for https://ar.wikipedia.org/wiki/%D9%85%D8%B4%D8%AA%D9%89_%D8%AF%D9%8A%D8%B1_%D9%85%D8%A7%D9%85%D8%A7 : ['مشتى دير ماما قرية سورية تتبع ']\n",
      "Found 1 paragraphs for https://ar.wikipedia.org/wiki/%D8%B9%D8%A8%D8%A7%D8%B3_%D8%BA%D8%B1%D9%8A%D8%A8 : ['عباس غريب هو مهندس إيطالي من أ']\n",
      "Found 1 paragraphs for https://ar.wikipedia.org/wiki/%D8%AC%D9%86%D8%B3%D9%86_%D9%84%D9%88%D9%8A%D8%B3 : ['جنسن لويس (بالإنجليزية: Jensen']\n",
      "Found 1 paragraphs for https://ar.wikipedia.org/wiki/NGC_7409 : ['NGC 7409 في الفهرس العام الجدي']\n",
      "Found 2 paragraphs for https://ar.wikipedia.org/wiki/%D8%B7%D8%A7%D8%B1%D9%82_%D8%AD%D8%AC%D9%8A%D8%A9 : ['طارق حجية هو لاعب نادي الموصل ', 'ولد في مدينة الموصل سنة 1960 و']\n"
     ]
    },
    {
     "name": "stderr",
     "output_type": "stream",
     "text": [
      "ERROR:root:Timeout when trying to find interlanguage links for https://ar.wikipedia.org/wiki/%D8%B7%D8%A7%D8%B1%D9%82_%D8%AD%D8%AC%D9%8A%D8%A9\n",
      "\n"
     ]
    },
    {
     "name": "stdout",
     "output_type": "stream",
     "text": [
      "Found 2 paragraphs for https://ar.wikipedia.org/wiki/%D9%83%D9%8A%D8%AB_%D8%AF%D9%8A%D9%81%D9%8A%D8%B3 : ['كيث ديفيس (بالإنجليزية: Keith ', 'تعلم في Italy High School [الإ']\n",
      "Found 1 paragraphs for https://ar.wikipedia.org/wiki/%D8%A7%D9%84%D8%AF%D9%88%D8%B1%D9%8A_%D8%A7%D9%84%D9%86%D9%85%D8%B3%D8%A7%D9%88%D9%8A_1921%E2%80%9322 : ['الدوري النمساوي الممتاز 1921–2']\n",
      "Found 1 paragraphs for https://ar.wikipedia.org/wiki/%D8%B9%D8%AC%D9%8A%D8%A8_(%D8%B4%D9%86%D8%A7%D8%B5) : ['عجيب منطقة سكنية تقع في ولاية ']\n",
      "Found 13 paragraphs for https://ar.wikipedia.org/wiki/%D9%88%D9%8A%D9%84%D9%8A%D8%A7%D9%85_%D8%A8%D9%86%D8%AF%D9%8A : ['كان وليام بوتنام «بيل» بوندي (', 'بعد تركه الخدمة الحكومية في عا', 'ولد بوندي في عام 1917 ونشأ في ', 'بعد التحاقه بكلية جروتون وجامع', 'بعد تخرجه من كلية الحقوق في عا', 'في أوائل الخمسينيات من القرن ا', 'استمر بوندي في العمل كمستشار ل', 'كما التحق شقيقه، ماكجيري بوندي', 'كان بيل بوندي إلى حد ما على يس', 'شغل بوندي منصب الأمين العام ال', 'كان عمل بوندي الأكثر شهرة هو ك', 'تزوج بيل بوندي من ماري أتشيسون', 'في 6 أكتوبر 2000، توفي ويليام ']\n",
      "Found 1 paragraphs for https://ar.wikipedia.org/wiki/%D8%A5%D9%84%D9%8A%D8%B2%D8%A7%D8%A8%D9%8A%D8%AB_%D9%83%D8%A7%D8%B3%D8%AA%D9%8A%D9%84%D9%88 : ['إليزابيث كاستيلو (بالإسبانية: ']\n",
      "Found 4 paragraphs for https://ar.wikipedia.org/wiki/%D8%AB%D9%86%D8%A7%D8%A6%D9%8A_%D9%85%D9%8A%D8%AB%D9%8A%D9%84_%D8%A7%D9%84%D8%AA%D8%B1%D8%A8%D8%AA%D8%A7%D9%85%D9%8A%D9%86 : ['ثنائي مثيل التربتامين (بالإنجل', 'يعتبر عقاراً مخدراً يتم تعاطيه', 'الإدمان ممكن في حالة الاستخدام', 'تختلف آثار عقار الدي إم تي من ']\n",
      "Found 1 paragraphs for https://ar.wikipedia.org/wiki/%D8%A3%D9%87%D9%84_%D8%A8%D8%A7%D8%B4%D8%A7%D9%85%D8%A9_(%D8%AD%D8%A8%D9%8A%D9%84_%D8%AC%D8%A8%D8%B1) : ['أهل باشامة هي إحدى قرى عزلة حب']\n",
      "Found 1 paragraphs for https://ar.wikipedia.org/wiki/1998_%D9%81%D9%8A_%D9%83%D8%B1%D9%88%D8%A7%D8%AA%D9%8A%D8%A7 : ['فيما يلي قوائم الأحداث التي وق']\n"
     ]
    },
    {
     "name": "stderr",
     "output_type": "stream",
     "text": [
      "ERROR:root:Timeout when trying to find interlanguage links for https://ar.wikipedia.org/wiki/1998_%D9%81%D9%8A_%D9%83%D8%B1%D9%88%D8%A7%D8%AA%D9%8A%D8%A7\n",
      "\n"
     ]
    },
    {
     "name": "stdout",
     "output_type": "stream",
     "text": [
      "Found 2 paragraphs for https://ar.wikipedia.org/wiki/%D8%A7%D9%84%D8%B2%D8%AD%D9%8A%D8%A9_(%D8%A8%D9%86%D9%8A_%D8%B3%D8%B9%D8%AF) : ['الزحية هي إحدى قرى عزلة بني شد', '']\n",
      "Found 3 paragraphs for https://ar.wikipedia.org/wiki/%D9%85%D8%B9%D8%AF_%D9%81%D9%8A%D8%A7%D8%B6 : ['معد فياض هو كاتب وصحفي وإعلامي', 'ألف معد فياض العديد من المؤلفا', '']\n"
     ]
    },
    {
     "name": "stderr",
     "output_type": "stream",
     "text": [
      "ERROR:root:Timeout when trying to find interlanguage links for https://ar.wikipedia.org/wiki/%D9%85%D8%B9%D8%AF_%D9%81%D9%8A%D8%A7%D8%B6\n",
      "\n"
     ]
    },
    {
     "name": "stdout",
     "output_type": "stream",
     "text": [
      "Found 1 paragraphs for https://ar.wikipedia.org/wiki/%D8%B3%D8%AA%D9%8A%D9%81%D8%A7%D9%86%D9%8A_%D9%88%D9%8A%D8%B1%D9%8A%D9%86%D8%BA : ['ستيفاني ويرينغ (بالإنجليزية: S']\n",
      "Found 2 paragraphs for https://ar.wikipedia.org/wiki/%D9%85%D8%AD%D8%A7%D9%81%D8%B8%D8%A9_%D9%8A%D9%88%D9%86%D8%AA%D8%A7%D9%86 : ['محافظة يونتان هي محافظة تقع في', '\\u200c']\n",
      "Found 1 paragraphs for https://ar.wikipedia.org/wiki/%D8%B3%D8%A7%D8%B1%D8%A9_%D8%AC%D9%8A%D9%86_%D9%81%D9%8A%D8%B1%D8%BA%D8%B3%D9%88%D9%86 : ['سارة جين فيرغسون (بالإنجليزية:']\n",
      "Found 1 paragraphs for https://ar.wikipedia.org/wiki/%D8%B1%D9%88%D9%83%D9%8A_%D8%AC%D9%88%D9%86%D8%B3%D9%88%D9%86 : ['روكي جونسون (بالإنجليزية: Rock']\n",
      "Found 1 paragraphs for https://ar.wikipedia.org/wiki/%D8%B9%D9%82%D9%8A%D8%A7%D9%86 : ['العِقْيَان[2] أي الذهب، للون أ']\n",
      "Found 1 paragraphs for https://ar.wikipedia.org/wiki/%D9%8A%D9%88_%D8%A5%D9%81_%D8%B3%D9%8A_144 : ['يو إف سي 144: إدغار ضد هندرسون']\n",
      "Found 1 paragraphs for https://ar.wikipedia.org/wiki/%D8%B8%D9%84_%D9%85%D8%B1%D8%A7%D9%81%D9%82 : ['الظل المرافق (Companion shadow']\n",
      "Found 2 paragraphs for https://ar.wikipedia.org/wiki/%D8%A7%D9%84%D9%83%D9%84%D9%8A%D8%A9_%D8%A7%D9%84%D9%85%D9%84%D9%83%D9%8A%D8%A9_%D9%84%D8%A3%D8%B7%D8%A8%D8%A7%D8%A1_%D8%A7%D9%84%D8%A3%D8%B3%D9%86%D8%A7%D9%86_%D9%81%D9%8A_%D9%83%D9%86%D8%AF%D8%A7 : ['الكلية الملكية لأطباء الأسنان ', 'تم تأسيس الكلية في عام 1965 لت']\n",
      "Found 3 paragraphs for https://ar.wikipedia.org/wiki/%D8%AF%D9%8A%D9%85%D9%81%D9%86%D8%A7_%D9%83%D9%88%D8%B2%D8%A7%D9%83 : ['ديمفنا كوزاك (بالإنجليزية: Dym', 'تعلمت في جامعة سيدني', 'من أهم أعمالها:']\n",
      "Found 5 paragraphs for https://ar.wikipedia.org/wiki/%D8%BA%D9%8A%D8%B1%D8%B4%D8%A7%D9%85_(%D9%86%D8%A8%D8%B1%D8%A7%D8%B3%D9%83%D8%A7) : ['غيرشام (بالإنجليزية: Gresham, ', 'قام مكتب تعداد الولايات المتحد', 'بلغ عدد سكان غيرشام 270 نسمة ب', 'بلغ متوسط دخل الأسرة في القرية', 'بلغ عدد سكان غيرشام 223 نسمة ب']\n",
      "Found 3 paragraphs for https://ar.wikipedia.org/wiki/%D9%85%D9%8A%D9%84%D9%88%D8%B4_%D9%81%D9%88%D9%8A%D9%88%D9%81%D9%8A%D8%AA%D8%B4 : ['ميلوش فويوفيتش مواليد 5 سبتمبر', 'شارك في البطولات التالية:', '']\n",
      "Found 7 paragraphs for https://ar.wikipedia.org/wiki/%D9%84%D8%A7%D9%86%D8%AA%D8%A7%D9%86%D8%A7_%D9%81%D8%A8%D8%B1%D9%8A%D8%AC%D9%8A : ['لانتانا فبريجي (الاسم العلمي:L', '', '', '', '', '', '']\n"
     ]
    }
   ],
   "source": [
    "main()"
   ]
  }
 ],
 "metadata": {
  "kernelspec": {
   "display_name": "otc_venv",
   "language": "python",
   "name": "python3"
  },
  "language_info": {
   "codemirror_mode": {
    "name": "ipython",
    "version": 3
   },
   "file_extension": ".py",
   "mimetype": "text/x-python",
   "name": "python",
   "nbconvert_exporter": "python",
   "pygments_lexer": "ipython3",
   "version": "3.12.3"
  }
 },
 "nbformat": 4,
 "nbformat_minor": 2
}
