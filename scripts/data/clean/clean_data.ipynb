{
 "cells": [
  {
   "cell_type": "code",
   "execution_count": 1,
   "metadata": {},
   "outputs": [],
   "source": [
    "import re\n",
    "import os\n",
    "import chardet"
   ]
  },
  {
   "cell_type": "code",
   "execution_count": 2,
   "metadata": {},
   "outputs": [],
   "source": [
    "def clean_text(text: str) -> str:\n",
    "    \"\"\"\n",
    "    Nettoie le texte en supprimant les numéros de lignes, les chiffres et les retours à la ligne\n",
    "\n",
    "    Parameters:\n",
    "    text (str): Le texte à nettoyer\n",
    "\n",
    "    Returns:\n",
    "    str: Le texte nettoyé\n",
    "    \"\"\"\n",
    "    text = re.sub(r\"\\[\\d+\\]\", \"\", text)\n",
    "    text = re.sub(r\"(?<=\\D)\\d+[,]?\", \"\", text).strip()\n",
    "    text = re.sub(r\"\\n\", \"\", text)\n",
    "    text = re.sub(r\"\\s+\", \" \", text)\n",
    "\n",
    "    return text"
   ]
  },
  {
   "cell_type": "markdown",
   "metadata": {},
   "source": [
    "Je définis une fonction nommée `clean_text` qui prend un seul paramètre, `text`, qui est une chaîne de caractères. Mon objectif avec cette fonction est de nettoyer le texte des éléments indésirables et de le normaliser.\n",
    "\n",
    "Voici comment je procède pour nettoyer le texte :\n",
    "\n",
    "1. **Suppression des références numériques entre crochets** :\n",
    "   - J'utilise `re.sub(r\"\\[\\d+\\]\", \"\", text)` pour remplacer toute séquence de chiffres entre crochets par rien (les supprimer). Afin de retirer les références et les notes de bas de page dans les textes récupérés depuis les sources comme Wikipedia.\n",
    "\n",
    "2. **Suppression des chiffres seuls ou suivis de virgules qui ne sont pas précédés par des chiffres** :\n",
    "   - J'utilise `re.sub(r\"(?<=\\D)\\d+[,]?\", \"\", text).strip()` pour supprimer les nombres qui ne sont pas partie intégrante d'autres nombres ou mots, potentiellement suivis de virgules, sauf s'ils sont précédés d'autres chiffres. Je nettoie également les espaces excédentaires autour du texte avec `strip()`.\n",
    "\n",
    "3. **Élimination des sauts de ligne** :\n",
    "   - Je remplace les caractères de nouvelle ligne (`\\n`) par rien, effaçant ainsi tous les sauts de ligne dans le texte avec `re.sub(r\"\\n\", \"\", text)`.\n",
    "\n",
    "4. **Normalisation des espaces** :\n",
    "   - Finalement, je remplace une ou plusieurs occurrences d'espaces blancs consécutifs par un seul espace avec `re.sub(r\"\\s+\", \" \", text)`. Cela rend le texte plus propre et uniforme en termes d'espacement.\n",
    "\n",
    "Après avoir appliqué toutes ces transformations, je retourne le texte nettoyé. Cette fonction me permet d'avoir un texte plus uniforme et plus facile à analyser ou à traiter pour des tâches ultérieures."
   ]
  },
  {
   "cell_type": "code",
   "execution_count": 3,
   "metadata": {},
   "outputs": [],
   "source": [
    "def clean_data(data_clean: str, data_raw: str) -> None:\n",
    "    \"\"\"\n",
    "    Nettoie les fichiers texte bruts et les enregistre dans le dossier data_clean\n",
    "\n",
    "    Parameters:\n",
    "    data_clean (str): Le chemin du dossier où enregistrer les fichiers nettoyés\n",
    "    data_raw (str): Le chemin du dossier contenant les fichiers bruts\n",
    "\n",
    "    Returns:\n",
    "    None\n",
    "    \"\"\"\n",
    "    for raw_file in os.listdir(data_raw):\n",
    "        with open(data_raw + raw_file, 'rb') as f: \n",
    "            raw_data = f.read()\n",
    "            result = chardet.detect(raw_data)\n",
    "            encoding = result['encoding']\n",
    "\n",
    "        with open(data_raw + raw_file, 'r', encoding=encoding) as f:\n",
    "            text = f.read()\n",
    "            text = clean_text(text)\n",
    "            with open(data_clean + raw_file, 'w', encoding='utf-8') as f:\n",
    "                f.write(text)"
   ]
  },
  {
   "cell_type": "markdown",
   "metadata": {},
   "source": [
    "Je définis une fonction appelée `clean_data` qui prend deux paramètres : `data_clean` et `data_raw`. Ces paramètres représentent respectivement le chemin vers le dossier où je veux enregistrer les fichiers nettoyés et le chemin vers le dossier contenant les fichiers bruts à nettoyer.\n",
    "\n",
    "Voici comment je procède pour nettoyer les données :\n",
    "\n",
    "1. **Parcours des fichiers dans le dossier brut** :\n",
    "   - J'utilise `os.listdir(data_raw)` pour obtenir une liste de tous les fichiers présents dans le dossier `data_raw`. Ensuite, je parcours cette liste avec une boucle `for`.\n",
    "\n",
    "2. **Lecture et détection de l'encodage du fichier** :\n",
    "   - Pour chaque fichier (`raw_file`), je commence par l'ouvrir en mode binaire ('rb') avec `open(data_raw + raw_file, 'rb')`. Cela me permet de lire le fichier sous forme de données binaires brutes.\n",
    "   - J'utilise ensuite la bibliothèque `chardet` pour détecter l'encodage des données binaires. `chardet.detect(raw_data)` me donne un résultat contenant plusieurs informations, dont l'encodage utilisé dans le fichier, que je stocke dans la variable `encoding`.\n",
    "\n",
    "3. **Nettoyage du texte** :\n",
    "   - Après avoir déterminé l'encodage, j'ouvre à nouveau le fichier, cette fois en mode lecture ('r') avec l'encodage détecté, pour lire le texte. Cela garantit que les caractères sont correctement interprétés selon leur encodage.\n",
    "   - Je lis tout le contenu du fichier dans la variable `text` et je passe ce texte à la fonction `clean_text`, que j'ai définie précédemment pour nettoyer le texte selon divers critères (suppression de caractères indésirables, normalisation des espaces, etc.).\n",
    "\n",
    "4. **Écriture du texte nettoyé dans le dossier de destination** :\n",
    "   - Ensuite, j'ouvre un nouveau fichier dans le dossier `data_clean`, en utilisant le même nom de fichier que celui lu. Je l'ouvre en mode écriture ('w') avec l'encodage UTF-8 pour assurer une bonne compatibilité du fichier.\n",
    "   - Je écris le texte nettoyé dans ce nouveau fichier. Cela me permet de conserver une version nettoyée de chaque fichier brut, prête à être utilisée pour d'autres traitements ou analyses.\n",
    "\n",
    "Cette fonction `clean_data` me permet donc de transformer une collection de fichiers textuels bruts en une version nettoyée, en gérant correctement les encodages et en appliquant des nettoyages de texte standardisés à chaque fichier."
   ]
  },
  {
   "cell_type": "code",
   "execution_count": 4,
   "metadata": {},
   "outputs": [],
   "source": [
    "data_raw = \"../../../data/raw/\"\n",
    "data_clean = \"../../../data/clean/\"\n",
    "\n",
    "clean_data(data_clean, data_raw)"
   ]
  }
 ],
 "metadata": {
  "kernelspec": {
   "display_name": "otc_venv",
   "language": "python",
   "name": "python3"
  },
  "language_info": {
   "codemirror_mode": {
    "name": "ipython",
    "version": 3
   },
   "file_extension": ".py",
   "mimetype": "text/x-python",
   "name": "python",
   "nbconvert_exporter": "python",
   "pygments_lexer": "ipython3",
   "version": "3.12.3"
  }
 },
 "nbformat": 4,
 "nbformat_minor": 2
}
