{
 "cells": [
  {
   "cell_type": "markdown",
   "id": "b039545a",
   "metadata": {},
   "source": [
    "# Présentation du Notebook\n",
    "\n",
    "Ce notebook est conçu pour analyser un corpus multilingue en utilisant des techniques avancées de traitement du langage naturel (NLP). Il intègre des méthodes pour charger des données, analyser la distribution des langues, la longueur des textes, gérer les déséquilibres des données, et effectuer la tokenisation avec des modèles de NLP modernes comme XLM-RoBERTa. L'objectif est de préparer les données pour la modélisation, d'entraîner un modèle de classification de texte et d'évaluer ses performances.\n",
    "\n",
    "## Fonctionnalités principales :\n",
    "\n",
    "1. **`load_data(filepath: str) -> pd.DataFrame`**\n",
    "   - **Objectif** : Charger des données à partir d'un fichier CSV.\n",
    "   - **Utilisation** : Cette fonction est utilisée pour importer les données qui seront analysées et manipulées tout au long du notebook. Elle convertit les données en `DataFrame` de pandas, facilitant leur manipulation avec divers outils de traitement de données en Python.\n",
    "\n",
    "2. **`analyze_language_distribution(data: pd.DataFrame) -> pd.Series`**\n",
    "   - **Objectif** : Analyser et obtenir la distribution des langues dans les données.\n",
    "   - **Utilisation** : Sert à identifier la fréquence de chaque langue dans le dataset, ce qui est crucial pour comprendre la représentation des langues et planifier des interventions comme l'augmentation des données pour les langues sous-représentées.\n",
    "\n",
    "3. **`analyze_text_length(data: pd.DataFrame) -> pd.Series`**\n",
    "   - **Objectif** : Calculer et examiner la longueur des textes dans le dataset.\n",
    "   - **Utilisation** : Aide à détecter les valeurs aberrantes et à comprendre la distribution de la longueur des textes, ce qui peut influencer les décisions relatives au prétraitement des données, telles que le découpage ou la segmentation des textes.\n",
    "\n",
    "4. **`plot_distributions(data: pd.DataFrame)`**\n",
    "   - **Objectif** : Afficher graphiquement les distributions des langues et des longueurs de texte.\n",
    "   - **Utilisation** : Fournit une visualisation qui aide à comprendre visuellement la distribution des langues et la longueur des textes, permettant une analyse rapide et intuitive des tendances et des anomalies.\n",
    "\n",
    "5. **`remove_text_length_outliers(data: pd.DataFrame) -> pd.DataFrame`**\n",
    "   - **Objectif** : Éliminer les valeurs aberrantes basées sur la longueur des textes.\n",
    "   - **Utilisation** : Nettoie le dataset en supprimant les textes qui sont trop longs ou trop courts par rapport aux normes établies, ce qui peut aider à améliorer la performance des modèles de NLP en réduisant le bruit.\n",
    "\n",
    "6. **`augment_underrepresented_labels(data: pd.DataFrame, label_col: str, text_col: str, threshold: int) -> pd.DataFrame`**\n",
    "   - **Objectif** : Augmenter les étiquettes sous-représentées pour équilibrer le dataset.\n",
    "   - **Utilisation** : Augmente les classes qui ont moins d'instances que le seuil spécifié, utilisant `RandomOverSampler` pour équilibrer le dataset et améliorer la justesse et la performance du modèle de classification.\n",
    "\n",
    "7. **`split_train_dev_test(csv_path: str, folder_csv: str, label_column: str, train_size: float, dev_size: float, random_state: int)`**\n",
    "   - **Objectif** : Diviser les données en ensembles d'entraînement, de développement, et de test.\n",
    "   - **Utilisation** : Prépare les données pour le processus de modélisation en créant des sous-ensembles distincts pour l'entraînement, la validation et les tests, ce qui est essentiel pour l'évaluation rigoureuse des performances du modèle.\n",
    "\n",
    "8. **`tokenize(text: str, lang: str) -> list`**\n",
    "   - **Objectif** : Tokeniser un texte selon sa langue.\n",
    "   - **Utilisation** : Convertit le texte en une série de tokens ou de mots, ce qui est une étape préparatoire nécessaire pour de nombreux algorithmes de NLP qui nécessitent des entrées tokenisées.\n",
    "\n",
    "9. **`vocabulary_diversity(data: pd.DataFrame) -> pd.Series`**\n",
    "   - **Objectif** : Calculer la diversité lexicale par langue.\n",
    "   - **Utilisation** : Fournit des mesures de la richesse du vocabulaire utilisé dans chaque langue, ce qui peut indiquer la complexité ou la variété linguistique des textes.\n",
    "\n",
    "10. **`build_and_test_model(train_csv: str, test_csv: str)`**\n",
    "    - **Objectif** : Créer et tester un modèle de classification de texte.\n",
    "    - **Utilisation** : Construit un modèle de classification basé sur les données d'entraînement et évalue ses performances en utilisant les données de test. Cette fonction est critique pour développer et affiner des modèles de NLP qui peuvent être utilisés pour des applications en temps réel ou des études plus approfondies.\n",
    "\n",
    "## Étapes principales :\n",
    "\n",
    "1. **Charger et analyser les données** : Importation des données et examen initial des caractéristiques telles que la distribution des langues et la longueur des textes.\n",
    "2. **Prétraitement** : Suppression des valeurs aberrantes en termes de longueur de texte et augmentation des labels sous-représentés pour équilibrer le dataset.\n",
    "3. **Préparation des données pour le modèle** : Tokenisation des textes et division du dataset en ensembles d'entraînement, de développement et de test.\n",
    "4. **Entraînement et évaluation du modèle** : Construction d'un modèle de classification de texte et évaluation de sa performance à l'aide de métriques standardisées.\n",
    "\n",
    "Chaque fonction est conçue pour gérer des aspects spécifiques du flux de travail de traitement des données, depuis la préparation initiale jusqu'à l'analyse post-modélisation, assurant ainsi une approche complète pour le traitement et l'analyse de données textuelles multilingues.\n"
   ]
  },
  {
   "cell_type": "code",
   "execution_count": 24,
   "id": "c3c15bb0",
   "metadata": {},
   "outputs": [],
   "source": [
    "import pandas as pd\n",
    "import matplotlib.pyplot as plt\n",
    "import seaborn as sns\n",
    "import numpy as np\n",
    "import os\n",
    "import jupyter_black\n",
    "from datasets import load_dataset\n",
    "from sklearn.metrics import classification_report, confusion_matrix\n",
    "from sklearn.utils import resample\n",
    "from sklearn.model_selection import train_test_split\n",
    "from imblearn.over_sampling import RandomOverSampler\n",
    "from transformers import (\n",
    "    AutoTokenizer,\n",
    "    AutoModelForSequenceClassification,\n",
    "    Trainer,\n",
    "    TrainingArguments,\n",
    ")"
   ]
  },
  {
   "cell_type": "code",
   "execution_count": 3,
   "id": "69a8a741",
   "metadata": {},
   "outputs": [
    {
     "data": {
      "text/html": [
       "\n",
       "                <script type=\"application/javascript\" id=\"jupyter_black\">\n",
       "                (function() {\n",
       "                    if (window.IPython === undefined) {\n",
       "                        return\n",
       "                    }\n",
       "                    var msg = \"WARNING: it looks like you might have loaded \" +\n",
       "                        \"jupyter_black in a non-lab notebook with \" +\n",
       "                        \"`is_lab=True`. Please double check, and if \" +\n",
       "                        \"loading with `%load_ext` please review the README!\"\n",
       "                    console.log(msg)\n",
       "                    alert(msg)\n",
       "                })()\n",
       "                </script>\n",
       "                "
      ],
      "text/plain": [
       "<IPython.core.display.HTML object>"
      ]
     },
     "metadata": {},
     "output_type": "display_data"
    }
   ],
   "source": [
    "jupyter_black.load()"
   ]
  },
  {
   "cell_type": "markdown",
   "id": "ba9ee746",
   "metadata": {},
   "source": [
    "## Chargement et analyse des données"
   ]
  },
  {
   "cell_type": "code",
   "execution_count": 4,
   "id": "ee439022",
   "metadata": {},
   "outputs": [],
   "source": [
    "def load_data(filepath: str) -> pd.DataFrame:\n",
    "    \"\"\"\n",
    "    Charge un fichier CSV et le retourne sous forme de DataFrame\n",
    "\n",
    "    Parameters:\n",
    "    filepath (str): Le chemin du fichier CSV à charger\n",
    "\n",
    "    Returns:\n",
    "    pd.DataFrame: Le DataFrame contenant les données du fichier CSV\n",
    "    \"\"\"\n",
    "    return pd.read_csv(filepath)\n",
    "\n",
    "\n",
    "def analyze_language_distribution(data: pd.DataFrame) -> pd.Series:\n",
    "    \"\"\"\n",
    "    Analyse la distribution des langues dans le DataFrame\n",
    "\n",
    "    Parameters:\n",
    "    data (pd.DataFrame): Le DataFrame contenant les données à analyser\n",
    "\n",
    "    Returns:\n",
    "    pd.Series: La distribution des langues\n",
    "    \"\"\"\n",
    "    return data[\"Label\"].value_counts()"
   ]
  },
  {
   "cell_type": "code",
   "execution_count": 5,
   "id": "bdd6cff1",
   "metadata": {},
   "outputs": [
    {
     "name": "stdout",
     "output_type": "stream",
     "text": [
      "Label\n",
      "en    550\n",
      "zh    550\n",
      "de    550\n",
      "ko    550\n",
      "es    550\n",
      "ja    550\n",
      "ru    550\n",
      "fr    550\n",
      "ar    548\n",
      "Name: count, dtype: int64\n"
     ]
    }
   ],
   "source": [
    "data = load_data(\"../../data/csv/data.csv\")\n",
    "print(analyze_language_distribution(data))"
   ]
  },
  {
   "cell_type": "markdown",
   "id": "77821421",
   "metadata": {},
   "source": [
    "Chaque ligne montre une langue représentée par son code (par exemple, \"en\" pour l'anglais, \"ru\" pour le russe, etc.) suivi du nombre de ligne en cette langue présents dans le corpus. Voici une description plus détaillée de ces résultats :\n",
    "\n",
    "Ayant limité le nombre maximum à 550, la majorité des langues ont ce nombre de ligne/texte. Cependant, il y a l'arabe qui compte 548 lignes/textes.\n"
   ]
  },
  {
   "cell_type": "code",
   "execution_count": 6,
   "id": "5f8d4824",
   "metadata": {},
   "outputs": [],
   "source": [
    "def analyze_text_length(data: pd.DataFrame) -> pd.Series:\n",
    "    \"\"\"\n",
    "    Analyse la longueur des textes dans le DataFrame\n",
    "\n",
    "    Parameters:\n",
    "    data (pd.DataFrame): Le DataFrame contenant les données à analyser\n",
    "\n",
    "    Returns:\n",
    "    pd.Series: Les statistiques descriptives de la longueur des textes\n",
    "    \"\"\"\n",
    "    data[\"Text_Length\"] = data[\"Text\"].apply(len)\n",
    "    return data[\"Text_Length\"].describe()\n",
    "\n",
    "\n",
    "def plot_distributions(data: pd.DataFrame) -> None:\n",
    "    \"\"\"\n",
    "    Affiche les distributions des langues et de la longueur des textes\n",
    "\n",
    "    Parameters:\n",
    "    data (pd.DataFrame): Le DataFrame contenant les données à afficher\n",
    "    \"\"\"\n",
    "    # Appliquer le style de fond blanc\n",
    "    sns.set_style(\"white\")\n",
    "\n",
    "    plt.figure(figsize=(12, 5))\n",
    "    plt.subplot(1, 2, 1)\n",
    "    sns.countplot(data=data, y=\"Label\", order=data[\"Label\"].value_counts().index)\n",
    "    plt.title(\"Distribution des langues\")\n",
    "    plt.xlabel(\"Nombre de textes\")\n",
    "    plt.ylabel(\"Langue\")\n",
    "\n",
    "    plt.subplot(1, 2, 2) \n",
    "    sns.histplot(data=data, x=\"Text_Length\", bins=30)\n",
    "    plt.title(\"Distribution de la longueur des textes\")\n",
    "    plt.xlabel(\"Longueur du texte\")\n",
    "    plt.ylabel(\"Fréquence\")\n",
    "\n",
    "    plt.show()"
   ]
  },
  {
   "cell_type": "code",
   "execution_count": 7,
   "id": "88a61437",
   "metadata": {},
   "outputs": [
    {
     "name": "stdout",
     "output_type": "stream",
     "text": [
      "count    4948.000000\n",
      "mean      230.235651\n",
      "std       221.814433\n",
      "min         3.000000\n",
      "25%       103.000000\n",
      "50%       179.000000\n",
      "75%       280.000000\n",
      "max      3558.000000\n",
      "Name: Text_Length, dtype: float64\n"
     ]
    },
    {
     "data": {
      "image/png": "[encoded data removed]",
      "text/plain": [
       "<Figure size 1200x500 with 2 Axes>"
      ]
     },
     "metadata": {},
     "output_type": "display_data"
    }
   ],
   "source": [
    "print(analyze_text_length(data))\n",
    "plot_distributions(data)"
   ]
  },
  {
   "cell_type": "markdown",
   "id": "eaccb233",
   "metadata": {},
   "source": [
    "### Analyse des Statistiques de Longueur des Textes\n",
    "- **Count**: 4948 textes ont été analysés, donnant une bonne taille d'échantillon pour des analyses statistiques robustes.\n",
    "- **Mean**: La longueur moyenne des textes est de 230.24 caractères. Cela indique une tendance vers des textes modérément courts.\n",
    "- **Std (Standard Deviation)**: L'écart-type est de 221.81, ce qui suggère une variation très considérable dans la longueur des textes, indiquant une distribution large.\n",
    "- **Min**: Le texte le plus court fait seulement 3 caractères, ce qui pourrait être insuffisant pour certaines analyses linguistiques ou de traitement de texte.\n",
    "- **25% (1st Quartile)**: 25% des textes ont 103 caractères ou moins.\n",
    "- **50% (Median)**: La médiane est à 179 caractères, soulignant que la moitié des textes sont assez courts.\n",
    "- **75% (3rd Quartile)**: 75% des textes ont 280 caractères ou moins.\n",
    "- **Max**: Le texte le plus long a 3558 caractères, montrant qu'il y a des cas où les textes sont significativement plus longs.\n",
    "\n",
    "### Interprétation Visuelle (Graphique)\n",
    "- **Distribution de la longueur des textes** : La majorité des textes sont concentrés dans les premières barres du graphique, avec une longueur de moins de 500 caractères, ce qui correspond à la description de la médiane et des quartiles. Cela montre que la plupart des textes sont relativement courts, ce qui est normal puisque chaque texte ne comprend au maximum que 2 phrases, bien que la présence de quelques textes extrêmement longs étende la distribution vers la droite.\n"
   ]
  },
  {
   "cell_type": "code",
   "execution_count": 8,
   "id": "12311628",
   "metadata": {},
   "outputs": [],
   "source": [
    "def remove_text_length_outliers(data: pd.DataFrame) -> pd.DataFrame:\n",
    "    \"\"\"\n",
    "    Supprime les outliers basés sur la longueur des textes dans le DataFrame.\n",
    "\n",
    "    Parameters:\n",
    "    data (pd.DataFrame): Le DataFrame contenant les données à nettoyer\n",
    "\n",
    "    Returns:\n",
    "    pd.DataFrame: Le DataFrame nettoyé sans les outliers\n",
    "    \"\"\"\n",
    "    data_copy = data.copy()\n",
    "\n",
    "    # Calcul de la longueur des textes et assignation en utilisant .loc pour éviter SettingWithCopyWarning\n",
    "    data_copy.loc[:, \"Text_Length\"] = data_copy[\"Text\"].apply(len)\n",
    "\n",
    "    # Calcul de l'écart interquartile (IQR)\n",
    "    Q1 = data_copy[\"Text_Length\"].quantile(0.25)\n",
    "    Q3 = data_copy[\"Text_Length\"].quantile(0.75)\n",
    "    IQR = Q3 - Q1\n",
    "\n",
    "    # Définition des bornes pour les outliers\n",
    "    lower_bound = Q1 - 1.5 * IQR\n",
    "    upper_bound = Q3 + 1.5 * IQR\n",
    "\n",
    "    # Filtrage des données pour éliminer les outliers\n",
    "    filtered_data = data_copy[\n",
    "        (data_copy[\"Text_Length\"] >= lower_bound)\n",
    "        & (data_copy[\"Text_Length\"] <= upper_bound)\n",
    "    ]\n",
    "\n",
    "    # Sauvegarde des données nettoyées\n",
    "    filtered_data.to_csv(\"../../data/csv/data_cleaned.csv\", index=False)\n",
    "\n",
    "    return filtered_data"
   ]
  },
  {
   "cell_type": "code",
   "execution_count": 9,
   "id": "5fde221c",
   "metadata": {},
   "outputs": [
    {
     "name": "stdout",
     "output_type": "stream",
     "text": [
      "count    4678.000000\n",
      "mean      190.606670\n",
      "std       114.600034\n",
      "min         3.000000\n",
      "25%       100.000000\n",
      "50%       170.000000\n",
      "75%       259.000000\n",
      "max       544.000000\n",
      "Name: Text_Length, dtype: float64\n",
      "------------------------------\n",
      " Label\n",
      "zh    550\n",
      "de    550\n",
      "ja    550\n",
      "ko    548\n",
      "en    539\n",
      "ru    539\n",
      "fr    539\n",
      "es    527\n",
      "ar    336\n",
      "Name: count, dtype: int64\n"
     ]
    }
   ],
   "source": [
    "filtered_data = remove_text_length_outliers(data)\n",
    "print(analyze_text_length(filtered_data))\n",
    "\n",
    "\n",
    "print(\"------------------------------\\n\", analyze_language_distribution(filtered_data))"
   ]
  },
  {
   "cell_type": "code",
   "execution_count": 10,
   "id": "7cd70947",
   "metadata": {},
   "outputs": [],
   "source": [
    "def augment_underrepresented_labels(\n",
    "    data: pd.DataFrame, label_col: str, text_col: str, threshold: int\n",
    ") -> pd.DataFrame:\n",
    "    \"\"\"\n",
    "    Augmente les étiquettes sous-représentées dans un DataFrame en utilisant RandomOverSampler.\n",
    "\n",
    "    Parameters:\n",
    "    - data (pd.DataFrame): Le DataFrame contenant les colonnes de texte et d'étiquettes.\n",
    "    - label_col (str): Le nom de la colonne contenant les étiquettes.\n",
    "    - text_col (str): Le nom de la colonne contenant les textes.\n",
    "    - threshold (int): Le seuil minimal du nombre d'échantillons par étiquette.\n",
    "\n",
    "    Returns:\n",
    "    - pd.DataFrame: Le DataFrame augmenté.\n",
    "    \"\"\"\n",
    "    # Obtenir le nombre d'échantillons par étiquette\n",
    "    label_counts = data[label_col].value_counts()\n",
    "\n",
    "    # Créer une stratégie de sur-échantillonnage pour les étiquettes sous-représentées\n",
    "    sampling_strategy = {\n",
    "        label: threshold for label, count in label_counts.items() if count < threshold\n",
    "    }\n",
    "\n",
    "    # Vérifier si des étiquettes sous-représentées existent\n",
    "    if not sampling_strategy:\n",
    "        print(\"Aucune étiquette sous-représentée trouvée.\")\n",
    "        return data\n",
    "\n",
    "    # Isoler les textes et les étiquettes\n",
    "    X = data[[text_col]]\n",
    "    y = data[label_col]\n",
    "\n",
    "    # Utiliser RandomOverSampler pour augmenter les étiquettes sous-représentées\n",
    "    ros = RandomOverSampler(sampling_strategy=sampling_strategy, random_state=42)\n",
    "    X_resampled, y_resampled = ros.fit_resample(X, y)\n",
    "\n",
    "    # Créer un nouveau DataFrame avec les données augmentées\n",
    "    augmented_data = pd.DataFrame(\n",
    "        {label_col: y_resampled, text_col: X_resampled[text_col]}\n",
    "    )\n",
    "\n",
    "    return augmented_data"
   ]
  },
  {
   "cell_type": "code",
   "execution_count": 11,
   "id": "622256f5",
   "metadata": {},
   "outputs": [
    {
     "name": "stdout",
     "output_type": "stream",
     "text": [
      "Label\n",
      "ar    550\n",
      "en    550\n",
      "zh    550\n",
      "de    550\n",
      "ko    550\n",
      "es    550\n",
      "ja    550\n",
      "ru    550\n",
      "fr    550\n",
      "Name: count, dtype: int64\n"
     ]
    },
    {
     "data": {
      "image/png": "[encoded data removed]",
      "text/plain": [
       "<Figure size 1200x500 with 2 Axes>"
      ]
     },
     "metadata": {},
     "output_type": "display_data"
    }
   ],
   "source": [
    "# Utiliser la fonction pour augmenter les étiquettes ayant moins de 550 échantillons\n",
    "augmented_data = augment_underrepresented_labels(filtered_data, \"Label\", \"Text\", 550)\n",
    "\n",
    "augmented_data.to_csv(\"../../data/csv/augmented_data.csv\", index=False)\n",
    "\n",
    "# Vérifier la nouvelle distribution des étiquettes\n",
    "print(augmented_data[\"Label\"].value_counts())\n",
    "\n",
    "analyze_text_length(augmented_data)\n",
    "\n",
    "plot_distributions(augmented_data)"
   ]
  },
  {
   "cell_type": "code",
   "execution_count": 12,
   "id": "9ade377a",
   "metadata": {},
   "outputs": [],
   "source": [
    "def split_train_dev_test(\n",
    "    csv_path: str,\n",
    "    folder_csv: str,\n",
    "    label_column: str,\n",
    "    train_size: float = 0.7,\n",
    "    dev_size: float = 0.15,\n",
    "    random_state: int = 42,\n",
    ") -> None:\n",
    "    \"\"\"\n",
    "    Cette fonction prend un fichier CSV d'entrée, le divise en ensembles d'entraînement, de développement (dev),\n",
    "    et de test, et équilibre les classes dans chaque ensemble.\n",
    "\n",
    "    Parameters:\n",
    "    - csv_path (str): Le chemin du fichier CSV à charger\n",
    "    - folder_csv (str): Le dossier de sortie pour les fichiers CSV\n",
    "    - label_column (str): Le nom de la colonne contenant les étiquettes\n",
    "    - train_size (float): La proportion de l'ensemble d'entraînement (ex: 0.7 pour 70%)\n",
    "    - dev_size (float): La proportion de l'ensemble de développement\n",
    "    - random_state (int): Le générateur de nombres aléatoires pour la reproductibilité\n",
    "\n",
    "    Returns:\n",
    "    - None\n",
    "    \"\"\"\n",
    "    # Charger les données depuis le fichier CSV\n",
    "    data = pd.read_csv(csv_path)\n",
    "\n",
    "    # Calculer la proportion de l'ensemble de test\n",
    "    test_size = 1.0 - train_size\n",
    "\n",
    "    # Diviser les données en ensembles d'entraînement et (dev + test)\n",
    "    df_train, df_dev_test = train_test_split(\n",
    "        data, train_size=train_size, random_state=random_state\n",
    "    )\n",
    "\n",
    "    # Calculer la proportion de l'ensemble dev dans les données restantes\n",
    "    dev_proportion = dev_size / (1.0 - train_size)\n",
    "\n",
    "    # Diviser l'ensemble (dev + test) en ensembles de développement et de test\n",
    "    df_dev, df_test = train_test_split(\n",
    "        df_dev_test, train_size=dev_proportion, random_state=random_state\n",
    "    )\n",
    "\n",
    "    # Identifier la classe majoritaire dans l'ensemble d'entraînement\n",
    "    majority_class = df_train[label_column].mode()[0]\n",
    "\n",
    "    # Fonction d'équilibrage des classes\n",
    "    def balance_classes(df, majority_class):\n",
    "        balanced_df = pd.DataFrame()\n",
    "        for label in df[label_column].unique():\n",
    "            class_subset = df[df[label_column] == label]\n",
    "            balanced_subset = resample(\n",
    "                class_subset,\n",
    "                replace=True,\n",
    "                n_samples=len(df[df[label_column] == majority_class]),\n",
    "                random_state=random_state,\n",
    "            )\n",
    "            balanced_df = pd.concat([balanced_df, balanced_subset])\n",
    "        return balanced_df\n",
    "\n",
    "    # Équilibrer les classes pour les ensembles d'entraînement, de développement, et de test\n",
    "    balanced_train = balance_classes(df_train, majority_class)\n",
    "    balanced_dev = balance_classes(df_dev, majority_class)\n",
    "    balanced_test = balance_classes(df_test, majority_class)\n",
    "\n",
    "    # Créer le dossier de sortie s'il n'existe pas\n",
    "    os.makedirs(folder_csv, exist_ok=True)\n",
    "\n",
    "    # Exporter les ensembles d'entraînement, de développement, et de test en fichiers CSV\n",
    "    balanced_train.to_csv(\n",
    "        os.path.join(folder_csv, \"data_train.csv\"), index=False, encoding=\"utf-8\"\n",
    "    )\n",
    "    balanced_dev.to_csv(\n",
    "        os.path.join(folder_csv, \"data_dev.csv\"), index=False, encoding=\"utf-8\"\n",
    "    )\n",
    "    balanced_test.to_csv(\n",
    "        os.path.join(folder_csv, \"data_test.csv\"), index=False, encoding=\"utf-8\"\n",
    "    )"
   ]
  },
  {
   "cell_type": "code",
   "execution_count": 13,
   "id": "e6b117d2",
   "metadata": {},
   "outputs": [],
   "source": [
    "split_train_dev_test(\n",
    "    csv_path=\"../../data/csv/augmented_data.csv\",\n",
    "    folder_csv=\"../../data/csv/\",\n",
    "    label_column=\"Label\",\n",
    "    train_size=0.7,\n",
    "    dev_size=0.15,\n",
    "    random_state=42,\n",
    ")"
   ]
  },
  {
   "cell_type": "code",
   "execution_count": 14,
   "id": "0b7d2486",
   "metadata": {},
   "outputs": [
    {
     "data": {
      "application/vnd.jupyter.widget-view+json": {
       "model_id": "d9ea0cd6a37446a69914696036b00a94",
       "version_major": 2,
       "version_minor": 0
      },
      "text/plain": [
       "Generating train split: 0 examples [00:00, ? examples/s]"
      ]
     },
     "metadata": {},
     "output_type": "display_data"
    },
    {
     "data": {
      "application/vnd.jupyter.widget-view+json": {
       "model_id": "a37bea8ea0894f0687af3ca98f18698b",
       "version_major": 2,
       "version_minor": 0
      },
      "text/plain": [
       "Generating train split: 0 examples [00:00, ? examples/s]"
      ]
     },
     "metadata": {},
     "output_type": "display_data"
    },
    {
     "data": {
      "application/vnd.jupyter.widget-view+json": {
       "model_id": "d2a3f456254f4c39a042680b9f09c337",
       "version_major": 2,
       "version_minor": 0
      },
      "text/plain": [
       "Generating train split: 0 examples [00:00, ? examples/s]"
      ]
     },
     "metadata": {},
     "output_type": "display_data"
    },
    {
     "name": "stdout",
     "output_type": "stream",
     "text": [
      "['zh', 'ja', 'ru', 'ar', 'en', 'de', 'fr', 'es', 'ko'] \n",
      " {'zh': 0, 'ja': 1, 'ru': 2, 'ar': 3, 'en': 4, 'de': 5, 'fr': 6, 'es': 7, 'ko': 8}\n"
     ]
    }
   ],
   "source": [
    "train_dataset = load_dataset(\n",
    "    \"csv\", data_files=\"../../data/csv/data_train.csv\", split=\"train\"\n",
    ")\n",
    "valid_dataset = load_dataset(\n",
    "    \"csv\", data_files=\"../../data/csv/data_dev.csv\", split=\"train\"\n",
    ")\n",
    "test_dataset = load_dataset(\n",
    "    \"csv\", data_files=\"../../data/csv/data_test.csv\", split=\"train\"\n",
    ")\n",
    "\n",
    "label_names = train_dataset.unique(\"Label\")\n",
    "label_mapping = {label: idx for idx, label in enumerate(label_names)}\n",
    "print(label_names, \"\\n\", label_mapping)"
   ]
  },
  {
   "cell_type": "code",
   "execution_count": 15,
   "id": "c90d4285",
   "metadata": {},
   "outputs": [],
   "source": [
    "model_ckpt = \"xlm-roberta-base\"\n",
    "tokenizer = AutoTokenizer.from_pretrained(model_ckpt)\n",
    "\n",
    "\n",
    "def tokenize_text(batch: dict) -> dict:\n",
    "    \"\"\"\n",
    "    Tokenize les textes et ajoute les étiquettes correspondantes\n",
    "\n",
    "    Parameters:\n",
    "    batch (dict): Un batch de données contenant les textes et les étiquettes\n",
    "\n",
    "    Returns:\n",
    "    dict: Les textes tokenizés avec les étiquettes correspondantes\n",
    "    \"\"\"\n",
    "    tokenized_inputs = tokenizer(\n",
    "        batch[\"Text\"], padding=\"max_length\", truncation=True, max_length=128\n",
    "    )\n",
    "    tokenized_inputs[\"labels\"] = [label_mapping[label] for label in batch[\"Label\"]]\n",
    "    return tokenized_inputs\n",
    "\n",
    "\n",
    "def tokenize(text: str) -> list:\n",
    "    \"\"\"\n",
    "    Permet de tokeniser un texte en utilisant le tokenizer d'xlm-roberta-base\n",
    "\n",
    "    Parameters:\n",
    "    text (str): le texte à tokeniser\n",
    "\n",
    "    Returns:\n",
    "    list: une liste de tokens\n",
    "    \"\"\"\n",
    "    return tokenizer.tokenize(text)"
   ]
  },
  {
   "cell_type": "code",
   "execution_count": 16,
   "id": "e502937a",
   "metadata": {},
   "outputs": [],
   "source": [
    "def vocabulary_diversity(data: pd.DataFrame) -> pd.Series:\n",
    "    \"\"\"\n",
    "    Calcule la diversité du vocabulaire\n",
    "\n",
    "    Parameters:\n",
    "    data (pd.DataFrame): Le DataFrame contenant les données à analyser\n",
    "\n",
    "    Returns:\n",
    "    pd.Series: La diversité du vocabulaire pour chaque label/langue\n",
    "    \"\"\"\n",
    "    data[\"Tokens\"] = data[\"Text\"].apply(tokenize)\n",
    "    data[\"Vocab_Size\"] = data[\"Tokens\"].apply(lambda x: len(set(x)))\n",
    "    return data.groupby(\"Label\")[\"Vocab_Size\"].mean()"
   ]
  },
  {
   "cell_type": "code",
   "execution_count": 17,
   "id": "1fe71260",
   "metadata": {},
   "outputs": [
    {
     "data": {
      "application/vnd.jupyter.widget-view+json": {
       "model_id": "b83d313258f94aacaea5204d6b200a32",
       "version_major": 2,
       "version_minor": 0
      },
      "text/plain": [
       "Map:   0%|          | 0/3573 [00:00<?, ? examples/s]"
      ]
     },
     "metadata": {},
     "output_type": "display_data"
    },
    {
     "data": {
      "application/vnd.jupyter.widget-view+json": {
       "model_id": "b19e8d3a52014f4b94c326a6f92e5973",
       "version_major": 2,
       "version_minor": 0
      },
      "text/plain": [
       "Map:   0%|          | 0/657 [00:00<?, ? examples/s]"
      ]
     },
     "metadata": {},
     "output_type": "display_data"
    },
    {
     "data": {
      "application/vnd.jupyter.widget-view+json": {
       "model_id": "e18e7ee28982491bb50c9fdda6b25c25",
       "version_major": 2,
       "version_minor": 0
      },
      "text/plain": [
       "Map:   0%|          | 0/720 [00:00<?, ? examples/s]"
      ]
     },
     "metadata": {},
     "output_type": "display_data"
    },
    {
     "name": "stdout",
     "output_type": "stream",
     "text": [
      "Label\n",
      "ar    58.629091\n",
      "de    41.325455\n",
      "en    46.105455\n",
      "es    51.485455\n",
      "fr    48.550909\n",
      "ja    49.609091\n",
      "ko    61.036364\n",
      "ru    52.272727\n",
      "zh    44.692727\n",
      "Name: Vocab_Size, dtype: float64\n"
     ]
    }
   ],
   "source": [
    "tok_train = train_dataset.map(tokenize_text, batched=True)\n",
    "tok_valid = valid_dataset.map(tokenize_text, batched=True)\n",
    "tok_test = test_dataset.map(tokenize_text, batched=True)\n",
    "\n",
    "# Verifier les tokens\n",
    "tokens = tokenizer.convert_ids_to_tokens(tok_train[0][\"input_ids\"])\n",
    "# print(tokens)\n",
    "\n",
    "augmented_data = pd.read_csv(\"../../data/csv/augmented_data.csv\")\n",
    "\n",
    "vocab_diversity = vocabulary_diversity(augmented_data)\n",
    "print(vocab_diversity)"
   ]
  },
  {
   "cell_type": "code",
   "execution_count": 18,
   "id": "7f691616",
   "metadata": {},
   "outputs": [
    {
     "name": "stderr",
     "output_type": "stream",
     "text": [
      "Some weights of XLMRobertaForSequenceClassification were not initialized from the model checkpoint at xlm-roberta-base and are newly initialized: ['classifier.dense.bias', 'classifier.dense.weight', 'classifier.out_proj.bias', 'classifier.out_proj.weight']\n",
      "You should probably TRAIN this model on a down-stream task to be able to use it for predictions and inference.\n"
     ]
    }
   ],
   "source": [
    "tok_train.set_format(type=\"torch\", columns=[\"input_ids\", \"attention_mask\", \"labels\"])\n",
    "tok_valid.set_format(type=\"torch\", columns=[\"input_ids\", \"attention_mask\", \"labels\"])\n",
    "tok_test.set_format(type=\"torch\", columns=[\"input_ids\", \"attention_mask\", \"labels\"])\n",
    "\n",
    "model = AutoModelForSequenceClassification.from_pretrained(\n",
    "    model_ckpt, num_labels=len(train_dataset.unique(\"Label\"))\n",
    ")"
   ]
  },
  {
   "cell_type": "code",
   "execution_count": 19,
   "id": "22369f6e",
   "metadata": {},
   "outputs": [],
   "source": [
    "epochs = 2\n",
    "lr = 2e-5\n",
    "train_bs = 64\n",
    "eval_bs = train_bs * 2\n",
    "\n",
    "# Log de l'entraînement à chaque epoch\n",
    "logging_steps = len(tok_train) // train_bs\n",
    "\n",
    "# Dossier de sauvegarde des modèles\n",
    "output_dir = \"../../results/model\"\n",
    "\n",
    "training_args = TrainingArguments(\n",
    "    output_dir=output_dir,\n",
    "    num_train_epochs=epochs,\n",
    "    learning_rate=lr,\n",
    "    per_device_train_batch_size=train_bs,\n",
    "    per_device_eval_batch_size=eval_bs,\n",
    "    evaluation_strategy=\"epoch\",\n",
    "    logging_steps=logging_steps,\n",
    "    save_strategy=\"epoch\",  # Sauvegarde à la fin de chaque epoch\n",
    "    save_total_limit=2,\n",
    ")\n",
    "\n",
    "trainer = Trainer(\n",
    "    model=model,\n",
    "    args=training_args,\n",
    "    train_dataset=tok_train,\n",
    "    eval_dataset=tok_valid,\n",
    ")"
   ]
  },
  {
   "cell_type": "markdown",
   "id": "0e96fa57",
   "metadata": {},
   "source": [
    "### TrainingArguments\n",
    "\n",
    "`TrainingArguments` est une classe fournie par la bibliothèque `transformers` qui est utilisée pour encapsuler tous les arguments et configurations nécessaires pour l'entraînement, l'évaluation, et le test de modèles de traitement automatique du langage naturel (NLP). Voici les paramètres spécifiés dans votre script :\n",
    "\n",
    "- **`output_dir`** : Le répertoire où les modèles entraînés, les configurations et les logs seront sauvegardés. C'est le chemin du dossier où vous souhaitez que les résultats de l'entraînement soient stockés.\n",
    "\n",
    "- **`num_train_epochs`** : Le nombre d'epoch pour lesquelles le modèle sera entraîné. Une epoch correspond à un passage complet sur l'ensemble des données d'entraînement.\n",
    "\n",
    "- **`learning_rate`** : Le taux d'apprentissage utilisé pour l'optimisation pendant l'entraînement. C'est un paramètre crucial qui peut influencer la rapidité et l'efficacité avec laquelle un modèle apprend.\n",
    "\n",
    "- **`per_device_train_batch_size`** : La taille du lot (batch size) pour l'entraînement. Cela détermine le nombre d'exemples de formation traités avant que le modèle n'effectue une mise à jour des paramètres (backpropagation).\n",
    "\n",
    "- **`per_device_eval_batch_size`** : La taille du lot pour l'évaluation. C'est similaire à `per_device_train_batch_size` mais utilisé pendant les phases de validation ou d'évaluation.\n",
    "\n",
    "- **`evaluation_strategy`** : Détermine à quelle fréquence l'évaluation doit avoir lieu. Ici, \"epoch\" signifie que l'évaluation se produit à la fin de chaque epoch d'entraînement.\n",
    "\n",
    "- **`logging_steps`** : Nombre de pas d'entraînement après lesquels les logs de progression doivent être enregistrés. Cela aide à suivre la progression et les performances du modèle durant l'entraînement.\n",
    "\n",
    "- **`save_strategy`** : Stratégie pour sauvegarder le modèle. \"epoch\" signifie que le modèle est sauvegardé à la fin de chaque epoch, ce qui est utile pour ne pas perdre les progrès en cas d'interruption de l'entraînement.\n",
    "\n",
    "- **`save_total_limit`** : Le nombre maximal de fichiers de modèle à conserver. Si le nombre de points de sauvegarde dépasse cette limite, les anciens fichiers de sauvegarde sont supprimés.\n",
    "\n",
    "### Trainer\n",
    "\n",
    "La classe `Trainer` est utilisée pour encapsuler le processus d'entraînement, en utilisant les configurations définies dans `TrainingArguments`.\n",
    "\n",
    "- **`model`** : Le modèle pré-entraîné (ici probablement un modèle de classification de séquences) qui sera finement ajusté sur les données spécifiques.\n",
    "\n",
    "- **`args`** : Les arguments d'entraînement encapsulés par `TrainingArguments`.\n",
    "\n",
    "- **`train_dataset`** : L'ensemble de données d'entraînement sur lequel le modèle sera entraîné.\n",
    "\n",
    "- **`eval_dataset`** : L'ensemble de données d'évaluation utilisé pour évaluer les performances du modèle à chaque epoch, conformément à la stratégie d'évaluation définie.\n",
    "\n",
    "Cette configuration garantit que le modèle est entraîné de manière efficace et que les performances sont régulièrement évaluées et sauvegardées, permettant un ajustement optimal et une récupération facile des modèles entraînés."
   ]
  },
  {
   "cell_type": "code",
   "execution_count": 20,
   "id": "d31ffadf",
   "metadata": {},
   "outputs": [
    {
     "data": {
      "application/vnd.jupyter.widget-view+json": {
       "model_id": "14d66747393142c99b0b6b392effaa55",
       "version_major": 2,
       "version_minor": 0
      },
      "text/plain": [
       "  0%|          | 0/112 [00:00<?, ?it/s]"
      ]
     },
     "metadata": {},
     "output_type": "display_data"
    },
    {
     "name": "stdout",
     "output_type": "stream",
     "text": [
      "{'loss': 1.7022, 'grad_norm': 7.693836212158203, 'learning_rate': 1.0178571428571429e-05, 'epoch': 0.98}\n"
     ]
    },
    {
     "data": {
      "application/vnd.jupyter.widget-view+json": {
       "model_id": "903a93c2824b41bbb8d911d64d377f83",
       "version_major": 2,
       "version_minor": 0
      },
      "text/plain": [
       "  0%|          | 0/6 [00:00<?, ?it/s]"
      ]
     },
     "metadata": {},
     "output_type": "display_data"
    },
    {
     "name": "stdout",
     "output_type": "stream",
     "text": [
      "{'eval_loss': 0.5199443101882935, 'eval_runtime': 5.5734, 'eval_samples_per_second': 117.88, 'eval_steps_per_second': 1.077, 'epoch': 1.0}\n",
      "{'loss': 0.559, 'grad_norm': 3.806649684906006, 'learning_rate': 3.5714285714285716e-07, 'epoch': 1.96}\n"
     ]
    },
    {
     "data": {
      "application/vnd.jupyter.widget-view+json": {
       "model_id": "2aa947a2fc1e47cf9cb63ee6ff459b6e",
       "version_major": 2,
       "version_minor": 0
      },
      "text/plain": [
       "  0%|          | 0/6 [00:00<?, ?it/s]"
      ]
     },
     "metadata": {},
     "output_type": "display_data"
    },
    {
     "name": "stdout",
     "output_type": "stream",
     "text": [
      "{'eval_loss': 0.1719617396593094, 'eval_runtime': 5.5036, 'eval_samples_per_second': 119.377, 'eval_steps_per_second': 1.09, 'epoch': 2.0}\n",
      "{'train_runtime': 222.23, 'train_samples_per_second': 32.156, 'train_steps_per_second': 0.504, 'train_loss': 1.1175382350172316, 'epoch': 2.0}\n"
     ]
    },
    {
     "data": {
      "text/plain": [
       "TrainOutput(global_step=112, training_loss=1.1175382350172316, metrics={'train_runtime': 222.23, 'train_samples_per_second': 32.156, 'train_steps_per_second': 0.504, 'total_flos': 470077442993664.0, 'train_loss': 1.1175382350172316, 'epoch': 2.0})"
      ]
     },
     "execution_count": 20,
     "metadata": {},
     "output_type": "execute_result"
    }
   ],
   "source": [
    "trainer.train()"
   ]
  },
  {
   "cell_type": "code",
   "execution_count": 21,
   "id": "f3297f51",
   "metadata": {},
   "outputs": [
    {
     "data": {
      "application/vnd.jupyter.widget-view+json": {
       "model_id": "e31213516a384167a9c57aabd34f1b16",
       "version_major": 2,
       "version_minor": 0
      },
      "text/plain": [
       "  0%|          | 0/6 [00:00<?, ?it/s]"
      ]
     },
     "metadata": {},
     "output_type": "display_data"
    },
    {
     "name": "stdout",
     "output_type": "stream",
     "text": [
      "Evaluation Results: {'eval_loss': 0.1719617396593094, 'eval_runtime': 5.5883, 'eval_samples_per_second': 117.568, 'eval_steps_per_second': 1.074, 'epoch': 2.0}\n"
     ]
    }
   ],
   "source": [
    "eval_results = trainer.evaluate()\n",
    "print(f\"Evaluation Results: {eval_results}\")"
   ]
  },
  {
   "cell_type": "code",
   "execution_count": 25,
   "id": "db4016e6",
   "metadata": {},
   "outputs": [
    {
     "data": {
      "application/vnd.jupyter.widget-view+json": {
       "model_id": "b72a76f6c01c47349578506f69ad99ea",
       "version_major": 2,
       "version_minor": 0
      },
      "text/plain": [
       "  0%|          | 0/6 [00:00<?, ?it/s]"
      ]
     },
     "metadata": {},
     "output_type": "display_data"
    },
    {
     "name": "stdout",
     "output_type": "stream",
     "text": [
      "              precision    recall  f1-score   support\n",
      "\n",
      "          zh       1.00      1.00      1.00        80\n",
      "          ja       1.00      1.00      1.00        80\n",
      "          ru       1.00      1.00      1.00        80\n",
      "          ar       1.00      1.00      1.00        80\n",
      "          en       0.99      1.00      0.99        80\n",
      "          de       1.00      1.00      1.00        80\n",
      "          fr       1.00      0.99      0.99        80\n",
      "          es       1.00      1.00      1.00        80\n",
      "          ko       1.00      1.00      1.00        80\n",
      "\n",
      "    accuracy                           1.00       720\n",
      "   macro avg       1.00      1.00      1.00       720\n",
      "weighted avg       1.00      1.00      1.00       720\n",
      "\n"
     ]
    },
    {
     "data": {
      "image/png": "[encoded data removed]",
      "text/plain": [
       "<Figure size 1000x700 with 2 Axes>"
      ]
     },
     "metadata": {},
     "output_type": "display_data"
    },
    {
     "data": {
      "text/plain": [
       "<Figure size 640x480 with 0 Axes>"
      ]
     },
     "metadata": {},
     "output_type": "display_data"
    }
   ],
   "source": [
    "predictions = trainer.predict(tok_test)\n",
    "preds = predictions.predictions.argmax(-1)\n",
    "labels = tok_test[\"Label\"]\n",
    "\n",
    "# Convertir les labels en entiers\n",
    "int_labels = [label_mapping[label] for label in labels]\n",
    "\n",
    "label_names = [\n",
    "    label for label, index in sorted(label_mapping.items(), key=lambda item: item[1])\n",
    "]\n",
    "\n",
    "print(classification_report(int_labels, preds, target_names=label_names))\n",
    "\n",
    "# Créer la matrice de confusion\n",
    "cm = confusion_matrix(int_labels, preds)\n",
    "\n",
    "# Calculer les pourcentages\n",
    "cm_percent = cm.astype(\"float\") / cm.sum(axis=1)[:, np.newaxis] * 100\n",
    "\n",
    "# Création de la figure pour la visualisation\n",
    "plt.figure(figsize=(10, 7))\n",
    "\n",
    "# Utilisation de seaborn pour tracer la heatmap\n",
    "sns.heatmap(\n",
    "    cm_percent,\n",
    "    annot=True,\n",
    "    fmt=\".1f\",  # Format à un chiffre décimal\n",
    "    xticklabels=sorted(\n",
    "        label_mapping, key=label_mapping.get\n",
    "    ),  # Étiquettes pour les prédictions\n",
    "    yticklabels=sorted(\n",
    "        label_mapping, key=label_mapping.get\n",
    "    ),  # Étiquettes pour les vrais labels\n",
    "    cmap=\"OrRd\",\n",
    "    cbar_kws={\"label\": \"Pourcentage (%)\"},  # Barre de couleur avec étiquette\n",
    ")\n",
    "\n",
    "plt.xlabel(\"Prédit\")\n",
    "plt.ylabel(\"Vrai\")\n",
    "plt.show()\n",
    "plt.savefig(\"../../results/confusion_matrix.png\")"
   ]
  },
  {
   "cell_type": "markdown",
   "id": "623c160f",
   "metadata": {},
   "source": [
    "### Matrice de Confusion\n",
    "La matrice de confusion mise à jour montre les pourcentages de prédictions correctes et incorrectes pour un modèle de classification linguistique multilingue. Chaque ligne représente les vraies étiquettes (langues réelles des textes), et chaque colonne représente les prédictions du modèle. Voici une interprétation détaillée basée sur la nouvelle matrice de confusion et des métriques de performance associées :\n",
    "\n",
    "#### Analyse de la Matrice de Confusion\n",
    "\n",
    "- **Diagonales Principales** : Les valeurs sur la diagonale principale de la matrice indiquent le pourcentage de prédictions correctes pour chaque langue. Par exemple, le modèle a correctement identifié 100% des textes en chinois (`zh`), japonais (`ja`), russe (`ru`), arabe (`ar`), anglais (`en`), allemand (`de`), espagnol (`es`) et coréen (`ko`).\n",
    "  \n",
    "- **Précisions Notables** :\n",
    "  - **Français (`fr`)** : Le modèle a correctement prédit 98,8% des textes français. Il y a une petite confusion avec l'anglais (`en`), où 1,2% des textes français ont été incorrectement classés comme anglais.\n",
    "\n",
    "#### Interprétation des Résultats\n",
    "\n",
    "- **Haute Précision Globale** : La majorité des langues ont une précision de 100%, ce qui signifie que le modèle est extrêmement précis pour ces langues. Cela indique une forte capacité du modèle à distinguer ces langues des autres dans l'ensemble de données.\n",
    "\n",
    "- **Légère Confusion entre le Français et l'Anglais** : La confusion entre le français et l'anglais pourrait être due à des similarités linguistiques, comme l'utilisation de mots empruntés ou de structures grammaticales similaires, qui peuvent induire le modèle en erreur dans certains cas. Ce point pourrait nécessiter une investigation plus approfondie pour améliorer la précision du modèle, par exemple en ajustant les données d'entraînement ou en optimisant les hyperparamètres du modèle pour mieux gérer les similitudes entre ces deux langues.\n",
    "\n",
    "### Métriques de Performance\n",
    "- **Précision** : La précision mesure la capacité du classificateur à ne pas étiqueter comme positif un échantillon qui est négatif. Pour toutes les langues sauf l'anglais et le français, la précision est de 1,00, ce qui signifie que chaque instance prédite comme appartenant à cette langue était correcte. L'anglais a une précision légèrement inférieure à 1,00 en raison d'une instance de français incorrectement classifiée comme anglais.\n",
    "  \n",
    "- **Rappel** : Le rappel mesure la capacité du classificateur à trouver tous les échantillons positifs. Par exemple, le rappel pour le français est de 0,99 parce qu'une instance de français a été classée comme anglais, manquant donc une instance correcte.\n",
    "\n",
    "- **F1-Score** : Le F1-score est la moyenne harmonique de la précision et du rappel. Il est particulièrement utile lorsque les classes sont déséquilibrées. Les F1-scores sont excellents pour toutes les langues, reflétant une performance équilibrée entre la précision et le rappel.\n",
    "\n",
    "- **Support** : Le support est le nombre de occurrences réelles de la classe dans l'ensemble de données spécifié. Chaque langue avait 80 instances dans ce dataset.\n",
    "\n",
    "### Résumé Global\n",
    "- **Précision Globale (Accuracy)** : Le modèle a atteint une précision globale de 1,00, indiquant une excellente performance globale sur cet ensemble de données.\n",
    "- **Moyenne Macro** : La moyenne macro de précision, rappel, et F1-score est de 1,00 pour chaque métrique, indiquant une performance uniformément élevée à travers toutes les classes linguistiques.\n",
    "\n",
    "Cette matrice de confusion et ces métriques de performance démontrent que le modèle de classification est extrêmement précis et performant dans la classification des langues de cet ensemble de données, avec une légère confusion entre le français et l'anglais qui pourrait nécessiter une investigation plus approfondie pour des améliorations futures."
   ]
  },
  {
   "cell_type": "code",
   "execution_count": null,
   "id": "7660d3c2",
   "metadata": {},
   "outputs": [
    {
     "data": {
      "text/plain": [
       "('../../data/model/tokenizer/tokenizer_config.json',\n",
       " '../../data/model/tokenizer/special_tokens_map.json',\n",
       " '../../data/model/tokenizer/tokenizer.json')"
      ]
     },
     "execution_count": 61,
     "metadata": {},
     "output_type": "execute_result"
    }
   ],
   "source": [
    "model.save_pretrained(\"../../data/model/model/\")\n",
    "tokenizer.save_pretrained(\"../../data/model/tokenizer\")"
   ]
  }
 ],
 "metadata": {
  "kernelspec": {
   "display_name": "otc_venv",
   "language": "python",
   "name": "python3"
  },
  "language_info": {
   "codemirror_mode": {
    "name": "ipython",
    "version": 3
   },
   "file_extension": ".py",
   "mimetype": "text/x-python",
   "name": "python",
   "nbconvert_exporter": "python",
   "pygments_lexer": "ipython3",
   "version": "3.12.3"
  }
 },
 "nbformat": 4,
 "nbformat_minor": 5
}
