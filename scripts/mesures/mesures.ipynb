{
 "cells": [
  {
   "cell_type": "code",
   "execution_count": 1,
   "metadata": {},
   "outputs": [],
   "source": [
    "import spacy, stanza\n",
    "import pandas as pd\n",
    "import langid\n",
    "import seaborn as sns\n",
    "import matplotlib.pyplot as plt\n",
    "from collections import defaultdict\n",
    "from sklearn.metrics import precision_recall_fscore_support\n",
    "from sklearn.model_selection import KFold\n",
    "from sklearn.metrics import confusion_matrix\n"
   ]
  },
  {
   "cell_type": "code",
   "execution_count": 2,
   "metadata": {},
   "outputs": [],
   "source": [
    "# Load data\n",
    "data = pd.read_csv('../../data/csv/data.csv')"
   ]
  },
  {
   "cell_type": "code",
   "execution_count": 3,
   "metadata": {},
   "outputs": [
    {
     "name": "stderr",
     "output_type": "stream",
     "text": [
      "2024-05-01 15:13:48 INFO: Checking for updates to resources.json in case models have been updated.  Note: this behavior can be turned off with download_method=None or download_method=DownloadMethod.REUSE_RESOURCES\n"
     ]
    },
    {
     "data": {
      "application/vnd.jupyter.widget-view+json": {
       "model_id": "00953e920c7446628b17288c05f49d81",
       "version_major": 2,
       "version_minor": 0
      },
      "text/plain": [
       "Downloading https://raw.githubusercontent.com/stanfordnlp/stanza-resources/main/resources_1.8.0.json:   0%|   …"
      ]
     },
     "metadata": {},
     "output_type": "display_data"
    },
    {
     "name": "stderr",
     "output_type": "stream",
     "text": [
      "2024-05-01 15:13:48 INFO: Downloaded file to /Users/perrine/stanza_resources/resources.json\n",
      "2024-05-01 15:13:49 INFO: Loading these models for language: ar (Arabic):\n",
      "=============================\n",
      "| Processor | Package       |\n",
      "-----------------------------\n",
      "| tokenize  | padt          |\n",
      "| mwt       | padt          |\n",
      "| pos       | padt_charlm   |\n",
      "| lemma     | padt_nocharlm |\n",
      "| depparse  | padt_charlm   |\n",
      "| ner       | aqmar_charlm  |\n",
      "=============================\n",
      "\n",
      "2024-05-01 15:13:49 INFO: Using device: cpu\n",
      "2024-05-01 15:13:49 INFO: Loading: tokenize\n",
      "2024-05-01 15:13:49 INFO: Loading: mwt\n",
      "2024-05-01 15:13:49 INFO: Loading: pos\n",
      "2024-05-01 15:13:49 INFO: Loading: lemma\n",
      "2024-05-01 15:13:49 INFO: Loading: depparse\n",
      "2024-05-01 15:13:50 INFO: Loading: ner\n",
      "2024-05-01 15:13:50 INFO: Done loading processors!\n"
     ]
    }
   ],
   "source": [
    "# Loading SpaCy models\n",
    "nlp_en = spacy.load(\"en_core_web_sm\")  # English\n",
    "nlp_es = spacy.load(\"es_core_news_sm\")  # Spanish\n",
    "nlp_de = spacy.load(\"de_core_news_sm\")  # German\n",
    "nlp_fr = spacy.load(\"fr_core_news_sm\")  # French\n",
    "nlp_ru = spacy.load(\"ru_core_news_sm\")  # Russian\n",
    "nlp_zh = spacy.load(\"zh_core_web_sm\")  # Chinese\n",
    "nlp_ja = spacy.load(\"ja_core_news_sm\")  # Japanese\n",
    "nlp_ko = spacy.load(\"ko_core_news_sm\")  # Korean\n",
    "\n",
    "nlp_ar = stanza.Pipeline(lang='ar') # Arabic"
   ]
  },
  {
   "cell_type": "code",
   "execution_count": 4,
   "metadata": {},
   "outputs": [],
   "source": [
    "def tokenize(text: str, lang: str) -> list:\n",
    "    \"\"\"\n",
    "    Permet de tokeniser un texte en fonction de la langue\n",
    "\n",
    "    Parameters:\n",
    "    text (str): le texte à tokeniser\n",
    "    lang (str): la langue du texte\n",
    "\n",
    "    Returns:\n",
    "    list: une liste de tokens\n",
    "    \"\"\"\n",
    "    if lang == 'ar':\n",
    "        doc = nlp_ar(text)\n",
    "        return [word.text for sent in doc.sentences for word in sent.words]\n",
    "    else:\n",
    "        nlp = globals()[f\"nlp_{lang}\"]\n",
    "        doc = nlp(text)\n",
    "        return [token.text for token in doc]"
   ]
  },
  {
   "cell_type": "markdown",
   "metadata": {},
   "source": [
    "**Tokenisation** : \n",
    "- Chaque document est tokenisé selon la langue à l'aide des modèles de NLP correspondants. Les tokens sont les mots dans le cas des langues occidentales et des unités plus complexes pour des langues comme le chinois ou le japonais."
   ]
  },
  {
   "cell_type": "code",
   "execution_count": 19,
   "metadata": {},
   "outputs": [],
   "source": [
    "def get_stats(data: pd.DataFrame) -> pd.DataFrame:\n",
    "    \"\"\"\n",
    "    Permet de calculer des statistiques sur les données\n",
    "\n",
    "    Parameters:\n",
    "    data (pd.DataFrame): les données\n",
    "\n",
    "    Returns:\n",
    "    pd.DataFrame: les statistiques calculées\n",
    "        n_lang: le nombre de langues\n",
    "        n_text: le nombre de textes\n",
    "        n_text_per_lang: le nombre de textes par langue\n",
    "        mean_tokens_per_text: le nombre moyen de tokens par texte\n",
    "        n_text_under_100_chars: le nombre de textes de moins de 100 caractères par langue\n",
    "        ratio_text_under_100_tokens: le ratio de textes de moins de 100 tokens par langue\n",
    "    \"\"\"\n",
    "    languages = defaultdict()\n",
    "    tokens = defaultdict()\n",
    "    for i, row in data.iterrows():\n",
    "        lang = row['Label']\n",
    "        text = row['Text']\n",
    "        if lang not in languages:\n",
    "            languages[lang] = 0\n",
    "            tokens[lang] = 0\n",
    "        languages[lang] += 1\n",
    "        tokens[lang] += len(tokenize(text, lang))\n",
    "\n",
    "    # Initialisation du dictionnaire pour les statistiques\n",
    "    stats = defaultdict()\n",
    "\n",
    "    # Calcul du nombre total de langues\n",
    "    stats['n_lang'] = len(languages)\n",
    "\n",
    "    # Calcul du nombre total de textes\n",
    "    stats['n_text'] = sum(languages.values())\n",
    "\n",
    "    # Nombre de textes par langue\n",
    "    stats['n_text_per_lang'] = {}\n",
    "    for lang in languages:\n",
    "        stats['n_text_per_lang'][lang] = languages[lang]\n",
    "\n",
    "    # Nombre moyen de tokens par texte pour chaque langue\n",
    "    stats['mean_tokens_per_text'] = {}\n",
    "    for lang in languages:\n",
    "        stats['mean_tokens_per_text'][lang] = tokens[lang] / languages[lang]\n",
    "\n",
    "    # Nombre de textes de moins de 100 caractères par langue\n",
    "    stats['n_text_under_100_tokens'] = {}\n",
    "    for lang in languages:\n",
    "        # Initialiser à 0 pour chaque langue\n",
    "        stats['n_text_under_100_tokens'][lang] = 0\n",
    "        # Parcourir les données et accumuler le nombre de textes courts\n",
    "        for i, row in data[data['Label'] == lang].iterrows():\n",
    "            if len(row['Text']) < 100:\n",
    "                stats['n_text_under_100_tokens'][lang] += 1\n",
    "\n",
    "    # Ratio de textes de moins de 100 tokens par langue\n",
    "    stats['ratio_text_under_100_tokens'] = {}\n",
    "    for lang in languages:\n",
    "        # Calculer le nombre total de textes courts en tokens pour chaque langue\n",
    "        short_texts = 0\n",
    "        for i, row in data[data['Label'] == lang].iterrows():\n",
    "            if len(tokenize(row['Text'], lang)) < 100:\n",
    "                short_texts += 1\n",
    "        # Calculer le ratio pour chaque langue\n",
    "        stats['ratio_text_under_100_tokens'][lang] = short_texts / languages[lang] if languages[lang] > 0 else 0\n",
    "\n",
    "    df_stats = pd.DataFrame({\n",
    "        \"n_text_per_lang\": stats['n_text_per_lang'],\n",
    "        \"mean_tokens_per_text\": stats['mean_tokens_per_text'],\n",
    "        \"n_text_under_100_tokens\": stats['n_text_under_100_tokens'],\n",
    "        \"ratio_text_under_100_tokens\": stats['ratio_text_under_100_tokens']\n",
    "    })\n",
    "\n",
    "    df_stats[\"n_lang\"] = stats['n_lang']\n",
    "    df_stats[\"n_text\"] = stats['n_text']\n",
    "\n",
    "    return df_stats"
   ]
  },
  {
   "cell_type": "code",
   "execution_count": 20,
   "metadata": {},
   "outputs": [
    {
     "name": "stdout",
     "output_type": "stream",
     "text": [
      "    n_text_per_lang  mean_tokens_per_text  n_text_under_100_tokens  \\\n",
      "ko              120             31.125000                       54   \n",
      "ar               21             80.333333                        2   \n",
      "fr              469             51.944563                       14   \n",
      "zh              192             51.385417                      127   \n",
      "es              165             46.096970                        8   \n",
      "ru              587             34.681431                       81   \n",
      "de              334             29.526946                       62   \n",
      "ja              186             62.548387                       94   \n",
      "en              546             51.487179                       11   \n",
      "\n",
      "    ratio_text_under_100_tokens  n_lang  n_text  \n",
      "ko                     1.000000       9    2620  \n",
      "ar                     0.666667       9    2620  \n",
      "fr                     0.974414       9    2620  \n",
      "zh                     0.963542       9    2620  \n",
      "es                     0.981818       9    2620  \n",
      "ru                     0.994889       9    2620  \n",
      "de                     1.000000       9    2620  \n",
      "ja                     0.908602       9    2620  \n",
      "en                     0.972527       9    2620  \n"
     ]
    }
   ],
   "source": [
    "df = get_stats(data)\n",
    "print(df)"
   ]
  },
  {
   "cell_type": "code",
   "execution_count": 21,
   "metadata": {},
   "outputs": [],
   "source": [
    "def calculate_metrics(data: pd.DataFrame) -> dict:\n",
    "    \"\"\"\n",
    "    Calcule les métriques de diversité lexicale pour chaque langue ainsi que la moyenne globale de tokens par texte \n",
    "\n",
    "    Parameters:\n",
    "    data (pd.DataFrame): les données\n",
    "\n",
    "    Returns:\n",
    "    dict: un dictionnaire contenant les métriques\n",
    "        Average Words per Sample (float): le nombre moyen de tokens par texte\n",
    "        Lexical Diversity (float): la diversité lexicale\n",
    "    \"\"\"\n",
    "\n",
    "    language_data = defaultdict(list)\n",
    "\n",
    "    for index, row in data.iterrows():\n",
    "        tokens = tokenize(row['Text'], row['Label'])\n",
    "        language_data[row['Label']].append(tokens)\n",
    "    \n",
    "    results = {}\n",
    "\n",
    "    for lang, tokens_list in language_data.items():\n",
    "        total_words = sum(len(tokens) for tokens in tokens_list)\n",
    "        total_samples = len(tokens_list)\n",
    "        unique_words = len(set(word for tokens in tokens_list for word in tokens))\n",
    "        \n",
    "        average_words_per_sample = total_words / total_samples if total_samples else 0\n",
    "        lexical_diversity = unique_words / total_words if total_words else 0\n",
    "\n",
    "        results[lang] = {\n",
    "            'Average Words per Sample': average_words_per_sample,\n",
    "            'Lexical Diversity': lexical_diversity\n",
    "        }\n",
    "        results = pd.DataFrame(results)\n",
    "\n",
    "    return results"
   ]
  },
  {
   "cell_type": "markdown",
   "metadata": {},
   "source": [
    "**Métriques calculées** :\n",
    "- **Moyenne des mots par échantillon** : Cela donne une idée de la longueur moyenne des textes pour chaque langue.\n",
    "- **Diversité lexicale** : C'est le rapport entre le nombre de mots uniques et le nombre total de mots dans les échantillons de chaque langue. Une valeur plus élevée indique une plus grande richesse lexicale."
   ]
  },
  {
   "cell_type": "code",
   "execution_count": 22,
   "metadata": {},
   "outputs": [
    {
     "name": "stdout",
     "output_type": "stream",
     "text": [
      "                                 ko         ar         fr         zh  \\\n",
      "Average Words per Sample  31.125000  80.333333  51.944563  51.385417   \n",
      "Lexical Diversity          0.628648   0.490219   0.220795   0.303771   \n",
      "\n",
      "                                 es         ru         de         ja  \\\n",
      "Average Words per Sample  46.096970  34.681431  29.526946  62.548387   \n",
      "Lexical Diversity          0.336708   0.350084   0.339181   0.222365   \n",
      "\n",
      "                                 en  \n",
      "Average Words per Sample  51.487179  \n",
      "Lexical Diversity          0.206175  \n"
     ]
    }
   ],
   "source": [
    "# Compute metrics\n",
    "metrics = calculate_metrics(data)\n",
    "\n",
    "# Display the metrics\n",
    "print(metrics)\n"
   ]
  },
  {
   "cell_type": "markdown",
   "metadata": {},
   "source": [
    "**Affichage des Résultats** : \n",
    "- Les résultats sont stockés dans un dictionnaire et imprimés. Vous pouvez également les visualiser en utilisant matplotlib ou une autre bibliothèque de visualisation pour mieux comprendre les distributions."
   ]
  },
  {
   "cell_type": "markdown",
   "metadata": {},
   "source": [
    "**1. Coréen (ko)** : Le coréen a un nombre moyen de mots par échantillon de 31.125 et une diversité lexicale de 0.629. Cette diversité élevée indique une grande variété de mots utilisés dans des textes relativement courts.\n",
    "\n",
    "**2. Arabe (ar)** : L'arabe présente une moyenne de 80.33 mots par échantillon avec une diversité lexicale de 0.490. Ce chiffre suggère un usage assez varié du vocabulaire.\n",
    "\n",
    "**3. Français (fr)** : Avec une moyenne de 51.94 mots par échantillon et une diversité lexicale de 0.221, le français montre une utilisation relativement répétitive du vocabulaire dans des textes courts.\n",
    "\n",
    "**4. Chinois (zh)** : Le chinois affiche une moyenne de 51.38 mots par échantillon et une diversité lexicale de 0.304. Cette mesure reflète l'efficacité dans l'utilisation d'un vocabulaire varié dans des textes de longueur modérée.\n",
    "\n",
    "**5. Espagnol (es)** : L'espagnol a une moyenne de 46.10 mots par échantillon avec une diversité lexicale de 0.337. Ces valeurs indiquent un bon équilibre entre la longueur des textes et la variété du vocabulaire, ce qui peut signaler une tendance à une écriture descriptive tout en restant accessible.\n",
    "\n",
    "**6. Russe (ru)** : Le russe, avec une moyenne de 34.68 mots et une diversité lexicale de 0.350, semble utiliser un vocabulaire riche dans des descriptions relativement courtes.\n",
    "\n",
    "**7. Allemand (de)** : Avec une moyenne de 29.53 mots et une diversité lexicale de 0.339, l'allemand montre une utilisation variée du vocabulaire dans des textes courts.\n",
    "\n",
    "**8. Japonais (ja)** : Le japonais a une moyenne de 62.55 mots par échantillon avec une diversité lexicale de 0.222. Ces valeurs suggèrent des textes plus longs avec une utilisation répétitive de certains termes.\n",
    "\n",
    "**9. Anglais (en)** : L'anglais affiche un nombre moyen de mots de 51.49 par échantillon avec la diversité lexicale la plus basse à 0.206. Ceci indique une tendance à des textes concis avec une utilisation limitée de vocabulaire diversifié."
   ]
  },
  {
   "cell_type": "code",
   "execution_count": 23,
   "metadata": {},
   "outputs": [],
   "source": [
    "def detect_language(text: str) -> str:\n",
    "    \"\"\" \n",
    "    Detecte la langue d'un texte\n",
    "\n",
    "    Parameters:\n",
    "    text (str): le texte à analyser\n",
    "\n",
    "    Returns:\n",
    "    str: la langue du texte\n",
    "    \"\"\"\n",
    "    lang, _ = langid.classify(text) \n",
    "    return lang\n",
    "\n",
    "\n",
    "def calculate_precision_recall_f1(predictions: list, true_labels: list) -> pd.DataFrame:\n",
    "    \"\"\"\n",
    "    Calcule les métriques de précision, rappel et f1-score\n",
    "\n",
    "    Parameters:\n",
    "    predictions (list): les prédictions\n",
    "    true_labels (list): les vraies étiquettes\n",
    "\n",
    "    Returns:\n",
    "    pd.DataFrame: un DataFrame contenant les métriques\n",
    "    \"\"\"\n",
    "    precision, recall, f1, _ = precision_recall_fscore_support(\n",
    "        true_labels, predictions, average=None, labels=list(set(true_labels)))\n",
    "    metrics = pd.DataFrame({\n",
    "        'Language': list(set(true_labels)),\n",
    "        'Precision': precision,\n",
    "        'Recall': recall,\n",
    "        'F1-score': f1\n",
    "    })\n",
    "    return metrics\n",
    "\n",
    "def cross_validate_language_detection(data: str, n_splits=5) -> list:\n",
    "    \"\"\"\n",
    "    Réalise une validation croisée pour la détection de la langue des textes\n",
    "\n",
    "    Parameters:\n",
    "    data (pd.DataFrame): les données\n",
    "    n_splits (int): le nombre de splits\n",
    "\n",
    "    Returns:\n",
    "    list: une liste de résultats\n",
    "    \"\"\"\n",
    "    kf = KFold(n_splits=n_splits, shuffle=True, random_state=1)\n",
    "    results = []\n",
    "\n",
    "    for train_index, test_index in kf.split(data):\n",
    "        train_data, test_data = data.iloc[train_index], data.iloc[test_index]\n",
    "        test_predictions = test_data['Text'].apply(detect_language)\n",
    "        test_metrics = calculate_precision_recall_f1(test_predictions, test_data['Label'])\n",
    "        results.append(test_metrics)\n",
    "\n",
    "    return results"
   ]
  },
  {
   "cell_type": "markdown",
   "metadata": {},
   "source": [
    "\n",
    "1. **detect_language** : J'utilise la fonction `classify` de `langid` pour identifier la langue d'un texte. Cette méthode renvoie la langue prédite et un score de confiance, mais je ne retiens que la langue.\n",
    "   \n",
    "2. **calculate_precision_recall_f1** : Après avoir fait des prédictions sur un ensemble de données, je calcule les métriques standard pour l'évaluation de la classification - précision, rappel, et le score F1 pour chaque langue présente dans l'ensemble des étiquettes vraies. Ces résultats sont ensuite stockés et renvoyés sous forme de DataFrame pour une analyse plus facile.\n",
    "\n",
    "3. **cross_validate_language_detection** : Pour valider la fiabilité du modèle sur différentes partitions des données, je réalise une validation croisée. Le jeu de données est divisé en plusieurs sous-ensembles, et pour chaque sous-ensemble, je répète le processus de prédiction et de calcul des métriques. Tous les résultats de chaque pli sont accumulés et retournés pour un examen ultérieur."
   ]
  },
  {
   "cell_type": "code",
   "execution_count": 24,
   "metadata": {},
   "outputs": [
    {
     "name": "stdout",
     "output_type": "stream",
     "text": [
      "Results for fold 1:\n",
      "  Language  Precision    Recall  F1-score\n",
      "0       en        1.0  1.000000  1.000000\n",
      "1       ja        1.0  1.000000  1.000000\n",
      "2       ru        1.0  0.971429  0.985507\n",
      "3       zh        1.0  1.000000  1.000000\n",
      "4       es        1.0  1.000000  1.000000\n",
      "5       fr        1.0  1.000000  1.000000\n",
      "6       de        1.0  1.000000  1.000000\n",
      "7       ko        1.0  1.000000  1.000000\n",
      "8       ar        1.0  1.000000  1.000000\n",
      "\n",
      "\n",
      "Results for fold 2:\n",
      "  Language  Precision    Recall  F1-score\n",
      "0       en   0.971429  1.000000  0.985507\n",
      "1       ja   1.000000  1.000000  1.000000\n",
      "2       ru   1.000000  1.000000  1.000000\n",
      "3       zh   1.000000  1.000000  1.000000\n",
      "4       es   1.000000  1.000000  1.000000\n",
      "5       fr   1.000000  0.967742  0.983607\n",
      "6       de   1.000000  1.000000  1.000000\n",
      "7       ko   1.000000  1.000000  1.000000\n",
      "8       ar   1.000000  1.000000  1.000000\n",
      "\n",
      "\n",
      "Results for fold 3:\n",
      "  Language  Precision  Recall  F1-score\n",
      "0       en        1.0     1.0  1.000000\n",
      "1       ja        1.0     1.0  1.000000\n",
      "2       ru        1.0     1.0  1.000000\n",
      "3       zh        1.0     1.0  1.000000\n",
      "4       es        1.0     0.9  0.947368\n",
      "5       fr        1.0     1.0  1.000000\n",
      "6       de        1.0     1.0  1.000000\n",
      "7       ko        1.0     1.0  1.000000\n",
      "8       ar        1.0     1.0  1.000000\n",
      "\n",
      "\n",
      "Results for fold 4:\n",
      "  Language  Precision  Recall  F1-score\n",
      "0       en        1.0     1.0       1.0\n",
      "1       ja        1.0     1.0       1.0\n",
      "2       ru        1.0     1.0       1.0\n",
      "3       zh        1.0     1.0       1.0\n",
      "4       es        1.0     1.0       1.0\n",
      "5       fr        1.0     1.0       1.0\n",
      "6       de        1.0     1.0       1.0\n",
      "7       ko        1.0     1.0       1.0\n",
      "\n",
      "\n",
      "Results for fold 5:\n",
      "  Language  Precision  Recall  F1-score\n",
      "0       en        1.0     1.0       1.0\n",
      "1       ja        1.0     1.0       1.0\n",
      "2       ru        1.0     1.0       1.0\n",
      "3       zh        1.0     1.0       1.0\n",
      "4       es        1.0     1.0       1.0\n",
      "5       fr        1.0     1.0       1.0\n",
      "6       de        1.0     1.0       1.0\n",
      "7       ko        1.0     1.0       1.0\n",
      "8       ar        1.0     1.0       1.0\n",
      "\n",
      "\n"
     ]
    }
   ],
   "source": [
    "train_data = data.sample(frac=0.7, random_state=1)  # 70% of data for training\n",
    "test_data = data.drop(train_data.index)\n",
    "\n",
    "\n",
    "cross_val_results = cross_validate_language_detection(test_data)\n",
    "\n",
    "for idx, result in enumerate(cross_val_results):\n",
    "    print(f\"Results for fold {idx + 1}:\")\n",
    "    print(result)\n",
    "    print(\"\\n\")"
   ]
  },
  {
   "cell_type": "markdown",
   "metadata": {},
   "source": [
    "1. **Sélection des données pour l'entraînement** : Je commence par sélectionner aléatoirement 70% des données pour l'entraînement. Cela permet de s'assurer que le modèle est entraîné sur une grande partie des données disponibles, tout en laissant de côté 30% pour le test. L'utilisation de `random_state=1` garantit que la sélection est reproductible, ce qui signifie que nous obtiendrons le même ensemble d'entraînement à chaque fois que vous exécutez ce code.\n",
    "\n",
    "2. **Préparation des données de test** : Les données restantes, qui ne sont pas incluses dans l'ensemble d'entraînement, sont utilisées comme ensemble de test. Cela permet de tester le modèle sur des données qu'il n'a jamais vues, fournissant ainsi une évaluation honnête de sa performance.\n",
    "\n",
    "3. **Validation croisée sur l'ensemble de test** : La fonction `cross_validate_language_detection` est utilisée pour exécuter une validation croisée sur l'ensemble de test. Cela implique de diviser les données de test en plusieurs sous-ensembles (ou plis), d'entraîner le modèle sur certains sous-ensembles et de le tester sur les autres. Cela aide à évaluer la stabilité et la fiabilité du modèle en fournissant une mesure de sa performance sur différents segments des données de test.\n",
    "\n",
    "4. **Affichage des résultats** : Les résultats de la validation croisée sont affichés pli par pli. Chaque résultat montre la précision, le rappel, et le score F1 pour chaque langue détectée dans le pli concerné. Cela permet de voir comment le modèle performe à travers différents sous-ensembles de données de test, donnant une vue d'ensemble de sa capacité à généraliser à de nouvelles données.\n",
    "\n",
    "Ce processus est crucial pour s'assurer que le modèle de détection de langue fonctionne bien non seulement sur un ensemble de données spécifique mais aussi de manière plus générale sur des données variées. "
   ]
  },
  {
   "cell_type": "code",
   "execution_count": 25,
   "metadata": {},
   "outputs": [
    {
     "data": {
      "image/png": "[encoded data removed]",
      "text/plain": [
       "<Figure size 640x480 with 2 Axes>"
      ]
     },
     "metadata": {},
     "output_type": "display_data"
    }
   ],
   "source": [
    "def plot_confusion_matrix(data: pd.DataFrame) -> None:\n",
    "    \"\"\"\n",
    "    Plot the confusion matrix\n",
    "\n",
    "    Parameters:\n",
    "    data (pd.DataFrame): the data\n",
    "\n",
    "    Returns:\n",
    "    None\n",
    "    \"\"\"\n",
    "    true_labels = data['Label'].tolist()\n",
    "    predictions = data['Text'].apply(detect_language)\n",
    "    labels = list(set(true_labels))\n",
    "    cm = confusion_matrix(true_labels, predictions, labels=labels)\n",
    "    sns.heatmap(cm, annot=True, fmt='d', xticklabels=labels, yticklabels=labels)\n",
    "    plt.xlabel('Predicted')\n",
    "    plt.ylabel('True')\n",
    "    plt.show()\n",
    "\n",
    "plot_confusion_matrix(test_data)  \n"
   ]
  },
  {
   "cell_type": "markdown",
   "metadata": {},
   "source": [
    "Dans ce bloc de code, j'importe d'abord les bibliothèques nécessaires pour analyser et visualiser les données. `confusion_matrix` de `sklearn.metrics` me permet de calculer la matrice de confusion entre les étiquettes réelles et les prédictions. `seaborn` et `matplotlib.pyplot` sont utilisés pour la visualisation des données.\n",
    "\n",
    "J'ai défini ensuite une fonction `plot_confusion_matrix`, qui prend comme argument les données contenant les textes et leurs étiquettes linguistiques réelles. La fonction applique d'abord la détection de langue à chaque texte pour obtenir les prédictions. Elle crée ensuite une matrice de confusion, qui compare les étiquettes réelles aux prédictions.\n",
    "\n",
    "La matrice de confusion est visualisée sous forme de heatmap grâce à `seaborn.heatmap`. Chaque cellule de la heatmap représente le nombre de prédictions pour chaque combinaison d'étiquette réelle et prédite, permettant de voir facilement où le modèle performe bien et où il fait des erreurs. Les étiquettes des axes représentent les langues prédites (abscisses) et les langues réelles (ordonnées).\n",
    "\n",
    "Enfin, j'exécute cette fonction en utilisant les données de test pour voir visuellement la performance du modèle sur ces données. Cette visualisation est cruciale pour comprendre les performances détaillées du modèle de détection de langue, notamment pour identifier les confusions spécifiques entre les langues."
   ]
  },
  {
   "cell_type": "markdown",
   "metadata": {},
   "source": [
    "Chaque ligne de la matrice représente les instances dans une classe réelle, tandis que chaque colonne représente les instances dans une classe prédite. Voici comment je comprends cette matrice :\n",
    "\n",
    "1. **Valeurs Diagonales** : Ces valeurs (169 pour le russe, 139 pour le français, 104 pour l'allemand, 160 pour l'anglais, 40 pour le coréen, 63 pour le chinois, 48 pour le japonais, 56 pour l'espagnol, et 4 pour l'arabe) représentent le nombre de fois où le modèle a correctement prédit la langue. Ce sont ce qu'on appelle les vrais positifs.\n",
    "\n",
    "2. **Valeurs Hors-Diagonale** : Ces valeurs montrent les moments où le modèle a prédit incorrectement la langue. Par exemple, il y a 1 cas où le français a été prédit incorrectement comme étant l'allemand, et 1 cas où le coréen a été prédit comme l'anglais.\n",
    "\n",
    "3. **Intensité de Couleur** : L'échelle de couleur à droite indique le nombre d'instances, les couleurs plus foncées représentant des nombres plus élevés. Cela met visuellement en évidence les langues avec un plus grand nombre de prédictions correctes.\n",
    "\n",
    "4. **Précision** : En général, le modèle montre une bonne précision pour la plupart des langues car les nombres les plus élevés sont situés le long de la diagonale. Cependant, l'arabe a un très faible nombre de prédictions correctes (4), suggérant des problèmes pour prédire cette langue avec précision, potentiellement en raison de données d'entraînement insuffisantes ou de biais inhérents du modèle contre les langues moins représentées dans l'ensemble des données.\n",
    "\n",
    "Cette matrice est un outil utile pour identifier la performance globale du modèle et où il pourrait faire le plus d'erreurs, aidant ainsi à informer la formation et les ajustements futurs du modèle."
   ]
  }
 ],
 "metadata": {
  "kernelspec": {
   "display_name": "otc_venv",
   "language": "python",
   "name": "python3"
  },
  "language_info": {
   "codemirror_mode": {
    "name": "ipython",
    "version": 3
   },
   "file_extension": ".py",
   "mimetype": "text/x-python",
   "name": "python",
   "nbconvert_exporter": "python",
   "pygments_lexer": "ipython3",
   "version": "3.12.3"
  }
 },
 "nbformat": 4,
 "nbformat_minor": 2
}
